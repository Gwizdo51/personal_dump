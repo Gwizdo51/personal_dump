{
 "cells": [
  {
   "cell_type": "markdown",
   "id": "7e9522c1-bd8c-4bb8-9d49-f9271441e872",
   "metadata": {},
   "source": [
    "# TYPE HINTING (python 3.9)\n",
    "\n",
    "[list of possible types for type hinting](https://docs.python.org/3/library/stdtypes.html#standard-generic-classes)\n",
    "\n",
    "- Any\n",
    "- Union\n",
    "- Optional\n",
    "- Callable\n",
    "- tuple\n",
    "- dict, Mapping\n",
    "- list, Iterable\n",
    "- set"
   ]
  },
  {
   "cell_type": "code",
   "execution_count": 1,
   "id": "2c36b141-56c3-402d-a3da-8cc9a774efc7",
   "metadata": {},
   "outputs": [],
   "source": [
    "from typing import Any, Union, Optional\n",
    "from collections.abc import Callable, Mapping, Iterable"
   ]
  },
  {
   "cell_type": "markdown",
   "id": "9668737a-c70b-4d6e-a58e-774ffc40accd",
   "metadata": {},
   "source": [
    "### Optional, Any"
   ]
  },
  {
   "cell_type": "code",
   "execution_count": 2,
   "id": "85721745-7b7f-4c89-86ed-2133a7ed0d03",
   "metadata": {},
   "outputs": [
    {
     "data": {
      "text/plain": [
       "True"
      ]
     },
     "execution_count": 2,
     "metadata": {},
     "output_type": "execute_result"
    }
   ],
   "source": [
    "def is_none(a: Optional[Any] = None) -> bool:\n",
    "    if a is None:\n",
    "        return True\n",
    "    else:\n",
    "        return False\n",
    "\n",
    "is_none(None)"
   ]
  },
  {
   "cell_type": "markdown",
   "id": "79615d73-7bfa-4756-bb16-eb7ab2791751",
   "metadata": {},
   "source": [
    "### Union"
   ]
  },
  {
   "cell_type": "code",
   "execution_count": 3,
   "id": "4432a965-8867-4f02-853b-799a9b27e7c4",
   "metadata": {},
   "outputs": [
    {
     "name": "stdout",
     "output_type": "stream",
     "text": [
      "j'ai trente ans\n",
      "j'ai 18 ans\n"
     ]
    }
   ],
   "source": [
    "def print_age(age: Union[int, str]) -> None:\n",
    "    print(f\"j'ai {age} ans\")\n",
    "    return\n",
    "\n",
    "print_age(\"trente\")\n",
    "print_age(18)"
   ]
  },
  {
   "cell_type": "markdown",
   "id": "ebe45a33-5450-46a0-9e14-e5d406ab1358",
   "metadata": {},
   "source": [
    "### Callable"
   ]
  },
  {
   "cell_type": "code",
   "execution_count": 13,
   "id": "79521b3e-e549-4823-a10f-79e5eaf055ec",
   "metadata": {},
   "outputs": [
    {
     "data": {
      "text/plain": [
       "20"
      ]
     },
     "execution_count": 13,
     "metadata": {},
     "output_type": "execute_result"
    }
   ],
   "source": [
    "def apply_function(func: Callable[[int], int], a: int) -> Union[int, float]:\n",
    "    result = func(a)\n",
    "    return result\n",
    "\n",
    "def add_two(a: Union[int, float]) -> Union[int, float]:\n",
    "    return a + 2\n",
    "\n",
    "apply_function(add_two, 18)"
   ]
  },
  {
   "cell_type": "code",
   "execution_count": 10,
   "id": "022aa894-62c8-4cb1-90f0-c994020a2e2a",
   "metadata": {},
   "outputs": [
    {
     "data": {
      "text/plain": [
       "\u001b[1;31mSignature:\u001b[0m \u001b[0mapply_function\u001b[0m\u001b[1;33m(\u001b[0m\u001b[0mfunc\u001b[0m\u001b[1;33m:\u001b[0m \u001b[0mcollections\u001b[0m\u001b[1;33m.\u001b[0m\u001b[0mabc\u001b[0m\u001b[1;33m.\u001b[0m\u001b[0mCallable\u001b[0m\u001b[1;33m[\u001b[0m\u001b[1;33m[\u001b[0m\u001b[0mint\u001b[0m\u001b[1;33m]\u001b[0m\u001b[1;33m,\u001b[0m \u001b[0mint\u001b[0m\u001b[1;33m]\u001b[0m\u001b[1;33m,\u001b[0m \u001b[0ma\u001b[0m\u001b[1;33m:\u001b[0m \u001b[0mint\u001b[0m\u001b[1;33m)\u001b[0m \u001b[1;33m->\u001b[0m \u001b[0mUnion\u001b[0m\u001b[1;33m[\u001b[0m\u001b[0mint\u001b[0m\u001b[1;33m,\u001b[0m \u001b[0mfloat\u001b[0m\u001b[1;33m]\u001b[0m\u001b[1;33m\u001b[0m\u001b[1;33m\u001b[0m\u001b[0m\n",
       "\u001b[1;31mDocstring:\u001b[0m <no docstring>\n",
       "\u001b[1;31mFile:\u001b[0m      c:\\users\\arthur\\appdata\\local\\temp\\ipykernel_13216\\3833937918.py\n",
       "\u001b[1;31mType:\u001b[0m      function"
      ]
     },
     "metadata": {},
     "output_type": "display_data"
    }
   ],
   "source": [
    "apply_function?"
   ]
  },
  {
   "cell_type": "code",
   "execution_count": null,
   "id": "a76d6bbc-fc95-4cf7-977b-e5bc9361c3bd",
   "metadata": {},
   "outputs": [],
   "source": []
  }
 ],
 "metadata": {
  "kernelspec": {
   "display_name": "Python 3 (ipykernel)",
   "language": "python",
   "name": "python3"
  },
  "language_info": {
   "codemirror_mode": {
    "name": "ipython",
    "version": 3
   },
   "file_extension": ".py",
   "mimetype": "text/x-python",
   "name": "python",
   "nbconvert_exporter": "python",
   "pygments_lexer": "ipython3",
   "version": "3.11.3"
  }
 },
 "nbformat": 4,
 "nbformat_minor": 5
}
