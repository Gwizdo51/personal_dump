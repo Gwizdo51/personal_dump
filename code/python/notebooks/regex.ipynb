{
 "cells": [
  {
   "cell_type": "markdown",
   "id": "ddf0ec58-5c58-4d22-8ff6-250290a1d856",
   "metadata": {},
   "source": [
    "# Regular Expressions tests\n",
    "\n",
    "https://docs.python.org/3/library/re.html"
   ]
  },
  {
   "cell_type": "code",
   "execution_count": 1,
   "id": "4fd9c34e-0960-483d-8f10-f5b069bd2add",
   "metadata": {},
   "outputs": [],
   "source": [
    "import re"
   ]
  },
  {
   "cell_type": "markdown",
   "id": "0587e107-87f8-4f15-bd67-eab204d1844b",
   "metadata": {},
   "source": [
    "capturing groups"
   ]
  },
  {
   "cell_type": "code",
   "execution_count": 2,
   "id": "09be5332-ead2-48c2-85d3-ba6e47bd4d0f",
   "metadata": {},
   "outputs": [
    {
     "data": {
      "text/plain": [
       "True"
      ]
     },
     "execution_count": 2,
     "metadata": {},
     "output_type": "execute_result"
    }
   ],
   "source": [
    "pattern_str = r\"^(abc)(def)?$\"\n",
    "pattern = re.compile(pattern_str)\n",
    "match_obj = pattern.match(\"abcdef\")\n",
    "bool(match_obj)"
   ]
  },
  {
   "cell_type": "code",
   "execution_count": 3,
   "id": "318caa36-42de-4c74-b6fc-28bc697fb0e9",
   "metadata": {},
   "outputs": [
    {
     "data": {
      "text/plain": [
       "('abc', 'def')"
      ]
     },
     "execution_count": 3,
     "metadata": {},
     "output_type": "execute_result"
    }
   ],
   "source": [
    "groups = match_obj.groups()\n",
    "groups"
   ]
  },
  {
   "cell_type": "markdown",
   "id": "aa972d39-2c3a-4163-9f1e-810032334e08",
   "metadata": {},
   "source": [
    "check date format: `\"01/01/2020\"`\n",
    "\n",
    "get the day, month and year numbers"
   ]
  },
  {
   "cell_type": "code",
   "execution_count": 26,
   "id": "371237ac-9693-47e5-bad1-98445a0707d7",
   "metadata": {},
   "outputs": [],
   "source": [
    "from datetime import datetime, date"
   ]
  },
  {
   "cell_type": "code",
   "execution_count": 30,
   "id": "18061c07-b12a-4daf-9f0f-f763c023b488",
   "metadata": {
    "editable": true,
    "slideshow": {
     "slide_type": ""
    },
    "tags": []
   },
   "outputs": [
    {
     "data": {
      "text/plain": [
       "True"
      ]
     },
     "execution_count": 30,
     "metadata": {},
     "output_type": "execute_result"
    }
   ],
   "source": [
    "pattern_str = r\"^(\\d{2})\\/(\\d{2})\\/(\\d{4})$\"\n",
    "pattern = re.compile(pattern_str)\n",
    "match_obj = pattern.match(\"31/03/2025\")\n",
    "bool(match_obj)"
   ]
  },
  {
   "cell_type": "code",
   "execution_count": 31,
   "id": "c7b31850-9778-40ac-b212-533b5dc47baa",
   "metadata": {
    "editable": true,
    "slideshow": {
     "slide_type": ""
    },
    "tags": []
   },
   "outputs": [
    {
     "data": {
      "text/plain": [
       "('31', '03', '2025')"
      ]
     },
     "execution_count": 31,
     "metadata": {},
     "output_type": "execute_result"
    }
   ],
   "source": [
    "groups = match_obj.groups()\n",
    "groups"
   ]
  },
  {
   "cell_type": "code",
   "execution_count": 32,
   "id": "d6f29d6c-1152-428c-a971-72219ac59e49",
   "metadata": {
    "editable": true,
    "slideshow": {
     "slide_type": ""
    },
    "tags": []
   },
   "outputs": [
    {
     "name": "stdout",
     "output_type": "stream",
     "text": [
      "the date is correct\n"
     ]
    }
   ],
   "source": [
    "day_number = int(groups[0])\n",
    "month_number = int(groups[1])\n",
    "year_number = int(groups[2])\n",
    "try:\n",
    "    date(year_number, month_number, day_number)\n",
    "    print(\"the date is correct\")\n",
    "except ValueError as e:\n",
    "    print(\"the date is incorrect :\", e)\n",
    "    # print(e)"
   ]
  },
  {
   "cell_type": "code",
   "execution_count": 36,
   "id": "b2c7a157-6cb7-45e4-a8cb-9c6b8b9d66ea",
   "metadata": {
    "editable": true,
    "slideshow": {
     "slide_type": ""
    },
    "tags": []
   },
   "outputs": [],
   "source": [
    "# dir(datetime)\n",
    "# datetime.today()"
   ]
  },
  {
   "cell_type": "code",
   "execution_count": null,
   "id": "349473e1-50d4-476d-ba45-1da124420e61",
   "metadata": {},
   "outputs": [],
   "source": []
  },
  {
   "cell_type": "code",
   "execution_count": null,
   "id": "1f0ced01-a021-4673-86c1-b97858bb2f23",
   "metadata": {},
   "outputs": [],
   "source": []
  },
  {
   "cell_type": "code",
   "execution_count": null,
   "id": "e5562c03-73f9-4cf4-bde1-548fcb4c0312",
   "metadata": {},
   "outputs": [],
   "source": []
  }
 ],
 "metadata": {
  "kernelspec": {
   "display_name": "Python 3 (ipykernel)",
   "language": "python",
   "name": "python3"
  },
  "language_info": {
   "codemirror_mode": {
    "name": "ipython",
    "version": 3
   },
   "file_extension": ".py",
   "mimetype": "text/x-python",
   "name": "python",
   "nbconvert_exporter": "python",
   "pygments_lexer": "ipython3",
   "version": "3.12.3"
  }
 },
 "nbformat": 4,
 "nbformat_minor": 5
}
