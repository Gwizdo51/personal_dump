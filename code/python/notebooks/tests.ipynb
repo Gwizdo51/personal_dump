{
 "cells": [
  {
   "cell_type": "markdown",
   "id": "92da3fb3-bd21-463f-a4b2-0bf423773e2f",
   "metadata": {},
   "source": [
    "# for else"
   ]
  },
  {
   "cell_type": "code",
   "execution_count": 2,
   "id": "221bf0a4-df36-4cc8-91e1-9fde83a9abef",
   "metadata": {},
   "outputs": [
    {
     "name": "stdout",
     "output_type": "stream",
     "text": [
      "found it !\n"
     ]
    }
   ],
   "source": [
    "for x in range(10):\n",
    "    if x == 9:\n",
    "        print(\"found it !\")\n",
    "        break\n",
    "else:\n",
    "    print(\"didn't find it...\")"
   ]
  },
  {
   "cell_type": "code",
   "execution_count": 6,
   "id": "2038902c-9dbe-444e-9677-663ba24c7e1b",
   "metadata": {},
   "outputs": [
    {
     "name": "stdout",
     "output_type": "stream",
     "text": [
      "1\n",
      "2\n",
      "3\n",
      "4\n",
      "5\n",
      "found it! breaking out of inner\n",
      "breaking out of outer\n"
     ]
    }
   ],
   "source": [
    "my_list = [[1,2,3], [4,5,6], [7,8,9]]\n",
    "for line_index in range(len(my_list)):\n",
    "    for column_index in range(len(my_list[line_index])):\n",
    "        print(my_list[line_index][column_index])\n",
    "        if my_list[line_index][column_index] == 5:\n",
    "            print(\"found it! breaking out of inner\")\n",
    "            break\n",
    "    else:\n",
    "        continue\n",
    "    print(\"breaking out of outer\")\n",
    "    break"
   ]
  },
  {
   "cell_type": "code",
   "execution_count": null,
   "id": "c1bc6a79-bc4f-4e53-900f-1544ad669a85",
   "metadata": {},
   "outputs": [],
   "source": []
  }
 ],
 "metadata": {
  "kernelspec": {
   "display_name": "Python 3 (ipykernel)",
   "language": "python",
   "name": "python3"
  },
  "language_info": {
   "codemirror_mode": {
    "name": "ipython",
    "version": 3
   },
   "file_extension": ".py",
   "mimetype": "text/x-python",
   "name": "python",
   "nbconvert_exporter": "python",
   "pygments_lexer": "ipython3",
   "version": "3.12.2"
  }
 },
 "nbformat": 4,
 "nbformat_minor": 5
}
