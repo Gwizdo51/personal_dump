{
 "cells": [
  {
   "cell_type": "markdown",
   "id": "3d3a0db4-82ff-4d05-807b-7adcb4fe426c",
   "metadata": {},
   "source": [
    "### DotDict class\n",
    "\n",
    "What I want it to do:\n",
    "- works with any dictionary whose keys are strings (and whose nested dictionaries keys are strings as well)\n",
    "- `dotdict_test = DotDict(dict_test)` gives a DotDict object, `dict_test = dict(dotdict_test)` gives back the dictionary\n",
    "- can access the entries through the \"dot\" notation AND the regular dictionary index\n",
    "- setting / accessing / deleting an attribute sets / accesses / deletes the same entry in the dictionary\n",
    "- can create an empty dotdict with `DotDict()`\n",
    "\n",
    "TODO:\n",
    "- make it work with any type of mapping, not just dicts ?"
   ]
  },
  {
   "cell_type": "code",
   "execution_count": 194,
   "id": "33a71f67-ab73-49c6-be8b-3ca11ae46e4f",
   "metadata": {},
   "outputs": [],
   "source": [
    "%reset -f\n",
    "import re\n",
    "from typing import Optional, Any\n",
    "import sys\n",
    "\n",
    "\n",
    "class KeyTypeError(Exception):\n",
    "    \"\"\"\n",
    "    A custom exception for the DotDict class. Raised when a trying to use\n",
    "    DotDict with a key that is not a string.\n",
    "    \"\"\"\n",
    "\n",
    "\n",
    "class AttributeNameError(Exception):\n",
    "    \"\"\"\n",
    "    A custom exception for the DotDict Class. Raised when trying to use\n",
    "    DotDict with a key that cannot with used as an attribute name.\n",
    "    \"\"\"\n",
    "\n",
    "\n",
    "# best attempt at defining a Regular Expression for an attribute name\n",
    "attribute_name_pattern_string = \"^[a-zA-Z]\\w*$\"\n",
    "attribute_name_pattern = re.compile(attribute_name_pattern_string)\n",
    "# forbidden DotDict attribute names\n",
    "dict_attribute_names = [meth_name for meth_name in dir(dict) if not (\"_\" in meth_name)]\n",
    "\n",
    "\n",
    "def check_key(key):\n",
    "    # check if the key is a string\n",
    "    if not (type(key) is str):\n",
    "        raise KeyTypeError(f\"The key '{key}' is not a string\")\n",
    "    # check if the key is accessible as a not-hidden attribute\n",
    "    if not attribute_name_pattern.match(key):\n",
    "        raise AttributeNameError(f\"The key '{key}' is not valid as an attribute name\")\n",
    "    # check whether the key would erase a dict method\n",
    "    if key in dict_attribute_names:\n",
    "        raise AttributeNameError(f\"Trying to add a key that would erase a dict method ('{key}')\")\n",
    "\n",
    "\n",
    "def check_keys(dict_to_check: dict):\n",
    "    \"\"\"\n",
    "    Recursively checks if the keys of dict_to_check and its nested dictionaries\n",
    "    are accessible as attribute names, and will not replace any methods from the\n",
    "    \"dict\" class.\n",
    "    \"\"\"\n",
    "    for key in dict_to_check.keys():\n",
    "        check_key(key)\n",
    "        # if the value is a dict, check for its keys as well\n",
    "        value = dict_to_check[key]\n",
    "        if type(value) is dict:\n",
    "            check_keys(value)\n",
    "\n",
    "\n",
    "def clean_types(dict_to_check: dict) -> dict:\n",
    "    \"\"\"\n",
    "    Recursively converts the types of all the values of dict_to_check and its\n",
    "    nested dictionaries to DotDicts when they are dicts.\n",
    "    \"\"\"\n",
    "    # placeholder for the clean dict\n",
    "    cleaned_dict = {}\n",
    "    for key in dict_to_check.keys():\n",
    "        value = dict_to_check[key]\n",
    "        # convert the value to a dict if it is a DotDict\n",
    "        if type(value) is DotDict:\n",
    "            value = dict(value)\n",
    "        # clean the types of the value if it is a dict\n",
    "        if type(value) is dict:\n",
    "            value = clean_types(value)\n",
    "        # add the clean value to the clean dict\n",
    "        cleaned_dict[key] = value\n",
    "    # return the clean dict\n",
    "    return cleaned_dict\n",
    "\n",
    "\n",
    "class DotDict(dict):\n",
    "    \"\"\"\n",
    "    Allows handling dictionaries with the \"dot\" notation.\n",
    "    \"\"\"\n",
    "\n",
    "    def __init__(self, *args, _check: bool = True, **kwargs):\n",
    "        if _check:\n",
    "            # create a temporary dict from the arguments\n",
    "            dict_self = dict(*args, **kwargs)\n",
    "            # test if all keys are valid as attribute names, recursively\n",
    "            check_keys(dict_self)\n",
    "            # if any values are DotDicts, convert them to dict, recursively\n",
    "            dict_self = clean_types(dict_self)\n",
    "            # init the \"self\" dict with the cleaned dict\n",
    "            # dict.__init__(self, dict_self)\n",
    "            super().__init__(dict_self)\n",
    "        else:\n",
    "            # init the \"self\" dict from the arguments directly\n",
    "            # dict.__init__(self, *args, **kwargs)\n",
    "            super().__init__(*args, **kwargs)\n",
    "        # set the __dict__ attribute items here\n",
    "        # add dicts as DotDicts\n",
    "        # self.__dict__.update(**self)\n",
    "        # for key, value in self.items():\n",
    "        #     if type(value) is dict:\n",
    "        #         self.__dict__[key] = DotDict(value)\n",
    "        #     else:\n",
    "        #         self.__dict__[key] = value\n",
    "\n",
    "    def __getitem__(self, key: str) -> Optional[Any]:\n",
    "        # check if the key exists\n",
    "        if not (key in self.keys()):\n",
    "            raise AttributeError(f\"No key/attribute '{key}'\")\n",
    "        value = super().__getitem__(key)\n",
    "        if type(value) is dict:\n",
    "            # if the value is a dict, return it as a DotDict object\n",
    "            # no need to check it, it's already cleared\n",
    "            return DotDict(value, _check=False)\n",
    "        else:\n",
    "            return value\n",
    "\n",
    "    __getattr__ = __getitem__\n",
    "\n",
    "    def __setitem__(self, key: str, value: Optional[Any]):\n",
    "        # check if the key is valid as an attribute name\n",
    "        check_key(key)\n",
    "        # if the value is a dict, convert it to DotDict (clears/cleans it)\n",
    "        if type(value) is dict:\n",
    "            value = DotDict(value)\n",
    "        # if the value is a DotDict, insert it as a dict (already cleared)\n",
    "        if type(value) is DotDict:\n",
    "            value = dict(value)\n",
    "        super().__setitem__(key, value)\n",
    "\n",
    "    __setattr__ = __setitem__\n",
    "\n",
    "    def __delitem__(self, key: str):\n",
    "        # check if the key exists\n",
    "        if not (key in self.keys()):\n",
    "            raise AttributeError(f\"No key/attribute '{key}'\")\n",
    "        super().__delitem__(key)\n",
    "\n",
    "    __delattr__ = __delitem__\n",
    "\n",
    "    def __dir__(self) -> list[str]:\n",
    "        # overridden to show the keys as attributes with the 'dir' built-in function\n",
    "        dict_dir = super().__dir__()\n",
    "        dotdict_attributes = list(self.keys())\n",
    "        return dict_dir + dotdict_attributes\n",
    "\n",
    "    # for compatibility with the 'vars' built-in function\n",
    "\n",
    "    # @property\n",
    "    # def __dict__(self) -> dict:\n",
    "    #     return dict(self)"
   ]
  },
  {
   "cell_type": "code",
   "execution_count": 195,
   "id": "c4f35533-5edf-4179-b064-89231270d43b",
   "metadata": {},
   "outputs": [
    {
     "name": "stdout",
     "output_type": "stream",
     "text": [
      "{'lol': 3}\n"
     ]
    }
   ],
   "source": [
    "test = DotDict()\n",
    "test.lol = 3\n",
    "print(test)"
   ]
  },
  {
   "cell_type": "code",
   "execution_count": 196,
   "id": "bb867bf3-7704-439c-991f-0d8a25e85fb2",
   "metadata": {},
   "outputs": [
    {
     "name": "stdout",
     "output_type": "stream",
     "text": [
      "{'blbl': 'lol', 'stuff': 74, 'null_value': None}\n",
      "None\n"
     ]
    }
   ],
   "source": [
    "test = DotDict(blbl=\"lol\", stuff=74, null_value=None)\n",
    "print(test)\n",
    "print(test.null_value)\n",
    "# print(vars(test))"
   ]
  },
  {
   "cell_type": "code",
   "execution_count": 197,
   "id": "920d8aa9-4ab0-4e00-b96f-375ff7c0ea9b",
   "metadata": {},
   "outputs": [
    {
     "data": {
      "text/plain": [
       "{}"
      ]
     },
     "execution_count": 197,
     "metadata": {},
     "output_type": "execute_result"
    }
   ],
   "source": [
    "# vars\n",
    "vars(test)"
   ]
  },
  {
   "cell_type": "code",
   "execution_count": 198,
   "id": "02f45219-43f7-48d1-8dbf-1691fdda5d83",
   "metadata": {},
   "outputs": [
    {
     "data": {
      "text/plain": [
       "208"
      ]
     },
     "execution_count": 198,
     "metadata": {},
     "output_type": "execute_result"
    }
   ],
   "source": [
    "sys.getsizeof(test)"
   ]
  },
  {
   "cell_type": "code",
   "execution_count": 200,
   "id": "15613e3f-c274-4af2-9056-74c6c50dd1a4",
   "metadata": {},
   "outputs": [
    {
     "data": {
      "text/plain": [
       "{'param_1': 'great',\n",
       " 'param2': 2,\n",
       " 'param3': {'subparam': -5.2},\n",
       " 'param4': [6, 1, 2]}"
      ]
     },
     "execution_count": 200,
     "metadata": {},
     "output_type": "execute_result"
    }
   ],
   "source": [
    "dict_test = {\n",
    "    \"param_1\": \"great\",\n",
    "    \"param2\": 2,\n",
    "    # \"_lol\": \"lol\",\n",
    "    # \"items\": [\"a\", \"b\", \"c\"],\n",
    "    \"param3\": {\n",
    "        \"subparam\": -5.2,\n",
    "        # \"2\": \"lol\",\n",
    "        # 1: \"haha\"\n",
    "    },\n",
    "    \"param4\": [6,1,2]\n",
    "}\n",
    "dotdict_test = DotDict(dict_test)\n",
    "# print()\n",
    "dotdict_test"
   ]
  },
  {
   "cell_type": "code",
   "execution_count": 161,
   "id": "d65f25cf-ef17-4787-90ad-e62e1f776a62",
   "metadata": {},
   "outputs": [
    {
     "data": {
      "text/plain": [
       "208"
      ]
     },
     "execution_count": 161,
     "metadata": {},
     "output_type": "execute_result"
    }
   ],
   "source": [
    "sys.getsizeof(dotdict_test)"
   ]
  },
  {
   "cell_type": "code",
   "execution_count": 162,
   "id": "b59c287c-0129-4500-8378-1d4b665bc71a",
   "metadata": {},
   "outputs": [
    {
     "data": {
      "text/plain": [
       "['__class__',\n",
       " '__class_getitem__',\n",
       " '__contains__',\n",
       " '__delattr__',\n",
       " '__delitem__',\n",
       " '__dict__',\n",
       " '__dir__',\n",
       " '__doc__',\n",
       " '__eq__',\n",
       " '__format__',\n",
       " '__ge__',\n",
       " '__getattr__',\n",
       " '__getattribute__',\n",
       " '__getitem__',\n",
       " '__getstate__',\n",
       " '__gt__',\n",
       " '__hash__',\n",
       " '__init__',\n",
       " '__init_subclass__',\n",
       " '__ior__',\n",
       " '__iter__',\n",
       " '__le__',\n",
       " '__len__',\n",
       " '__lt__',\n",
       " '__module__',\n",
       " '__ne__',\n",
       " '__new__',\n",
       " '__or__',\n",
       " '__reduce__',\n",
       " '__reduce_ex__',\n",
       " '__repr__',\n",
       " '__reversed__',\n",
       " '__ror__',\n",
       " '__setattr__',\n",
       " '__setitem__',\n",
       " '__sizeof__',\n",
       " '__str__',\n",
       " '__subclasshook__',\n",
       " '__weakref__',\n",
       " 'clear',\n",
       " 'copy',\n",
       " 'fromkeys',\n",
       " 'get',\n",
       " 'items',\n",
       " 'keys',\n",
       " 'pop',\n",
       " 'popitem',\n",
       " 'setdefault',\n",
       " 'update',\n",
       " 'values']"
      ]
     },
     "execution_count": 162,
     "metadata": {},
     "output_type": "execute_result"
    }
   ],
   "source": [
    "dir(DotDict)"
   ]
  },
  {
   "cell_type": "code",
   "execution_count": 163,
   "id": "6219db58-75c7-4b61-af87-4051b9f51b80",
   "metadata": {
    "tags": []
   },
   "outputs": [
    {
     "data": {
      "text/plain": [
       "['__class__',\n",
       " '__class_getitem__',\n",
       " '__contains__',\n",
       " '__delattr__',\n",
       " '__delitem__',\n",
       " '__dict__',\n",
       " '__dir__',\n",
       " '__doc__',\n",
       " '__eq__',\n",
       " '__format__',\n",
       " '__ge__',\n",
       " '__getattr__',\n",
       " '__getattribute__',\n",
       " '__getitem__',\n",
       " '__getstate__',\n",
       " '__gt__',\n",
       " '__hash__',\n",
       " '__init__',\n",
       " '__init_subclass__',\n",
       " '__ior__',\n",
       " '__iter__',\n",
       " '__le__',\n",
       " '__len__',\n",
       " '__lt__',\n",
       " '__module__',\n",
       " '__ne__',\n",
       " '__new__',\n",
       " '__or__',\n",
       " '__reduce__',\n",
       " '__reduce_ex__',\n",
       " '__repr__',\n",
       " '__reversed__',\n",
       " '__ror__',\n",
       " '__setattr__',\n",
       " '__setitem__',\n",
       " '__sizeof__',\n",
       " '__str__',\n",
       " '__subclasshook__',\n",
       " '__weakref__',\n",
       " 'clear',\n",
       " 'copy',\n",
       " 'fromkeys',\n",
       " 'get',\n",
       " 'items',\n",
       " 'keys',\n",
       " 'param1',\n",
       " 'param2',\n",
       " 'param3',\n",
       " 'param4',\n",
       " 'pop',\n",
       " 'popitem',\n",
       " 'setdefault',\n",
       " 'update',\n",
       " 'values']"
      ]
     },
     "execution_count": 163,
     "metadata": {},
     "output_type": "execute_result"
    }
   ],
   "source": [
    "dir(dotdict_test)"
   ]
  },
  {
   "cell_type": "code",
   "execution_count": 164,
   "id": "95ce0abb-844b-42ba-8ef9-f21c8ae01069",
   "metadata": {},
   "outputs": [
    {
     "data": {
      "text/plain": [
       "{}"
      ]
     },
     "execution_count": 164,
     "metadata": {},
     "output_type": "execute_result"
    }
   ],
   "source": [
    "dotdict_test.__dict__"
   ]
  },
  {
   "cell_type": "code",
   "execution_count": 165,
   "id": "a871f9b0-23ae-47de-b52b-402913e70606",
   "metadata": {
    "tags": []
   },
   "outputs": [
    {
     "data": {
      "text/plain": [
       "{}"
      ]
     },
     "execution_count": 165,
     "metadata": {},
     "output_type": "execute_result"
    }
   ],
   "source": [
    "vars(dotdict_test)"
   ]
  },
  {
   "cell_type": "code",
   "execution_count": 201,
   "id": "c26ba842-29eb-4b71-89c0-5d514dce891d",
   "metadata": {},
   "outputs": [
    {
     "name": "stdout",
     "output_type": "stream",
     "text": [
      "<class 'dict'>\n"
     ]
    },
    {
     "data": {
      "text/plain": [
       "{'param_1': 'great',\n",
       " 'param2': 2,\n",
       " 'param3': {'subparam': -5.2},\n",
       " 'param4': [6, 1, 2]}"
      ]
     },
     "execution_count": 201,
     "metadata": {},
     "output_type": "execute_result"
    }
   ],
   "source": [
    "# get the dict back\n",
    "dict_test_returned = dict(dotdict_test)\n",
    "print(type(dict_test_returned[\"param3\"]))\n",
    "dict_test_returned"
   ]
  },
  {
   "cell_type": "code",
   "execution_count": 202,
   "id": "4ab016bb-223d-4565-9984-fcac0984f052",
   "metadata": {},
   "outputs": [
    {
     "name": "stdout",
     "output_type": "stream",
     "text": [
      "{'subparam': -5.2}\n",
      "<class '__main__.DotDict'>\n",
      "<class '__main__.DotDict'>\n",
      "[6, 1, 2]\n",
      "False\n",
      "False\n",
      "True\n",
      "True\n",
      "-5.2\n"
     ]
    }
   ],
   "source": [
    "# accessing values\n",
    "print(dotdict_test.param3)\n",
    "print(type(dotdict_test.param3))\n",
    "print(type(dotdict_test[\"param3\"]))\n",
    "print(dotdict_test[\"param4\"])\n",
    "print(hasattr(dotdict_test, \"param1\"))\n",
    "print(hasattr(dotdict_test, \"fdfd\"))\n",
    "print(\"param2\" in dotdict_test.keys())\n",
    "print(\"subparam\" in dir(dotdict_test.param3))\n",
    "print(dotdict_test.param3.subparam)"
   ]
  },
  {
   "cell_type": "code",
   "execution_count": 203,
   "id": "54a210de-e0f9-4b13-80a4-3b8805d06a61",
   "metadata": {},
   "outputs": [
    {
     "data": {
      "text/plain": [
       "{'param_1': 'great',\n",
       " 'param2': 2,\n",
       " 'param3': {'subparam': -5.2},\n",
       " 'param4': [6, 1, 2],\n",
       " 'param5': {1, 2, 3},\n",
       " 'param6': 'blblblb',\n",
       " 'param7': {'lol': {'Lol0': 0}, 'haha': 'prout'},\n",
       " 'param8': 'toto'}"
      ]
     },
     "execution_count": 203,
     "metadata": {},
     "output_type": "execute_result"
    }
   ],
   "source": [
    "# setting values\n",
    "dotdict_test.param5 = {1,2,3}\n",
    "dotdict_test[\"param6\"] = \"blblblb\"\n",
    "# dotdict_test[\"param7\"] = DotDict({\n",
    "dotdict_test[\"param7\"] = {\n",
    "    \"lol\": {\n",
    "        \"Lol0\": 0,\n",
    "        # \"1\": 2,\n",
    "        # \"_lol3\": 6,\n",
    "        # \"_ABC\": 4\n",
    "        # 2: \"lol\"\n",
    "    },\n",
    "    \"haha\": \"prout\"\n",
    "}\n",
    "setattr(dotdict_test, \"param8\", \"toto\")\n",
    "# dotdict_test[\"246\"] = 4\n",
    "dotdict_test"
   ]
  },
  {
   "cell_type": "code",
   "execution_count": 204,
   "id": "b9bc09b1-2416-4241-a5a2-4a760e92c812",
   "metadata": {},
   "outputs": [
    {
     "data": {
      "text/plain": [
       "0"
      ]
     },
     "execution_count": 204,
     "metadata": {},
     "output_type": "execute_result"
    }
   ],
   "source": [
    "dotdict_test.param7.lol.Lol0"
   ]
  },
  {
   "cell_type": "code",
   "execution_count": 205,
   "id": "cd9e6500-4cb1-4e28-a6fe-d0f9337c3ca0",
   "metadata": {},
   "outputs": [
    {
     "data": {
      "text/plain": [
       "{'param_1': 'great',\n",
       " 'param2': 2,\n",
       " 'param3': {'subparam': -5.2},\n",
       " 'param4': [6, 1, 2],\n",
       " 'param8': 'toto'}"
      ]
     },
     "execution_count": 205,
     "metadata": {},
     "output_type": "execute_result"
    }
   ],
   "source": [
    "# delete values\n",
    "delattr(dotdict_test, \"param5\")\n",
    "del dotdict_test[\"param7\"]\n",
    "del dotdict_test.param6\n",
    "dotdict_test"
   ]
  },
  {
   "cell_type": "code",
   "execution_count": 206,
   "id": "c3462b5c-e3fe-45f4-b1b9-eb3fd86acee1",
   "metadata": {},
   "outputs": [
    {
     "data": {
      "text/plain": [
       "{'param_1': 'great',\n",
       " 'param2': 2,\n",
       " 'param3': {'subparam': -5.2},\n",
       " 'param4': [6, 1, 2],\n",
       " 'param8': 'toto'}"
      ]
     },
     "execution_count": 206,
     "metadata": {},
     "output_type": "execute_result"
    }
   ],
   "source": [
    "dict(dotdict_test)"
   ]
  },
  {
   "cell_type": "code",
   "execution_count": 207,
   "id": "ea15bd1c-813b-4256-99c5-f478ef1d5a98",
   "metadata": {},
   "outputs": [
    {
     "name": "stdout",
     "output_type": "stream",
     "text": [
      "<class 'dict'>\n"
     ]
    },
    {
     "data": {
      "text/plain": [
       "{'first': {'a': 0}, 'second': {'b': 1}, 'third': {'c': 2}}"
      ]
     },
     "execution_count": 207,
     "metadata": {},
     "output_type": "execute_result"
    }
   ],
   "source": [
    "# replace DotDicts with dicts when added\n",
    "dotdict_1 = DotDict({\n",
    "    \"a\": 0\n",
    "})\n",
    "dotdict_2 = DotDict({\n",
    "    \"b\": 1\n",
    "})\n",
    "dotdict_3 = DotDict({\n",
    "    \"c\": 2\n",
    "})\n",
    "dict_dotdict = {\n",
    "    \"first\": dotdict_1,\n",
    "    \"second\": dotdict_2,\n",
    "    \"third\": dotdict_3\n",
    "}\n",
    "result_dict = dict(DotDict(dict_dotdict))\n",
    "print(type(result_dict[\"first\"]))\n",
    "result_dict"
   ]
  },
  {
   "cell_type": "code",
   "execution_count": 101,
   "id": "adcfef3b-8fd3-44b9-9221-92c011c823ff",
   "metadata": {},
   "outputs": [
    {
     "ename": "AttributeError",
     "evalue": "No key/attribute 'lol'",
     "output_type": "error",
     "traceback": [
      "\u001b[1;31m---------------------------------------------------------------------------\u001b[0m",
      "\u001b[1;31mAttributeError\u001b[0m                            Traceback (most recent call last)",
      "Cell \u001b[1;32mIn[101], line 1\u001b[0m\n\u001b[1;32m----> 1\u001b[0m dotdict_test\u001b[38;5;241m.\u001b[39mlol\n",
      "Cell \u001b[1;32mIn[83], line 101\u001b[0m, in \u001b[0;36mDotDict.__getitem__\u001b[1;34m(self, key)\u001b[0m\n\u001b[0;32m     98\u001b[0m \u001b[38;5;28;01mdef\u001b[39;00m \u001b[38;5;21m__getitem__\u001b[39m(\u001b[38;5;28mself\u001b[39m, key: \u001b[38;5;28mstr\u001b[39m) \u001b[38;5;241m-\u001b[39m\u001b[38;5;241m>\u001b[39m Optional[Any]:\n\u001b[0;32m     99\u001b[0m     \u001b[38;5;66;03m# check if the key exists\u001b[39;00m\n\u001b[0;32m    100\u001b[0m     \u001b[38;5;28;01mif\u001b[39;00m \u001b[38;5;129;01mnot\u001b[39;00m (key \u001b[38;5;129;01min\u001b[39;00m \u001b[38;5;28mself\u001b[39m\u001b[38;5;241m.\u001b[39mkeys()):\n\u001b[1;32m--> 101\u001b[0m         \u001b[38;5;28;01mraise\u001b[39;00m \u001b[38;5;167;01mAttributeError\u001b[39;00m(\u001b[38;5;124mf\u001b[39m\u001b[38;5;124m\"\u001b[39m\u001b[38;5;124mNo key/attribute \u001b[39m\u001b[38;5;124m'\u001b[39m\u001b[38;5;132;01m{\u001b[39;00mkey\u001b[38;5;132;01m}\u001b[39;00m\u001b[38;5;124m'\u001b[39m\u001b[38;5;124m\"\u001b[39m)\n\u001b[0;32m    102\u001b[0m     value \u001b[38;5;241m=\u001b[39m \u001b[38;5;28msuper\u001b[39m()\u001b[38;5;241m.\u001b[39m\u001b[38;5;21m__getitem__\u001b[39m(key)\n\u001b[0;32m    103\u001b[0m     \u001b[38;5;28;01mif\u001b[39;00m \u001b[38;5;28mtype\u001b[39m(value) \u001b[38;5;129;01mis\u001b[39;00m \u001b[38;5;28mdict\u001b[39m:\n\u001b[0;32m    104\u001b[0m         \u001b[38;5;66;03m# if the value is a dict, return it as a DotDict object\u001b[39;00m\n\u001b[0;32m    105\u001b[0m         \u001b[38;5;66;03m# no need to check it, it's already cleared\u001b[39;00m\n",
      "\u001b[1;31mAttributeError\u001b[0m: No key/attribute 'lol'"
     ]
    }
   ],
   "source": [
    "dotdict_test.lol"
   ]
  },
  {
   "cell_type": "code",
   "execution_count": 173,
   "id": "c897ffa0-89f9-4d22-8fd8-5a8e2c2d5922",
   "metadata": {},
   "outputs": [
    {
     "ename": "AttributeError",
     "evalue": "No key/attribute 'haha'",
     "output_type": "error",
     "traceback": [
      "\u001b[1;31m---------------------------------------------------------------------------\u001b[0m",
      "\u001b[1;31mAttributeError\u001b[0m                            Traceback (most recent call last)",
      "Cell \u001b[1;32mIn[173], line 1\u001b[0m\n\u001b[1;32m----> 1\u001b[0m dotdict_test[\u001b[38;5;124m\"\u001b[39m\u001b[38;5;124mhaha\u001b[39m\u001b[38;5;124m\"\u001b[39m]\n",
      "Cell \u001b[1;32mIn[153], line 94\u001b[0m, in \u001b[0;36mDotDict.__getitem__\u001b[1;34m(self, key)\u001b[0m\n\u001b[0;32m     91\u001b[0m \u001b[38;5;28;01mdef\u001b[39;00m \u001b[38;5;21m__getitem__\u001b[39m(\u001b[38;5;28mself\u001b[39m, key: \u001b[38;5;28mstr\u001b[39m) \u001b[38;5;241m-\u001b[39m\u001b[38;5;241m>\u001b[39m Optional[Any]:\n\u001b[0;32m     92\u001b[0m     \u001b[38;5;66;03m# check if the key exists\u001b[39;00m\n\u001b[0;32m     93\u001b[0m     \u001b[38;5;28;01mif\u001b[39;00m \u001b[38;5;129;01mnot\u001b[39;00m (key \u001b[38;5;129;01min\u001b[39;00m \u001b[38;5;28mself\u001b[39m\u001b[38;5;241m.\u001b[39mkeys()):\n\u001b[1;32m---> 94\u001b[0m         \u001b[38;5;28;01mraise\u001b[39;00m \u001b[38;5;167;01mAttributeError\u001b[39;00m(\u001b[38;5;124mf\u001b[39m\u001b[38;5;124m\"\u001b[39m\u001b[38;5;124mNo key/attribute \u001b[39m\u001b[38;5;124m'\u001b[39m\u001b[38;5;132;01m{\u001b[39;00mkey\u001b[38;5;132;01m}\u001b[39;00m\u001b[38;5;124m'\u001b[39m\u001b[38;5;124m\"\u001b[39m)\n\u001b[0;32m     95\u001b[0m     value \u001b[38;5;241m=\u001b[39m \u001b[38;5;28msuper\u001b[39m()\u001b[38;5;241m.\u001b[39m\u001b[38;5;21m__getitem__\u001b[39m(key)\n\u001b[0;32m     96\u001b[0m     \u001b[38;5;28;01mif\u001b[39;00m \u001b[38;5;28mtype\u001b[39m(value) \u001b[38;5;129;01mis\u001b[39;00m \u001b[38;5;28mdict\u001b[39m:\n\u001b[0;32m     97\u001b[0m         \u001b[38;5;66;03m# if the value is a dict, return it as a DotDict object\u001b[39;00m\n\u001b[0;32m     98\u001b[0m         \u001b[38;5;66;03m# no need to check it, it's already cleared\u001b[39;00m\n",
      "\u001b[1;31mAttributeError\u001b[0m: No key/attribute 'haha'"
     ]
    }
   ],
   "source": [
    "dotdict_test[\"haha\"]"
   ]
  },
  {
   "cell_type": "code",
   "execution_count": 174,
   "id": "c93c469b-d95d-42ca-a1a0-a3439d5aa684",
   "metadata": {},
   "outputs": [
    {
     "ename": "KeyTypeError",
     "evalue": "The key '0' is not a string",
     "output_type": "error",
     "traceback": [
      "\u001b[1;31m---------------------------------------------------------------------------\u001b[0m",
      "\u001b[1;31mKeyTypeError\u001b[0m                              Traceback (most recent call last)",
      "Cell \u001b[1;32mIn[174], line 1\u001b[0m\n\u001b[1;32m----> 1\u001b[0m dotdict_test[\u001b[38;5;241m0\u001b[39m] \u001b[38;5;241m=\u001b[39m \u001b[38;5;124m\"\u001b[39m\u001b[38;5;124mlol\u001b[39m\u001b[38;5;124m\"\u001b[39m\n",
      "Cell \u001b[1;32mIn[153], line 107\u001b[0m, in \u001b[0;36mDotDict.__setitem__\u001b[1;34m(self, key, value)\u001b[0m\n\u001b[0;32m    105\u001b[0m \u001b[38;5;28;01mdef\u001b[39;00m \u001b[38;5;21m__setitem__\u001b[39m(\u001b[38;5;28mself\u001b[39m, key: \u001b[38;5;28mstr\u001b[39m, value: Optional[Any]):\n\u001b[0;32m    106\u001b[0m     \u001b[38;5;66;03m# check if the key is valid as an attribute name\u001b[39;00m\n\u001b[1;32m--> 107\u001b[0m     check_key(key)\n\u001b[0;32m    108\u001b[0m     \u001b[38;5;66;03m# if the value is a dict, convert it to DotDict (clears/cleans it)\u001b[39;00m\n\u001b[0;32m    109\u001b[0m     \u001b[38;5;28;01mif\u001b[39;00m \u001b[38;5;28mtype\u001b[39m(value) \u001b[38;5;129;01mis\u001b[39;00m \u001b[38;5;28mdict\u001b[39m:\n",
      "Cell \u001b[1;32mIn[153], line 28\u001b[0m, in \u001b[0;36mcheck_key\u001b[1;34m(key)\u001b[0m\n\u001b[0;32m     25\u001b[0m \u001b[38;5;28;01mdef\u001b[39;00m \u001b[38;5;21mcheck_key\u001b[39m(key):\n\u001b[0;32m     26\u001b[0m     \u001b[38;5;66;03m# check if the key is a string\u001b[39;00m\n\u001b[0;32m     27\u001b[0m     \u001b[38;5;28;01mif\u001b[39;00m \u001b[38;5;129;01mnot\u001b[39;00m (\u001b[38;5;28mtype\u001b[39m(key) \u001b[38;5;129;01mis\u001b[39;00m \u001b[38;5;28mstr\u001b[39m):\n\u001b[1;32m---> 28\u001b[0m         \u001b[38;5;28;01mraise\u001b[39;00m KeyTypeError(\u001b[38;5;124mf\u001b[39m\u001b[38;5;124m\"\u001b[39m\u001b[38;5;124mThe key \u001b[39m\u001b[38;5;124m'\u001b[39m\u001b[38;5;132;01m{\u001b[39;00mkey\u001b[38;5;132;01m}\u001b[39;00m\u001b[38;5;124m'\u001b[39m\u001b[38;5;124m is not a string\u001b[39m\u001b[38;5;124m\"\u001b[39m)\n\u001b[0;32m     29\u001b[0m     \u001b[38;5;66;03m# check if the key is accessible as a not-hidden attribute\u001b[39;00m\n\u001b[0;32m     30\u001b[0m     \u001b[38;5;28;01mif\u001b[39;00m \u001b[38;5;129;01mnot\u001b[39;00m attribute_name_pattern\u001b[38;5;241m.\u001b[39mmatch(key):\n",
      "\u001b[1;31mKeyTypeError\u001b[0m: The key '0' is not a string"
     ]
    }
   ],
   "source": [
    "dotdict_test[0] = \"lol\""
   ]
  },
  {
   "cell_type": "code",
   "execution_count": 176,
   "id": "999fe764-30ac-48e5-b3aa-7e52748264da",
   "metadata": {},
   "outputs": [
    {
     "ename": "AttributeNameError",
     "evalue": "The key '0' cannot be used as an attribute name",
     "output_type": "error",
     "traceback": [
      "\u001b[1;31m---------------------------------------------------------------------------\u001b[0m",
      "\u001b[1;31mAttributeNameError\u001b[0m                        Traceback (most recent call last)",
      "Cell \u001b[1;32mIn[176], line 1\u001b[0m\n\u001b[1;32m----> 1\u001b[0m dotdict_test[\u001b[38;5;124m\"\u001b[39m\u001b[38;5;124m0\u001b[39m\u001b[38;5;124m\"\u001b[39m] \u001b[38;5;241m=\u001b[39m \u001b[38;5;124m\"\u001b[39m\u001b[38;5;124mlol\u001b[39m\u001b[38;5;124m\"\u001b[39m\n",
      "Cell \u001b[1;32mIn[153], line 107\u001b[0m, in \u001b[0;36mDotDict.__setitem__\u001b[1;34m(self, key, value)\u001b[0m\n\u001b[0;32m    105\u001b[0m \u001b[38;5;28;01mdef\u001b[39;00m \u001b[38;5;21m__setitem__\u001b[39m(\u001b[38;5;28mself\u001b[39m, key: \u001b[38;5;28mstr\u001b[39m, value: Optional[Any]):\n\u001b[0;32m    106\u001b[0m     \u001b[38;5;66;03m# check if the key is valid as an attribute name\u001b[39;00m\n\u001b[1;32m--> 107\u001b[0m     check_key(key)\n\u001b[0;32m    108\u001b[0m     \u001b[38;5;66;03m# if the value is a dict, convert it to DotDict (clears/cleans it)\u001b[39;00m\n\u001b[0;32m    109\u001b[0m     \u001b[38;5;28;01mif\u001b[39;00m \u001b[38;5;28mtype\u001b[39m(value) \u001b[38;5;129;01mis\u001b[39;00m \u001b[38;5;28mdict\u001b[39m:\n",
      "Cell \u001b[1;32mIn[153], line 31\u001b[0m, in \u001b[0;36mcheck_key\u001b[1;34m(key)\u001b[0m\n\u001b[0;32m     29\u001b[0m \u001b[38;5;66;03m# check if the key is accessible as a not-hidden attribute\u001b[39;00m\n\u001b[0;32m     30\u001b[0m \u001b[38;5;28;01mif\u001b[39;00m \u001b[38;5;129;01mnot\u001b[39;00m attribute_name_pattern\u001b[38;5;241m.\u001b[39mmatch(key):\n\u001b[1;32m---> 31\u001b[0m     \u001b[38;5;28;01mraise\u001b[39;00m AttributeNameError(\u001b[38;5;124mf\u001b[39m\u001b[38;5;124m\"\u001b[39m\u001b[38;5;124mThe key \u001b[39m\u001b[38;5;124m'\u001b[39m\u001b[38;5;132;01m{\u001b[39;00mkey\u001b[38;5;132;01m}\u001b[39;00m\u001b[38;5;124m'\u001b[39m\u001b[38;5;124m cannot be used as an attribute name\u001b[39m\u001b[38;5;124m\"\u001b[39m)\n",
      "\u001b[1;31mAttributeNameError\u001b[0m: The key '0' cannot be used as an attribute name"
     ]
    }
   ],
   "source": [
    "dotdict_test[\"0\"] = \"lol\""
   ]
  },
  {
   "cell_type": "code",
   "execution_count": 177,
   "id": "3e8b6177-82df-4b66-a8ff-d10c805ee8d5",
   "metadata": {},
   "outputs": [
    {
     "ename": "AttributeError",
     "evalue": "No key/attribute 'lol'",
     "output_type": "error",
     "traceback": [
      "\u001b[1;31m---------------------------------------------------------------------------\u001b[0m",
      "\u001b[1;31mAttributeError\u001b[0m                            Traceback (most recent call last)",
      "Cell \u001b[1;32mIn[177], line 1\u001b[0m\n\u001b[1;32m----> 1\u001b[0m \u001b[38;5;28;01mdel\u001b[39;00m dotdict_test\u001b[38;5;241m.\u001b[39mlol\n",
      "Cell \u001b[1;32mIn[153], line 121\u001b[0m, in \u001b[0;36mDotDict.__delitem__\u001b[1;34m(self, key)\u001b[0m\n\u001b[0;32m    118\u001b[0m \u001b[38;5;28;01mdef\u001b[39;00m \u001b[38;5;21m__delitem__\u001b[39m(\u001b[38;5;28mself\u001b[39m, key: \u001b[38;5;28mstr\u001b[39m):\n\u001b[0;32m    119\u001b[0m     \u001b[38;5;66;03m# check if the key exists\u001b[39;00m\n\u001b[0;32m    120\u001b[0m     \u001b[38;5;28;01mif\u001b[39;00m \u001b[38;5;129;01mnot\u001b[39;00m (key \u001b[38;5;129;01min\u001b[39;00m \u001b[38;5;28mself\u001b[39m\u001b[38;5;241m.\u001b[39mkeys()):\n\u001b[1;32m--> 121\u001b[0m         \u001b[38;5;28;01mraise\u001b[39;00m \u001b[38;5;167;01mAttributeError\u001b[39;00m(\u001b[38;5;124mf\u001b[39m\u001b[38;5;124m\"\u001b[39m\u001b[38;5;124mNo key/attribute \u001b[39m\u001b[38;5;124m'\u001b[39m\u001b[38;5;132;01m{\u001b[39;00mkey\u001b[38;5;132;01m}\u001b[39;00m\u001b[38;5;124m'\u001b[39m\u001b[38;5;124m\"\u001b[39m)\n\u001b[0;32m    122\u001b[0m     \u001b[38;5;28msuper\u001b[39m()\u001b[38;5;241m.\u001b[39m\u001b[38;5;21m__delitem__\u001b[39m(key)\n",
      "\u001b[1;31mAttributeError\u001b[0m: No key/attribute 'lol'"
     ]
    }
   ],
   "source": [
    "del dotdict_test.lol"
   ]
  },
  {
   "cell_type": "code",
   "execution_count": 178,
   "id": "b016018a-91c5-4e7f-acf4-7ce1071eac86",
   "metadata": {},
   "outputs": [
    {
     "ename": "AttributeError",
     "evalue": "No key/attribute 'haha'",
     "output_type": "error",
     "traceback": [
      "\u001b[1;31m---------------------------------------------------------------------------\u001b[0m",
      "\u001b[1;31mAttributeError\u001b[0m                            Traceback (most recent call last)",
      "Cell \u001b[1;32mIn[178], line 1\u001b[0m\n\u001b[1;32m----> 1\u001b[0m \u001b[38;5;28;01mdel\u001b[39;00m dotdict_test[\u001b[38;5;124m\"\u001b[39m\u001b[38;5;124mhaha\u001b[39m\u001b[38;5;124m\"\u001b[39m]\n",
      "Cell \u001b[1;32mIn[153], line 121\u001b[0m, in \u001b[0;36mDotDict.__delitem__\u001b[1;34m(self, key)\u001b[0m\n\u001b[0;32m    118\u001b[0m \u001b[38;5;28;01mdef\u001b[39;00m \u001b[38;5;21m__delitem__\u001b[39m(\u001b[38;5;28mself\u001b[39m, key: \u001b[38;5;28mstr\u001b[39m):\n\u001b[0;32m    119\u001b[0m     \u001b[38;5;66;03m# check if the key exists\u001b[39;00m\n\u001b[0;32m    120\u001b[0m     \u001b[38;5;28;01mif\u001b[39;00m \u001b[38;5;129;01mnot\u001b[39;00m (key \u001b[38;5;129;01min\u001b[39;00m \u001b[38;5;28mself\u001b[39m\u001b[38;5;241m.\u001b[39mkeys()):\n\u001b[1;32m--> 121\u001b[0m         \u001b[38;5;28;01mraise\u001b[39;00m \u001b[38;5;167;01mAttributeError\u001b[39;00m(\u001b[38;5;124mf\u001b[39m\u001b[38;5;124m\"\u001b[39m\u001b[38;5;124mNo key/attribute \u001b[39m\u001b[38;5;124m'\u001b[39m\u001b[38;5;132;01m{\u001b[39;00mkey\u001b[38;5;132;01m}\u001b[39;00m\u001b[38;5;124m'\u001b[39m\u001b[38;5;124m\"\u001b[39m)\n\u001b[0;32m    122\u001b[0m     \u001b[38;5;28msuper\u001b[39m()\u001b[38;5;241m.\u001b[39m\u001b[38;5;21m__delitem__\u001b[39m(key)\n",
      "\u001b[1;31mAttributeError\u001b[0m: No key/attribute 'haha'"
     ]
    }
   ],
   "source": [
    "del dotdict_test[\"haha\"]"
   ]
  },
  {
   "cell_type": "code",
   "execution_count": 192,
   "id": "256389be-129f-413c-a895-80476b3d2845",
   "metadata": {},
   "outputs": [
    {
     "data": {
      "text/plain": [
       "['clear',\n",
       " 'copy',\n",
       " 'fromkeys',\n",
       " 'get',\n",
       " 'items',\n",
       " 'keys',\n",
       " 'pop',\n",
       " 'popitem',\n",
       " 'setdefault',\n",
       " 'update',\n",
       " 'values']"
      ]
     },
     "execution_count": 192,
     "metadata": {},
     "output_type": "execute_result"
    }
   ],
   "source": [
    "# forbidden attribute names\n",
    "dict_attribute_names = [item for item in dir(dict) if not (\"_\" in item)]\n",
    "dict_attribute_names"
   ]
  },
  {
   "cell_type": "code",
   "execution_count": null,
   "id": "3eb9b70c-dd01-400e-8e71-aefbd939cdcd",
   "metadata": {},
   "outputs": [],
   "source": []
  },
  {
   "cell_type": "markdown",
   "id": "51311d1d-58ef-4e41-97be-b1fa7697f7e2",
   "metadata": {},
   "source": [
    "### Class inheritance\n",
    "\n",
    "`super(type[, instance_or_type])`\n",
    "\n",
    "- `super` returns a proxy item used to call methods from parent or sibling classes\n",
    "- `super(type)` returns unbound super object\n",
    "- `super(type, instance)` instance must be instance of type (isinstance(instance, type))\n",
    "- `super(type, type2)` type2 must be subclass of type (issubclass(type2, type))\n",
    "\n",
    "`super` is only used when you don't want to name the parent classes by name => behavior determined at rutime using the MRO"
   ]
  },
  {
   "cell_type": "code",
   "execution_count": 159,
   "id": "a4cc88f1-a437-4597-9293-1c29c24b4224",
   "metadata": {},
   "outputs": [
    {
     "name": "stdout",
     "output_type": "stream",
     "text": [
      "<class '__main__.A'>\n",
      "<class '__main__.B'>\n",
      "<class '__main__.D'>\n",
      "<class '__main__.C'>\n",
      "<class 'object'>\n",
      "\n",
      "init A\n",
      "init B\n",
      "init D\n",
      "init C\n",
      "end init D\n",
      "end init A\n",
      "1\n",
      "2\n",
      "3\n",
      "4\n",
      "this is a method of the class B\n",
      "this is a method of the class C\n",
      "this is a method of the class D\n"
     ]
    }
   ],
   "source": [
    "%reset -f\n",
    "class B:\n",
    "    def __init__(self, b_atr: int):\n",
    "        print(\"init B\")\n",
    "        self.b_atr = b_atr\n",
    "        \n",
    "    def meth_b(self):\n",
    "        print(\"this is a method of the class B\")\n",
    "        \n",
    "    # def meth(self):\n",
    "    #     print(\"this is the method 'meth' of the class A\")\n",
    "\n",
    "# a_test = A(2)\n",
    "# print(a_test.a_atr)\n",
    "\n",
    "\n",
    "class C:\n",
    "    def __init__(self, c_atr: int):\n",
    "        print(\"init C\")\n",
    "        self.c_atr = c_atr\n",
    "        \n",
    "    def meth_c(self):\n",
    "        print(\"this is a method of the class C\")\n",
    "        \n",
    "    # def meth(self):\n",
    "    #     print(\"this is the method 'meth' of the class B\")\n",
    "        \n",
    "\n",
    "class D(C):\n",
    "    def __init__(self, c_atr: int, d_atr: int):\n",
    "        print(\"init D\")\n",
    "        # print(super())\n",
    "        # super().__init__(c_atr)\n",
    "        C.__init__(self, c_atr)\n",
    "        self.d_atr = d_atr\n",
    "        print(\"end init D\")\n",
    "        \n",
    "    def meth_d(self):\n",
    "        print(\"this is a method of the class D\")\n",
    "        \n",
    "# d_test = D(1,2)\n",
    "# print(d_test.d_atr)\n",
    "# print(d_test.c_atr)\n",
    "# d_test.meth_d()\n",
    "# d_test.meth_c()\n",
    "\n",
    "\n",
    "class A(B, D):\n",
    "    def __init__(self, a_atr: int, b_atr: int, c_atr: int, d_atr: int):\n",
    "        print(\"init A\")\n",
    "        B.__init__(self, b_atr)\n",
    "        D.__init__(self, c_atr, d_atr)\n",
    "        self.a_atr = a_atr\n",
    "        print(\"end init A\")\n",
    "        \n",
    "    # def super_tests(self):\n",
    "    #     print(super())\n",
    "    #     print(super(self.__class__, self))\n",
    "    #     # print(super(...))\n",
    "\n",
    "        \n",
    "# print(\"A.__class__:\", A.__class__)\n",
    "# print(\"type(A):\", type(A))\n",
    "# print(\"MRO:\")\n",
    "for item in A.__mro__:\n",
    "    print(item)\n",
    "print()\n",
    "\n",
    "a_test = A(1,2,3,4)\n",
    "print(a_test.a_atr)\n",
    "print(a_test.b_atr)\n",
    "print(a_test.c_atr)\n",
    "print(a_test.d_atr)\n",
    "a_test.meth_b()\n",
    "a_test.meth_c()\n",
    "a_test.meth_d()"
   ]
  },
  {
   "cell_type": "code",
   "execution_count": 12,
   "id": "9c3ccf8c-c2fb-434f-a438-d547092c8cb1",
   "metadata": {},
   "outputs": [
    {
     "data": {
      "text/plain": [
       "<super: __main__.A, __main__.B>"
      ]
     },
     "execution_count": 12,
     "metadata": {},
     "output_type": "execute_result"
    }
   ],
   "source": [
    "super(A, B)"
   ]
  },
  {
   "cell_type": "code",
   "execution_count": 5,
   "id": "83c2f3c7-d47b-4c01-9ebd-9d8a9aecb7b4",
   "metadata": {},
   "outputs": [
    {
     "data": {
      "text/plain": [
       "\u001b[1;31mInit signature:\u001b[0m \u001b[0msuper\u001b[0m\u001b[1;33m(\u001b[0m\u001b[0mself\u001b[0m\u001b[1;33m,\u001b[0m \u001b[1;33m/\u001b[0m\u001b[1;33m,\u001b[0m \u001b[1;33m*\u001b[0m\u001b[0margs\u001b[0m\u001b[1;33m,\u001b[0m \u001b[1;33m**\u001b[0m\u001b[0mkwargs\u001b[0m\u001b[1;33m)\u001b[0m\u001b[1;33m\u001b[0m\u001b[1;33m\u001b[0m\u001b[0m\n",
       "\u001b[1;31mDocstring:\u001b[0m     \n",
       "super() -> same as super(__class__, <first argument>)\n",
       "super(type) -> unbound super object\n",
       "super(type, obj) -> bound super object; requires isinstance(obj, type)\n",
       "super(type, type2) -> bound super object; requires issubclass(type2, type)\n",
       "Typical use to call a cooperative superclass method:\n",
       "class C(B):\n",
       "    def meth(self, arg):\n",
       "        super().meth(arg)\n",
       "This works for class methods too:\n",
       "class C(B):\n",
       "    @classmethod\n",
       "    def cmeth(cls, arg):\n",
       "        super().cmeth(arg)\n",
       "\u001b[1;31mType:\u001b[0m           type\n",
       "\u001b[1;31mSubclasses:\u001b[0m     "
      ]
     },
     "metadata": {},
     "output_type": "display_data"
    }
   ],
   "source": [
    "super?"
   ]
  },
  {
   "cell_type": "code",
   "execution_count": 40,
   "id": "affb7fa5-e084-44f8-9973-8fccdc7e22bd",
   "metadata": {},
   "outputs": [
    {
     "name": "stdout",
     "output_type": "stream",
     "text": [
      "3\n",
      "9\n",
      "4\n",
      "96\n",
      "64\n"
     ]
    }
   ],
   "source": [
    "%reset -f\n",
    "\n",
    "class Square:\n",
    "    \n",
    "    def __init__(self, side_length):\n",
    "        self.side_length = side_length\n",
    "    \n",
    "    @property\n",
    "    def area(self):\n",
    "        return self.side_length ** 2\n",
    "        \n",
    "square_test = Square(3)\n",
    "print(square_test.side_length)\n",
    "print(square_test.area)\n",
    "\n",
    "\n",
    "class Cube(Square):\n",
    "    \n",
    "    @property\n",
    "    def area(self):\n",
    "        return super().area * 6\n",
    "    \n",
    "    @property\n",
    "    def volume(self):\n",
    "        return self.side_length ** 3\n",
    "\n",
    "cube_test = Cube(4)\n",
    "print(cube_test.side_length)\n",
    "print(cube_test.area)\n",
    "print(cube_test.volume)"
   ]
  },
  {
   "cell_type": "code",
   "execution_count": 90,
   "id": "2a98adc9-655b-4b82-89fc-51f5684b896c",
   "metadata": {},
   "outputs": [
    {
     "name": "stdout",
     "output_type": "stream",
     "text": [
      "Start TextDescriber init\n",
      "Start WordCounter init\n",
      "Start Vocabulary init\n",
      "Start Tokenizer init\n",
      "End Tokenizer init\n",
      "End Vocabulary init\n",
      "End WordCounter init\n",
      "End TextDescriber init\n",
      "--------\n",
      "['row', 'row', 'row', 'your', 'boat']\n",
      "{'your', 'boat', 'row'}\n",
      "5\n"
     ]
    }
   ],
   "source": [
    "%reset -f\n",
    "\n",
    "class Tokenizer:\n",
    "    \"\"\"Tokenize text\"\"\"\n",
    "    def __init__(self, text):\n",
    "        print('Start Tokenizer init')\n",
    "        self.tokens = text.split()\n",
    "        print('End Tokenizer init')\n",
    "\n",
    "\n",
    "class WordCounter(Tokenizer):\n",
    "    \"\"\"Count words in text\"\"\"\n",
    "    def __init__(self, text):\n",
    "        print('Start WordCounter init')\n",
    "        super().__init__(text)\n",
    "        self.word_count = len(self.tokens)\n",
    "        print('End WordCounter init')\n",
    "\n",
    "\n",
    "class Vocabulary(Tokenizer):\n",
    "    \"\"\"Find unique words in text\"\"\"\n",
    "    def __init__(self, text):\n",
    "        print('Start Vocabulary init')\n",
    "        super().__init__(text)\n",
    "        self.vocab = set(self.tokens)\n",
    "        print('End Vocabulary init')\n",
    "\n",
    "\n",
    "class TextDescriber(WordCounter, Vocabulary):\n",
    "    \"\"\"Describe text with multiple metrics\"\"\"\n",
    "    def __init__(self, text):\n",
    "        print('Start TextDescriber init')\n",
    "        super().__init__(text)\n",
    "        print('End TextDescriber init')\n",
    "        \n",
    "        \n",
    "# for item in TextDescriber.__mro__:\n",
    "#     print(item)\n",
    "\n",
    "\n",
    "td = TextDescriber('row row row your boat')\n",
    "print('--------')\n",
    "print(td.tokens)\n",
    "print(td.vocab)\n",
    "print(td.word_count)"
   ]
  },
  {
   "cell_type": "code",
   "execution_count": 139,
   "id": "b1839bca-eb63-45ca-a71a-07fc77f531ab",
   "metadata": {},
   "outputs": [
    {
     "name": "stdout",
     "output_type": "stream",
     "text": [
      "<class '__main__.Grandchild'>\n",
      "<class '__main__.Child'>\n",
      "<class '__main__.Parent'>\n",
      "<class 'object'>\n",
      "\n",
      "grandchild method\n",
      "<super: <class 'Grandchild'>, <Grandchild object>>\n",
      "child method\n",
      "<super: <class 'Child'>, <Grandchild object>>\n",
      "parent method\n"
     ]
    }
   ],
   "source": [
    "# parent, child, grandchild:\n",
    "%reset -f\n",
    "\n",
    "class Parent:\n",
    "    def method(self):\n",
    "        print(\"parent method\")\n",
    "\n",
    "class Child(Parent):\n",
    "    def method(self):\n",
    "        print(\"child method\")\n",
    "        print(super())\n",
    "        super().method()\n",
    "\n",
    "class Grandchild(Child):\n",
    "    def method(self):\n",
    "        print(\"grandchild method\")\n",
    "        print(super())\n",
    "        super().method()\n",
    "    \n",
    "for item in Grandchild.__mro__:\n",
    "    print(item)\n",
    "print()\n",
    "\n",
    "Grandchild().method()"
   ]
  },
  {
   "cell_type": "code",
   "execution_count": 141,
   "id": "749e4429-e8e1-4ee1-b073-5f73bd1f8f9e",
   "metadata": {},
   "outputs": [
    {
     "name": "stdout",
     "output_type": "stream",
     "text": [
      "<class '__main__.Child'>\n",
      "<class '__main__.Parent1'>\n",
      "<class '__main__.Parent2'>\n",
      "<class 'object'>\n",
      "\n",
      "child method\n",
      "<super: <class 'Child'>, <Child object>>\n",
      "<super: <class 'Parent1'>, <Child object>>\n",
      "parent 2 method\n"
     ]
    },
    {
     "ename": "AttributeError",
     "evalue": "'super' object has no attribute 'method'",
     "output_type": "error",
     "traceback": [
      "\u001b[1;31m---------------------------------------------------------------------------\u001b[0m",
      "\u001b[1;31mAttributeError\u001b[0m                            Traceback (most recent call last)",
      "Cell \u001b[1;32mIn[141], line 24\u001b[0m\n\u001b[0;32m     21\u001b[0m     \u001b[38;5;28mprint\u001b[39m(item)\n\u001b[0;32m     22\u001b[0m \u001b[38;5;28mprint\u001b[39m()\n\u001b[1;32m---> 24\u001b[0m Child()\u001b[38;5;241m.\u001b[39mmethod()\n",
      "Cell \u001b[1;32mIn[141], line 18\u001b[0m, in \u001b[0;36mChild.method\u001b[1;34m(self)\u001b[0m\n\u001b[0;32m     16\u001b[0m \u001b[38;5;28mprint\u001b[39m(\u001b[38;5;28msuper\u001b[39m(Parent1, \u001b[38;5;28mself\u001b[39m))\n\u001b[0;32m     17\u001b[0m \u001b[38;5;28msuper\u001b[39m(Parent1, \u001b[38;5;28mself\u001b[39m)\u001b[38;5;241m.\u001b[39mmethod()\n\u001b[1;32m---> 18\u001b[0m \u001b[38;5;28msuper\u001b[39m(Parent2, \u001b[38;5;28mself\u001b[39m)\u001b[38;5;241m.\u001b[39mmethod()\n",
      "\u001b[1;31mAttributeError\u001b[0m: 'super' object has no attribute 'method'"
     ]
    }
   ],
   "source": [
    "# child and 2 parents:\n",
    "%reset -f\n",
    "\n",
    "class Parent1:\n",
    "    def method(self):\n",
    "        print(\"parent 1 method\")\n",
    "        \n",
    "class Parent2:\n",
    "    def method(self):\n",
    "        print(\"parent 2 method\")\n",
    "        \n",
    "class Child(Parent1, Parent2):\n",
    "    def method(self):\n",
    "        print(\"child method\")\n",
    "        print(super())\n",
    "        print(super(Parent1, self))\n",
    "        # super(Parent1, self).method()\n",
    "        # super(Parent2, self).method()\n",
    "        \n",
    "for item in Child.__mro__:\n",
    "    print(item)\n",
    "print()\n",
    "\n",
    "Child().method()"
   ]
  },
  {
   "cell_type": "code",
   "execution_count": 135,
   "id": "4b587bde-8505-4907-8e4b-dce47fcd6313",
   "metadata": {},
   "outputs": [
    {
     "name": "stdout",
     "output_type": "stream",
     "text": [
      "<class '__main__.Child'>\n",
      "<class '__main__.Parent1'>\n",
      "<class '__main__.Parent2'>\n",
      "<class '__main__.Grandparent'>\n",
      "<class 'object'>\n",
      "\n",
      "child method\n",
      "<super: <class 'Child'>, <Child object>>\n",
      "parent1 method\n",
      "<super: <class 'Parent1'>, <Child object>>\n",
      "parent2 method\n",
      "<super: <class 'Parent2'>, <Child object>>\n",
      "grandparent method\n"
     ]
    }
   ],
   "source": [
    "# Child, Parent1, Parent2, Grandparent:\n",
    "%reset -f\n",
    "\n",
    "class Grandparent:\n",
    "    def method(self):\n",
    "        print(\"grandparent method\")\n",
    "\n",
    "class Parent1(Grandparent):\n",
    "    def method(self):\n",
    "        print(\"parent1 method\")\n",
    "        print(super())\n",
    "        super().method()\n",
    "\n",
    "class Parent2(Grandparent):\n",
    "    def method(self):\n",
    "        print(\"parent2 method\")\n",
    "        print(super())\n",
    "        super().method()\n",
    "\n",
    "class Child(Parent1, Parent2):\n",
    "    def method(self):\n",
    "        print(\"child method\")\n",
    "        print(super())\n",
    "        # print(super().super())\n",
    "        super().method()\n",
    "        \n",
    "for item in Child.__mro__:\n",
    "    print(item)\n",
    "print()\n",
    "\n",
    "Child().method()"
   ]
  },
  {
   "cell_type": "code",
   "execution_count": 94,
   "id": "316d8cef-45aa-477d-bd93-6cfe951297f8",
   "metadata": {},
   "outputs": [
    {
     "name": "stdout",
     "output_type": "stream",
     "text": [
      "child init\n",
      "parent 1 init\n"
     ]
    },
    {
     "data": {
      "text/plain": [
       "<__main__.Child at 0x144f188a410>"
      ]
     },
     "execution_count": 94,
     "metadata": {},
     "output_type": "execute_result"
    }
   ],
   "source": [
    "%reset -f\n",
    "\n",
    "class Parent1:\n",
    "    def __init__(self):\n",
    "        print(\"parent 1 init\")\n",
    "        \n",
    "class Parent2:\n",
    "    def __init__(self):\n",
    "        print(\"parent 2 init\")\n",
    "        \n",
    "class Child(Parent1, Parent2):\n",
    "    def __init__(self):\n",
    "        print(\"child init\")\n",
    "        super().__init__()\n",
    "\n",
    "Child()"
   ]
  },
  {
   "cell_type": "code",
   "execution_count": null,
   "id": "b947172a-706c-439e-aecc-6137ac7d4ae6",
   "metadata": {},
   "outputs": [],
   "source": []
  },
  {
   "cell_type": "code",
   "execution_count": null,
   "id": "d2df25ec-f8a1-4261-8659-c935dccafe69",
   "metadata": {},
   "outputs": [],
   "source": []
  },
  {
   "cell_type": "code",
   "execution_count": null,
   "id": "a1e56353-a18c-4871-812b-dccc047537dc",
   "metadata": {},
   "outputs": [],
   "source": []
  },
  {
   "cell_type": "markdown",
   "id": "7382bf62-213f-4207-8301-6a92a066de44",
   "metadata": {},
   "source": [
    "# DUMP"
   ]
  },
  {
   "cell_type": "code",
   "execution_count": 53,
   "id": "32a98eb7-7745-4f06-8ed7-b9ea1b870b55",
   "metadata": {},
   "outputs": [
    {
     "name": "stdout",
     "output_type": "stream",
     "text": [
      "(1, 2, 3)\n",
      "{'lol': 0, 'lblb': 1}\n"
     ]
    }
   ],
   "source": [
    "def test(*args, **kwargs):\n",
    "    print(args)\n",
    "    print(kwargs)\n",
    "\n",
    "args_test = (1,2,3)\n",
    "kwargs_test = {\"lol\": 0, \"lblb\": 1}\n",
    "test(*args_test, **kwargs_test)"
   ]
  },
  {
   "cell_type": "code",
   "execution_count": 2,
   "id": "e52558f5-e83c-4684-84df-733004aa311d",
   "metadata": {},
   "outputs": [
    {
     "data": {
      "text/plain": [
       "re.compile(r'^[a-zA-Z]\\w*$', re.UNICODE)"
      ]
     },
     "execution_count": 2,
     "metadata": {},
     "output_type": "execute_result"
    }
   ],
   "source": [
    "pattern = re.compile(\"^[a-zA-Z]\\w*$\")\n",
    "pattern"
   ]
  },
  {
   "cell_type": "code",
   "execution_count": 3,
   "id": "1010e805-c5df-4301-9231-a8f1f55b57a1",
   "metadata": {},
   "outputs": [
    {
     "name": "stdout",
     "output_type": "stream",
     "text": [
      "match\n",
      "no match\n",
      "no match\n",
      "match\n",
      "match\n",
      "match\n",
      "no match\n",
      "no match\n",
      "no match\n",
      "no match\n",
      "no match\n"
     ]
    }
   ],
   "source": [
    "test_list = [\n",
    "    \"MyClass\",\n",
    "    \"_a_hidden_parametter\",\n",
    "    \"__dunder__\",\n",
    "    \"param_6\",\n",
    "    \"YikeS_23\",\n",
    "    \"aLBERT2dse\",\n",
    "    \"0\",\n",
    "    \"25laurence\",\n",
    "    \"Myclass#6\",\n",
    "    \"This doesn't work either\",\n",
    "    \"test's\"\n",
    "]\n",
    "for str_ in test_list:\n",
    "    if pattern.match(str_):\n",
    "        print(\"match\")\n",
    "    else:\n",
    "        print(\"no match\")"
   ]
  },
  {
   "cell_type": "code",
   "execution_count": 90,
   "id": "d5024f43-0382-4541-8d98-80532cc59650",
   "metadata": {},
   "outputs": [
    {
     "data": {
      "text/plain": [
       "['__module__',\n",
       " '__dict__',\n",
       " '__weakref__',\n",
       " '__doc__',\n",
       " '__new__',\n",
       " '__repr__',\n",
       " '__hash__',\n",
       " '__str__',\n",
       " '__getattribute__',\n",
       " '__setattr__',\n",
       " '__delattr__',\n",
       " '__lt__',\n",
       " '__le__',\n",
       " '__eq__',\n",
       " '__ne__',\n",
       " '__gt__',\n",
       " '__ge__',\n",
       " '__init__',\n",
       " '__reduce_ex__',\n",
       " '__reduce__',\n",
       " '__getstate__',\n",
       " '__subclasshook__',\n",
       " '__init_subclass__',\n",
       " '__format__',\n",
       " '__sizeof__',\n",
       " '__dir__',\n",
       " '__class__']"
      ]
     },
     "execution_count": 90,
     "metadata": {},
     "output_type": "execute_result"
    }
   ],
   "source": [
    "class Test:\n",
    "    pass\n",
    "test_dir_return = Test().__dir__()\n",
    "test_dir_return"
   ]
  },
  {
   "cell_type": "code",
   "execution_count": 91,
   "id": "9ea38991-4f2e-48bd-a5a0-a48ea8436a03",
   "metadata": {},
   "outputs": [
    {
     "data": {
      "text/plain": [
       "list"
      ]
     },
     "execution_count": 91,
     "metadata": {},
     "output_type": "execute_result"
    }
   ],
   "source": [
    "type(test_dir_return)"
   ]
  },
  {
   "cell_type": "code",
   "execution_count": 205,
   "id": "01a05a11-631f-47c0-886e-18ed2d5affad",
   "metadata": {},
   "outputs": [
    {
     "name": "stdout",
     "output_type": "stream",
     "text": [
      "kaka\n"
     ]
    },
    {
     "data": {
      "text/plain": [
       "{'lol': 'kaka'}"
      ]
     },
     "execution_count": 205,
     "metadata": {},
     "output_type": "execute_result"
    }
   ],
   "source": [
    "class NullTest:\n",
    "    def __init__(self):\n",
    "        self.lol = \"kaka\"\n",
    "        print(self.lol)\n",
    "        # self = None\n",
    "\n",
    "\n",
    "null_test = NullTest()\n",
    "null_test.__dict__"
   ]
  },
  {
   "cell_type": "code",
   "execution_count": 332,
   "id": "50b8ec67-4cf8-40ac-8752-068a4b7ae0f1",
   "metadata": {},
   "outputs": [
    {
     "data": {
      "text/plain": [
       "{'one': 1, 'three': 3, 'two': 2}"
      ]
     },
     "execution_count": 332,
     "metadata": {},
     "output_type": "execute_result"
    }
   ],
   "source": [
    "DotDict({'one': 1, 'three': 3}, two=2)"
   ]
  },
  {
   "cell_type": "code",
   "execution_count": 363,
   "id": "c9d42534-de43-40c7-900e-31e377a097c1",
   "metadata": {},
   "outputs": [
    {
     "data": {
      "text/plain": [
       "['a', 'l', 'z', 'e']"
      ]
     },
     "execution_count": 363,
     "metadata": {},
     "output_type": "execute_result"
    }
   ],
   "source": [
    "test = [\"a\", \"l\", \"z\"]\n",
    "test.append(\"e\")\n",
    "test"
   ]
  },
  {
   "cell_type": "code",
   "execution_count": 18,
   "id": "364793f3-86e7-4037-98ad-17bfbeb85d8d",
   "metadata": {},
   "outputs": [
    {
     "data": {
      "text/plain": [
       "['__class__',\n",
       " '__delattr__',\n",
       " '__dir__',\n",
       " '__doc__',\n",
       " '__eq__',\n",
       " '__format__',\n",
       " '__ge__',\n",
       " '__getattribute__',\n",
       " '__getstate__',\n",
       " '__gt__',\n",
       " '__hash__',\n",
       " '__init__',\n",
       " '__init_subclass__',\n",
       " '__le__',\n",
       " '__lt__',\n",
       " '__ne__',\n",
       " '__new__',\n",
       " '__reduce__',\n",
       " '__reduce_ex__',\n",
       " '__repr__',\n",
       " '__setattr__',\n",
       " '__sizeof__',\n",
       " '__str__',\n",
       " '__subclasshook__']"
      ]
     },
     "execution_count": 18,
     "metadata": {},
     "output_type": "execute_result"
    }
   ],
   "source": [
    "dir(object)"
   ]
  },
  {
   "cell_type": "code",
   "execution_count": 23,
   "id": "47d5e06d-edec-4f44-81f7-4aea230d4eba",
   "metadata": {},
   "outputs": [
    {
     "data": {
      "text/plain": [
       "['__new__',\n",
       " '__repr__',\n",
       " '__hash__',\n",
       " '__str__',\n",
       " '__getattribute__',\n",
       " '__setattr__',\n",
       " '__delattr__',\n",
       " '__lt__',\n",
       " '__le__',\n",
       " '__eq__',\n",
       " '__ne__',\n",
       " '__gt__',\n",
       " '__ge__',\n",
       " '__init__',\n",
       " '__reduce_ex__',\n",
       " '__reduce__',\n",
       " '__getstate__',\n",
       " '__subclasshook__',\n",
       " '__init_subclass__',\n",
       " '__format__',\n",
       " '__sizeof__',\n",
       " '__dir__',\n",
       " '__class__',\n",
       " '__doc__']"
      ]
     },
     "execution_count": 23,
     "metadata": {},
     "output_type": "execute_result"
    }
   ],
   "source": [
    "list(vars(object).keys())"
   ]
  },
  {
   "cell_type": "code",
   "execution_count": 25,
   "id": "648a0ea3-4896-45ae-8e32-a1a15b2c1f8f",
   "metadata": {},
   "outputs": [
    {
     "data": {
      "text/plain": [
       "24"
      ]
     },
     "execution_count": 25,
     "metadata": {},
     "output_type": "execute_result"
    }
   ],
   "source": [
    "len(vars(object).keys())"
   ]
  },
  {
   "cell_type": "code",
   "execution_count": 26,
   "id": "a0131995-2e9c-4cec-84eb-e3052f1bb0a5",
   "metadata": {},
   "outputs": [
    {
     "data": {
      "text/plain": [
       "24"
      ]
     },
     "execution_count": 26,
     "metadata": {},
     "output_type": "execute_result"
    }
   ],
   "source": [
    "len(dir(object))"
   ]
  },
  {
   "cell_type": "code",
   "execution_count": 38,
   "id": "8961c77b-5285-412b-b37e-889e46169e9f",
   "metadata": {},
   "outputs": [
    {
     "data": {
      "text/plain": [
       "['__class__',\n",
       " '__class_getitem__',\n",
       " '__contains__',\n",
       " '__delattr__',\n",
       " '__delitem__',\n",
       " '__dir__',\n",
       " '__doc__',\n",
       " '__eq__',\n",
       " '__format__',\n",
       " '__ge__',\n",
       " '__getattribute__',\n",
       " '__getitem__',\n",
       " '__getstate__',\n",
       " '__gt__',\n",
       " '__hash__',\n",
       " '__init__',\n",
       " '__init_subclass__',\n",
       " '__ior__',\n",
       " '__iter__',\n",
       " '__le__',\n",
       " '__len__',\n",
       " '__lt__',\n",
       " '__ne__',\n",
       " '__new__',\n",
       " '__or__',\n",
       " '__reduce__',\n",
       " '__reduce_ex__',\n",
       " '__repr__',\n",
       " '__reversed__',\n",
       " '__ror__',\n",
       " '__setattr__',\n",
       " '__setitem__',\n",
       " '__sizeof__',\n",
       " '__str__',\n",
       " '__subclasshook__',\n",
       " 'clear',\n",
       " 'copy',\n",
       " 'fromkeys',\n",
       " 'get',\n",
       " 'items',\n",
       " 'keys',\n",
       " 'pop',\n",
       " 'popitem',\n",
       " 'setdefault',\n",
       " 'update',\n",
       " 'values']"
      ]
     },
     "execution_count": 38,
     "metadata": {},
     "output_type": "execute_result"
    }
   ],
   "source": [
    "dir(dict)"
   ]
  },
  {
   "cell_type": "code",
   "execution_count": 46,
   "id": "2b5ced74-8402-4a1b-8406-e5000e7345e5",
   "metadata": {},
   "outputs": [
    {
     "data": {
      "text/plain": [
       "['__class__',\n",
       " '__class_getitem__',\n",
       " '__contains__',\n",
       " '__delattr__',\n",
       " '__delitem__',\n",
       " '__dict__',\n",
       " '__dir__',\n",
       " '__doc__',\n",
       " '__eq__',\n",
       " '__format__',\n",
       " '__ge__',\n",
       " '__getattr__',\n",
       " '__getattribute__',\n",
       " '__getitem__',\n",
       " '__getstate__',\n",
       " '__gt__',\n",
       " '__hash__',\n",
       " '__init__',\n",
       " '__init_subclass__',\n",
       " '__ior__',\n",
       " '__iter__',\n",
       " '__le__',\n",
       " '__len__',\n",
       " '__lt__',\n",
       " '__module__',\n",
       " '__ne__',\n",
       " '__new__',\n",
       " '__or__',\n",
       " '__reduce__',\n",
       " '__reduce_ex__',\n",
       " '__repr__',\n",
       " '__reversed__',\n",
       " '__ror__',\n",
       " '__setattr__',\n",
       " '__setitem__',\n",
       " '__sizeof__',\n",
       " '__str__',\n",
       " '__subclasshook__',\n",
       " '__weakref__',\n",
       " 'clear',\n",
       " 'copy',\n",
       " 'fromkeys',\n",
       " 'get',\n",
       " 'items',\n",
       " 'keys',\n",
       " 'param1',\n",
       " 'param2',\n",
       " 'param3',\n",
       " 'param4',\n",
       " 'pop',\n",
       " 'popitem',\n",
       " 'setdefault',\n",
       " 'update',\n",
       " 'values']"
      ]
     },
     "execution_count": 46,
     "metadata": {},
     "output_type": "execute_result"
    }
   ],
   "source": [
    "dir(dotdict_test)"
   ]
  },
  {
   "cell_type": "code",
   "execution_count": 61,
   "id": "2fb0358b-c247-4d5b-aff8-99d8d5f7c125",
   "metadata": {},
   "outputs": [
    {
     "data": {
      "text/plain": [
       "mappingproxy({'__new__': <function dict.__new__(*args, **kwargs)>,\n",
       "              '__repr__': <slot wrapper '__repr__' of 'dict' objects>,\n",
       "              '__hash__': None,\n",
       "              '__getattribute__': <slot wrapper '__getattribute__' of 'dict' objects>,\n",
       "              '__lt__': <slot wrapper '__lt__' of 'dict' objects>,\n",
       "              '__le__': <slot wrapper '__le__' of 'dict' objects>,\n",
       "              '__eq__': <slot wrapper '__eq__' of 'dict' objects>,\n",
       "              '__ne__': <slot wrapper '__ne__' of 'dict' objects>,\n",
       "              '__gt__': <slot wrapper '__gt__' of 'dict' objects>,\n",
       "              '__ge__': <slot wrapper '__ge__' of 'dict' objects>,\n",
       "              '__iter__': <slot wrapper '__iter__' of 'dict' objects>,\n",
       "              '__init__': <slot wrapper '__init__' of 'dict' objects>,\n",
       "              '__or__': <slot wrapper '__or__' of 'dict' objects>,\n",
       "              '__ror__': <slot wrapper '__ror__' of 'dict' objects>,\n",
       "              '__ior__': <slot wrapper '__ior__' of 'dict' objects>,\n",
       "              '__len__': <slot wrapper '__len__' of 'dict' objects>,\n",
       "              '__getitem__': <method '__getitem__' of 'dict' objects>,\n",
       "              '__setitem__': <slot wrapper '__setitem__' of 'dict' objects>,\n",
       "              '__delitem__': <slot wrapper '__delitem__' of 'dict' objects>,\n",
       "              '__contains__': <method '__contains__' of 'dict' objects>,\n",
       "              '__sizeof__': <method '__sizeof__' of 'dict' objects>,\n",
       "              'get': <method 'get' of 'dict' objects>,\n",
       "              'setdefault': <method 'setdefault' of 'dict' objects>,\n",
       "              'pop': <method 'pop' of 'dict' objects>,\n",
       "              'popitem': <method 'popitem' of 'dict' objects>,\n",
       "              'keys': <method 'keys' of 'dict' objects>,\n",
       "              'items': <method 'items' of 'dict' objects>,\n",
       "              'values': <method 'values' of 'dict' objects>,\n",
       "              'update': <method 'update' of 'dict' objects>,\n",
       "              'fromkeys': <method 'fromkeys' of 'dict' objects>,\n",
       "              'clear': <method 'clear' of 'dict' objects>,\n",
       "              'copy': <method 'copy' of 'dict' objects>,\n",
       "              '__reversed__': <method '__reversed__' of 'dict' objects>,\n",
       "              '__class_getitem__': <method '__class_getitem__' of 'dict' objects>,\n",
       "              '__doc__': \"dict() -> new empty dictionary\\ndict(mapping) -> new dictionary initialized from a mapping object's\\n    (key, value) pairs\\ndict(iterable) -> new dictionary initialized as if via:\\n    d = {}\\n    for k, v in iterable:\\n        d[k] = v\\ndict(**kwargs) -> new dictionary initialized with the name=value pairs\\n    in the keyword argument list.  For example:  dict(one=1, two=2)\"})"
      ]
     },
     "execution_count": 61,
     "metadata": {},
     "output_type": "execute_result"
    }
   ],
   "source": [
    "vars(dict)"
   ]
  },
  {
   "cell_type": "code",
   "execution_count": 52,
   "id": "cefe5087-f7f6-4f35-9070-b6b9d2dd6f7a",
   "metadata": {},
   "outputs": [
    {
     "ename": "TypeError",
     "evalue": "vars() argument must have __dict__ attribute",
     "output_type": "error",
     "traceback": [
      "\u001b[1;31m---------------------------------------------------------------------------\u001b[0m",
      "\u001b[1;31mTypeError\u001b[0m                                 Traceback (most recent call last)",
      "Cell \u001b[1;32mIn[52], line 2\u001b[0m\n\u001b[0;32m      1\u001b[0m dict_test \u001b[38;5;241m=\u001b[39m {\u001b[38;5;124m\"\u001b[39m\u001b[38;5;124mlol\u001b[39m\u001b[38;5;124m\"\u001b[39m: \u001b[38;5;124m\"\u001b[39m\u001b[38;5;124mhaha\u001b[39m\u001b[38;5;124m\"\u001b[39m}\n\u001b[1;32m----> 2\u001b[0m \u001b[38;5;28mvars\u001b[39m(dict_test)\n",
      "\u001b[1;31mTypeError\u001b[0m: vars() argument must have __dict__ attribute"
     ]
    }
   ],
   "source": [
    "dict_test = {\"lol\": \"haha\"}\n",
    "vars(dict_test)"
   ]
  },
  {
   "cell_type": "code",
   "execution_count": 53,
   "id": "f8dcd46c-3c0f-42d2-ac6e-017871fb2c2a",
   "metadata": {},
   "outputs": [
    {
     "data": {
      "text/plain": [
       "{}"
      ]
     },
     "execution_count": 53,
     "metadata": {},
     "output_type": "execute_result"
    }
   ],
   "source": [
    "vars(dotdict_test)"
   ]
  },
  {
   "cell_type": "code",
   "execution_count": 54,
   "id": "690dec13-e551-460b-9891-53017b2b3e4c",
   "metadata": {},
   "outputs": [
    {
     "data": {
      "text/plain": [
       "mappingproxy({'__module__': '__main__',\n",
       "              '__doc__': '\\n    Allows handling dictionaries with the \"dot\" notation.\\n    ',\n",
       "              '__init__': <function __main__.DotDict.__init__(self, *args, _check: bool = True, **kwargs)>,\n",
       "              '__getitem__': <function __main__.DotDict.__getitem__(self, key: str) -> Optional[Any]>,\n",
       "              '__getattr__': <function __main__.DotDict.__getitem__(self, key: str) -> Optional[Any]>,\n",
       "              '__setitem__': <function __main__.DotDict.__setitem__(self, key: str, value: Optional[Any])>,\n",
       "              '__setattr__': <function __main__.DotDict.__setitem__(self, key: str, value: Optional[Any])>,\n",
       "              '__delitem__': <function __main__.DotDict.__delitem__(self, key: str)>,\n",
       "              '__delattr__': <function __main__.DotDict.__delitem__(self, key: str)>,\n",
       "              '__dir__': <function __main__.DotDict.__dir__(self) -> list[str]>,\n",
       "              '__dict__': <attribute '__dict__' of 'DotDict' objects>,\n",
       "              '__weakref__': <attribute '__weakref__' of 'DotDict' objects>})"
      ]
     },
     "execution_count": 54,
     "metadata": {},
     "output_type": "execute_result"
    }
   ],
   "source": [
    "vars(DotDict)"
   ]
  },
  {
   "cell_type": "code",
   "execution_count": 56,
   "id": "2e55c336-84ca-447c-be7e-9ae34fd84da5",
   "metadata": {},
   "outputs": [
    {
     "ename": "TypeError",
     "evalue": "vars() argument must have __dict__ attribute",
     "output_type": "error",
     "traceback": [
      "\u001b[1;31m---------------------------------------------------------------------------\u001b[0m",
      "\u001b[1;31mTypeError\u001b[0m                                 Traceback (most recent call last)",
      "Cell \u001b[1;32mIn[56], line 2\u001b[0m\n\u001b[0;32m      1\u001b[0m list_test \u001b[38;5;241m=\u001b[39m [\u001b[38;5;241m1\u001b[39m,\u001b[38;5;241m2\u001b[39m,\u001b[38;5;241m3\u001b[39m]\n\u001b[1;32m----> 2\u001b[0m \u001b[38;5;28mvars\u001b[39m(list_test)\n",
      "\u001b[1;31mTypeError\u001b[0m: vars() argument must have __dict__ attribute"
     ]
    }
   ],
   "source": [
    "list_test = [1,2,3]\n",
    "vars(list_test)"
   ]
  },
  {
   "cell_type": "code",
   "execution_count": 128,
   "id": "0190fbd6-b589-4fb8-a330-ca846e989fbd",
   "metadata": {},
   "outputs": [
    {
     "data": {
      "text/plain": [
       "['__class__',\n",
       " '__delattr__',\n",
       " '__dict__',\n",
       " '__dir__',\n",
       " '__doc__',\n",
       " '__eq__',\n",
       " '__format__',\n",
       " '__ge__',\n",
       " '__getattribute__',\n",
       " '__getstate__',\n",
       " '__gt__',\n",
       " '__hash__',\n",
       " '__init__',\n",
       " '__init_subclass__',\n",
       " '__le__',\n",
       " '__lt__',\n",
       " '__module__',\n",
       " '__ne__',\n",
       " '__new__',\n",
       " '__reduce__',\n",
       " '__reduce_ex__',\n",
       " '__repr__',\n",
       " '__setattr__',\n",
       " '__sizeof__',\n",
       " '__str__',\n",
       " '__subclasshook__',\n",
       " '__weakref__']"
      ]
     },
     "execution_count": 128,
     "metadata": {},
     "output_type": "execute_result"
    }
   ],
   "source": [
    "class Test:\n",
    "    pass\n",
    "\n",
    "object_test = Test()\n",
    "dir(object_test)"
   ]
  },
  {
   "cell_type": "code",
   "execution_count": 129,
   "id": "fc4e8f53-0374-4fb7-81a4-595090f30fd7",
   "metadata": {},
   "outputs": [
    {
     "data": {
      "text/plain": [
       "{}"
      ]
     },
     "execution_count": 129,
     "metadata": {},
     "output_type": "execute_result"
    }
   ],
   "source": [
    "vars(object_test)"
   ]
  },
  {
   "cell_type": "code",
   "execution_count": 130,
   "id": "8470d588-ebcd-4172-8996-775b16b56b22",
   "metadata": {},
   "outputs": [
    {
     "data": {
      "text/plain": [
       "{'b': 2}"
      ]
     },
     "execution_count": 130,
     "metadata": {},
     "output_type": "execute_result"
    }
   ],
   "source": [
    "object_test.b = 2\n",
    "object_test.__dict__"
   ]
  },
  {
   "cell_type": "code",
   "execution_count": 131,
   "id": "d330dce6-becb-45dd-8205-27641bfb0cfc",
   "metadata": {},
   "outputs": [
    {
     "name": "stdout",
     "output_type": "stream",
     "text": [
      "3 18\n"
     ]
    }
   ],
   "source": [
    "object_test.__dict__[\"b\"] = 3\n",
    "object_test.__dict__[\"c\"] = 18\n",
    "print(object_test.b, object_test.c)"
   ]
  },
  {
   "cell_type": "code",
   "execution_count": 132,
   "id": "6f0173a0-27e5-4c61-867b-bc3e1c6d527c",
   "metadata": {},
   "outputs": [
    {
     "data": {
      "text/plain": [
       "-5"
      ]
     },
     "execution_count": 132,
     "metadata": {},
     "output_type": "execute_result"
    }
   ],
   "source": [
    "vars(object_test)[\"d\"] = -5\n",
    "object_test.d"
   ]
  },
  {
   "cell_type": "code",
   "execution_count": 133,
   "id": "68d3cedc-6bbd-4174-a7ff-f5a750379ec9",
   "metadata": {},
   "outputs": [
    {
     "ename": "AttributeError",
     "evalue": "'Test' object has no attribute 'c'",
     "output_type": "error",
     "traceback": [
      "\u001b[1;31m---------------------------------------------------------------------------\u001b[0m",
      "\u001b[1;31mAttributeError\u001b[0m                            Traceback (most recent call last)",
      "Cell \u001b[1;32mIn[133], line 4\u001b[0m\n\u001b[0;32m      2\u001b[0m \u001b[38;5;28;01mdel\u001b[39;00m \u001b[38;5;28mvars\u001b[39m(object_test)[\u001b[38;5;124m\"\u001b[39m\u001b[38;5;124md\u001b[39m\u001b[38;5;124m\"\u001b[39m]\n\u001b[0;32m      3\u001b[0m \u001b[38;5;28;01mdel\u001b[39;00m object_test\u001b[38;5;241m.\u001b[39m\u001b[38;5;18m__dict__\u001b[39m[\u001b[38;5;124m\"\u001b[39m\u001b[38;5;124mc\u001b[39m\u001b[38;5;124m\"\u001b[39m]\n\u001b[1;32m----> 4\u001b[0m object_test\u001b[38;5;241m.\u001b[39mc\n",
      "\u001b[1;31mAttributeError\u001b[0m: 'Test' object has no attribute 'c'"
     ]
    }
   ],
   "source": [
    "# delete an attribute with vars and __dict___ ?\n",
    "del vars(object_test)[\"d\"]\n",
    "del object_test.__dict__[\"c\"]\n",
    "object_test.c"
   ]
  },
  {
   "cell_type": "code",
   "execution_count": null,
   "id": "d8247e21-0888-471b-9063-902e5cec15eb",
   "metadata": {},
   "outputs": [],
   "source": []
  },
  {
   "cell_type": "code",
   "execution_count": null,
   "id": "3b5c8162-d980-454c-8116-8af88ff8f034",
   "metadata": {},
   "outputs": [],
   "source": []
  },
  {
   "cell_type": "code",
   "execution_count": null,
   "id": "ea47f9ff-dac4-444f-926e-2da810abfc25",
   "metadata": {},
   "outputs": [],
   "source": []
  },
  {
   "cell_type": "code",
   "execution_count": 114,
   "id": "7e2ab85c-902c-453b-ae95-569f028c7d02",
   "metadata": {},
   "outputs": [
    {
     "name": "stdout",
     "output_type": "stream",
     "text": [
      "a 1\n",
      "b 2\n"
     ]
    }
   ],
   "source": [
    "dict_test = {\"a\": 1, \"b\": 2}\n",
    "for (key, item) in dict_test.items():\n",
    "    print(key, item)"
   ]
  },
  {
   "cell_type": "code",
   "execution_count": null,
   "id": "d960381a-8323-4098-8e18-6608fb953eb5",
   "metadata": {},
   "outputs": [],
   "source": []
  },
  {
   "cell_type": "code",
   "execution_count": null,
   "id": "9e6661ad-f733-40f2-b435-b27b0ff4b333",
   "metadata": {},
   "outputs": [],
   "source": []
  },
  {
   "cell_type": "code",
   "execution_count": null,
   "id": "5bf2ad55-d9ac-4152-8107-5d74995012f8",
   "metadata": {},
   "outputs": [],
   "source": []
  }
 ],
 "metadata": {
  "kernelspec": {
   "display_name": "Python 3 (ipykernel)",
   "language": "python",
   "name": "python3"
  },
  "language_info": {
   "codemirror_mode": {
    "name": "ipython",
    "version": 3
   },
   "file_extension": ".py",
   "mimetype": "text/x-python",
   "name": "python",
   "nbconvert_exporter": "python",
   "pygments_lexer": "ipython3",
   "version": "3.11.3"
  }
 },
 "nbformat": 4,
 "nbformat_minor": 5
}
