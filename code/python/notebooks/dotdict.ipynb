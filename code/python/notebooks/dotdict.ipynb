{
 "cells": [
  {
   "cell_type": "markdown",
   "id": "3d3a0db4-82ff-4d05-807b-7adcb4fe426c",
   "metadata": {
    "tags": []
   },
   "source": [
    "# DotDict class\n",
    "\n",
    "What I want it to do:\n",
    "- works with any dictionary whose keys are strings (and whose nested dictionaries keys are strings as well)\n",
    "- `dotdict_test = DotDict(dict_test)` gives a DotDict object, `dict_test = dict(dotdict_test)` gives back the dictionary\n",
    "- can access the entries through the \"dot\" notation AND the regular dictionary index\n",
    "- setting / accessing / deleting an attribute sets / accesses / deletes the same entry in the dictionary\n",
    "- can create an empty dotdict with `DotDict()`\n",
    "\n",
    "initialise:\n",
    "- `dotdict_test = DotDict(my_dict)`\n",
    "- `empty_dotdict = DotDict()`\n",
    "\n",
    "retrieve the dictionary: `my_dict = dict(dotdict_test)`\n",
    "\n",
    "JSON-like print: `print(dotdict_test)`\n",
    "\n",
    "`DotDict(eval(str(dotdict_test)))` returns the same DotDict object for dictionaries whose types themselves work with eval\n",
    "\n",
    "look for key/attribute:\n",
    "- `hasattr(dotdict.a.b, c)`\n",
    "- `\"c in dotdict.a.b\"`\n",
    "- `\"c\" in dotdict.a.b.keys()`\n",
    "- `\"c in list(dotdict.a.b)\"`\n",
    "- `\"c\" in dir(dotdict.a.b)` (`dir` will list `dict` and `DotDict` methods as well)\n",
    "\n",
    "get:\n",
    "- `dotdict.a.b.c`\n",
    "- `dotdict[\"a\"][\"b\"][\"c\"]`\n",
    "- `dotdict.a[\"b\"].c`\n",
    "- `getattr(dotdict.a.b, c)`\n",
    "\n",
    "set:\n",
    "- `dotdict.a.b.c = 0`\n",
    "\n",
    "delete:\n",
    "- `dotdict.clear()` empties the DotDict object\n",
    "\n",
    "TODO:\n",
    "- setting items is not recursive => OK\n",
    "- make it work with any type of mapping, not just dicts ? => needs to work recursively => OK\n",
    "- test deleting\n",
    "- add a copy method ? => return a shallow copy of DotDict ? => OK\n",
    "- add pretty prints when called by `print` => OK\n",
    "- check that every method of `dict` is working as expected\n",
    "- create new nice template for docstrings"
   ]
  },
  {
   "cell_type": "code",
   "execution_count": 1,
   "id": "c41bd575-39fe-4bc6-9578-d514c0e29cfc",
   "metadata": {},
   "outputs": [],
   "source": [
    "import IPython\n",
    "\n",
    "# IPython.Application.instance().kernel.do_shutdown(True)\n",
    "# dir(IPython.Application.instance().kernel)"
   ]
  },
  {
   "cell_type": "markdown",
   "id": "385e4e72-1f23-432f-9d02-86b8c473b730",
   "metadata": {},
   "source": [
    "```python\n",
    "(collections.abc.ValuesView,\n",
    " collections.abc.MappingView,\n",
    " collections.abc.Collection,\n",
    " collections.abc.Sized,\n",
    " collections.abc.Iterable,\n",
    " collections.abc.Container,\n",
    " object)\n",
    "```"
   ]
  },
  {
   "cell_type": "code",
   "execution_count": 2,
   "id": "33a71f67-ab73-49c6-be8b-3ca11ae46e4f",
   "metadata": {},
   "outputs": [],
   "source": [
    "# %reset -f\n",
    "from pathlib import Path\n",
    "import sys\n",
    "from types import MappingProxyType\n",
    "from collections.abc import ItemsView, ValuesView, Container, Iterator, Mapping, Mapping\n",
    "# ValuesView parent classes\n",
    "from collections.abc import MappingView, Collection, Sized, Iterable\n",
    "\n",
    "# ROOT_DIR_PATH = str(Path(__file__).resolve().parent)\n",
    "ROOT_DIR_PATH = str(Path.cwd().resolve().parent)\n",
    "if ROOT_DIR_PATH not in sys.path:\n",
    "    sys.path.insert(0, ROOT_DIR_PATH)\n",
    "\n",
    "from dotdict import DotDict, DotDictValues"
   ]
  },
  {
   "cell_type": "markdown",
   "id": "1ac145f9-6a43-42d1-bb30-b16b0338eb6e",
   "metadata": {},
   "source": [
    "## basic tests"
   ]
  },
  {
   "cell_type": "code",
   "execution_count": 3,
   "id": "b89950ca-f1aa-4b43-9892-7b0a8ff011eb",
   "metadata": {},
   "outputs": [
    {
     "name": "stdout",
     "output_type": "stream",
     "text": [
      "__init__ call\n",
      "__str__ call\n",
      "{\n",
      "    'a': {\n",
      "        'foo': 'bar'\n",
      "    },\n",
      "    'b': {\n",
      "        'lol': 'kekw',\n",
      "        'hehe': 'haha'\n",
      "    },\n",
      "    'c': {}\n",
      "}\n"
     ]
    }
   ],
   "source": [
    "# standard dict\n",
    "test_dict = {'a': {'foo': 'bar'}, 'b': {'lol': 'kekw', 'hehe': 'haha'}, 'c': {}}\n",
    "test = DotDict(test_dict, _verbose=True)\n",
    "print(test)"
   ]
  },
  {
   "cell_type": "code",
   "execution_count": 4,
   "id": "c4f35533-5edf-4179-b064-89231270d43b",
   "metadata": {},
   "outputs": [
    {
     "name": "stdout",
     "output_type": "stream",
     "text": [
      "__init__ call\n",
      "__str__ call\n",
      "{}\n",
      "__setitem__ call\n",
      "__setitem__ call\n",
      "__str__ call\n",
      "{\n",
      "    'lol': 3,\n",
      "    'haha': 6\n",
      "}\n"
     ]
    }
   ],
   "source": [
    "# empty DotDict, basic insertion\n",
    "test = DotDict(_verbose=True)\n",
    "print(test)\n",
    "test.lol = 3\n",
    "test[\"haha\"] = 6\n",
    "print(test)"
   ]
  },
  {
   "cell_type": "code",
   "execution_count": 5,
   "id": "10164a82-982e-49d7-b8c3-5c2eed569cdf",
   "metadata": {},
   "outputs": [
    {
     "name": "stdout",
     "output_type": "stream",
     "text": [
      "__dict__ call\n",
      "_view call\n"
     ]
    },
    {
     "data": {
      "text/plain": [
       "mappingproxy({'lol': 3, 'haha': 6})"
      ]
     },
     "execution_count": 5,
     "metadata": {},
     "output_type": "execute_result"
    }
   ],
   "source": [
    "# vars, dict as MappingProxyType objects\n",
    "vars(test)"
   ]
  },
  {
   "cell_type": "code",
   "execution_count": 6,
   "id": "d68ece50-36a3-416e-ac00-e8709a97e219",
   "metadata": {},
   "outputs": [
    {
     "name": "stdout",
     "output_type": "stream",
     "text": [
      "__dict__ call\n",
      "_view call\n"
     ]
    },
    {
     "data": {
      "text/plain": [
       "mappingproxy({'lol': 3, 'haha': 6})"
      ]
     },
     "execution_count": 6,
     "metadata": {},
     "output_type": "execute_result"
    }
   ],
   "source": [
    "test.__dict__"
   ]
  },
  {
   "cell_type": "code",
   "execution_count": 7,
   "id": "46487626-da0f-4360-a90d-8ee6cafb072e",
   "metadata": {},
   "outputs": [
    {
     "name": "stdout",
     "output_type": "stream",
     "text": [
      "None\n",
      "None\n",
      "_view call\n",
      "{'lol': 3, 'haha': 6}\n",
      "True\n"
     ]
    }
   ],
   "source": [
    "# _root and _path_to_root accessible but not protected from rewrites\n",
    "print(test._root)\n",
    "print(test._path_to_root)\n",
    "print(test._view)\n",
    "print(test._verbose)"
   ]
  },
  {
   "cell_type": "code",
   "execution_count": 8,
   "id": "20201904-6c7e-4251-b00a-601c13ce6ba5",
   "metadata": {},
   "outputs": [
    {
     "name": "stdout",
     "output_type": "stream",
     "text": [
      "{'lol': 3, 'haha': 6}\n"
     ]
    }
   ],
   "source": [
    "# get the dict back\n",
    "print(dict(test))"
   ]
  },
  {
   "cell_type": "code",
   "execution_count": 9,
   "id": "40b448e3-7cbc-4534-80db-b9283338af5e",
   "metadata": {},
   "outputs": [],
   "source": [
    "# test._root = 2\n",
    "# test[\"_path_to_root\"] = \"prout\""
   ]
  },
  {
   "cell_type": "code",
   "execution_count": 10,
   "id": "2eba88cf-b220-4876-a88a-dc786a962f04",
   "metadata": {},
   "outputs": [
    {
     "name": "stdout",
     "output_type": "stream",
     "text": [
      "lol\n",
      "haha\n"
     ]
    }
   ],
   "source": [
    "# __iter__\n",
    "for item in iter(test):\n",
    "    print(item)"
   ]
  },
  {
   "cell_type": "code",
   "execution_count": 11,
   "id": "0b7d6088-61ea-4077-8811-052f1213c7a6",
   "metadata": {},
   "outputs": [
    {
     "name": "stdout",
     "output_type": "stream",
     "text": [
      "haha\n",
      "lol\n"
     ]
    }
   ],
   "source": [
    "# __reversed__\n",
    "for item in reversed(test):\n",
    "    print(item)"
   ]
  },
  {
   "cell_type": "code",
   "execution_count": 12,
   "id": "bb867bf3-7704-439c-991f-0d8a25e85fb2",
   "metadata": {},
   "outputs": [
    {
     "name": "stdout",
     "output_type": "stream",
     "text": [
      "{\n",
      "    'blbl': 'lol',\n",
      "    'stuff': 74,\n",
      "    'null_value': None\n",
      "}\n",
      "None\n"
     ]
    }
   ],
   "source": [
    "# weird DotDict instanciation\n",
    "test = DotDict(blbl=\"lol\", stuff=74, null_value=None)\n",
    "print(test)\n",
    "print(test.null_value)\n",
    "# print(vars(test))"
   ]
  },
  {
   "cell_type": "code",
   "execution_count": 13,
   "id": "a0dafb33-f560-445d-ac75-a913c5672046",
   "metadata": {},
   "outputs": [
    {
     "name": "stdout",
     "output_type": "stream",
     "text": [
      "{\n",
      "    'lol': [\n",
      "        [\n",
      "            'foo',\n",
      "            'bar'\n",
      "        ],\n",
      "        [\n",
      "            1,\n",
      "            2\n",
      "        ]\n",
      "    ],\n",
      "    'haha': 'abc'\n",
      "}\n"
     ]
    }
   ],
   "source": [
    "# another weird DotDict instanciation\n",
    "test = DotDict({\n",
    "    \"lol\": [[\"foo\", \"bar\"], [1,2]],\n",
    "    \"haha\": \"abc\"\n",
    "})\n",
    "print(test)"
   ]
  },
  {
   "cell_type": "code",
   "execution_count": 14,
   "id": "c26ba842-29eb-4b71-89c0-5d514dce891d",
   "metadata": {},
   "outputs": [
    {
     "name": "stdout",
     "output_type": "stream",
     "text": [
      "<class 'list'>\n",
      "{'lol': [['foo', 'bar'], [1, 2]], 'haha': 'abc'}\n"
     ]
    }
   ],
   "source": [
    "# dict(dotdict_object) returns the dictionary\n",
    "dict_test_returned = dict(test)\n",
    "print(type(dict_test_returned[\"lol\"]))\n",
    "print(dict_test_returned)"
   ]
  },
  {
   "cell_type": "code",
   "execution_count": 15,
   "id": "774bd2c3-f7fd-436f-bd13-15fccc22c138",
   "metadata": {},
   "outputs": [
    {
     "name": "stdout",
     "output_type": "stream",
     "text": [
      "{'lol': [['foo', 'bar'], [1, 2]], 'haha': 'abc'}\n",
      "<class 'dict'>\n"
     ]
    }
   ],
   "source": [
    "# eval(str(dotdict_object)) returns the dictionary\n",
    "dict_test_returned = eval(str(test))\n",
    "print(dict_test_returned)\n",
    "print(type(dict_test_returned))"
   ]
  },
  {
   "cell_type": "code",
   "execution_count": 16,
   "id": "8eba2f45-ffe8-4908-9b02-80b8e0a493b7",
   "metadata": {},
   "outputs": [
    {
     "name": "stdout",
     "output_type": "stream",
     "text": [
      "__init__ call\n",
      "True\n",
      "__init__ call\n",
      "True\n"
     ]
    }
   ],
   "source": [
    "# __eq__\n",
    "test = {\"a\": 1}\n",
    "print(test == DotDict(test, _verbose=True))\n",
    "print(DotDict(test, _verbose=True) == test)"
   ]
  },
  {
   "cell_type": "markdown",
   "id": "94546f03-a275-4335-8ee6-5851175c797e",
   "metadata": {},
   "source": [
    "## init test DotDict objects"
   ]
  },
  {
   "cell_type": "code",
   "execution_count": 17,
   "id": "15613e3f-c274-4af2-9056-74c6c50dd1a4",
   "metadata": {},
   "outputs": [
    {
     "name": "stdout",
     "output_type": "stream",
     "text": [
      "__init__ call\n",
      "__str__ call\n",
      "{\n",
      "    'param_1': 'great',\n",
      "    'param2': 2,\n",
      "    'param3': {\n",
      "        'subparam': -5.2\n",
      "    },\n",
      "    'param4': [\n",
      "        6,\n",
      "        1,\n",
      "        2\n",
      "    ],\n",
      "    'lol': 'haha'\n",
      "}\n"
     ]
    }
   ],
   "source": [
    "dict_test = {\n",
    "    \"param_1\": \"great\",\n",
    "    \"param2\": 2,\n",
    "    # \"_lol\": \"lol\",\n",
    "    # \"items\": [\"a\", \"b\", \"c\"],\n",
    "    \"param3\": {\n",
    "        \"subparam\": -5.2,\n",
    "        # \"2\": \"lol\",\n",
    "        # 1: \"haha\"\n",
    "    },\n",
    "    \"param4\": [6,1,2],\n",
    "    \"lol\": \"haha\"\n",
    "}\n",
    "dotdict_test_1 = DotDict(dict_test, _verbose=True)\n",
    "print(dotdict_test_1)"
   ]
  },
  {
   "cell_type": "code",
   "execution_count": 18,
   "id": "2d059e60-a5f6-4d1e-9392-395eb6eb1559",
   "metadata": {},
   "outputs": [
    {
     "name": "stdout",
     "output_type": "stream",
     "text": [
      "__repr__ call\n",
      "DotDict({'param_1': 'great', 'param2': 2, 'param3': {'subparam': -5.2}, 'param4': [6, 1, 2], 'lol': 'haha'})\n"
     ]
    }
   ],
   "source": [
    "print(repr(dotdict_test_1))"
   ]
  },
  {
   "cell_type": "code",
   "execution_count": 19,
   "id": "54b37d0d-7266-422d-aec7-8f5eecdc59c9",
   "metadata": {},
   "outputs": [
    {
     "name": "stdout",
     "output_type": "stream",
     "text": [
      "__repr__ call\n"
     ]
    },
    {
     "data": {
      "text/plain": [
       "True"
      ]
     },
     "execution_count": 19,
     "metadata": {},
     "output_type": "execute_result"
    }
   ],
   "source": [
    "# goodness me\n",
    "eval(repr(dotdict_test_1)) == dotdict_test_1"
   ]
  },
  {
   "cell_type": "code",
   "execution_count": 20,
   "id": "dfc882ab-236c-4449-bfb2-e51e3e33c048",
   "metadata": {},
   "outputs": [
    {
     "name": "stdout",
     "output_type": "stream",
     "text": [
      "__repr__ call\n"
     ]
    },
    {
     "data": {
      "text/plain": [
       "False"
      ]
     },
     "execution_count": 20,
     "metadata": {},
     "output_type": "execute_result"
    }
   ],
   "source": [
    "eval(repr(dotdict_test_1)) == test"
   ]
  },
  {
   "cell_type": "code",
   "execution_count": 21,
   "id": "ea15bd1c-813b-4256-99c5-f478ef1d5a98",
   "metadata": {},
   "outputs": [
    {
     "name": "stdout",
     "output_type": "stream",
     "text": [
      "{\n",
      "    'first': {\n",
      "        'a': 0,\n",
      "        'b': 1,\n",
      "        'c': 2\n",
      "    },\n",
      "    'second': {\n",
      "        'a': 0,\n",
      "        'b': 1,\n",
      "        'c': 2\n",
      "    },\n",
      "    'third': {\n",
      "        'a': {\n",
      "            'name': 'lol',\n",
      "            'path': './'\n",
      "        },\n",
      "        'b': {\n",
      "            'name': 'foo',\n",
      "            'path': './bar/'\n",
      "        },\n",
      "        'c': 2\n",
      "    }\n",
      "}\n",
      "<class 'dotdict.DotDict'>\n"
     ]
    }
   ],
   "source": [
    "# replace mappings with dicts when added\n",
    "dotdict_1 = DotDict({\n",
    "    \"a\": 0,\n",
    "    \"b\": 1,\n",
    "    \"c\": 2\n",
    "})\n",
    "dotdict_2 = DotDict({\n",
    "    \"a\": 0,\n",
    "    \"b\": 1,\n",
    "    \"c\": 2\n",
    "})\n",
    "dotdict_3 = MappingProxyType({\n",
    "    \"a\": {\n",
    "        \"name\": \"lol\",\n",
    "        \"path\": \"./\"\n",
    "    },\n",
    "    \"b\": {\n",
    "        \"name\": \"foo\",\n",
    "        \"path\": \"./bar/\"\n",
    "    },\n",
    "    \"c\": 2\n",
    "})\n",
    "dict_dotdict = {\n",
    "    \"first\": dotdict_1,\n",
    "    \"second\": dotdict_2,\n",
    "    \"third\": dotdict_3\n",
    "}\n",
    "dotdict_test_2 = DotDict(dict_dotdict)\n",
    "print(dotdict_test_2)\n",
    "print(type(dotdict_test_2.third))"
   ]
  },
  {
   "cell_type": "markdown",
   "id": "5ef6fd80-a136-4818-a399-b60bbcde3b5e",
   "metadata": {},
   "source": [
    "## get values"
   ]
  },
  {
   "cell_type": "code",
   "execution_count": 22,
   "id": "4ab016bb-223d-4565-9984-fcac0984f052",
   "metadata": {
    "tags": []
   },
   "outputs": [
    {
     "name": "stdout",
     "output_type": "stream",
     "text": [
      "__getitem__ call\n",
      "__init__ call\n",
      "__str__ call\n",
      "{\n",
      "    'subparam': -5.2\n",
      "}\n",
      "__getitem__ call\n",
      "__init__ call\n",
      "<class 'dotdict.DotDict'>\n",
      "__getitem__ call\n",
      "__init__ call\n",
      "<class 'dotdict.DotDict'>\n",
      "__getitem__ call\n",
      "[6, 1, 2]\n",
      "__getitem__ call\n",
      "False\n",
      "__getitem__ call\n",
      "False\n",
      "True\n",
      "__getitem__ call\n",
      "__init__ call\n",
      "True\n",
      "__getitem__ call\n",
      "__init__ call\n",
      "__dict__ call\n",
      "_view call\n",
      "True\n",
      "__getitem__ call\n",
      "__init__ call\n",
      "__getitem__ call\n",
      "-5.2\n",
      "__getitem__ call\n",
      "__init__ call\n",
      "__getitem__ call\n",
      "-5.2\n"
     ]
    }
   ],
   "source": [
    "# accessing values\n",
    "print(dotdict_test_1.param3)\n",
    "print(type(dotdict_test_1.param3))\n",
    "print(type(dotdict_test_1[\"param3\"]))\n",
    "print(dotdict_test_1[\"param4\"])\n",
    "print(hasattr(dotdict_test_1, \"param1\"))\n",
    "print(hasattr(dotdict_test_1, \"fdfd\"))\n",
    "print(\"param2\" in dotdict_test_1.keys())\n",
    "print(\"subparam\" in dotdict_test_1.param3.keys())\n",
    "print(\"subparam\" in dir(dotdict_test_1.param3))\n",
    "print(dotdict_test_1.param3.subparam)\n",
    "print(getattr(dotdict_test_1.param3, \"subparam\"))"
   ]
  },
  {
   "cell_type": "markdown",
   "id": "ac10cb0f-54f7-4506-846f-c972cd84e2ed",
   "metadata": {},
   "source": [
    "## set values"
   ]
  },
  {
   "cell_type": "code",
   "execution_count": 23,
   "id": "54a210de-e0f9-4b13-80a4-3b8805d06a61",
   "metadata": {},
   "outputs": [
    {
     "name": "stdout",
     "output_type": "stream",
     "text": [
      "__setitem__ call\n",
      "__setitem__ call\n",
      "__setitem__ call\n",
      "__str__ call\n",
      "{\n",
      "    'param_1': 'great',\n",
      "    'param2': 2,\n",
      "    'param3': {\n",
      "        'subparam': -5.2\n",
      "    },\n",
      "    'param4': [\n",
      "        6,\n",
      "        1,\n",
      "        2\n",
      "    ],\n",
      "    'lol': 'haha',\n",
      "    'param5': {\n",
      "        1,\n",
      "        2,\n",
      "        3\n",
      "    },\n",
      "    'param6': 'blblblb',\n",
      "    'param7': {\n",
      "        'lol': {\n",
      "            'Lol0': 0\n",
      "        },\n",
      "        'haha': 'prout'\n",
      "    }\n",
      "}\n",
      "##################################################\n",
      "__setitem__ call\n",
      "__getitem__ call\n",
      "__getitem__ call\n",
      "__init__ call\n",
      "__setitem__ call\n",
      "__getitem__ call\n",
      "__init__ call\n",
      "__getitem__ call\n",
      "awesome\n",
      "##################################################\n",
      "__getitem__ call\n",
      "__init__ call\n",
      "__str__ call\n",
      "{\n",
      "    'lol': {\n",
      "        'Lol0': 0\n",
      "    },\n",
      "    'haha': 'awesome'\n",
      "}\n",
      "##################################################\n",
      "<class 'dotdict.DotDict'>\n",
      "##################################################\n",
      "__setitem__ call\n",
      "__str__ call\n",
      "{\n",
      "    'param_1': 'great',\n",
      "    'param2': 2,\n",
      "    'param3': {\n",
      "        'subparam': -5.2\n",
      "    },\n",
      "    'param4': [\n",
      "        -5,\n",
      "        1,\n",
      "        2\n",
      "    ],\n",
      "    'lol': 'haha',\n",
      "    'param5': {\n",
      "        1,\n",
      "        2,\n",
      "        3\n",
      "    },\n",
      "    'param6': 'blblblb',\n",
      "    'param7': {\n",
      "        'lol': {\n",
      "            'Lol0': 0\n",
      "        },\n",
      "        'haha': 'awesome',\n",
      "        'foo': 'bar'\n",
      "    },\n",
      "    'param8': 'toto'\n",
      "}\n",
      "##################################################\n",
      "__str__ call\n",
      "{\n",
      "    'lol': {\n",
      "        'Lol0': 0\n",
      "    },\n",
      "    'haha': 'awesome',\n",
      "    'foo': 'bar'\n",
      "}\n"
     ]
    }
   ],
   "source": [
    "# setting values\n",
    "dotdict_test_1.param5 = {1,2,3}\n",
    "dotdict_test_1[\"param6\"] = \"blblblb\"\n",
    "dotdict_test_1[\"param7\"] = {\n",
    "    \"lol\": {\n",
    "        \"Lol0\": 0,\n",
    "        # \"1\": 2,\n",
    "        # \"_lol3\": 6,\n",
    "        # \"_ABC\": 4\n",
    "        # 2: \"lol\"\n",
    "    },\n",
    "    \"haha\": \"prout\"\n",
    "}\n",
    "print(dotdict_test_1)\n",
    "print(\"#\"*50)\n",
    "setattr(dotdict_test_1, \"param8\", \"toto\")\n",
    "# dotdict_test[\"246\"] = 4\n",
    "dotdict_test_1.param4[0] = -5\n",
    "dotdict_test_1.param7.haha = \"awesome\"\n",
    "print(dotdict_test_1.param7.haha)\n",
    "print(\"#\"*50)\n",
    "sub_dotdict = dotdict_test_1.param7\n",
    "print(sub_dotdict)\n",
    "print(\"#\"*50)\n",
    "print(type(sub_dotdict))\n",
    "print(\"#\"*50)\n",
    "# print(sub_dotdict._root)\n",
    "# print(sub_dotdict._path_to_root)\n",
    "sub_dotdict.foo = \"bar\"\n",
    "print(dotdict_test_1)\n",
    "print(\"#\"*50)\n",
    "print(sub_dotdict)"
   ]
  },
  {
   "cell_type": "markdown",
   "id": "3dec8c17-560c-4b1d-9c24-d3c33449b469",
   "metadata": {},
   "source": [
    "## delete values"
   ]
  },
  {
   "cell_type": "code",
   "execution_count": 24,
   "id": "cd9e6500-4cb1-4e28-a6fe-d0f9337c3ca0",
   "metadata": {},
   "outputs": [
    {
     "name": "stdout",
     "output_type": "stream",
     "text": [
      "__delitem__ call\n",
      "__delitem__ call\n",
      "__delitem__ call\n",
      "__getitem__ call\n",
      "__getitem__ call\n",
      "__getitem__ call\n",
      "__getitem__ call\n",
      "__repr__ call\n",
      "__getitem__ call\n",
      "__getitem__ call\n",
      "__getitem__ call\n",
      "__getitem__ call\n",
      "__getitem__ call\n",
      "__getitem__ call\n",
      "__getitem__ call\n",
      "__getitem__ call\n",
      "__getitem__ call\n",
      "__getitem__ call\n",
      "__getitem__ call\n",
      "__getitem__ call\n",
      "__getitem__ call\n",
      "__getitem__ call\n",
      "__getitem__ call\n",
      "__getitem__ call\n",
      "__getitem__ call\n",
      "__getitem__ call\n"
     ]
    },
    {
     "data": {
      "text/plain": [
       "DotDict({'param_1': 'great', 'param2': 2, 'param3': {'subparam': -5.2}, 'param4': [-5, 1, 2], 'lol': 'haha', 'param8': 'toto'})"
      ]
     },
     "execution_count": 24,
     "metadata": {},
     "output_type": "execute_result"
    }
   ],
   "source": [
    "# delete values\n",
    "delattr(dotdict_test_1, \"param5\")\n",
    "del dotdict_test_1[\"param7\"]\n",
    "del dotdict_test_1.param6\n",
    "dotdict_test_1"
   ]
  },
  {
   "cell_type": "code",
   "execution_count": 25,
   "id": "524193c5-90bb-48d4-8a49-d7c7974fc74c",
   "metadata": {},
   "outputs": [
    {
     "data": {
      "text/plain": [
       "DotDict({'first': {'a': 0, 'b': 1, 'c': 2}, 'second': {'a': 0, 'b': 1, 'c': 2}, 'third': {'a': {'name': 'lol', 'path': './'}, 'c': 2}})"
      ]
     },
     "execution_count": 25,
     "metadata": {},
     "output_type": "execute_result"
    }
   ],
   "source": [
    "# delete more items\n",
    "del dotdict_test_2.third.b\n",
    "dotdict_test_2"
   ]
  },
  {
   "cell_type": "code",
   "execution_count": 26,
   "id": "19934cd3-dac3-41cc-a1d8-072fcca9472d",
   "metadata": {},
   "outputs": [
    {
     "name": "stdout",
     "output_type": "stream",
     "text": [
      "{\n",
      "    'first': {\n",
      "        'a': 0,\n",
      "        'b': 1,\n",
      "        'c': 2\n",
      "    },\n",
      "    'second': {\n",
      "        'a': 0,\n",
      "        'b': 1,\n",
      "        'c': 2\n",
      "    },\n",
      "    'third': {\n",
      "        'a': {\n",
      "            'name': 'lol'\n",
      "        },\n",
      "        'c': 2\n",
      "    }\n",
      "}\n",
      "{\n",
      "    'a': {\n",
      "        'name': 'lol'\n",
      "    },\n",
      "    'c': 2\n",
      "}\n"
     ]
    }
   ],
   "source": [
    "sub_dotdict = dotdict_test_2.third\n",
    "del sub_dotdict.a.path\n",
    "print(dotdict_test_2)\n",
    "print(sub_dotdict)"
   ]
  },
  {
   "cell_type": "markdown",
   "id": "0cd64cb8-f22a-4ed5-9e32-9fffc8650161",
   "metadata": {
    "tags": []
   },
   "source": [
    "## test dict methods"
   ]
  },
  {
   "cell_type": "markdown",
   "id": "2245c3a3-ccf7-47f5-aaae-af5c36ffcf3d",
   "metadata": {},
   "source": [
    "### copy"
   ]
  },
  {
   "cell_type": "markdown",
   "id": "2caefbe5-3969-4056-b009-11778c87fc5d",
   "metadata": {},
   "source": [
    "#### dict behavior"
   ]
  },
  {
   "cell_type": "code",
   "execution_count": 27,
   "id": "33b35595-340c-4e77-84ee-3b01cf62cc43",
   "metadata": {},
   "outputs": [],
   "source": [
    "# dict  behavior\n",
    "dict_test = {\n",
    "    \"a\": 1,\n",
    "    \"b\": 2,\n",
    "    \"c\": 3,\n",
    "    \"d\": {\n",
    "        \"lol\": \"haha\",\n",
    "        \"kekw\": \"prout\",\n",
    "        \"e\": {\n",
    "            \"foo\": \"bar\"\n",
    "        }\n",
    "    }\n",
    "}"
   ]
  },
  {
   "cell_type": "code",
   "execution_count": 28,
   "id": "fe2ed516-b423-407a-a8a9-d57dc146629e",
   "metadata": {},
   "outputs": [
    {
     "name": "stdout",
     "output_type": "stream",
     "text": [
      "{'a': 1, 'b': 2, 'c': 3, 'd': {'lol': 'haha', 'kekw': 'prout', 'e': {'foo': 'bar'}}}\n",
      "{'lol': 'haha', 'kekw': 'prout', 'e': {'foo': 'bar'}}\n"
     ]
    }
   ],
   "source": [
    "# make a copy of a nested element containing nested elements\n",
    "d_copy = dict_test[\"d\"].copy()\n",
    "print(dict_test)\n",
    "print(d_copy)"
   ]
  },
  {
   "cell_type": "code",
   "execution_count": 29,
   "id": "121c8c45-8357-4752-ba4a-6922e73ddec7",
   "metadata": {},
   "outputs": [
    {
     "name": "stdout",
     "output_type": "stream",
     "text": [
      "{'lol': 'haha', 'kekw': 'prout', 'e': {'foo': 'bar', 'new': 'value'}}\n",
      "{'a': 1, 'b': 2, 'c': 3, 'd': {'lol': 'haha', 'kekw': 'prout', 'e': {'foo': 'bar', 'new': 'value'}}}\n"
     ]
    }
   ],
   "source": [
    "# modifying the copy nested elements modifies the original nested elements\n",
    "d_copy[\"e\"][\"new\"] = \"value\"\n",
    "print(d_copy)\n",
    "print(dict_test)"
   ]
  },
  {
   "cell_type": "code",
   "execution_count": 30,
   "id": "9192148e-1b52-42cf-bfad-25cc9c3f34d3",
   "metadata": {},
   "outputs": [
    {
     "name": "stdout",
     "output_type": "stream",
     "text": [
      "{'lol': 'haha', 'kekw': 'prout', 'e': {'foo': 'bar', 'new': 'value', 'newnew': 'VALUE'}}\n",
      "{'a': 1, 'b': 2, 'c': 3, 'd': {'lol': 'haha', 'kekw': 'prout', 'e': {'foo': 'bar', 'new': 'value', 'newnew': 'VALUE'}}}\n"
     ]
    }
   ],
   "source": [
    "# vice versa\n",
    "dict_test[\"d\"][\"e\"][\"newnew\"] = \"VALUE\"\n",
    "print(d_copy)\n",
    "print(dict_test)"
   ]
  },
  {
   "cell_type": "markdown",
   "id": "8b80ee41-80c2-4e3a-815e-d928de8f4653",
   "metadata": {},
   "source": [
    "#### DotDict behavior"
   ]
  },
  {
   "cell_type": "code",
   "execution_count": 31,
   "id": "4c7c3e51-af22-45b9-bcb5-ed6dec549e1d",
   "metadata": {},
   "outputs": [
    {
     "name": "stdout",
     "output_type": "stream",
     "text": [
      "__init__ call\n"
     ]
    }
   ],
   "source": [
    "dotdict_test = DotDict({\n",
    "    \"a\": 1,\n",
    "    \"b\": 2,\n",
    "    \"c\": 3,\n",
    "    \"d\": {\n",
    "        \"lol\": \"haha\",\n",
    "        \"kekw\": \"prout\",\n",
    "        \"e\": {\n",
    "            \"foo\": \"bar\"\n",
    "        }\n",
    "    }\n",
    "}, _verbose=True)"
   ]
  },
  {
   "cell_type": "code",
   "execution_count": 32,
   "id": "b59c287c-0129-4500-8378-1d4b665bc71a",
   "metadata": {
    "tags": []
   },
   "outputs": [
    {
     "name": "stdout",
     "output_type": "stream",
     "text": [
      "copy call\n",
      "__init__ call\n",
      "__setitem__ call\n",
      "__getitem__ call\n",
      "__init__ call\n",
      "__setitem__ call\n",
      "__getitem__ call\n",
      "__init__ call\n",
      "__setitem__ call\n",
      "__str__ call\n",
      "{\n",
      "    'a': 'fgfgf',\n",
      "    'b': 2,\n",
      "    'c': 3,\n",
      "    'd': {\n",
      "        'lol': 10,\n",
      "        'kekw': 'prout',\n",
      "        'e': {\n",
      "            'foo': 'bar'\n",
      "        },\n",
      "        'foo': 'bar'\n",
      "    }\n",
      "}\n",
      "\n",
      "__str__ call\n",
      "{\n",
      "    'a': 1,\n",
      "    'b': 2,\n",
      "    'c': 3,\n",
      "    'd': {\n",
      "        'lol': 10,\n",
      "        'kekw': 'prout',\n",
      "        'e': {\n",
      "            'foo': 'bar'\n",
      "        },\n",
      "        'foo': 'bar'\n",
      "    }\n",
      "}\n",
      "\n",
      "<class 'dotdict.DotDict'>\n"
     ]
    }
   ],
   "source": [
    "# shallow copy test\n",
    "dotdict_test_copy = dotdict_test.copy()\n",
    "# this doesn't change the copy\n",
    "dotdict_test.a = \"fgfgf\"\n",
    "# this does\n",
    "dotdict_test.d[\"lol\"] = 10\n",
    "dotdict_test.d.foo = \"bar\"\n",
    "print(dotdict_test)\n",
    "print()\n",
    "print(dotdict_test_copy)\n",
    "print()\n",
    "print(type(dotdict_test_copy))"
   ]
  },
  {
   "cell_type": "code",
   "execution_count": 33,
   "id": "90aabd43-7f42-4edb-8e14-6a0168a5651c",
   "metadata": {},
   "outputs": [
    {
     "data": {
      "text/plain": [
       "True"
      ]
     },
     "execution_count": 33,
     "metadata": {},
     "output_type": "execute_result"
    }
   ],
   "source": [
    "dotdict_test._verbose"
   ]
  },
  {
   "cell_type": "code",
   "execution_count": 34,
   "id": "58c2cf0b-0e08-4fa5-a235-5334aa94ab26",
   "metadata": {},
   "outputs": [
    {
     "data": {
      "text/plain": [
       "True"
      ]
     },
     "execution_count": 34,
     "metadata": {},
     "output_type": "execute_result"
    }
   ],
   "source": [
    "dotdict_test_copy._verbose"
   ]
  },
  {
   "cell_type": "code",
   "execution_count": 35,
   "id": "fe11ee00-d631-478b-b4d3-d225b3552b9c",
   "metadata": {},
   "outputs": [
    {
     "name": "stdout",
     "output_type": "stream",
     "text": [
      "__getitem__ call\n",
      "__init__ call\n",
      "copy call\n",
      "__init__ call\n",
      "__str__ call\n",
      "{\n",
      "    'a': 'fgfgf',\n",
      "    'b': 2,\n",
      "    'c': 3,\n",
      "    'd': {\n",
      "        'lol': 10,\n",
      "        'kekw': 'prout',\n",
      "        'e': {\n",
      "            'foo': 'bar'\n",
      "        },\n",
      "        'foo': 'bar'\n",
      "    }\n",
      "}\n",
      "__str__ call\n",
      "{\n",
      "    'lol': 10,\n",
      "    'kekw': 'prout',\n",
      "    'e': {\n",
      "        'foo': 'bar'\n",
      "    },\n",
      "    'foo': 'bar'\n",
      "}\n",
      "<class 'dotdict.DotDict'>\n",
      "True\n",
      "True\n"
     ]
    }
   ],
   "source": [
    "# nested copy test\n",
    "# make a copy of a nested element containing nested elements\n",
    "dotdict_test_copy = dotdict_test[\"d\"].copy()\n",
    "print(dotdict_test)\n",
    "print(dotdict_test_copy)\n",
    "print(type(dotdict_test_copy))\n",
    "print(dotdict_test_copy._verbose)\n",
    "print(dotdict_test._verbose)"
   ]
  },
  {
   "cell_type": "code",
   "execution_count": 36,
   "id": "e78ff996-9568-456b-b1d6-66e6582f0521",
   "metadata": {},
   "outputs": [
    {
     "name": "stdout",
     "output_type": "stream",
     "text": [
      "__getitem__ call\n",
      "__init__ call\n"
     ]
    },
    {
     "data": {
      "text/plain": [
       "dotdict.DotDict"
      ]
     },
     "execution_count": 36,
     "metadata": {},
     "output_type": "execute_result"
    }
   ],
   "source": [
    "type(dotdict_test[\"d\"])"
   ]
  },
  {
   "cell_type": "code",
   "execution_count": 37,
   "id": "599ac7fa-d26a-46a7-8270-3b5ebd8efaf1",
   "metadata": {},
   "outputs": [
    {
     "data": {
      "text/plain": [
       "\u001b[1;31mRepr:\u001b[0m <alias copy for 'copy'>"
      ]
     },
     "metadata": {},
     "output_type": "display_data"
    }
   ],
   "source": [
    "dotdict_test[\"d\"].copy?"
   ]
  },
  {
   "cell_type": "code",
   "execution_count": 38,
   "id": "71668535-d9ef-4b34-9713-0fc75a6d45ac",
   "metadata": {},
   "outputs": [
    {
     "name": "stdout",
     "output_type": "stream",
     "text": [
      "__getitem__ call\n",
      "__init__ call\n",
      "__repr__ call\n",
      "<bound method DotDict.copy of DotDict({'lol': 10, 'kekw': 'prout', 'e': {'foo': 'bar'}, 'foo': 'bar'})>\n"
     ]
    }
   ],
   "source": [
    "print(dotdict_test[\"d\"].copy)"
   ]
  },
  {
   "cell_type": "code",
   "execution_count": 39,
   "id": "307f332b-b431-4eb0-9e4c-0662c230673f",
   "metadata": {},
   "outputs": [
    {
     "name": "stdout",
     "output_type": "stream",
     "text": [
      "__getitem__ call\n",
      "__init__ call\n",
      "__getitem__ call\n",
      "__repr__ call\n"
     ]
    },
    {
     "data": {
      "text/plain": [
       "\u001b[1;31mSignature:\u001b[0m \u001b[0mtest\u001b[0m\u001b[1;33m.\u001b[0m\u001b[0mcopy\u001b[0m\u001b[1;33m(\u001b[0m\u001b[1;33m)\u001b[0m \u001b[1;33m->\u001b[0m \u001b[1;34m'DotDict'\u001b[0m\u001b[1;33m\u001b[0m\u001b[1;33m\u001b[0m\u001b[0m\n",
       "\u001b[1;31mDocstring:\u001b[0m\n",
       "Returns a shallow copy of this DotDict object.\n",
       "Overriden for consistency with the 'dict.copy' method.\n",
       "\n",
       "RETURNS\n",
       "-------\n",
       "DotDict\n",
       "    A shallow copy of this object.\n",
       "\u001b[1;31mFile:\u001b[0m      d:\\code\\personal_dump\\code\\python\\dotdict.py\n",
       "\u001b[1;31mType:\u001b[0m      method"
      ]
     },
     "metadata": {},
     "output_type": "display_data"
    }
   ],
   "source": [
    "test = dotdict_test[\"d\"]\n",
    "test.copy?"
   ]
  },
  {
   "cell_type": "code",
   "execution_count": 40,
   "id": "5c06146e-d198-432a-bec5-973ef18a12ed",
   "metadata": {},
   "outputs": [
    {
     "data": {
      "text/plain": [
       "<function dict.copy>"
      ]
     },
     "execution_count": 40,
     "metadata": {},
     "output_type": "execute_result"
    }
   ],
   "source": [
    "{\"a\": {}}[\"a\"].copy"
   ]
  },
  {
   "cell_type": "code",
   "execution_count": 41,
   "id": "fb020703-82c5-4d81-b717-dc01b5c8ffde",
   "metadata": {},
   "outputs": [
    {
     "name": "stdout",
     "output_type": "stream",
     "text": [
      "__getitem__ call\n",
      "__init__ call\n",
      "__getitem__ call\n",
      "__repr__ call\n"
     ]
    },
    {
     "data": {
      "text/plain": [
       "\u001b[1;31mSignature:\u001b[0m \u001b[0mdotdict_test\u001b[0m\u001b[1;33m.\u001b[0m\u001b[0md\u001b[0m\u001b[1;33m.\u001b[0m\u001b[0mcopy\u001b[0m\u001b[1;33m(\u001b[0m\u001b[1;33m)\u001b[0m \u001b[1;33m->\u001b[0m \u001b[1;34m'DotDict'\u001b[0m\u001b[1;33m\u001b[0m\u001b[1;33m\u001b[0m\u001b[0m\n",
       "\u001b[1;31mDocstring:\u001b[0m\n",
       "Returns a shallow copy of this DotDict object.\n",
       "Overriden for consistency with the 'dict.copy' method.\n",
       "\n",
       "RETURNS\n",
       "-------\n",
       "DotDict\n",
       "    A shallow copy of this object.\n",
       "\u001b[1;31mFile:\u001b[0m      d:\\code\\personal_dump\\code\\python\\dotdict.py\n",
       "\u001b[1;31mType:\u001b[0m      method"
      ]
     },
     "metadata": {},
     "output_type": "display_data"
    }
   ],
   "source": [
    "dotdict_test.d.copy?"
   ]
  },
  {
   "cell_type": "code",
   "execution_count": 42,
   "id": "8d669dcb-80a3-49f8-9616-09720f0f56fa",
   "metadata": {},
   "outputs": [
    {
     "name": "stdout",
     "output_type": "stream",
     "text": [
      "__getitem__ call\n",
      "__init__ call\n",
      "__setitem__ call\n",
      "__str__ call\n",
      "{\n",
      "    'lol': 10,\n",
      "    'kekw': 'prout',\n",
      "    'e': {\n",
      "        'foo': 'bar',\n",
      "        'new': 'not value'\n",
      "    },\n",
      "    'foo': 'bar'\n",
      "}\n",
      "__str__ call\n",
      "{\n",
      "    'a': 'fgfgf',\n",
      "    'b': 2,\n",
      "    'c': 3,\n",
      "    'd': {\n",
      "        'lol': 10,\n",
      "        'kekw': 'prout',\n",
      "        'e': {\n",
      "            'foo': 'bar',\n",
      "            'new': 'not value'\n",
      "        },\n",
      "        'foo': 'bar'\n",
      "    }\n",
      "}\n"
     ]
    }
   ],
   "source": [
    "# modifying the copy nested elements modifies the original nested elements\n",
    "dotdict_test_copy[\"e\"][\"new\"] = \"not value\"\n",
    "print(dotdict_test_copy)\n",
    "print(dotdict_test)"
   ]
  },
  {
   "cell_type": "code",
   "execution_count": 43,
   "id": "c60c5eef-9087-4bd2-91c7-d6e9816434bb",
   "metadata": {},
   "outputs": [
    {
     "name": "stdout",
     "output_type": "stream",
     "text": [
      "__getitem__ call\n",
      "__init__ call\n",
      "__getitem__ call\n",
      "__init__ call\n",
      "__setitem__ call\n",
      "__str__ call\n",
      "{\n",
      "    'lol': 10,\n",
      "    'kekw': 'prout',\n",
      "    'e': {\n",
      "        'foo': 'bar',\n",
      "        'new': 'not value',\n",
      "        'newnew': 'NOT VALUE'\n",
      "    },\n",
      "    'foo': 'bar'\n",
      "}\n",
      "__str__ call\n",
      "{\n",
      "    'a': 'fgfgf',\n",
      "    'b': 2,\n",
      "    'c': 3,\n",
      "    'd': {\n",
      "        'lol': 10,\n",
      "        'kekw': 'prout',\n",
      "        'e': {\n",
      "            'foo': 'bar',\n",
      "            'new': 'not value',\n",
      "            'newnew': 'NOT VALUE'\n",
      "        },\n",
      "        'foo': 'bar'\n",
      "    }\n",
      "}\n"
     ]
    }
   ],
   "source": [
    "# vice versa\n",
    "dotdict_test[\"d\"][\"e\"][\"newnew\"] = \"NOT VALUE\"\n",
    "print(dotdict_test_copy)\n",
    "print(dotdict_test)"
   ]
  },
  {
   "cell_type": "markdown",
   "id": "8c81c15f-8ddd-4160-a22c-b5a4b85d790d",
   "metadata": {},
   "source": [
    "### vars"
   ]
  },
  {
   "cell_type": "code",
   "execution_count": 44,
   "id": "45315068-7cba-4360-a692-0a2da636bc6b",
   "metadata": {},
   "outputs": [
    {
     "name": "stdout",
     "output_type": "stream",
     "text": [
      "__dict__ call\n",
      "_view call\n",
      "__getitem__ call\n",
      "__init__ call\n",
      "__repr__ call\n"
     ]
    },
    {
     "data": {
      "text/plain": [
       "mappingproxy({'param_1': 'great',\n",
       "              'param2': 2,\n",
       "              'param3': DotDict({'subparam': -5.2}),\n",
       "              'param4': [-5, 1, 2],\n",
       "              'lol': 'haha',\n",
       "              'param8': 'toto'})"
      ]
     },
     "execution_count": 44,
     "metadata": {},
     "output_type": "execute_result"
    }
   ],
   "source": [
    "# vars\n",
    "vars(dotdict_test_1)"
   ]
  },
  {
   "cell_type": "code",
   "execution_count": 45,
   "id": "989ccfe8-9949-41b2-8db3-82dbdd08c377",
   "metadata": {},
   "outputs": [
    {
     "name": "stdout",
     "output_type": "stream",
     "text": [
      "__str__ call\n",
      "{\n",
      "    'param_1': 'great',\n",
      "    'param2': 2,\n",
      "    'param3': {\n",
      "        'subparam': -5.2\n",
      "    },\n",
      "    'param4': [\n",
      "        -5,\n",
      "        1,\n",
      "        2\n",
      "    ],\n",
      "    'lol': 'haha',\n",
      "    'param8': 'toto'\n",
      "}\n"
     ]
    }
   ],
   "source": [
    "print(dotdict_test_1)"
   ]
  },
  {
   "cell_type": "markdown",
   "id": "547d4365-f5ea-491a-88c5-1c277b6bb9d2",
   "metadata": {},
   "source": [
    "### update"
   ]
  },
  {
   "cell_type": "code",
   "execution_count": 46,
   "id": "4be62fc6-c745-4694-91e1-85ac34d3e9ba",
   "metadata": {},
   "outputs": [],
   "source": [
    "# update test\n",
    "..."
   ]
  },
  {
   "cell_type": "code",
   "execution_count": 47,
   "id": "d0acd112-646f-4132-913c-52b962520cad",
   "metadata": {},
   "outputs": [],
   "source": [
    "# dotdict_test_1.param3.update({\"subparam2\": \"foo\"})\n",
    "# dotdict_test_1.param3"
   ]
  },
  {
   "cell_type": "markdown",
   "id": "2f7f6e24-d380-4741-a1e8-a272e5beb6a9",
   "metadata": {},
   "source": [
    "### iter"
   ]
  },
  {
   "cell_type": "code",
   "execution_count": 48,
   "id": "11c02877-4bd6-4673-adf6-a8424c595ce5",
   "metadata": {},
   "outputs": [
    {
     "name": "stdout",
     "output_type": "stream",
     "text": [
      "param_1\n",
      "param2\n",
      "param3\n",
      "param4\n",
      "lol\n",
      "param8\n"
     ]
    }
   ],
   "source": [
    "# iter\n",
    "for key in iter(dotdict_test_1):\n",
    "    print(key)"
   ]
  },
  {
   "cell_type": "markdown",
   "id": "e1eeceb9-fb0c-4f9e-aa10-8de596e930ff",
   "metadata": {},
   "source": [
    "### clear"
   ]
  },
  {
   "cell_type": "code",
   "execution_count": 49,
   "id": "752a86c1-fd6d-4298-9185-2816b65ea24a",
   "metadata": {},
   "outputs": [
    {
     "data": {
      "text/plain": [
       "DotDict({})"
      ]
     },
     "execution_count": 49,
     "metadata": {},
     "output_type": "execute_result"
    }
   ],
   "source": [
    "# clear\n",
    "dotdict_test = DotDict({\n",
    "    \"a\": 1,\n",
    "    \"b\": 2,\n",
    "    \"c\": 3,\n",
    "    \"d\": {\n",
    "        \"lol\": \"haha\",\n",
    "        \"kekw\": \"prout\"\n",
    "    }\n",
    "})\n",
    "dotdict_test.clear()\n",
    "dotdict_test"
   ]
  },
  {
   "cell_type": "code",
   "execution_count": 50,
   "id": "737ae897-8c84-48d9-b492-f8088e718d28",
   "metadata": {},
   "outputs": [
    {
     "data": {
      "text/plain": [
       "DotDict({'a': 1, 'b': 2, 'c': 3, 'd': {}})"
      ]
     },
     "execution_count": 50,
     "metadata": {},
     "output_type": "execute_result"
    }
   ],
   "source": [
    "dotdict_test = DotDict({\n",
    "    \"a\": 1,\n",
    "    \"b\": 2,\n",
    "    \"c\": 3,\n",
    "    \"d\": {\n",
    "        \"lol\": \"haha\",\n",
    "        \"kekw\": \"prout\"\n",
    "    }\n",
    "})\n",
    "dotdict_test[\"d\"].clear()\n",
    "dotdict_test"
   ]
  },
  {
   "cell_type": "code",
   "execution_count": 51,
   "id": "143e05a7-e8a2-4b00-88aa-49b54e84e6f0",
   "metadata": {},
   "outputs": [
    {
     "data": {
      "text/plain": [
       "{'a': 1, 'b': 2, 'c': 3, 'd': {}}"
      ]
     },
     "execution_count": 51,
     "metadata": {},
     "output_type": "execute_result"
    }
   ],
   "source": [
    "dict_test = {\n",
    "    \"a\": 1,\n",
    "    \"b\": 2,\n",
    "    \"c\": 3,\n",
    "    \"d\": {\n",
    "        \"lol\": \"haha\",\n",
    "        \"kekw\": \"prout\"\n",
    "    }\n",
    "}\n",
    "dict_test[\"d\"].clear()\n",
    "dict_test"
   ]
  },
  {
   "cell_type": "code",
   "execution_count": 52,
   "id": "419cfa03-7347-4bf3-a3b6-58bcba60bf02",
   "metadata": {},
   "outputs": [
    {
     "data": {
      "text/plain": [
       "DotDict({'a': 1, 'b': 2, 'c': 3, 'd': {}})"
      ]
     },
     "execution_count": 52,
     "metadata": {},
     "output_type": "execute_result"
    }
   ],
   "source": [
    "dotdict_test = DotDict({\n",
    "    \"a\": 1,\n",
    "    \"b\": 2,\n",
    "    \"c\": 3,\n",
    "    \"d\": {\n",
    "        \"lol\": \"haha\",\n",
    "        \"kekw\": \"prout\"\n",
    "    }\n",
    "})\n",
    "place_holder = dotdict_test[\"d\"]\n",
    "place_holder.clear()\n",
    "dotdict_test"
   ]
  },
  {
   "cell_type": "code",
   "execution_count": 53,
   "id": "3ccd9c86-9ff9-4d97-8cda-cce07363e850",
   "metadata": {},
   "outputs": [
    {
     "data": {
      "text/plain": [
       "{'a': 1, 'b': 2, 'c': 3, 'd': {}}"
      ]
     },
     "execution_count": 53,
     "metadata": {},
     "output_type": "execute_result"
    }
   ],
   "source": [
    "dict_test = {\n",
    "    \"a\": 1,\n",
    "    \"b\": 2,\n",
    "    \"c\": 3,\n",
    "    \"d\": {\n",
    "        \"lol\": \"haha\",\n",
    "        \"kekw\": \"prout\"\n",
    "    }\n",
    "}\n",
    "place_holder = dict_test[\"d\"]\n",
    "place_holder.clear()\n",
    "dict_test"
   ]
  },
  {
   "cell_type": "markdown",
   "id": "3b102905-d77f-40f0-bbc6-9df012eb3903",
   "metadata": {},
   "source": [
    "### get"
   ]
  },
  {
   "cell_type": "code",
   "execution_count": 54,
   "id": "09f5e0c0-3132-4be3-9154-feb3cbcdf259",
   "metadata": {},
   "outputs": [
    {
     "data": {
      "text/plain": [
       "dict"
      ]
     },
     "execution_count": 54,
     "metadata": {},
     "output_type": "execute_result"
    }
   ],
   "source": [
    "# get\n",
    "dict_test = {\n",
    "    \"a\": 1,\n",
    "    \"b\": 2,\n",
    "    \"c\": 3,\n",
    "    \"d\": {\n",
    "        \"lol\": \"haha\",\n",
    "        \"kekw\": \"prout\"\n",
    "    }\n",
    "}\n",
    "type(dict_test.get(\"d\"))"
   ]
  },
  {
   "cell_type": "code",
   "execution_count": 55,
   "id": "8b01e939-af70-4483-afaf-ccd6162ca27b",
   "metadata": {},
   "outputs": [
    {
     "name": "stdout",
     "output_type": "stream",
     "text": [
      "None\n"
     ]
    }
   ],
   "source": [
    "print(dict_test.get(\"doesnt_exist\"))"
   ]
  },
  {
   "cell_type": "code",
   "execution_count": 56,
   "id": "52e06020-e3a1-4fdc-8621-1dc2fe12a07d",
   "metadata": {},
   "outputs": [
    {
     "name": "stdout",
     "output_type": "stream",
     "text": [
      "__init__ call\n",
      "get call\n",
      "__getitem__ call\n",
      "__init__ call\n"
     ]
    },
    {
     "data": {
      "text/plain": [
       "dotdict.DotDict"
      ]
     },
     "execution_count": 56,
     "metadata": {},
     "output_type": "execute_result"
    }
   ],
   "source": [
    "dotdict_test = DotDict({\n",
    "    \"a\": 1,\n",
    "    \"b\": 2,\n",
    "    \"c\": 3,\n",
    "    \"d\": {\n",
    "        \"lol\": \"haha\",\n",
    "        \"kekw\": \"prout\"\n",
    "    }\n",
    "}, _verbose=True)\n",
    "type(dotdict_test.get(\"d\"))"
   ]
  },
  {
   "cell_type": "code",
   "execution_count": 57,
   "id": "dacc99d7-933d-41b7-a2d4-07ff9993a6b4",
   "metadata": {},
   "outputs": [
    {
     "name": "stdout",
     "output_type": "stream",
     "text": [
      "__getitem__ call\n",
      "__init__ call\n",
      "get call\n",
      "__getitem__ call\n",
      "prout\n"
     ]
    }
   ],
   "source": [
    "print(dotdict_test.d.get(\"kekw\"))"
   ]
  },
  {
   "cell_type": "code",
   "execution_count": 58,
   "id": "5d4a0935-d48f-468d-b908-c0a733ec34fd",
   "metadata": {},
   "outputs": [
    {
     "name": "stdout",
     "output_type": "stream",
     "text": [
      "get call\n",
      "None\n"
     ]
    }
   ],
   "source": [
    "print(dotdict_test.get(\"doesnt_exist\"))"
   ]
  },
  {
   "cell_type": "markdown",
   "id": "52f79b16-6fbd-4d98-81e5-a1ccfcec91a3",
   "metadata": {},
   "source": [
    "### _view"
   ]
  },
  {
   "cell_type": "code",
   "execution_count": 59,
   "id": "c5271fcd-1bbe-4a70-bef1-20ebd7de2a1b",
   "metadata": {},
   "outputs": [
    {
     "name": "stdout",
     "output_type": "stream",
     "text": [
      "_view call\n",
      "__getitem__ call\n",
      "__init__ call\n",
      "<class 'dict'>\n",
      "<class 'int'>\n",
      "<class 'int'>\n",
      "<class 'int'>\n",
      "<class 'dotdict.DotDict'>\n"
     ]
    }
   ],
   "source": [
    "view_result = dotdict_test._view\n",
    "print(type(view_result))\n",
    "for key in view_result.keys():\n",
    "    print(type(view_result[key]))"
   ]
  },
  {
   "cell_type": "code",
   "execution_count": 60,
   "id": "4686d644-318f-48e6-ac0b-1042efb9ef1d",
   "metadata": {},
   "outputs": [
    {
     "name": "stdout",
     "output_type": "stream",
     "text": [
      "__str__ call\n",
      "{\n",
      "    'a': 1,\n",
      "    'b': 2,\n",
      "    'c': 3,\n",
      "    'd': {\n",
      "        'lol': 'haha',\n",
      "        'kekw': 'prout'\n",
      "    }\n",
      "}\n",
      "['d']\n"
     ]
    }
   ],
   "source": [
    "print(view_result[\"d\"]._root)\n",
    "print(view_result[\"d\"]._path_to_root)"
   ]
  },
  {
   "cell_type": "code",
   "execution_count": null,
   "id": "d5e59084-f140-47ca-8503-38e67462efb2",
   "metadata": {},
   "outputs": [],
   "source": []
  },
  {
   "cell_type": "code",
   "execution_count": null,
   "id": "baa02556-2489-4f3c-a5f8-7998fbf599c2",
   "metadata": {},
   "outputs": [],
   "source": []
  },
  {
   "cell_type": "code",
   "execution_count": null,
   "id": "00c045b9-c825-44a9-8202-ed83b60d11ff",
   "metadata": {},
   "outputs": [],
   "source": []
  },
  {
   "cell_type": "code",
   "execution_count": null,
   "id": "545abfa4-d87d-4afb-a801-2bccc0893465",
   "metadata": {},
   "outputs": [],
   "source": []
  },
  {
   "cell_type": "markdown",
   "id": "ad49bf54-76b6-47a9-908f-b6113b8e1bdd",
   "metadata": {},
   "source": [
    "### values"
   ]
  },
  {
   "cell_type": "markdown",
   "id": "2d98e6ec-e41f-46e6-9f14-301494e3e237",
   "metadata": {},
   "source": [
    "#### dict behavior"
   ]
  },
  {
   "cell_type": "code",
   "execution_count": 61,
   "id": "719c31e0-18d0-4cb5-b800-5bb8ae29afdc",
   "metadata": {},
   "outputs": [],
   "source": [
    "# dict behavior\n",
    "dict_test = {\n",
    "    \"a\": 1,\n",
    "    \"b\": 2,\n",
    "    \"c\": 3,\n",
    "    \"d\": {\n",
    "        \"lol\": \"haha\",\n",
    "        \"kekw\": \"prout\"\n",
    "    }\n",
    "}"
   ]
  },
  {
   "cell_type": "code",
   "execution_count": 62,
   "id": "43e43982-00c6-4c3f-a0ae-589dc957072a",
   "metadata": {},
   "outputs": [
    {
     "data": {
      "text/plain": [
       "dict_values([1, 2, 3, {'lol': 'haha', 'kekw': 'prout'}])"
      ]
     },
     "execution_count": 62,
     "metadata": {},
     "output_type": "execute_result"
    }
   ],
   "source": [
    "dict_values = dict_test.values()\n",
    "dict_values"
   ]
  },
  {
   "cell_type": "code",
   "execution_count": 63,
   "id": "9d6cc311-bba7-4939-a960-577e6e9576d8",
   "metadata": {},
   "outputs": [
    {
     "data": {
      "text/plain": [
       "{'a': 2, 'b': 2, 'c': 3, 'd': {'lol': 'haha', 'kekw': 'prout'}}"
      ]
     },
     "execution_count": 63,
     "metadata": {},
     "output_type": "execute_result"
    }
   ],
   "source": [
    "dict_test[\"a\"] = 2\n",
    "dict_test"
   ]
  },
  {
   "cell_type": "code",
   "execution_count": 64,
   "id": "69ce257c-34d3-45cb-8366-f20c8eeb7043",
   "metadata": {},
   "outputs": [
    {
     "name": "stdout",
     "output_type": "stream",
     "text": [
      "dict_values([2, 2, 3, {'lol': 'haha', 'kekw': 'prout'}])\n"
     ]
    }
   ],
   "source": [
    "# __str__\n",
    "print(dict_values)"
   ]
  },
  {
   "cell_type": "code",
   "execution_count": 65,
   "id": "e8ea9f11-e3dc-488b-8d56-17f5b1fbe518",
   "metadata": {},
   "outputs": [
    {
     "name": "stdout",
     "output_type": "stream",
     "text": [
      "dict_values([2, 2, 3, {'lol': 'haha', 'kekw': 'prout'}])\n"
     ]
    }
   ],
   "source": [
    "# __repr__\n",
    "print(repr(dict_values))"
   ]
  },
  {
   "cell_type": "code",
   "execution_count": 66,
   "id": "8edaeb92-cbb7-4cf6-b72e-b4d1f83db624",
   "metadata": {},
   "outputs": [],
   "source": [
    "# non subscriptable\n",
    "# dict_values[0]"
   ]
  },
  {
   "cell_type": "code",
   "execution_count": 67,
   "id": "7a4c4c60-7c95-479f-9bff-b3f5351130f2",
   "metadata": {},
   "outputs": [
    {
     "data": {
      "text/plain": [
       "True"
      ]
     },
     "execution_count": 67,
     "metadata": {},
     "output_type": "execute_result"
    }
   ],
   "source": [
    "isinstance(dict_values, ValuesView)"
   ]
  },
  {
   "cell_type": "code",
   "execution_count": 68,
   "id": "4c8e47f7-cd52-44e5-b90c-9af4e7a1b7da",
   "metadata": {},
   "outputs": [
    {
     "data": {
      "text/plain": [
       "True"
      ]
     },
     "execution_count": 68,
     "metadata": {},
     "output_type": "execute_result"
    }
   ],
   "source": [
    "# __contains__\n",
    "2 in dict_values"
   ]
  },
  {
   "cell_type": "code",
   "execution_count": 69,
   "id": "09edabd9-c726-4517-a84f-1df43b66e883",
   "metadata": {},
   "outputs": [
    {
     "name": "stdout",
     "output_type": "stream",
     "text": [
      "2\n",
      "2\n",
      "3\n",
      "{'lol': 'haha', 'kekw': 'prout'}\n"
     ]
    }
   ],
   "source": [
    "# __iter__\n",
    "for value in dict_values:\n",
    "    print(value)"
   ]
  },
  {
   "cell_type": "code",
   "execution_count": 70,
   "id": "43d94c7b-7b92-4b4b-b4ad-01bd72132581",
   "metadata": {},
   "outputs": [
    {
     "data": {
      "text/plain": [
       "dict_values"
      ]
     },
     "execution_count": 70,
     "metadata": {},
     "output_type": "execute_result"
    }
   ],
   "source": [
    "dict_values_type = type(dict_values)\n",
    "dict_values_type"
   ]
  },
  {
   "cell_type": "code",
   "execution_count": 71,
   "id": "906e8170-24ea-4c24-8e30-90aece666c9f",
   "metadata": {},
   "outputs": [
    {
     "data": {
      "text/plain": [
       "mappingproxy({'a': 2, 'b': 2, 'c': 3, 'd': {'lol': 'haha', 'kekw': 'prout'}})"
      ]
     },
     "execution_count": 71,
     "metadata": {},
     "output_type": "execute_result"
    }
   ],
   "source": [
    "mapping = dict_values.mapping\n",
    "mapping"
   ]
  },
  {
   "cell_type": "code",
   "execution_count": 72,
   "id": "c4815db6-5880-4fa7-be3d-c4ad03854f0d",
   "metadata": {},
   "outputs": [
    {
     "data": {
      "text/plain": [
       "[2, 2, 3, {'lol': 'haha', 'kekw': 'prout'}]"
      ]
     },
     "execution_count": 72,
     "metadata": {},
     "output_type": "execute_result"
    }
   ],
   "source": [
    "list(dict_values)"
   ]
  },
  {
   "cell_type": "code",
   "execution_count": 73,
   "id": "77320265-0690-44a6-9d30-045cda558898",
   "metadata": {},
   "outputs": [
    {
     "data": {
      "text/plain": [
       "<dict_valueiterator at 0x210f95f3740>"
      ]
     },
     "execution_count": 73,
     "metadata": {},
     "output_type": "execute_result"
    }
   ],
   "source": [
    "iter(dict_values)"
   ]
  },
  {
   "cell_type": "code",
   "execution_count": 74,
   "id": "98b071dd-d7a0-4437-9fdd-6b82aa2a2c2f",
   "metadata": {},
   "outputs": [
    {
     "data": {
      "text/plain": [
       "mappingproxy({'a': 2, 'b': 2, 'c': 10, 'd': {'lol': 'haha', 'kekw': 'prout'}})"
      ]
     },
     "execution_count": 74,
     "metadata": {},
     "output_type": "execute_result"
    }
   ],
   "source": [
    "# even the mapping output is dynamic !\n",
    "dict_test[\"c\"] = 10\n",
    "mapping"
   ]
  },
  {
   "cell_type": "code",
   "execution_count": 75,
   "id": "9ace8827-6cf4-4f2a-9261-2226b4ebbd52",
   "metadata": {},
   "outputs": [
    {
     "data": {
      "text/plain": [
       "dict_values([2, 2, 10, {'lol': 'haha', 'kekw': 'prout'}])"
      ]
     },
     "execution_count": 75,
     "metadata": {},
     "output_type": "execute_result"
    }
   ],
   "source": [
    "dict_values"
   ]
  },
  {
   "cell_type": "code",
   "execution_count": 76,
   "id": "406f5f6e-9e10-4b3e-8299-ef2d8c4c68ab",
   "metadata": {},
   "outputs": [],
   "source": [
    "# dict_values_type.__new__(dict_values_type, {})"
   ]
  },
  {
   "cell_type": "code",
   "execution_count": 77,
   "id": "e557d15a-ff04-4858-80fe-5a777edc683b",
   "metadata": {},
   "outputs": [],
   "source": [
    "# dict_values.__new__(dict_values_type, {})"
   ]
  },
  {
   "cell_type": "code",
   "execution_count": 78,
   "id": "af2943a6-9a34-4160-a6ad-a96dd83e6737",
   "metadata": {},
   "outputs": [],
   "source": [
    "# object.__new__(dict_values_type, {})"
   ]
  },
  {
   "cell_type": "code",
   "execution_count": 79,
   "id": "1c440420-457d-43da-aba3-f99ecb284315",
   "metadata": {},
   "outputs": [],
   "source": [
    "# dir(dict_values)"
   ]
  },
  {
   "cell_type": "code",
   "execution_count": 80,
   "id": "fcfe900d-752f-4a25-a443-4a5abc728b15",
   "metadata": {},
   "outputs": [],
   "source": [
    "# type(dict_values).__mro__"
   ]
  },
  {
   "cell_type": "code",
   "execution_count": 81,
   "id": "3adfb7ef-0545-4a5d-9dd7-2576a6717795",
   "metadata": {},
   "outputs": [],
   "source": [
    "# ValuesView.__mro__"
   ]
  },
  {
   "cell_type": "code",
   "execution_count": 82,
   "id": "8f52ec44-035b-4f42-980a-3e606368b59d",
   "metadata": {},
   "outputs": [],
   "source": [
    "# dict_values.haha = 5"
   ]
  },
  {
   "cell_type": "markdown",
   "id": "ba4cdeb1-70c2-4c22-bd49-16fbbb43a4c0",
   "metadata": {},
   "source": [
    "#### dotdict behavior"
   ]
  },
  {
   "cell_type": "code",
   "execution_count": 83,
   "id": "a03121d0-a5ec-438d-814e-0e1d507354be",
   "metadata": {},
   "outputs": [
    {
     "name": "stdout",
     "output_type": "stream",
     "text": [
      "__init__ call\n",
      "__str__ call\n",
      "{\n",
      "    'a': 1,\n",
      "    'b': 2,\n",
      "    'c': 3,\n",
      "    'd': {\n",
      "        'lol': 'haha',\n",
      "        'kekw': 'prout'\n",
      "    }\n",
      "}\n"
     ]
    }
   ],
   "source": [
    "# dotdict behavior\n",
    "dict_test = {\n",
    "    \"a\": 1,\n",
    "    \"b\": 2,\n",
    "    \"c\": 3,\n",
    "    \"d\": {\n",
    "        \"lol\": \"haha\",\n",
    "        \"kekw\": \"prout\"\n",
    "    }\n",
    "}\n",
    "dotdict_test = DotDict(dict_test, _verbose=True)\n",
    "print(dotdict_test)"
   ]
  },
  {
   "cell_type": "markdown",
   "id": "940d2c83-b796-410a-8f3a-c580082d8fd4",
   "metadata": {},
   "source": [
    "#### DotDictValues type\n",
    "\n",
    "abc.collections ValuesView inheritance:\n",
    "- MappingView\n",
    "    - Sized\n",
    "- Collection\n",
    "    - Iterable\n",
    "    - Container\n",
    "\n",
    "abc.collections ValuesView requirements:\n",
    "- \\_\\_contains__, \\_\\_iter__, \\_\\_len__"
   ]
  },
  {
   "cell_type": "code",
   "execution_count": 84,
   "id": "5ffc9783-8494-4a93-8f7d-9ef34fa5b0ed",
   "metadata": {},
   "outputs": [
    {
     "name": "stdout",
     "output_type": "stream",
     "text": [
      "values call\n",
      "DotDictValues __new__ call\n"
     ]
    }
   ],
   "source": [
    "# new DotDictValues object\n",
    "# dotdict_values = DotDictValues.__new__(DotDictValues, dotdict_test)\n",
    "dotdict_values = dotdict_test.values()"
   ]
  },
  {
   "cell_type": "code",
   "execution_count": 85,
   "id": "608afc5b-98a3-4b43-a3d4-a3653af320fc",
   "metadata": {},
   "outputs": [],
   "source": [
    "# for item in reversed(dotdict_values._dotdict_hook._view.values()):\n",
    "#     print(item)"
   ]
  },
  {
   "cell_type": "code",
   "execution_count": 86,
   "id": "912e76b1-7c36-4bf0-a2b6-fda958e29890",
   "metadata": {},
   "outputs": [],
   "source": [
    "# __init__\n",
    "# type(dotdict_values)(dotdict_test)"
   ]
  },
  {
   "cell_type": "code",
   "execution_count": 87,
   "id": "9239a2d1-e6b6-4d87-ae34-93d64c958661",
   "metadata": {},
   "outputs": [
    {
     "name": "stdout",
     "output_type": "stream",
     "text": [
      "DotDictValues __str__ call\n",
      "DotDictValues __repr__ call\n",
      "_view call\n",
      "__getitem__ call\n",
      "__init__ call\n",
      "__repr__ call\n",
      "DotDictValues([1, 2, 3, DotDict({'lol': 'haha', 'kekw': 'prout'})])\n"
     ]
    }
   ],
   "source": [
    "# __str__\n",
    "print(dotdict_values)"
   ]
  },
  {
   "cell_type": "code",
   "execution_count": 88,
   "id": "d71b6a1e-9bec-4a84-b99e-0cc044c5f7c4",
   "metadata": {},
   "outputs": [
    {
     "name": "stdout",
     "output_type": "stream",
     "text": [
      "DotDictValues __repr__ call\n",
      "_view call\n",
      "__getitem__ call\n",
      "__init__ call\n",
      "__repr__ call\n",
      "DotDictValues([1, 2, 3, DotDict({'lol': 'haha', 'kekw': 'prout'})])\n"
     ]
    }
   ],
   "source": [
    "# __repr__\n",
    "print(repr(dotdict_values))"
   ]
  },
  {
   "cell_type": "code",
   "execution_count": 89,
   "id": "e77f974f-d3fb-4d17-a9c0-f0cbe59be315",
   "metadata": {},
   "outputs": [
    {
     "name": "stdout",
     "output_type": "stream",
     "text": [
      "__setitem__ call\n",
      "__str__ call\n",
      "{\n",
      "    'a': 2,\n",
      "    'b': 2,\n",
      "    'c': 3,\n",
      "    'd': {\n",
      "        'lol': 'haha',\n",
      "        'kekw': 'prout'\n",
      "    }\n",
      "}\n"
     ]
    }
   ],
   "source": [
    "# values list updated on DotDict update\n",
    "dotdict_test[\"a\"] = 2\n",
    "print(dotdict_test)"
   ]
  },
  {
   "cell_type": "code",
   "execution_count": 90,
   "id": "0a651ef6-f633-46ae-8a69-ab0c804ca405",
   "metadata": {},
   "outputs": [
    {
     "name": "stdout",
     "output_type": "stream",
     "text": [
      "DotDictValues __str__ call\n",
      "DotDictValues __repr__ call\n",
      "_view call\n",
      "__getitem__ call\n",
      "__init__ call\n",
      "__repr__ call\n",
      "DotDictValues([2, 2, 3, DotDict({'lol': 'haha', 'kekw': 'prout'})])\n"
     ]
    }
   ],
   "source": [
    "print(dotdict_values)"
   ]
  },
  {
   "cell_type": "code",
   "execution_count": 91,
   "id": "3682c146-d62d-4481-8042-df9b8f5141c1",
   "metadata": {},
   "outputs": [],
   "source": [
    "# non subscriptable\n",
    "# dotdict_values[0]"
   ]
  },
  {
   "cell_type": "code",
   "execution_count": 92,
   "id": "99a59d5f-acba-4df9-a4ab-8b7c904dad6a",
   "metadata": {},
   "outputs": [
    {
     "name": "stdout",
     "output_type": "stream",
     "text": [
      "DotDictValues __iter__ call\n",
      "_view call\n",
      "__getitem__ call\n",
      "__init__ call\n",
      "2\n",
      "<class 'int'>\n",
      "2\n",
      "<class 'int'>\n",
      "3\n",
      "<class 'int'>\n",
      "__str__ call\n",
      "{\n",
      "    'lol': 'haha',\n",
      "    'kekw': 'prout'\n",
      "}\n",
      "<class 'dotdict.DotDict'>\n"
     ]
    }
   ],
   "source": [
    "# __iter__\n",
    "for value in dotdict_values:\n",
    "    print(value)\n",
    "    print(type(value))"
   ]
  },
  {
   "cell_type": "code",
   "execution_count": 93,
   "id": "df1152b4-98a8-4b70-a890-f13f9171a929",
   "metadata": {},
   "outputs": [
    {
     "name": "stdout",
     "output_type": "stream",
     "text": [
      "DotDictValues __iter__ call\n",
      "_view call\n",
      "__getitem__ call\n",
      "__init__ call\n",
      "DotDictValues __len__ call\n",
      "__repr__ call\n",
      "[2, 2, 3, DotDict({'lol': 'haha', 'kekw': 'prout'})]\n",
      "\n",
      "DotDictValues __iter__ call\n",
      "_view call\n",
      "__getitem__ call\n",
      "__init__ call\n",
      "__repr__ call\n",
      "[2, 2, 3, DotDict({'lol': 'haha', 'kekw': 'prout'})]\n"
     ]
    }
   ],
   "source": [
    "# can be made into a list\n",
    "print(list(dotdict_values))\n",
    "print()\n",
    "# same thing but without a DotDictValues.__len__ call\n",
    "print(list(iter(dotdict_values)))"
   ]
  },
  {
   "cell_type": "code",
   "execution_count": 94,
   "id": "2bc8d514-c8d5-425e-9dcc-7f6c795ab5dc",
   "metadata": {},
   "outputs": [
    {
     "name": "stdout",
     "output_type": "stream",
     "text": [
      "DotDictValues __reversed__ call\n",
      "_view call\n",
      "__getitem__ call\n",
      "__init__ call\n",
      "__str__ call\n",
      "{\n",
      "    'lol': 'haha',\n",
      "    'kekw': 'prout'\n",
      "}\n",
      "3\n",
      "2\n",
      "2\n"
     ]
    }
   ],
   "source": [
    "# __reversed__\n",
    "reversed_values_iterator = reversed(dotdict_values)\n",
    "for value in reversed_values_iterator:\n",
    "    print(value)"
   ]
  },
  {
   "cell_type": "code",
   "execution_count": 95,
   "id": "3d29327e-b2c0-436e-9f1c-9d907244160a",
   "metadata": {},
   "outputs": [
    {
     "name": "stdout",
     "output_type": "stream",
     "text": [
      "DotDictValues __contains__ call\n",
      "_view call\n",
      "__getitem__ call\n",
      "__init__ call\n",
      "True\n",
      "\n",
      "DotDictValues __contains__ call\n",
      "_view call\n",
      "__getitem__ call\n",
      "__init__ call\n",
      "True\n",
      "\n",
      "DotDictValues __contains__ call\n",
      "_view call\n",
      "__getitem__ call\n",
      "__init__ call\n",
      "True\n",
      "\n",
      "DotDictValues __contains__ call\n",
      "_view call\n",
      "__getitem__ call\n",
      "__init__ call\n",
      "False\n"
     ]
    }
   ],
   "source": [
    "# __contains__\n",
    "print(2 in dotdict_values)\n",
    "print()\n",
    "print(DotDict({'lol': 'haha','kekw': 'prout'}) in dotdict_values)\n",
    "print()\n",
    "print({'lol': 'haha','kekw': 'prout'} in dotdict_values)\n",
    "print()\n",
    "print(\"lul\" in dotdict_values)"
   ]
  },
  {
   "cell_type": "code",
   "execution_count": 96,
   "id": "0ccf2b9f-01c0-47f3-92bc-7f86356e1682",
   "metadata": {},
   "outputs": [
    {
     "name": "stdout",
     "output_type": "stream",
     "text": [
      "DotDictValues mapping call\n",
      "__str__ call\n",
      "__str__ call\n",
      "{\n",
      "    'a': 2,\n",
      "    'b': 2,\n",
      "    'c': 3,\n",
      "    'd': {\n",
      "        'lol': 'haha',\n",
      "        'kekw': 'prout'\n",
      "    }\n",
      "}\n",
      "<class 'mappingproxy'>\n",
      "__repr__ call\n",
      "mappingproxy(DotDict({'a': 2, 'b': 2, 'c': 3, 'd': {'lol': 'haha', 'kekw': 'prout'}}))\n",
      "__setitem__ call\n",
      "DotDictValues __str__ call\n",
      "DotDictValues __repr__ call\n",
      "_view call\n",
      "__getitem__ call\n",
      "__init__ call\n",
      "__repr__ call\n",
      "DotDictValues([20, 2, 3, DotDict({'lol': 'haha', 'kekw': 'prout'})])\n",
      "__str__ call\n",
      "{\n",
      "    'a': 20,\n",
      "    'b': 2,\n",
      "    'c': 3,\n",
      "    'd': {\n",
      "        'lol': 'haha',\n",
      "        'kekw': 'prout'\n",
      "    }\n",
      "}\n"
     ]
    }
   ],
   "source": [
    "# mapping\n",
    "# MappingProxyType.__str__ calls the original object __str__ method (here, DotDict)\n",
    "dotdict_values_mapping = dotdict_values.mapping\n",
    "str(dotdict_values_mapping)\n",
    "print(dotdict_values_mapping)\n",
    "print(type(dotdict_values_mapping))\n",
    "print(repr(dotdict_values_mapping))\n",
    "# changes to the values are reflected in dotdict_values_mapping\n",
    "dotdict_test[\"a\"] = 20\n",
    "print(dotdict_values)\n",
    "print(dotdict_values_mapping)\n",
    "# unmutable\n",
    "# dotdict_values_mapping['a'] = 2"
   ]
  },
  {
   "cell_type": "code",
   "execution_count": 101,
   "id": "a54626c8-f80a-4f60-8252-6a3eff9a3ccc",
   "metadata": {},
   "outputs": [],
   "source": [
    "# access to attributes denied\n",
    "# get\n",
    "# dotdict_values.b\n",
    "# set\n",
    "# dotdict_values.b = 7\n",
    "# delete\n",
    "# del dotdict_values.b"
   ]
  },
  {
   "cell_type": "code",
   "execution_count": null,
   "id": "ef30e89b-222d-40cc-809c-c8c5d9f3fcfc",
   "metadata": {},
   "outputs": [],
   "source": [
    "# __or__ ?"
   ]
  },
  {
   "cell_type": "code",
   "execution_count": null,
   "id": "7fe2e84b-c8cf-49c6-8dec-b29250be7b56",
   "metadata": {},
   "outputs": [],
   "source": [
    "# __ror__ ?"
   ]
  },
  {
   "cell_type": "code",
   "execution_count": null,
   "id": "62adb10b-ae6a-42f8-8496-d722d3beb443",
   "metadata": {},
   "outputs": [],
   "source": []
  },
  {
   "cell_type": "code",
   "execution_count": null,
   "id": "ef655a1c-74b8-4aeb-9d67-bb3ae37f0fa1",
   "metadata": {},
   "outputs": [],
   "source": []
  },
  {
   "cell_type": "code",
   "execution_count": null,
   "id": "ccc94258-2bc8-4550-884d-5326ea76aade",
   "metadata": {},
   "outputs": [],
   "source": []
  },
  {
   "cell_type": "code",
   "execution_count": null,
   "id": "56a8eeb9-ae22-4a1c-9d3b-e87abb98344e",
   "metadata": {},
   "outputs": [],
   "source": []
  },
  {
   "cell_type": "code",
   "execution_count": 97,
   "id": "9122ba02-cfba-494e-9455-414f1616655f",
   "metadata": {},
   "outputs": [
    {
     "name": "stdout",
     "output_type": "stream",
     "text": [
      "__str__ call\n",
      "{\n",
      "    'a': 20,\n",
      "    'b': 2,\n",
      "    'c': 3,\n",
      "    'd': {\n",
      "        'lol': 'haha',\n",
      "        'kekw': 'prout'\n",
      "    }\n",
      "}\n"
     ]
    }
   ],
   "source": [
    "print(dotdict_values._dotdict_hook)"
   ]
  },
  {
   "cell_type": "code",
   "execution_count": 98,
   "id": "1ef4ebbb-4a7a-45c8-8ea0-b2606dd844ba",
   "metadata": {},
   "outputs": [
    {
     "data": {
      "text/plain": [
       "True"
      ]
     },
     "execution_count": 98,
     "metadata": {},
     "output_type": "execute_result"
    }
   ],
   "source": [
    "issubclass(DotDictValues, object)"
   ]
  },
  {
   "cell_type": "code",
   "execution_count": 99,
   "id": "ab55766e-e362-4cfd-b639-017bd97386ca",
   "metadata": {},
   "outputs": [
    {
     "data": {
      "text/plain": [
       "True"
      ]
     },
     "execution_count": 99,
     "metadata": {},
     "output_type": "execute_result"
    }
   ],
   "source": [
    "issubclass(DotDictValues, Container)"
   ]
  },
  {
   "cell_type": "code",
   "execution_count": 100,
   "id": "e328fd3a-b070-49dd-ba47-32a59eeae650",
   "metadata": {},
   "outputs": [
    {
     "data": {
      "text/plain": [
       "True"
      ]
     },
     "execution_count": 100,
     "metadata": {},
     "output_type": "execute_result"
    }
   ],
   "source": [
    "issubclass(DotDictValues, Iterable)"
   ]
  },
  {
   "cell_type": "code",
   "execution_count": 101,
   "id": "05feddf3-fc3b-4721-8224-e38982c7cf34",
   "metadata": {},
   "outputs": [
    {
     "data": {
      "text/plain": [
       "True"
      ]
     },
     "execution_count": 101,
     "metadata": {},
     "output_type": "execute_result"
    }
   ],
   "source": [
    "issubclass(DotDictValues, Sized)"
   ]
  },
  {
   "cell_type": "code",
   "execution_count": 102,
   "id": "523eca27-e6cc-49aa-9077-a4988daa912c",
   "metadata": {},
   "outputs": [
    {
     "data": {
      "text/plain": [
       "True"
      ]
     },
     "execution_count": 102,
     "metadata": {},
     "output_type": "execute_result"
    }
   ],
   "source": [
    "issubclass(DotDictValues, Collection)"
   ]
  },
  {
   "cell_type": "code",
   "execution_count": 103,
   "id": "86b12ee4-7ab8-4ba1-80ef-9deeb0440faa",
   "metadata": {},
   "outputs": [
    {
     "data": {
      "text/plain": [
       "True"
      ]
     },
     "execution_count": 103,
     "metadata": {},
     "output_type": "execute_result"
    }
   ],
   "source": [
    "issubclass(DotDictValues, MappingView)"
   ]
  },
  {
   "cell_type": "code",
   "execution_count": 104,
   "id": "41a29f83-0ef4-4f71-86cb-2d8b9fa4211f",
   "metadata": {},
   "outputs": [
    {
     "data": {
      "text/plain": [
       "True"
      ]
     },
     "execution_count": 104,
     "metadata": {},
     "output_type": "execute_result"
    }
   ],
   "source": [
    "issubclass(DotDictValues, ValuesView)"
   ]
  },
  {
   "cell_type": "code",
   "execution_count": 105,
   "id": "2779a13d-1aa3-4463-98ee-e35e268108a4",
   "metadata": {},
   "outputs": [
    {
     "data": {
      "text/plain": [
       "(dotdict.DotDictValues,\n",
       " collections.abc.ValuesView,\n",
       " collections.abc.MappingView,\n",
       " collections.abc.Collection,\n",
       " collections.abc.Sized,\n",
       " collections.abc.Iterable,\n",
       " collections.abc.Container,\n",
       " object)"
      ]
     },
     "execution_count": 105,
     "metadata": {},
     "output_type": "execute_result"
    }
   ],
   "source": [
    "DotDictValues.__mro__"
   ]
  },
  {
   "cell_type": "code",
   "execution_count": 106,
   "id": "10200a6e-7884-4902-b91c-9c866d3bbb25",
   "metadata": {},
   "outputs": [
    {
     "data": {
      "text/plain": [
       "True"
      ]
     },
     "execution_count": 106,
     "metadata": {},
     "output_type": "execute_result"
    }
   ],
   "source": [
    "issubclass(DotDict, Mapping)"
   ]
  },
  {
   "cell_type": "code",
   "execution_count": 107,
   "id": "199c6f1c-2b5c-420d-9b32-afc6a407191e",
   "metadata": {},
   "outputs": [
    {
     "data": {
      "text/plain": [
       "True"
      ]
     },
     "execution_count": 107,
     "metadata": {},
     "output_type": "execute_result"
    }
   ],
   "source": [
    "isinstance({}, Mapping)"
   ]
  },
  {
   "cell_type": "code",
   "execution_count": 108,
   "id": "6e1b89a2-d79d-4dd8-a02d-5817e1f7ca4e",
   "metadata": {
    "tags": []
   },
   "outputs": [],
   "source": [
    "# dir(DotDictValues)"
   ]
  },
  {
   "cell_type": "code",
   "execution_count": 109,
   "id": "00cc10a3-843f-4877-8fa8-fa0f446f6cf0",
   "metadata": {
    "tags": []
   },
   "outputs": [],
   "source": [
    "# dir(ValuesView)"
   ]
  },
  {
   "cell_type": "code",
   "execution_count": 110,
   "id": "ef7d3212-b934-4693-adc0-58a14ad6dcb9",
   "metadata": {},
   "outputs": [
    {
     "data": {
      "text/plain": [
       "dict_values"
      ]
     },
     "execution_count": 110,
     "metadata": {},
     "output_type": "execute_result"
    }
   ],
   "source": [
    "type(dict_values)"
   ]
  },
  {
   "cell_type": "code",
   "execution_count": 111,
   "id": "16036b7d-107d-4554-8297-2a10ff2ceb63",
   "metadata": {},
   "outputs": [
    {
     "name": "stdout",
     "output_type": "stream",
     "text": [
      "collections.abc.ValuesView VS dict_values\n",
      "    __abstractmethods__\n",
      "    __class_getitem__\n",
      "    __contains__\n",
      "    __module__\n",
      "    __slots__\n",
      "    _abc_impl\n",
      "    _mapping\n",
      "\n",
      "    __reversed__\n",
      "    mapping\n",
      "\n",
      "DotDictValues VS collections.abc.ValuesView\n",
      "    __dict__\n",
      "    __reversed__\n",
      "    __weakref__\n",
      "    mapping\n",
      "\n",
      "\n",
      "DotDictValues VS dict_values\n",
      "    __abstractmethods__\n",
      "    __class_getitem__\n",
      "    __contains__\n",
      "    __dict__\n",
      "    __module__\n",
      "    __slots__\n",
      "    __weakref__\n",
      "    _abc_impl\n",
      "    _mapping\n",
      "\n",
      "\n",
      "dotdict_values VS DotDictValues\n",
      "    _dotdict_hook\n",
      "\n",
      "\n"
     ]
    }
   ],
   "source": [
    "# differences between __dir__:\n",
    "\n",
    "print(\"collections.abc.ValuesView VS dict_values\")\n",
    "_ = [print(\" \"*4 + item) for item in dir(ValuesView) if not (item in dir(dict_values))]\n",
    "print()\n",
    "_ = [print(\" \"*4 + item) for item in dir(dict_values) if not (item in dir(ValuesView))]\n",
    "print()\n",
    "\n",
    "print(\"DotDictValues VS collections.abc.ValuesView\")\n",
    "_ = [print(\" \"*4 + item) for item in dir(DotDictValues) if not (item in dir(ValuesView))]\n",
    "print()\n",
    "_ = [print(\" \"*4 + item) for item in dir(ValuesView) if not (item in dir(DotDictValues))]\n",
    "print()\n",
    "\n",
    "print(\"DotDictValues VS dict_values\")\n",
    "_ = [print(\" \"*4 + item) for item in dir(DotDictValues) if not (item in dir(dict_values))]\n",
    "print()\n",
    "_ = [print(\" \"*4 + item) for item in dir(dict_values) if not (item in dir(DotDictValues))]\n",
    "print()\n",
    "\n",
    "print(\"dotdict_values VS DotDictValues\")\n",
    "_ = [print(\" \"*4 + item) for item in dir(dotdict_values) if not (item in dir(DotDictValues))]\n",
    "print()\n",
    "_ = [print(\" \"*4 + item) for item in dir(DotDictValues) if not (item in dir(dotdict_values))]\n",
    "print()"
   ]
  },
  {
   "cell_type": "code",
   "execution_count": 112,
   "id": "831d6a15-ddff-41a0-b368-73546956ee4e",
   "metadata": {},
   "outputs": [
    {
     "data": {
      "text/plain": [
       "dict_keyiterator"
      ]
     },
     "execution_count": 112,
     "metadata": {},
     "output_type": "execute_result"
    }
   ],
   "source": [
    "type(iter(dict_test))"
   ]
  },
  {
   "cell_type": "code",
   "execution_count": 113,
   "id": "50e23a55-6f69-4554-ad9a-421303b0b372",
   "metadata": {},
   "outputs": [
    {
     "name": "stdout",
     "output_type": "stream",
     "text": [
      "__reversed__\n",
      "mapping\n"
     ]
    }
   ],
   "source": [
    "_ = [print(item) for item in dir(dict_values) if not (item in dir(ValuesView))]"
   ]
  },
  {
   "cell_type": "code",
   "execution_count": 114,
   "id": "3500bfd0-3e36-4c94-8f29-60517d2026e6",
   "metadata": {},
   "outputs": [],
   "source": [
    "# dict_values.l = 2"
   ]
  },
  {
   "cell_type": "code",
   "execution_count": 115,
   "id": "4e8053ee-285b-4492-b664-2f769c5aef5a",
   "metadata": {},
   "outputs": [],
   "source": [
    "_ = [print(item) for item in dir(type(dict_values)) if not (item in dir(dict_values))]"
   ]
  },
  {
   "cell_type": "code",
   "execution_count": 116,
   "id": "9dfe3b84-c660-4444-a248-80ad3e6fa130",
   "metadata": {},
   "outputs": [
    {
     "name": "stdout",
     "output_type": "stream",
     "text": [
      "DotDictValues __setattr__ call\n"
     ]
    },
    {
     "ename": "NotImplementedError",
     "evalue": "",
     "output_type": "error",
     "traceback": [
      "\u001b[1;31m---------------------------------------------------------------------------\u001b[0m",
      "\u001b[1;31mNotImplementedError\u001b[0m                       Traceback (most recent call last)",
      "Cell \u001b[1;32mIn[116], line 1\u001b[0m\n\u001b[1;32m----> 1\u001b[0m dotdict_values\u001b[38;5;241m.\u001b[39ml \u001b[38;5;241m=\u001b[39m \u001b[38;5;241m2\u001b[39m\n",
      "File \u001b[1;32mD:\\code\\personal_dump\\code\\python\\dotdict.py:442\u001b[0m, in \u001b[0;36mDotDictValues.__setattr__\u001b[1;34m(self, name, value)\u001b[0m\n\u001b[0;32m    440\u001b[0m \u001b[38;5;28;01mdef\u001b[39;00m \u001b[38;5;21m__setattr__\u001b[39m(\u001b[38;5;28mself\u001b[39m, name: \u001b[38;5;28mstr\u001b[39m, value: Any, \u001b[38;5;241m/\u001b[39m):\n\u001b[0;32m    441\u001b[0m     \u001b[38;5;28mprint\u001b[39m(\u001b[38;5;124m\"\u001b[39m\u001b[38;5;124mDotDictValues __setattr__ call\u001b[39m\u001b[38;5;124m\"\u001b[39m) \u001b[38;5;28;01mif\u001b[39;00m \u001b[38;5;28mself\u001b[39m\u001b[38;5;241m.\u001b[39m_dotdict_hook\u001b[38;5;241m.\u001b[39m_verbose \u001b[38;5;28;01melse\u001b[39;00m \u001b[38;5;241m.\u001b[39m\u001b[38;5;241m.\u001b[39m\u001b[38;5;241m.\u001b[39m\n\u001b[1;32m--> 442\u001b[0m     \u001b[38;5;28;01mraise\u001b[39;00m \u001b[38;5;167;01mNotImplementedError\u001b[39;00m\n",
      "\u001b[1;31mNotImplementedError\u001b[0m: "
     ]
    }
   ],
   "source": [
    "dotdict_values.l = 2"
   ]
  },
  {
   "cell_type": "code",
   "execution_count": null,
   "id": "7dcf64d4-62c4-4d5b-997c-9e29785a16f8",
   "metadata": {},
   "outputs": [],
   "source": [
    "dir(dotdict_values)"
   ]
  },
  {
   "cell_type": "code",
   "execution_count": null,
   "id": "57606569-c4be-4a22-ade1-f89a22be1c51",
   "metadata": {},
   "outputs": [],
   "source": [
    "dir(DotDictValues)"
   ]
  },
  {
   "cell_type": "code",
   "execution_count": null,
   "id": "be7cea5f-251c-46dd-83bc-fab8eb92fcd9",
   "metadata": {},
   "outputs": [],
   "source": []
  },
  {
   "cell_type": "code",
   "execution_count": null,
   "id": "4e819fc4-13d0-485e-93be-5ae9f4dedf1d",
   "metadata": {},
   "outputs": [],
   "source": []
  },
  {
   "cell_type": "markdown",
   "id": "103b2101-de5e-4fbb-9539-c5ad94e92648",
   "metadata": {},
   "source": [
    "### items"
   ]
  },
  {
   "cell_type": "code",
   "execution_count": null,
   "id": "46ce64ce-ca1a-4a6a-8352-f69a34494eb7",
   "metadata": {},
   "outputs": [],
   "source": [
    "dict_test = {\n",
    "    \"a\": 1,\n",
    "    \"b\": 2,\n",
    "    \"c\": 3,\n",
    "    \"d\": {\n",
    "        \"lol\": \"haha\",\n",
    "        \"kekw\": \"prout\"\n",
    "    }\n",
    "}\n",
    "type(dict_test.items())"
   ]
  },
  {
   "cell_type": "code",
   "execution_count": null,
   "id": "1851f6e3-84b5-43fd-866d-779b49903ea8",
   "metadata": {},
   "outputs": [],
   "source": [
    "dict_test.items()[0]"
   ]
  },
  {
   "cell_type": "code",
   "execution_count": null,
   "id": "278aeb62-c021-4015-96b2-6c4b1f17226d",
   "metadata": {},
   "outputs": [],
   "source": [
    "len(dict_test.items())"
   ]
  },
  {
   "cell_type": "code",
   "execution_count": null,
   "id": "ce1d179d-e1d4-4f75-a1dd-3dae4911a199",
   "metadata": {},
   "outputs": [],
   "source": [
    "for item in dict_test.items():\n",
    "    print(item)\n",
    "print(type(item))"
   ]
  },
  {
   "cell_type": "code",
   "execution_count": null,
   "id": "047a2ac5-ded6-4a28-b430-c2bee8409d98",
   "metadata": {},
   "outputs": [],
   "source": [
    "# dir(type(dict_test.items()))"
   ]
  },
  {
   "cell_type": "code",
   "execution_count": null,
   "id": "d065c080-1d4c-44e6-b712-601788cc603a",
   "metadata": {},
   "outputs": [],
   "source": [
    "# dir(DotDict)"
   ]
  },
  {
   "cell_type": "code",
   "execution_count": null,
   "id": "b9d1dc8b-ece5-4649-9906-2f9b1c881d29",
   "metadata": {},
   "outputs": [],
   "source": [
    "# _ = [print(item) for item in dir(DotDict) if item not in dir(type(dict_test.items()))]"
   ]
  },
  {
   "cell_type": "code",
   "execution_count": null,
   "id": "c07ee3c1-0497-4ea5-809a-af2ee5d87bd2",
   "metadata": {},
   "outputs": [],
   "source": [
    "# _ = [print(item) for item in dir(type(dict_test.items())) if item not in dir(DotDict)]"
   ]
  },
  {
   "cell_type": "code",
   "execution_count": null,
   "id": "4388313f-a964-4b41-bb2e-6ac115be3b4f",
   "metadata": {},
   "outputs": [],
   "source": [
    "# dir(dict)"
   ]
  },
  {
   "cell_type": "code",
   "execution_count": null,
   "id": "f342b62e-cb9f-45f5-bcd8-4b236f4b5364",
   "metadata": {},
   "outputs": [],
   "source": [
    "# _ = [print(item) for item in dir(list) if item not in dir(type(dict_test.items()))]"
   ]
  },
  {
   "cell_type": "code",
   "execution_count": null,
   "id": "6985ac21-35a9-4fa2-9995-28d71bd0003b",
   "metadata": {},
   "outputs": [],
   "source": [
    "# _ = [print(item) for item in dir(type(dict_test.items())) if item not in dir(list)]"
   ]
  },
  {
   "cell_type": "code",
   "execution_count": null,
   "id": "9ca8848a-dbdb-435e-b06c-7ab622c96d2c",
   "metadata": {},
   "outputs": [],
   "source": [
    "dict_items = dict_test.items()\n",
    "dict_items"
   ]
  },
  {
   "cell_type": "code",
   "execution_count": null,
   "id": "e57d201f-7876-4e3c-920c-3f80d32fb280",
   "metadata": {},
   "outputs": [],
   "source": [
    "# DotDictItems class\n",
    "# dir(DotDict_items)"
   ]
  },
  {
   "cell_type": "code",
   "execution_count": null,
   "id": "bfa6d33b-d3ee-4815-9c6e-952a5a239e49",
   "metadata": {},
   "outputs": [],
   "source": [
    "DotDict_items([(\"a\", 0)])"
   ]
  },
  {
   "cell_type": "code",
   "execution_count": null,
   "id": "7d0273bc-87f7-41af-a684-4759bf5920c4",
   "metadata": {},
   "outputs": [],
   "source": [
    "type(dict.items({}))"
   ]
  },
  {
   "cell_type": "code",
   "execution_count": null,
   "id": "08eb7342-0508-48b1-85ac-86286f7a56f6",
   "metadata": {},
   "outputs": [],
   "source": [
    "type(dict_test.keys())"
   ]
  },
  {
   "cell_type": "code",
   "execution_count": null,
   "id": "7a199325-979e-46e9-91c5-32001cdeb023",
   "metadata": {},
   "outputs": [],
   "source": [
    "dict_test.keys().mapping"
   ]
  },
  {
   "cell_type": "code",
   "execution_count": null,
   "id": "57975921-1cde-4e11-9d55-373c336babbf",
   "metadata": {},
   "outputs": [],
   "source": []
  },
  {
   "cell_type": "code",
   "execution_count": null,
   "id": "a512aced-08c0-4572-8c67-38da848a1c52",
   "metadata": {},
   "outputs": [],
   "source": [
    "# len test\n",
    "print(len(dict_test), len(dotdict_test))"
   ]
  },
  {
   "cell_type": "code",
   "execution_count": null,
   "id": "e1acd4bb-0cc0-45ff-b01e-18ced6ee9d52",
   "metadata": {},
   "outputs": [],
   "source": [
    "# __eq__ ?\n",
    "place_holder = dotdict_test_1\n",
    "dotdict_test_1 == place_holder"
   ]
  },
  {
   "cell_type": "code",
   "execution_count": null,
   "id": "4ea94c88-915d-4d24-986c-920594752c0d",
   "metadata": {},
   "outputs": [],
   "source": [
    "dotdict_test_1 == dotdict_test_2"
   ]
  },
  {
   "cell_type": "code",
   "execution_count": null,
   "id": "75af0606-7051-4396-aa26-3763a310d6d3",
   "metadata": {},
   "outputs": [],
   "source": [
    "\"param_1\" in dotdict_test"
   ]
  },
  {
   "cell_type": "code",
   "execution_count": null,
   "id": "e355a0e5-9e66-47b0-8b1b-02d3488d0b69",
   "metadata": {},
   "outputs": [],
   "source": [
    "dict.update?"
   ]
  },
  {
   "cell_type": "code",
   "execution_count": null,
   "id": "b9bc09b1-2416-4241-a5a2-4a760e92c812",
   "metadata": {},
   "outputs": [],
   "source": [
    "dotdict_test.param7.lol.Lol0"
   ]
  },
  {
   "cell_type": "code",
   "execution_count": null,
   "id": "c3462b5c-e3fe-45f4-b1b9-eb3fd86acee1",
   "metadata": {},
   "outputs": [],
   "source": [
    "dict(dotdict_test)"
   ]
  },
  {
   "cell_type": "code",
   "execution_count": null,
   "id": "7c679e17-fca0-4ea9-88b5-4699a0721bcb",
   "metadata": {},
   "outputs": [],
   "source": [
    "print(type(result_dict[\"first\"]))"
   ]
  },
  {
   "cell_type": "code",
   "execution_count": null,
   "id": "9ccb6073-8633-48dc-b297-e176471beaea",
   "metadata": {},
   "outputs": [],
   "source": [
    "print(type(dotdict_test.first))"
   ]
  },
  {
   "cell_type": "code",
   "execution_count": null,
   "id": "3719d0e4-12d9-46e5-a989-f3e5c9f32db0",
   "metadata": {},
   "outputs": [],
   "source": [
    "dir(dict)"
   ]
  },
  {
   "cell_type": "code",
   "execution_count": null,
   "id": "2d31f28f-bcdf-48d3-83df-4712458b58d1",
   "metadata": {},
   "outputs": [],
   "source": [
    "dict.__or__?"
   ]
  },
  {
   "cell_type": "code",
   "execution_count": null,
   "id": "9eca496b-55cd-46bf-8198-e3e2a0b7395d",
   "metadata": {},
   "outputs": [],
   "source": []
  },
  {
   "cell_type": "code",
   "execution_count": null,
   "id": "fff7cc86-78ab-4219-9454-69d465302dc0",
   "metadata": {},
   "outputs": [],
   "source": []
  },
  {
   "cell_type": "code",
   "execution_count": null,
   "id": "2c04f63b-92fd-45bf-8612-7ba9aef18b70",
   "metadata": {},
   "outputs": [],
   "source": []
  },
  {
   "cell_type": "markdown",
   "id": "cf0a558b-785e-4507-b046-ef29a0344362",
   "metadata": {},
   "source": [
    "### keys"
   ]
  },
  {
   "cell_type": "code",
   "execution_count": null,
   "id": "44083ad6-b0dc-4b48-8f8d-008fd629a9b9",
   "metadata": {},
   "outputs": [],
   "source": []
  },
  {
   "cell_type": "code",
   "execution_count": null,
   "id": "01ec37cf-be01-4039-9f35-8d487e32d33b",
   "metadata": {},
   "outputs": [],
   "source": []
  },
  {
   "cell_type": "code",
   "execution_count": null,
   "id": "5d5d3213-2f00-4fdf-a471-6da164d73005",
   "metadata": {},
   "outputs": [],
   "source": []
  },
  {
   "cell_type": "code",
   "execution_count": null,
   "id": "138f1917-88c0-4f8f-b11d-09caea852f7e",
   "metadata": {},
   "outputs": [],
   "source": []
  },
  {
   "cell_type": "code",
   "execution_count": null,
   "id": "fbbc3254-dc2b-4d4c-a068-bbe3a68b1a47",
   "metadata": {},
   "outputs": [],
   "source": []
  },
  {
   "cell_type": "markdown",
   "id": "423c22b4-2f44-48a4-88a9-01e86676a999",
   "metadata": {},
   "source": [
    "## failure cases"
   ]
  },
  {
   "cell_type": "code",
   "execution_count": null,
   "id": "adcfef3b-8fd3-44b9-9221-92c011c823ff",
   "metadata": {},
   "outputs": [],
   "source": [
    "dotdict_test.lol"
   ]
  },
  {
   "cell_type": "code",
   "execution_count": null,
   "id": "c897ffa0-89f9-4d22-8fd8-5a8e2c2d5922",
   "metadata": {},
   "outputs": [],
   "source": [
    "dotdict_test[\"haha\"]"
   ]
  },
  {
   "cell_type": "code",
   "execution_count": null,
   "id": "c93c469b-d95d-42ca-a1a0-a3439d5aa684",
   "metadata": {},
   "outputs": [],
   "source": [
    "dotdict_test[0] = \"lol\""
   ]
  },
  {
   "cell_type": "code",
   "execution_count": null,
   "id": "999fe764-30ac-48e5-b3aa-7e52748264da",
   "metadata": {},
   "outputs": [],
   "source": [
    "dotdict_test[\"0\"] = \"lol\""
   ]
  },
  {
   "cell_type": "code",
   "execution_count": null,
   "id": "3e8b6177-82df-4b66-a8ff-d10c805ee8d5",
   "metadata": {},
   "outputs": [],
   "source": [
    "del dotdict_test.lol"
   ]
  },
  {
   "cell_type": "code",
   "execution_count": null,
   "id": "b016018a-91c5-4e7f-acf4-7ce1071eac86",
   "metadata": {},
   "outputs": [],
   "source": [
    "del dotdict_test[\"haha\"]"
   ]
  },
  {
   "cell_type": "code",
   "execution_count": null,
   "id": "256389be-129f-413c-a895-80476b3d2845",
   "metadata": {},
   "outputs": [],
   "source": [
    "# forbidden attribute names\n",
    "dict_attribute_names = [item for item in dir(dict) if not (\"_\" in item)]\n",
    "dict_attribute_names"
   ]
  },
  {
   "cell_type": "code",
   "execution_count": null,
   "id": "3eb9b70c-dd01-400e-8e71-aefbd939cdcd",
   "metadata": {},
   "outputs": [],
   "source": []
  },
  {
   "cell_type": "markdown",
   "id": "51311d1d-58ef-4e41-97be-b1fa7697f7e2",
   "metadata": {},
   "source": [
    "# Class inheritance\n",
    "\n",
    "`super(type[, instance_or_type])`\n",
    "\n",
    "- `super` returns a proxy item used to call methods from parent or sibling classes\n",
    "- `super(type)` returns unbound super object\n",
    "- `super(type, instance)` instance must be instance of type (isinstance(instance, type))\n",
    "- `super(type, type2)` type2 must be subclass of type (issubclass(type2, type))\n",
    "\n",
    "`super` is only used when you don't want to name the parent classes by name => behavior determined at rutime using the MRO"
   ]
  },
  {
   "cell_type": "code",
   "execution_count": null,
   "id": "a4cc88f1-a437-4597-9293-1c29c24b4224",
   "metadata": {},
   "outputs": [],
   "source": [
    "%reset -f\n",
    "class B:\n",
    "    def __init__(self, b_atr: int):\n",
    "        print(\"init B\")\n",
    "        self.b_atr = b_atr\n",
    "        \n",
    "    def meth_b(self):\n",
    "        print(\"this is a method of the class B\")\n",
    "        \n",
    "    # def meth(self):\n",
    "    #     print(\"this is the method 'meth' of the class A\")\n",
    "\n",
    "# a_test = A(2)\n",
    "# print(a_test.a_atr)\n",
    "\n",
    "\n",
    "class C:\n",
    "    def __init__(self, c_atr: int):\n",
    "        print(\"init C\")\n",
    "        self.c_atr = c_atr\n",
    "        \n",
    "    def meth_c(self):\n",
    "        print(\"this is a method of the class C\")\n",
    "        \n",
    "    # def meth(self):\n",
    "    #     print(\"this is the method 'meth' of the class B\")\n",
    "        \n",
    "\n",
    "class D(C):\n",
    "    def __init__(self, c_atr: int, d_atr: int):\n",
    "        print(\"init D\")\n",
    "        # print(super())\n",
    "        # super().__init__(c_atr)\n",
    "        C.__init__(self, c_atr)\n",
    "        self.d_atr = d_atr\n",
    "        print(\"end init D\")\n",
    "        \n",
    "    def meth_d(self):\n",
    "        print(\"this is a method of the class D\")\n",
    "        \n",
    "# d_test = D(1,2)\n",
    "# print(d_test.d_atr)\n",
    "# print(d_test.c_atr)\n",
    "# d_test.meth_d()\n",
    "# d_test.meth_c()\n",
    "\n",
    "\n",
    "class A(B, D):\n",
    "    def __init__(self, a_atr: int, b_atr: int, c_atr: int, d_atr: int):\n",
    "        print(\"init A\")\n",
    "        B.__init__(self, b_atr)\n",
    "        D.__init__(self, c_atr, d_atr)\n",
    "        self.a_atr = a_atr\n",
    "        print(\"end init A\")\n",
    "        \n",
    "    # def super_tests(self):\n",
    "    #     print(super())\n",
    "    #     print(super(self.__class__, self))\n",
    "    #     # print(super(...))\n",
    "\n",
    "        \n",
    "# print(\"A.__class__:\", A.__class__)\n",
    "# print(\"type(A):\", type(A))\n",
    "# print(\"MRO:\")\n",
    "for item in A.__mro__:\n",
    "    print(item)\n",
    "print()\n",
    "\n",
    "a_test = A(1,2,3,4)\n",
    "print(a_test.a_atr)\n",
    "print(a_test.b_atr)\n",
    "print(a_test.c_atr)\n",
    "print(a_test.d_atr)\n",
    "a_test.meth_b()\n",
    "a_test.meth_c()\n",
    "a_test.meth_d()"
   ]
  },
  {
   "cell_type": "code",
   "execution_count": null,
   "id": "9c3ccf8c-c2fb-434f-a438-d547092c8cb1",
   "metadata": {},
   "outputs": [],
   "source": [
    "super(A, B)"
   ]
  },
  {
   "cell_type": "code",
   "execution_count": null,
   "id": "83c2f3c7-d47b-4c01-9ebd-9d8a9aecb7b4",
   "metadata": {},
   "outputs": [],
   "source": [
    "super?"
   ]
  },
  {
   "cell_type": "code",
   "execution_count": null,
   "id": "affb7fa5-e084-44f8-9973-8fccdc7e22bd",
   "metadata": {},
   "outputs": [],
   "source": [
    "%reset -f\n",
    "\n",
    "class Square:\n",
    "    \n",
    "    def __init__(self, side_length):\n",
    "        self.side_length = side_length\n",
    "    \n",
    "    @property\n",
    "    def area(self):\n",
    "        return self.side_length ** 2\n",
    "        \n",
    "square_test = Square(3)\n",
    "print(square_test.side_length)\n",
    "print(square_test.area)\n",
    "\n",
    "\n",
    "class Cube(Square):\n",
    "    \n",
    "    @property\n",
    "    def area(self):\n",
    "        return super().area * 6\n",
    "    \n",
    "    @property\n",
    "    def volume(self):\n",
    "        return self.side_length ** 3\n",
    "\n",
    "cube_test = Cube(4)\n",
    "print(cube_test.side_length)\n",
    "print(cube_test.area)\n",
    "print(cube_test.volume)"
   ]
  },
  {
   "cell_type": "code",
   "execution_count": null,
   "id": "2a98adc9-655b-4b82-89fc-51f5684b896c",
   "metadata": {},
   "outputs": [],
   "source": [
    "%reset -f\n",
    "\n",
    "class Tokenizer:\n",
    "    \"\"\"Tokenize text\"\"\"\n",
    "    def __init__(self, text):\n",
    "        print('Start Tokenizer init')\n",
    "        self.tokens = text.split()\n",
    "        print('End Tokenizer init')\n",
    "\n",
    "\n",
    "class WordCounter(Tokenizer):\n",
    "    \"\"\"Count words in text\"\"\"\n",
    "    def __init__(self, text):\n",
    "        print('Start WordCounter init')\n",
    "        super().__init__(text)\n",
    "        self.word_count = len(self.tokens)\n",
    "        print('End WordCounter init')\n",
    "\n",
    "\n",
    "class Vocabulary(Tokenizer):\n",
    "    \"\"\"Find unique words in text\"\"\"\n",
    "    def __init__(self, text):\n",
    "        print('Start Vocabulary init')\n",
    "        super().__init__(text)\n",
    "        self.vocab = set(self.tokens)\n",
    "        print('End Vocabulary init')\n",
    "\n",
    "\n",
    "class TextDescriber(WordCounter, Vocabulary):\n",
    "    \"\"\"Describe text with multiple metrics\"\"\"\n",
    "    def __init__(self, text):\n",
    "        print('Start TextDescriber init')\n",
    "        super().__init__(text)\n",
    "        print('End TextDescriber init')\n",
    "        \n",
    "        \n",
    "# for item in TextDescriber.__mro__:\n",
    "#     print(item)\n",
    "\n",
    "\n",
    "td = TextDescriber('row row row your boat')\n",
    "print('--------')\n",
    "print(td.tokens)\n",
    "print(td.vocab)\n",
    "print(td.word_count)"
   ]
  },
  {
   "cell_type": "code",
   "execution_count": null,
   "id": "b1839bca-eb63-45ca-a71a-07fc77f531ab",
   "metadata": {},
   "outputs": [],
   "source": [
    "# parent, child, grandchild:\n",
    "%reset -f\n",
    "\n",
    "class Parent:\n",
    "    def method(self):\n",
    "        print(\"parent method\")\n",
    "\n",
    "class Child(Parent):\n",
    "    def method(self):\n",
    "        print(\"child method\")\n",
    "        print(super())\n",
    "        super().method()\n",
    "\n",
    "class Grandchild(Child):\n",
    "    def method(self):\n",
    "        print(\"grandchild method\")\n",
    "        print(super())\n",
    "        super().method()\n",
    "    \n",
    "for item in Grandchild.__mro__:\n",
    "    print(item)\n",
    "print()\n",
    "\n",
    "Grandchild().method()"
   ]
  },
  {
   "cell_type": "code",
   "execution_count": null,
   "id": "749e4429-e8e1-4ee1-b073-5f73bd1f8f9e",
   "metadata": {},
   "outputs": [],
   "source": [
    "# child and 2 parents:\n",
    "%reset -f\n",
    "\n",
    "class Parent1:\n",
    "    def method(self):\n",
    "        print(\"parent 1 method\")\n",
    "        \n",
    "class Parent2:\n",
    "    def method(self):\n",
    "        print(\"parent 2 method\")\n",
    "        \n",
    "class Child(Parent1, Parent2):\n",
    "    def method(self):\n",
    "        print(\"child method\")\n",
    "        print(super())\n",
    "        print(super(Parent1, self))\n",
    "        # super(Parent1, self).method()\n",
    "        # super(Parent2, self).method()\n",
    "        \n",
    "for item in Child.__mro__:\n",
    "    print(item)\n",
    "print()\n",
    "\n",
    "Child().method()"
   ]
  },
  {
   "cell_type": "code",
   "execution_count": null,
   "id": "4b587bde-8505-4907-8e4b-dce47fcd6313",
   "metadata": {},
   "outputs": [],
   "source": [
    "# Child, Parent1, Parent2, Grandparent:\n",
    "%reset -f\n",
    "\n",
    "class Grandparent:\n",
    "    def method(self):\n",
    "        print(\"grandparent method\")\n",
    "\n",
    "class Parent1(Grandparent):\n",
    "    def method(self):\n",
    "        print(\"parent1 method\")\n",
    "        print(super())\n",
    "        super().method()\n",
    "\n",
    "class Parent2(Grandparent):\n",
    "    def method(self):\n",
    "        print(\"parent2 method\")\n",
    "        print(super())\n",
    "        super().method()\n",
    "\n",
    "class Child(Parent1, Parent2):\n",
    "    def method(self):\n",
    "        print(\"child method\")\n",
    "        print(super())\n",
    "        # print(super().super())\n",
    "        super().method()\n",
    "        \n",
    "for item in Child.__mro__:\n",
    "    print(item)\n",
    "print()\n",
    "\n",
    "Child().method()"
   ]
  },
  {
   "cell_type": "code",
   "execution_count": null,
   "id": "316d8cef-45aa-477d-bd93-6cfe951297f8",
   "metadata": {},
   "outputs": [],
   "source": [
    "%reset -f\n",
    "\n",
    "class Parent1:\n",
    "    def __init__(self):\n",
    "        print(\"parent 1 init\")\n",
    "        \n",
    "class Parent2:\n",
    "    def __init__(self):\n",
    "        print(\"parent 2 init\")\n",
    "        \n",
    "class Child(Parent1, Parent2):\n",
    "    def __init__(self):\n",
    "        print(\"child init\")\n",
    "        super().__init__()\n",
    "\n",
    "Child()"
   ]
  },
  {
   "cell_type": "code",
   "execution_count": null,
   "id": "b947172a-706c-439e-aecc-6137ac7d4ae6",
   "metadata": {},
   "outputs": [],
   "source": []
  },
  {
   "cell_type": "code",
   "execution_count": null,
   "id": "d2df25ec-f8a1-4261-8659-c935dccafe69",
   "metadata": {},
   "outputs": [],
   "source": []
  },
  {
   "cell_type": "code",
   "execution_count": null,
   "id": "a1e56353-a18c-4871-812b-dccc047537dc",
   "metadata": {},
   "outputs": [],
   "source": []
  },
  {
   "cell_type": "markdown",
   "id": "7382bf62-213f-4207-8301-6a92a066de44",
   "metadata": {},
   "source": [
    "# DUMP"
   ]
  },
  {
   "cell_type": "code",
   "execution_count": null,
   "id": "32a98eb7-7745-4f06-8ed7-b9ea1b870b55",
   "metadata": {},
   "outputs": [],
   "source": [
    "def test(*args, **kwargs):\n",
    "    print(args)\n",
    "    print(kwargs)\n",
    "\n",
    "args_test = (1,2,3)\n",
    "kwargs_test = {\"lol\": 0, \"lblb\": 1}\n",
    "test(*args_test, **kwargs_test)"
   ]
  },
  {
   "cell_type": "code",
   "execution_count": null,
   "id": "e52558f5-e83c-4684-84df-733004aa311d",
   "metadata": {},
   "outputs": [],
   "source": [
    "pattern = re.compile(\"^[a-zA-Z]\\w*$\")\n",
    "pattern"
   ]
  },
  {
   "cell_type": "code",
   "execution_count": null,
   "id": "1010e805-c5df-4301-9231-a8f1f55b57a1",
   "metadata": {},
   "outputs": [],
   "source": [
    "test_list = [\n",
    "    \"MyClass\",\n",
    "    \"_a_hidden_parametter\",\n",
    "    \"__dunder__\",\n",
    "    \"param_6\",\n",
    "    \"YikeS_23\",\n",
    "    \"aLBERT2dse\",\n",
    "    \"0\",\n",
    "    \"25laurence\",\n",
    "    \"Myclass#6\",\n",
    "    \"This doesn't work either\",\n",
    "    \"test's\"\n",
    "]\n",
    "for str_ in test_list:\n",
    "    if pattern.match(str_):\n",
    "        print(\"match\")\n",
    "    else:\n",
    "        print(\"no match\")"
   ]
  },
  {
   "cell_type": "code",
   "execution_count": null,
   "id": "d5024f43-0382-4541-8d98-80532cc59650",
   "metadata": {},
   "outputs": [],
   "source": [
    "class Test:\n",
    "    pass\n",
    "test_dir_return = Test().__dir__()\n",
    "test_dir_return"
   ]
  },
  {
   "cell_type": "code",
   "execution_count": null,
   "id": "9ea38991-4f2e-48bd-a5a0-a48ea8436a03",
   "metadata": {},
   "outputs": [],
   "source": [
    "type(test_dir_return)"
   ]
  },
  {
   "cell_type": "code",
   "execution_count": null,
   "id": "01a05a11-631f-47c0-886e-18ed2d5affad",
   "metadata": {},
   "outputs": [],
   "source": [
    "class NullTest:\n",
    "    def __init__(self):\n",
    "        self.lol = \"kaka\"\n",
    "        print(self.lol)\n",
    "        # self = None\n",
    "\n",
    "\n",
    "null_test = NullTest()\n",
    "null_test.__dict__"
   ]
  },
  {
   "cell_type": "code",
   "execution_count": null,
   "id": "50b8ec67-4cf8-40ac-8752-068a4b7ae0f1",
   "metadata": {},
   "outputs": [],
   "source": [
    "DotDict({'one': 1, 'three': 3}, two=2)"
   ]
  },
  {
   "cell_type": "code",
   "execution_count": null,
   "id": "c9d42534-de43-40c7-900e-31e377a097c1",
   "metadata": {},
   "outputs": [],
   "source": [
    "test = [\"a\", \"l\", \"z\"]\n",
    "test.append(\"e\")\n",
    "test"
   ]
  },
  {
   "cell_type": "code",
   "execution_count": null,
   "id": "364793f3-86e7-4037-98ad-17bfbeb85d8d",
   "metadata": {},
   "outputs": [],
   "source": [
    "dir(object)"
   ]
  },
  {
   "cell_type": "code",
   "execution_count": null,
   "id": "47d5e06d-edec-4f44-81f7-4aea230d4eba",
   "metadata": {},
   "outputs": [],
   "source": [
    "list(vars(object).keys())"
   ]
  },
  {
   "cell_type": "code",
   "execution_count": null,
   "id": "648a0ea3-4896-45ae-8e32-a1a15b2c1f8f",
   "metadata": {},
   "outputs": [],
   "source": [
    "len(vars(object).keys())"
   ]
  },
  {
   "cell_type": "code",
   "execution_count": null,
   "id": "a0131995-2e9c-4cec-84eb-e3052f1bb0a5",
   "metadata": {},
   "outputs": [],
   "source": [
    "len(dir(object))"
   ]
  },
  {
   "cell_type": "code",
   "execution_count": null,
   "id": "8961c77b-5285-412b-b37e-889e46169e9f",
   "metadata": {
    "tags": []
   },
   "outputs": [],
   "source": [
    "dir(dict)"
   ]
  },
  {
   "cell_type": "code",
   "execution_count": null,
   "id": "2b5ced74-8402-4a1b-8406-e5000e7345e5",
   "metadata": {},
   "outputs": [],
   "source": [
    "dir(dotdict_test)"
   ]
  },
  {
   "cell_type": "code",
   "execution_count": null,
   "id": "2fb0358b-c247-4d5b-aff8-99d8d5f7c125",
   "metadata": {},
   "outputs": [],
   "source": [
    "vars(dict)"
   ]
  },
  {
   "cell_type": "code",
   "execution_count": null,
   "id": "cefe5087-f7f6-4f35-9070-b6b9d2dd6f7a",
   "metadata": {},
   "outputs": [],
   "source": [
    "dict_test = {\"lol\": \"haha\"}\n",
    "vars(dict_test)"
   ]
  },
  {
   "cell_type": "code",
   "execution_count": null,
   "id": "f8dcd46c-3c0f-42d2-ac6e-017871fb2c2a",
   "metadata": {},
   "outputs": [],
   "source": [
    "vars(dotdict_test)"
   ]
  },
  {
   "cell_type": "code",
   "execution_count": null,
   "id": "690dec13-e551-460b-9891-53017b2b3e4c",
   "metadata": {},
   "outputs": [],
   "source": [
    "vars(DotDict)"
   ]
  },
  {
   "cell_type": "code",
   "execution_count": null,
   "id": "2e55c336-84ca-447c-be7e-9ae34fd84da5",
   "metadata": {},
   "outputs": [],
   "source": [
    "list_test = [1,2,3]\n",
    "vars(list_test)"
   ]
  },
  {
   "cell_type": "code",
   "execution_count": null,
   "id": "0190fbd6-b589-4fb8-a330-ca846e989fbd",
   "metadata": {},
   "outputs": [],
   "source": [
    "class Test:\n",
    "    pass\n",
    "\n",
    "object_test = Test()\n",
    "# dir(object_test)"
   ]
  },
  {
   "cell_type": "code",
   "execution_count": null,
   "id": "fc4e8f53-0374-4fb7-81a4-595090f30fd7",
   "metadata": {},
   "outputs": [],
   "source": [
    "vars(object_test)"
   ]
  },
  {
   "cell_type": "code",
   "execution_count": null,
   "id": "8470d588-ebcd-4172-8996-775b16b56b22",
   "metadata": {},
   "outputs": [],
   "source": [
    "object_test.b = 2\n",
    "object_test.b"
   ]
  },
  {
   "cell_type": "code",
   "execution_count": null,
   "id": "d330dce6-becb-45dd-8205-27641bfb0cfc",
   "metadata": {},
   "outputs": [],
   "source": [
    "object_test.__dict__[\"b\"] = 3\n",
    "object_test.__dict__[\"c\"] = 18\n",
    "print(object_test.b, object_test.c)"
   ]
  },
  {
   "cell_type": "code",
   "execution_count": null,
   "id": "6f0173a0-27e5-4c61-867b-bc3e1c6d527c",
   "metadata": {},
   "outputs": [],
   "source": [
    "vars(object_test)[\"d\"] = -5\n",
    "object_test.d"
   ]
  },
  {
   "cell_type": "code",
   "execution_count": null,
   "id": "68d3cedc-6bbd-4174-a7ff-f5a750379ec9",
   "metadata": {},
   "outputs": [],
   "source": [
    "# delete an attribute with vars and __dict___ ?\n",
    "del vars(object_test)[\"d\"]\n",
    "del object_test.__dict__[\"c\"]\n",
    "object_test.c"
   ]
  },
  {
   "cell_type": "code",
   "execution_count": null,
   "id": "d8247e21-0888-471b-9063-902e5cec15eb",
   "metadata": {},
   "outputs": [],
   "source": [
    "test = [1,2,3]\n",
    "test"
   ]
  },
  {
   "cell_type": "code",
   "execution_count": null,
   "id": "3b5c8162-d980-454c-8116-8af88ff8f034",
   "metadata": {},
   "outputs": [],
   "source": [
    "copy_test = test.copy()\n",
    "copy_test"
   ]
  },
  {
   "cell_type": "code",
   "execution_count": null,
   "id": "ea47f9ff-dac4-444f-926e-2da810abfc25",
   "metadata": {},
   "outputs": [],
   "source": [
    "copy_test.append(4)\n",
    "copy_test"
   ]
  },
  {
   "cell_type": "code",
   "execution_count": null,
   "id": "7e2ab85c-902c-453b-ae95-569f028c7d02",
   "metadata": {},
   "outputs": [],
   "source": [
    "test"
   ]
  },
  {
   "cell_type": "code",
   "execution_count": null,
   "id": "d960381a-8323-4098-8e18-6608fb953eb5",
   "metadata": {},
   "outputs": [],
   "source": [
    "copy_test = test + [4]\n",
    "copy_test"
   ]
  },
  {
   "cell_type": "code",
   "execution_count": null,
   "id": "9e6661ad-f733-40f2-b435-b27b0ff4b333",
   "metadata": {},
   "outputs": [],
   "source": [
    "test"
   ]
  },
  {
   "cell_type": "code",
   "execution_count": null,
   "id": "5bf2ad55-d9ac-4152-8107-5d74995012f8",
   "metadata": {},
   "outputs": [],
   "source": [
    "class Test:\n",
    "    def __setitem__(self, key, value):\n",
    "        print(\"__setitem__ call\")\n",
    "        super().__setitem__(key, value)\n",
    "    def __setattr__(self, key, value):\n",
    "        print(\"__setattr__ call\")\n",
    "        super().__setattr__(key, value)\n",
    "\n",
    "test = Test()\n",
    "test.a = \"b\"\n",
    "test.a"
   ]
  },
  {
   "cell_type": "code",
   "execution_count": null,
   "id": "fb2703a2-46b5-4cfb-ba5d-b43397c081d4",
   "metadata": {},
   "outputs": [],
   "source": [
    "MappingProxyType?"
   ]
  },
  {
   "cell_type": "code",
   "execution_count": null,
   "id": "8e766999-b5e6-4b54-bc48-5cfe3303bcb2",
   "metadata": {},
   "outputs": [],
   "source": [
    "test = object()\n",
    "test.lol = 2\n",
    "test"
   ]
  },
  {
   "cell_type": "code",
   "execution_count": null,
   "id": "0052acc9-bd59-4a0e-8542-0e1aea343167",
   "metadata": {},
   "outputs": [],
   "source": [
    "test.__dict__ = {}"
   ]
  },
  {
   "cell_type": "code",
   "execution_count": null,
   "id": "d112af00-1384-42bd-943b-c93699f88fa4",
   "metadata": {},
   "outputs": [],
   "source": [
    "test.__setattr__(\"__dict__\", {})\n",
    "test"
   ]
  },
  {
   "cell_type": "code",
   "execution_count": null,
   "id": "d84404a5-5582-4136-bec6-0ecf9cb7cff9",
   "metadata": {},
   "outputs": [],
   "source": [
    "test.__setattr__"
   ]
  },
  {
   "cell_type": "code",
   "execution_count": null,
   "id": "c97d1c7f-72cf-4e30-8be4-191f672e730e",
   "metadata": {},
   "outputs": [],
   "source": [
    "dict.__str__"
   ]
  },
  {
   "cell_type": "code",
   "execution_count": null,
   "id": "48e728ab-3395-495b-a034-db826dc77c33",
   "metadata": {},
   "outputs": [],
   "source": [
    "test = {\"lol\": 2}\n",
    "test_it = iter(test)\n",
    "isinstance(test_it, Iterator)"
   ]
  },
  {
   "cell_type": "code",
   "execution_count": null,
   "id": "7c8af193-86dd-4c03-851f-98d9295c566b",
   "metadata": {},
   "outputs": [],
   "source": [
    "test = \"lol\"\n",
    "test_it = iter(test)\n",
    "isinstance(test_it, Iterator)"
   ]
  },
  {
   "cell_type": "code",
   "execution_count": null,
   "id": "eed23cc4-e0c0-4440-b2cd-1ac4f774f0df",
   "metadata": {},
   "outputs": [],
   "source": [
    "test = (1,2,3)\n",
    "test_it = iter(test)\n",
    "isinstance(test_it, Iterator)"
   ]
  },
  {
   "cell_type": "code",
   "execution_count": null,
   "id": "77a4049a-be4d-4782-98bb-d60cfb76b585",
   "metadata": {},
   "outputs": [],
   "source": [
    "next(test_it)"
   ]
  },
  {
   "cell_type": "code",
   "execution_count": null,
   "id": "04a96aea-8ae9-4a7f-90e1-c85da9fa8a0d",
   "metadata": {},
   "outputs": [],
   "source": [
    "[e for e in \"lol\"]"
   ]
  },
  {
   "cell_type": "code",
   "execution_count": null,
   "id": "6bc826cf-20b0-484a-abcb-655a93506bc0",
   "metadata": {},
   "outputs": [],
   "source": [
    "\"lol\"[1]"
   ]
  },
  {
   "cell_type": "code",
   "execution_count": null,
   "id": "a9f54859-660d-4627-bd7a-0de00cb3fe98",
   "metadata": {},
   "outputs": [],
   "source": [
    "test = [1,2,3]\n",
    "test_it = iter(test)\n",
    "next(test_it)"
   ]
  },
  {
   "cell_type": "code",
   "execution_count": null,
   "id": "e53888db-12e2-463f-b64b-ccfee3bda2f2",
   "metadata": {},
   "outputs": [],
   "source": [
    "test = {0,1,2}\n",
    "iter(test)"
   ]
  },
  {
   "cell_type": "code",
   "execution_count": null,
   "id": "ddcbb28b-1768-452d-ae74-b826797c608a",
   "metadata": {},
   "outputs": [],
   "source": [
    "a = 0\n",
    "try:\n",
    "    a = 1/0\n",
    "except:\n",
    "    pass\n",
    "a"
   ]
  },
  {
   "cell_type": "code",
   "execution_count": null,
   "id": "00f38402-3852-4e91-8da8-c0b4c6ac1121",
   "metadata": {},
   "outputs": [],
   "source": [
    "from collections.abc import Mapping, Iterable, Sequence, MutableSequence\n",
    "from typing import Any\n",
    "# isinstance(DotDict(), Mapping)\n",
    "isinstance(\"lol\", MutableSequence)"
   ]
  },
  {
   "cell_type": "code",
   "execution_count": null,
   "id": "3aa552fe-d9a1-4dcd-bddd-d931aab58f5d",
   "metadata": {},
   "outputs": [],
   "source": [
    "isinstance(vars(DotDict()), Mapping)"
   ]
  },
  {
   "cell_type": "code",
   "execution_count": null,
   "id": "b7cbfb57-fac4-4531-98f0-da3fd1828217",
   "metadata": {},
   "outputs": [],
   "source": [
    "isinstance(\"abc\", Mapping)"
   ]
  },
  {
   "cell_type": "code",
   "execution_count": null,
   "id": "4f84ae8a-9d78-436a-95dd-aaf8f1058ced",
   "metadata": {},
   "outputs": [],
   "source": [
    "isinstance((1,2,3), MutableSequence)"
   ]
  },
  {
   "cell_type": "code",
   "execution_count": null,
   "id": "684ae702-e1c6-455f-9044-344576893f3b",
   "metadata": {},
   "outputs": [],
   "source": [
    "iter(range(0,10))"
   ]
  },
  {
   "cell_type": "code",
   "execution_count": null,
   "id": "50f02c84-0fec-462d-9c86-0b456c41e329",
   "metadata": {},
   "outputs": [],
   "source": [
    "dir(object())"
   ]
  },
  {
   "cell_type": "code",
   "execution_count": null,
   "id": "b0f2aa1b-bb11-41e5-9173-d976c04b68c5",
   "metadata": {},
   "outputs": [],
   "source": [
    "dir(dict())"
   ]
  },
  {
   "cell_type": "code",
   "execution_count": null,
   "id": "6a45faf2-78f1-47c8-bb2f-e630064a3b65",
   "metadata": {},
   "outputs": [],
   "source": [
    "test = b\"still allows embedded 'single' quotes\"\n",
    "iter(test)"
   ]
  },
  {
   "cell_type": "code",
   "execution_count": null,
   "id": "c8541895-68c0-4fa8-88f0-982996856d1f",
   "metadata": {},
   "outputs": [],
   "source": [
    "type(test) is str"
   ]
  },
  {
   "cell_type": "code",
   "execution_count": null,
   "id": "67d90107-9e03-4223-86aa-eb8ccb0467e1",
   "metadata": {},
   "outputs": [],
   "source": [
    "# iter(1845)"
   ]
  },
  {
   "cell_type": "code",
   "execution_count": null,
   "id": "fd53df8f-fb69-4128-a0a7-03086667dd4a",
   "metadata": {},
   "outputs": [],
   "source": [
    "isinstance(iter(1845), Iterator)"
   ]
  },
  {
   "cell_type": "code",
   "execution_count": null,
   "id": "0749f590-e5e0-42d4-aadc-af6f288e2755",
   "metadata": {},
   "outputs": [],
   "source": [
    "test = bytearray(b'Hi!')\n",
    "iter(test)\n",
    "isinstance(iter(test), Iterator)"
   ]
  },
  {
   "cell_type": "code",
   "execution_count": null,
   "id": "874058ee-8ffb-44f0-8675-b1f9be9017ad",
   "metadata": {},
   "outputs": [],
   "source": [
    "filter?"
   ]
  },
  {
   "cell_type": "code",
   "execution_count": null,
   "id": "55355e89-2cdc-436c-a062-3ad4ab512643",
   "metadata": {},
   "outputs": [],
   "source": [
    "test = list(filter(None, [3,0,1,2]))\n",
    "test"
   ]
  },
  {
   "cell_type": "code",
   "execution_count": null,
   "id": "1ef8c6cb-8ecc-49fb-adba-2a63b45d4de0",
   "metadata": {},
   "outputs": [],
   "source": [
    "# sum(), any(), all(), max(), min(), and len()\n",
    "from functools import reduce\n",
    "\n",
    "_len = lambda it: reduce(\n",
    "    lambda value, element: value + 1,\n",
    "    it,\n",
    "    0\n",
    ")\n",
    "\n",
    "_sum = lambda it: reduce(\n",
    "    lambda value, element: value + element,\n",
    "    it\n",
    ")\n",
    "\n",
    "_any = lambda it: reduce(\n",
    "    lambda value, element: bool(value) or bool(element),\n",
    "    it,\n",
    "    False\n",
    ")\n",
    "\n",
    "_all = lambda it: reduce(\n",
    "    lambda value, element: bool(value) and bool(element),\n",
    "    it,\n",
    "    True\n",
    ")\n",
    "\n",
    "_max = lambda it: reduce(\n",
    "    lambda value, element: element if element > value else value,\n",
    "    it\n",
    ")\n",
    "\n",
    "_min = lambda it: reduce(\n",
    "    lambda value, element: element if element < value else value,\n",
    "    it\n",
    ")\n",
    "\n",
    "print(_len([\"a\", \"b\", \"c\"]))\n",
    "print(_sum([3,1,2]))\n",
    "print(_any([False, False]))\n",
    "print(_any([False, True]))\n",
    "print(_all([True, True]))\n",
    "print(_all([False, True]))\n",
    "print(_max([1,5,-2]))\n",
    "print(_min([1,5,-2]))"
   ]
  },
  {
   "cell_type": "code",
   "execution_count": null,
   "id": "5d2c9f47-334c-4a6a-bce4-f63120e8d611",
   "metadata": {},
   "outputs": [],
   "source": [
    "test_lamda = lambda x, y: x + y\n",
    "test_lamda(2,3)"
   ]
  },
  {
   "cell_type": "code",
   "execution_count": null,
   "id": "5a7fb688-25ee-493d-8cae-abd515797424",
   "metadata": {},
   "outputs": [],
   "source": [
    "def title_printer(title: str, fill_char: str = \"#\", print_: bool = True) -> str:\n",
    "    \"\"\"\n",
    "    ###########################\n",
    "    ### super awesome title ###\n",
    "    ###########################\n",
    "    \"\"\"\n",
    "    # create title string\n",
    "    title_lines = []\n",
    "    title_lines.append(\"####\" + \"#\"*len(title) + \"####\")\n",
    "    title_lines.append(\"### \" + title + \" ###\")\n",
    "    title_lines.append(\"####\" + \"#\"*len(title) + \"####\")\n",
    "    title_string = \"\\n\".join(title_lines)\n",
    "    # print it and return it\n",
    "    if print_:\n",
    "        print(title_string)\n",
    "    return title_string\n",
    "\n",
    "print(title_printer(\"super awesome title\", print_=False))"
   ]
  },
  {
   "cell_type": "code",
   "execution_count": null,
   "id": "ff38fc62-91d4-4ab6-9749-0db2cb4592cb",
   "metadata": {},
   "outputs": [],
   "source": [
    "print(title_printer(\"title printer\", print_=False))"
   ]
  },
  {
   "cell_type": "code",
   "execution_count": null,
   "id": "c374ab05-b48e-4c06-9679-25821514b484",
   "metadata": {},
   "outputs": [],
   "source": [
    "dir(object)"
   ]
  },
  {
   "cell_type": "code",
   "execution_count": null,
   "id": "862f3fc1-5137-499b-ad7d-9cffc8001539",
   "metadata": {},
   "outputs": [],
   "source": [
    "isinstance([], Container)"
   ]
  },
  {
   "cell_type": "code",
   "execution_count": null,
   "id": "8dbbd739-412b-424e-9e4e-78ae4c5061f6",
   "metadata": {},
   "outputs": [],
   "source": [
    "dir([])"
   ]
  },
  {
   "cell_type": "code",
   "execution_count": null,
   "id": "f0133a70-4741-4286-a237-ab5b5d487c77",
   "metadata": {},
   "outputs": [],
   "source": [
    "test_1 = DotDict({\"a\": 0})\n",
    "test_2 = DotDict({\"a\": 0})\n",
    "test_1 is test_2"
   ]
  },
  {
   "cell_type": "code",
   "execution_count": null,
   "id": "eab6f119-8f9f-4009-a2c1-b400b04b31f4",
   "metadata": {},
   "outputs": [],
   "source": [
    "test_1 == test_2"
   ]
  },
  {
   "cell_type": "code",
   "execution_count": 3,
   "id": "721a3d0e-7ed0-408a-a922-e3ff766bfcc1",
   "metadata": {},
   "outputs": [
    {
     "data": {
      "text/plain": [
       "{'a': 1, 'b': 2}"
      ]
     },
     "execution_count": 3,
     "metadata": {},
     "output_type": "execute_result"
    }
   ],
   "source": [
    "dict_1 = {\n",
    "    \"a\": 1,\n",
    "    \"b\": 2\n",
    "}\n",
    "dict_2 = dict(dict_1)\n",
    "dict_2"
   ]
  },
  {
   "cell_type": "code",
   "execution_count": 4,
   "id": "133930d9-3c18-4e22-ae85-9ffbd5bc4934",
   "metadata": {},
   "outputs": [],
   "source": [
    "dict_1[\"a\"] = 2"
   ]
  },
  {
   "cell_type": "code",
   "execution_count": 6,
   "id": "7d9e61a7-1131-412d-92a7-23fe8aa576b3",
   "metadata": {},
   "outputs": [
    {
     "data": {
      "text/plain": [
       "{'a': 1, 'b': 2}"
      ]
     },
     "execution_count": 6,
     "metadata": {},
     "output_type": "execute_result"
    }
   ],
   "source": [
    "dict_2"
   ]
  },
  {
   "cell_type": "code",
   "execution_count": 7,
   "id": "8abc680f-b8f2-4fed-86fd-c390d2ec44e7",
   "metadata": {},
   "outputs": [
    {
     "data": {
      "text/plain": [
       "{'a': 1, 'b': 2}"
      ]
     },
     "execution_count": 7,
     "metadata": {},
     "output_type": "execute_result"
    }
   ],
   "source": [
    "dict(a=1, b=2)"
   ]
  },
  {
   "cell_type": "code",
   "execution_count": 3,
   "id": "2826e735-bbef-4d0f-94ca-e3a2cb5710ab",
   "metadata": {},
   "outputs": [
    {
     "data": {
      "text/plain": [
       "DotDict({'a': 1, 'b': 2})"
      ]
     },
     "execution_count": 3,
     "metadata": {},
     "output_type": "execute_result"
    }
   ],
   "source": [
    "DotDict(a=1, b=2)"
   ]
  },
  {
   "cell_type": "code",
   "execution_count": null,
   "id": "8892eb07-2e68-4e99-a2c0-eea379a5a5e3",
   "metadata": {},
   "outputs": [],
   "source": []
  },
  {
   "cell_type": "code",
   "execution_count": null,
   "id": "2787e72c-8651-4970-8925-1d6fc316df7e",
   "metadata": {},
   "outputs": [],
   "source": []
  },
  {
   "cell_type": "code",
   "execution_count": null,
   "id": "3ab947d2-960e-4cc1-85ba-6132b0c0c81a",
   "metadata": {},
   "outputs": [],
   "source": []
  },
  {
   "cell_type": "code",
   "execution_count": null,
   "id": "c7427183-f1bf-4f3d-9deb-e53e944b1c16",
   "metadata": {},
   "outputs": [],
   "source": []
  },
  {
   "cell_type": "code",
   "execution_count": null,
   "id": "ca0926bb-0c0f-410e-9e22-fcdcb7faf857",
   "metadata": {},
   "outputs": [],
   "source": []
  }
 ],
 "metadata": {
  "kernelspec": {
   "display_name": "Python 3 (ipykernel)",
   "language": "python",
   "name": "python3"
  },
  "language_info": {
   "codemirror_mode": {
    "name": "ipython",
    "version": 3
   },
   "file_extension": ".py",
   "mimetype": "text/x-python",
   "name": "python",
   "nbconvert_exporter": "python",
   "pygments_lexer": "ipython3",
   "version": "3.12.3"
  }
 },
 "nbformat": 4,
 "nbformat_minor": 5
}
