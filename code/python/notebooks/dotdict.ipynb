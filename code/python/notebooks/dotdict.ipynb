{
 "cells": [
  {
   "cell_type": "markdown",
   "id": "3d3a0db4-82ff-4d05-807b-7adcb4fe426c",
   "metadata": {
    "tags": []
   },
   "source": [
    "# DotDict class\n",
    "\n",
    "What I want it to do:\n",
    "- works with any dictionary whose keys are strings (and whose nested dictionaries keys are strings as well)\n",
    "- `dotdict_test = DotDict(dict_test)` gives a DotDict object, `dict_test = dict(dotdict_test)` gives back the dictionary\n",
    "- can access the entries through the \"dot\" notation AND the regular dictionary index\n",
    "- setting / accessing / deleting an attribute sets / accesses / deletes the same entry in the dictionary\n",
    "- can create an empty dotdict with `DotDict()`\n",
    "\n",
    "initialise:\n",
    "- `dotdict_test = DotDict(my_dict)`\n",
    "- `empty_dotdict = DotDict()`\n",
    "\n",
    "retrieve the dictionary: `my_dict = dict(dotdict_test)`\n",
    "\n",
    "JSON-like print: `print(dotdict_test)`\n",
    "\n",
    "`DotDict(eval(str(dotdict_test)))` returns the same DotDict object for dictionaries whose types themselves work with eval\n",
    "\n",
    "look for key/attribute:\n",
    "- `hasattr(dotdict.a.b, c)`\n",
    "- `\"c in dotdict.a.b\"`\n",
    "- `\"c\" in dotdict.a.b.keys()`\n",
    "- `\"c in list(dotdict.a.b)\"`\n",
    "- `\"c\" in dir(dotdict.a.b)` (`dir` will list `dict` and `DotDict` methods as well)\n",
    "\n",
    "get:\n",
    "- `dotdict.a.b.c`\n",
    "- `dotdict[\"a\"][\"b\"][\"c\"]`\n",
    "- `dotdict.a[\"b\"].c`\n",
    "- `getattr(dotdict.a.b, c)`\n",
    "\n",
    "set:\n",
    "- `dotdict.a.b.c = 0`\n",
    "\n",
    "delete:\n",
    "- `dotdict.clear()` empties the DotDict object\n",
    "\n",
    "TODO:\n",
    "- setting items is not recursive => OK\n",
    "- make it work with any type of mapping, not just dicts ? => needs to work recursively => OK\n",
    "- test deleting\n",
    "- add a copy method ? => return a shallow copy of DotDict ? => OK\n",
    "- add pretty prints when called by `print` => OK\n",
    "- check that every method of `dict` is working as expected\n",
    "- create new nice template for docstrings"
   ]
  },
  {
   "cell_type": "code",
   "execution_count": 1,
   "id": "c41bd575-39fe-4bc6-9578-d514c0e29cfc",
   "metadata": {},
   "outputs": [
    {
     "data": {
      "text/plain": [
       "{'status': 'ok', 'restart': True}"
      ]
     },
     "execution_count": 1,
     "metadata": {},
     "output_type": "execute_result"
    }
   ],
   "source": [
    "import IPython\n",
    "\n",
    "IPython.Application.instance().kernel.do_shutdown(True)\n",
    "# dir(IPython.Application.instance().kernel)£"
   ]
  },
  {
   "cell_type": "code",
   "execution_count": 1,
   "id": "33a71f67-ab73-49c6-be8b-3ca11ae46e4f",
   "metadata": {},
   "outputs": [],
   "source": [
    "# %reset -f\n",
    "from pathlib import Path\n",
    "import sys\n",
    "\n",
    "# ROOT_DIR_PATH = str(Path(__file__).resolve().parent)\n",
    "ROOT_DIR_PATH = str(Path.cwd().resolve().parent)\n",
    "if ROOT_DIR_PATH not in sys.path:\n",
    "    sys.path.insert(0, ROOT_DIR_PATH)\n",
    "\n",
    "from dotdict import DotDict"
   ]
  },
  {
   "cell_type": "markdown",
   "id": "1ac145f9-6a43-42d1-bb30-b16b0338eb6e",
   "metadata": {},
   "source": [
    "## basic tests"
   ]
  },
  {
   "cell_type": "code",
   "execution_count": 2,
   "id": "b89950ca-f1aa-4b43-9892-7b0a8ff011eb",
   "metadata": {},
   "outputs": [
    {
     "name": "stdout",
     "output_type": "stream",
     "text": [
      "{\n",
      "    'a': {\n",
      "        'foo': 'bar'\n",
      "    },\n",
      "    'b': {\n",
      "        'lol': 'kekw',\n",
      "        'hehe': 'haha'\n",
      "    },\n",
      "    'c': {}\n",
      "}\n"
     ]
    }
   ],
   "source": [
    "# standard dict\n",
    "test_dict = {'a': {'foo': 'bar'}, 'b': {'lol': 'kekw', 'hehe': 'haha'}, 'c': {}}\n",
    "dotdict_test = DotDict(test_dict)\n",
    "print(dotdict_test)"
   ]
  },
  {
   "cell_type": "code",
   "execution_count": 3,
   "id": "c4f35533-5edf-4179-b064-89231270d43b",
   "metadata": {},
   "outputs": [
    {
     "name": "stdout",
     "output_type": "stream",
     "text": [
      "{}\n",
      "{\n",
      "    'lol': 3,\n",
      "    'haha': 6\n",
      "}\n"
     ]
    }
   ],
   "source": [
    "# empty DotDict, basic insertion\n",
    "test = DotDict()\n",
    "print(test)\n",
    "test.lol = 3\n",
    "test[\"haha\"] = 6\n",
    "print(test)"
   ]
  },
  {
   "cell_type": "code",
   "execution_count": 4,
   "id": "10164a82-982e-49d7-b8c3-5c2eed569cdf",
   "metadata": {},
   "outputs": [
    {
     "data": {
      "text/plain": [
       "mappingproxy({'lol': 3, 'haha': 6})"
      ]
     },
     "execution_count": 4,
     "metadata": {},
     "output_type": "execute_result"
    }
   ],
   "source": [
    "# vars, dict as MappingProxyType objects\n",
    "vars(test)"
   ]
  },
  {
   "cell_type": "code",
   "execution_count": 5,
   "id": "d68ece50-36a3-416e-ac00-e8709a97e219",
   "metadata": {},
   "outputs": [
    {
     "data": {
      "text/plain": [
       "mappingproxy({'lol': 3, 'haha': 6})"
      ]
     },
     "execution_count": 5,
     "metadata": {},
     "output_type": "execute_result"
    }
   ],
   "source": [
    "test.__dict__"
   ]
  },
  {
   "cell_type": "code",
   "execution_count": 6,
   "id": "46487626-da0f-4360-a90d-8ee6cafb072e",
   "metadata": {},
   "outputs": [
    {
     "name": "stdout",
     "output_type": "stream",
     "text": [
      "None\n",
      "None\n"
     ]
    }
   ],
   "source": [
    "# _root and _path_to_root accessible but not protected from rewrites\n",
    "print(test._root)\n",
    "print(test._path_to_root)"
   ]
  },
  {
   "cell_type": "code",
   "execution_count": 7,
   "id": "40b448e3-7cbc-4534-80db-b9283338af5e",
   "metadata": {},
   "outputs": [],
   "source": [
    "# test._root = 2\n",
    "# test[\"_path_to_root\"] = \"prout\""
   ]
  },
  {
   "cell_type": "code",
   "execution_count": 8,
   "id": "bb867bf3-7704-439c-991f-0d8a25e85fb2",
   "metadata": {},
   "outputs": [
    {
     "name": "stdout",
     "output_type": "stream",
     "text": [
      "{\n",
      "    'blbl': 'lol',\n",
      "    'stuff': 74,\n",
      "    'null_value': None\n",
      "}\n",
      "None\n"
     ]
    }
   ],
   "source": [
    "# weird DotDict instanciation\n",
    "test = DotDict(blbl=\"lol\", stuff=74, null_value=None)\n",
    "print(test)\n",
    "print(test.null_value)\n",
    "# print(vars(test))"
   ]
  },
  {
   "cell_type": "code",
   "execution_count": 9,
   "id": "a0dafb33-f560-445d-ac75-a913c5672046",
   "metadata": {},
   "outputs": [
    {
     "name": "stdout",
     "output_type": "stream",
     "text": [
      "{\n",
      "    'lol': [\n",
      "        [\n",
      "            'foo',\n",
      "            'bar'\n",
      "        ],\n",
      "        [\n",
      "            1,\n",
      "            2\n",
      "        ]\n",
      "    ],\n",
      "    'haha': 'abc'\n",
      "}\n"
     ]
    }
   ],
   "source": [
    "# another weird DotDict instanciation\n",
    "test = DotDict({\n",
    "    \"lol\": [[\"foo\", \"bar\"], [1,2]],\n",
    "    \"haha\": \"abc\"\n",
    "})\n",
    "print(test)"
   ]
  },
  {
   "cell_type": "code",
   "execution_count": 10,
   "id": "c26ba842-29eb-4b71-89c0-5d514dce891d",
   "metadata": {},
   "outputs": [
    {
     "name": "stdout",
     "output_type": "stream",
     "text": [
      "<class 'list'>\n",
      "{'lol': [['foo', 'bar'], [1, 2]], 'haha': 'abc'}\n"
     ]
    }
   ],
   "source": [
    "# dict(dotdict_object) returns the dictionary\n",
    "dict_test_returned = dict(test)\n",
    "print(type(dict_test_returned[\"lol\"]))\n",
    "print(dict_test_returned)"
   ]
  },
  {
   "cell_type": "code",
   "execution_count": 11,
   "id": "774bd2c3-f7fd-436f-bd13-15fccc22c138",
   "metadata": {},
   "outputs": [
    {
     "name": "stdout",
     "output_type": "stream",
     "text": [
      "{'lol': [['foo', 'bar'], [1, 2]], 'haha': 'abc'}\n",
      "<class 'dict'>\n"
     ]
    }
   ],
   "source": [
    "# eval(str(dotdict_object)) returns the dictionary\n",
    "dict_test_returned = eval(str(test))\n",
    "print(dict_test_returned)\n",
    "print(type(dict_test_returned))"
   ]
  },
  {
   "cell_type": "markdown",
   "id": "94546f03-a275-4335-8ee6-5851175c797e",
   "metadata": {},
   "source": [
    "## init test DotDict objects"
   ]
  },
  {
   "cell_type": "code",
   "execution_count": 12,
   "id": "15613e3f-c274-4af2-9056-74c6c50dd1a4",
   "metadata": {},
   "outputs": [
    {
     "name": "stdout",
     "output_type": "stream",
     "text": [
      "{\n",
      "    'param_1': 'great',\n",
      "    'param2': 2,\n",
      "    'param3': {\n",
      "        'subparam': -5.2\n",
      "    },\n",
      "    'param4': [\n",
      "        6,\n",
      "        1,\n",
      "        2\n",
      "    ]\n",
      "}\n"
     ]
    }
   ],
   "source": [
    "dict_test = {\n",
    "    \"param_1\": \"great\",\n",
    "    \"param2\": 2,\n",
    "    # \"_lol\": \"lol\",\n",
    "    # \"items\": [\"a\", \"b\", \"c\"],\n",
    "    \"param3\": {\n",
    "        \"subparam\": -5.2,\n",
    "        # \"2\": \"lol\",\n",
    "        # 1: \"haha\"\n",
    "    },\n",
    "    \"param4\": [6,1,2]\n",
    "}\n",
    "dotdict_test_1 = DotDict(dict_test)\n",
    "print(dotdict_test_1)"
   ]
  },
  {
   "cell_type": "code",
   "execution_count": 27,
   "id": "ea15bd1c-813b-4256-99c5-f478ef1d5a98",
   "metadata": {},
   "outputs": [
    {
     "name": "stdout",
     "output_type": "stream",
     "text": [
      "<class 'dict'>\n"
     ]
    },
    {
     "data": {
      "text/plain": [
       "{'first': {'a': 0, 'b': 1, 'c': 2},\n",
       " 'second': {'a': 0, 'b': 1, 'c': 2},\n",
       " 'third': {'a': {}, 'b': {}, 'c': 2}}"
      ]
     },
     "execution_count": 27,
     "metadata": {},
     "output_type": "execute_result"
    }
   ],
   "source": [
    "# replace mappings with dicts when added\n",
    "dotdict_1 = DotDict({\n",
    "    \"a\": 0,\n",
    "    \"b\": 1,\n",
    "    \"c\": 2\n",
    "})\n",
    "dotdict_2 = DotDict({\n",
    "    \"a\": 0,\n",
    "    \"b\": 1,\n",
    "    \"c\": 2\n",
    "})\n",
    "dotdict_3 = DotDict({\n",
    "    \"a\": {\n",
    "        \n",
    "    },\n",
    "    \"b\": {\n",
    "        \n",
    "    },\n",
    "    \"c\": 2\n",
    "})\n",
    "dict_dotdict = {\n",
    "    \"first\": dotdict_1,\n",
    "    \"second\": dotdict_2,\n",
    "    \"third\": dotdict_3\n",
    "}\n",
    "dotdict_test_2 = DotDict(dict_dotdict)\n",
    "result_dict = dict(dotdict_test_2)\n",
    "print(type(result_dict[\"first\"]))\n",
    "result_dict"
   ]
  },
  {
   "cell_type": "markdown",
   "id": "5ef6fd80-a136-4818-a399-b60bbcde3b5e",
   "metadata": {},
   "source": [
    "## get values"
   ]
  },
  {
   "cell_type": "code",
   "execution_count": 55,
   "id": "4ab016bb-223d-4565-9984-fcac0984f052",
   "metadata": {
    "tags": []
   },
   "outputs": [
    {
     "name": "stdout",
     "output_type": "stream",
     "text": [
      "{\n",
      "    'subparam': -5.2\n",
      "}\n",
      "<class 'dotdict.DotDict'>\n",
      "<class 'dotdict.DotDict'>\n",
      "[6, 1, 2]\n",
      "False\n",
      "False\n",
      "True\n",
      "True\n",
      "True\n",
      "-5.2\n",
      "-5.2\n"
     ]
    }
   ],
   "source": [
    "# accessing values\n",
    "print(dotdict_test.param3)\n",
    "print(type(dotdict_test.param3))\n",
    "print(type(dotdict_test[\"param3\"]))\n",
    "print(dotdict_test[\"param4\"])\n",
    "print(hasattr(dotdict_test, \"param1\"))\n",
    "print(hasattr(dotdict_test, \"fdfd\"))\n",
    "print(\"param2\" in dotdict_test.keys())\n",
    "print(\"subparam\" in dotdict_test.param3.keys())\n",
    "print(\"subparam\" in dir(dotdict_test.param3))\n",
    "print(dotdict_test.param3.subparam)\n",
    "print(getattr(dotdict_test.param3, \"subparam\"))"
   ]
  },
  {
   "cell_type": "markdown",
   "id": "ac10cb0f-54f7-4506-846f-c972cd84e2ed",
   "metadata": {},
   "source": [
    "## set values"
   ]
  },
  {
   "cell_type": "code",
   "execution_count": 18,
   "id": "54a210de-e0f9-4b13-80a4-3b8805d06a61",
   "metadata": {},
   "outputs": [
    {
     "name": "stdout",
     "output_type": "stream",
     "text": [
      "{\n",
      "    'param_1': 'great',\n",
      "    'param2': 2,\n",
      "    'param3': {\n",
      "        'subparam': -5.2\n",
      "    },\n",
      "    'param4': [\n",
      "        6,\n",
      "        1,\n",
      "        2\n",
      "    ],\n",
      "    'param5': {\n",
      "        1,\n",
      "        2,\n",
      "        3\n",
      "    },\n",
      "    'param6': 'blblblb',\n",
      "    'param7': {\n",
      "        'lol': {\n",
      "            'Lol0': 0\n",
      "        },\n",
      "        'haha': 'prout'\n",
      "    }\n",
      "}\n",
      "\n",
      "deep change\n",
      "deep change end\n",
      "\n",
      "awesome\n",
      "\n",
      "{\n",
      "    'lol': {\n",
      "        'Lol0': 0\n",
      "    },\n",
      "    'haha': 'awesome'\n",
      "}\n",
      "<class 'dotdict.DotDict'>\n",
      "{\n",
      "    'param_1': 'great',\n",
      "    'param2': 2,\n",
      "    'param3': {\n",
      "        'subparam': -5.2\n",
      "    },\n",
      "    'param4': [\n",
      "        -5,\n",
      "        1,\n",
      "        2\n",
      "    ],\n",
      "    'param5': {\n",
      "        1,\n",
      "        2,\n",
      "        3\n",
      "    },\n",
      "    'param6': 'blblblb',\n",
      "    'param7': {\n",
      "        'lol': {\n",
      "            'Lol0': 0\n",
      "        },\n",
      "        'haha': 'awesome',\n",
      "        'foo': 'bar'\n",
      "    },\n",
      "    'param8': 'toto'\n",
      "}\n",
      "{\n",
      "    'lol': {\n",
      "        'Lol0': 0\n",
      "    },\n",
      "    'haha': 'awesome',\n",
      "    'foo': 'bar'\n",
      "}\n"
     ]
    }
   ],
   "source": [
    "# setting values\n",
    "dotdict_test.param5 = {1,2,3}\n",
    "dotdict_test[\"param6\"] = \"blblblb\"\n",
    "# dotdict_test[\"param7\"] = DotDict({\n",
    "dotdict_test[\"param7\"] = {\n",
    "    \"lol\": {\n",
    "        \"Lol0\": 0,\n",
    "        # \"1\": 2,\n",
    "        # \"_lol3\": 6,\n",
    "        # \"_ABC\": 4\n",
    "        # 2: \"lol\"\n",
    "    },\n",
    "    \"haha\": \"prout\"\n",
    "}\n",
    "print(dotdict_test)\n",
    "setattr(dotdict_test, \"param8\", \"toto\")\n",
    "# dotdict_test[\"246\"] = 4\n",
    "dotdict_test.param4[0] = -5\n",
    "print()\n",
    "print(\"deep change\")\n",
    "dotdict_test.param7.haha = \"awesome\"\n",
    "print(\"deep change end\")\n",
    "print()\n",
    "print(dotdict_test.param7.haha)\n",
    "print()\n",
    "sub_dotdict = dotdict_test.param7\n",
    "print(sub_dotdict)\n",
    "print(type(sub_dotdict))\n",
    "# print(sub_dotdict._root)\n",
    "# print(sub_dotdict._path_to_root)\n",
    "sub_dotdict.foo = \"bar\"\n",
    "print(dotdict_test)\n",
    "print(sub_dotdict)"
   ]
  },
  {
   "cell_type": "markdown",
   "id": "3dec8c17-560c-4b1d-9c24-d3c33449b469",
   "metadata": {},
   "source": [
    "## delete values"
   ]
  },
  {
   "cell_type": "code",
   "execution_count": 22,
   "id": "cd9e6500-4cb1-4e28-a6fe-d0f9337c3ca0",
   "metadata": {},
   "outputs": [
    {
     "data": {
      "text/plain": [
       "{'param_1': 'great',\n",
       " 'param2': 2,\n",
       " 'param3': {'subparam': -5.2, 'subparam2': -12.6},\n",
       " 'param4': [-5, 1, 10],\n",
       " 'param8': 'toto'}"
      ]
     },
     "execution_count": 22,
     "metadata": {},
     "output_type": "execute_result"
    }
   ],
   "source": [
    "# delete values\n",
    "delattr(dotdict_test, \"param5\")\n",
    "del dotdict_test[\"param7\"]\n",
    "del dotdict_test.param6\n",
    "dotdict_test"
   ]
  },
  {
   "cell_type": "code",
   "execution_count": 30,
   "id": "524193c5-90bb-48d4-8a49-d7c7974fc74c",
   "metadata": {},
   "outputs": [
    {
     "data": {
      "text/plain": [
       "{'first': {'a': 0, 'b': 1, 'c': 2},\n",
       " 'second': {'a': 0, 'b': 1, 'c': 2},\n",
       " 'third': {'a': {}, 'b': {}, 'c': 2}}"
      ]
     },
     "execution_count": 30,
     "metadata": {},
     "output_type": "execute_result"
    }
   ],
   "source": [
    "# delete more items\n",
    "del dotdict_test.third.b\n",
    "dotdict_test"
   ]
  },
  {
   "cell_type": "markdown",
   "id": "0cd64cb8-f22a-4ed5-9e32-9fffc8650161",
   "metadata": {},
   "source": [
    "## test dict methods"
   ]
  },
  {
   "cell_type": "code",
   "execution_count": 19,
   "id": "b59c287c-0129-4500-8378-1d4b665bc71a",
   "metadata": {
    "tags": []
   },
   "outputs": [
    {
     "name": "stdout",
     "output_type": "stream",
     "text": [
      "{\n",
      "    'param_1': 'great',\n",
      "    'param2': 2,\n",
      "    'param3': {\n",
      "        'subparam': -5.2,\n",
      "        'subparam2': -12.6\n",
      "    },\n",
      "    'param4': [\n",
      "        -5,\n",
      "        1,\n",
      "        10\n",
      "    ],\n",
      "    'param5': {\n",
      "        1,\n",
      "        2,\n",
      "        3\n",
      "    },\n",
      "    'param6': 'fgfgf',\n",
      "    'param7': {\n",
      "        'lol': {\n",
      "            'Lol0': 0\n",
      "        },\n",
      "        'haha': 'awesome',\n",
      "        'foo': 'bar'\n",
      "    },\n",
      "    'param8': 'toto'\n",
      "}\n",
      "\n",
      "{\n",
      "    'param_1': 'great',\n",
      "    'param2': 2,\n",
      "    'param3': {\n",
      "        'subparam': -5.2\n",
      "    },\n",
      "    'param4': [\n",
      "        -5,\n",
      "        1,\n",
      "        10\n",
      "    ],\n",
      "    'param5': {\n",
      "        1,\n",
      "        2,\n",
      "        3\n",
      "    },\n",
      "    'param6': 'blblblb',\n",
      "    'param7': {\n",
      "        'lol': {\n",
      "            'Lol0': 0\n",
      "        },\n",
      "        'haha': 'awesome',\n",
      "        'foo': 'bar'\n",
      "    },\n",
      "    'param8': 'toto'\n",
      "}\n",
      "\n",
      "<class 'dotdict.DotDict'>\n"
     ]
    }
   ],
   "source": [
    "# shallow copy test\n",
    "dotdict_test_copy = dotdict_test.copy()\n",
    "# this doesn't change the copy\n",
    "dotdict_test.param6 = \"fgfgf\"\n",
    "# this does\n",
    "dotdict_test.param4[2] = 10\n",
    "dotdict_test.param3.subparam2 = -12.6\n",
    "print(dotdict_test)\n",
    "print()\n",
    "print(dotdict_test_copy)\n",
    "print()\n",
    "print(type(dotdict_test_copy))"
   ]
  },
  {
   "cell_type": "code",
   "execution_count": 20,
   "id": "45315068-7cba-4360-a692-0a2da636bc6b",
   "metadata": {},
   "outputs": [
    {
     "data": {
      "text/plain": [
       "mappingproxy({'param_1': 'great',\n",
       "              'param2': 2,\n",
       "              'param3': {'subparam': -5.2, 'subparam2': -12.6},\n",
       "              'param4': [-5, 1, 10],\n",
       "              'param5': {1, 2, 3},\n",
       "              'param6': 'fgfgf',\n",
       "              'param7': {'lol': {'Lol0': 0}, 'haha': 'awesome', 'foo': 'bar'},\n",
       "              'param8': 'toto'})"
      ]
     },
     "execution_count": 20,
     "metadata": {},
     "output_type": "execute_result"
    }
   ],
   "source": [
    "vars(dotdict_test)"
   ]
  },
  {
   "cell_type": "code",
   "execution_count": 21,
   "id": "d0acd112-646f-4132-913c-52b962520cad",
   "metadata": {},
   "outputs": [
    {
     "data": {
      "text/plain": [
       "{'lol': {'Lol0': 0}, 'haha': 'awesome', 'foo': 'bar'}"
      ]
     },
     "execution_count": 21,
     "metadata": {},
     "output_type": "execute_result"
    }
   ],
   "source": [
    "# update test\n",
    "dotdict_test.param7.update({\"haha\": \"foo\"})\n",
    "dotdict_test.param7"
   ]
  },
  {
   "cell_type": "code",
   "execution_count": 118,
   "id": "6dc7eedc-c5e0-4f9f-a6ad-7073c538c645",
   "metadata": {},
   "outputs": [
    {
     "data": {
      "text/plain": [
       "{'param_1': 'great',\n",
       " 'param2': 2,\n",
       " 'param3': {'subparam': -5.2},\n",
       " 'param4': [-5, 1, 10],\n",
       " 'param5': {1, 2, 3},\n",
       " 'param6': 'fgfgf',\n",
       " 'param7': {'lol': {'Lol0': 0}, 'haha': 'prout'},\n",
       " 'param8': 'toto'}"
      ]
     },
     "execution_count": 118,
     "metadata": {},
     "output_type": "execute_result"
    }
   ],
   "source": [
    "dict_test = dict(dotdict_test)\n",
    "dict_test"
   ]
  },
  {
   "cell_type": "code",
   "execution_count": 393,
   "id": "a512aced-08c0-4572-8c67-38da848a1c52",
   "metadata": {},
   "outputs": [
    {
     "name": "stdout",
     "output_type": "stream",
     "text": [
      "4 4\n"
     ]
    }
   ],
   "source": [
    "# len test\n",
    "print(len(dict_test), len(dotdict_test))"
   ]
  },
  {
   "cell_type": "code",
   "execution_count": null,
   "id": "e1acd4bb-0cc0-45ff-b01e-18ced6ee9d52",
   "metadata": {},
   "outputs": [],
   "source": []
  },
  {
   "cell_type": "code",
   "execution_count": null,
   "id": "4ea94c88-915d-4d24-986c-920594752c0d",
   "metadata": {},
   "outputs": [],
   "source": []
  },
  {
   "cell_type": "code",
   "execution_count": null,
   "id": "11e25e5e-fa78-4c43-b867-63fdbc3e5f85",
   "metadata": {},
   "outputs": [],
   "source": []
  },
  {
   "cell_type": "code",
   "execution_count": null,
   "id": "ed728731-f7bd-4651-98cc-64705aa9dca7",
   "metadata": {},
   "outputs": [],
   "source": []
  },
  {
   "cell_type": "code",
   "execution_count": null,
   "id": "5648f4a9-ff1f-4f6e-80c2-f0a2a5df0072",
   "metadata": {},
   "outputs": [],
   "source": []
  },
  {
   "cell_type": "code",
   "execution_count": 300,
   "id": "75af0606-7051-4396-aa26-3763a310d6d3",
   "metadata": {},
   "outputs": [
    {
     "data": {
      "text/plain": [
       "True"
      ]
     },
     "execution_count": 300,
     "metadata": {},
     "output_type": "execute_result"
    }
   ],
   "source": [
    "\"param_1\" in dotdict_test"
   ]
  },
  {
   "cell_type": "code",
   "execution_count": 291,
   "id": "e355a0e5-9e66-47b0-8b1b-02d3488d0b69",
   "metadata": {},
   "outputs": [
    {
     "data": {
      "text/plain": [
       "\u001b[1;31mDocstring:\u001b[0m\n",
       "D.update([E, ]**F) -> None.  Update D from dict/iterable E and F.\n",
       "If E is present and has a .keys() method, then does:  for k in E: D[k] = E[k]\n",
       "If E is present and lacks a .keys() method, then does:  for k, v in E: D[k] = v\n",
       "In either case, this is followed by: for k in F:  D[k] = F[k]\n",
       "\u001b[1;31mType:\u001b[0m      method_descriptor"
      ]
     },
     "metadata": {},
     "output_type": "display_data"
    }
   ],
   "source": [
    "dict.update?"
   ]
  },
  {
   "cell_type": "code",
   "execution_count": 235,
   "id": "b9bc09b1-2416-4241-a5a2-4a760e92c812",
   "metadata": {},
   "outputs": [
    {
     "data": {
      "text/plain": [
       "0"
      ]
     },
     "execution_count": 235,
     "metadata": {},
     "output_type": "execute_result"
    }
   ],
   "source": [
    "dotdict_test.param7.lol.Lol0"
   ]
  },
  {
   "cell_type": "code",
   "execution_count": 23,
   "id": "c3462b5c-e3fe-45f4-b1b9-eb3fd86acee1",
   "metadata": {},
   "outputs": [
    {
     "data": {
      "text/plain": [
       "{'param_1': 'great',\n",
       " 'param2': 2,\n",
       " 'param3': {'subparam': -5.2, 'subparam2': -12.6},\n",
       " 'param4': [-5, 1, 10],\n",
       " 'param8': 'toto'}"
      ]
     },
     "execution_count": 23,
     "metadata": {},
     "output_type": "execute_result"
    }
   ],
   "source": [
    "dict(dotdict_test)"
   ]
  },
  {
   "cell_type": "code",
   "execution_count": 28,
   "id": "7c679e17-fca0-4ea9-88b5-4699a0721bcb",
   "metadata": {},
   "outputs": [
    {
     "name": "stdout",
     "output_type": "stream",
     "text": [
      "<class 'dict'>\n"
     ]
    }
   ],
   "source": [
    "print(type(result_dict[\"first\"]))"
   ]
  },
  {
   "cell_type": "code",
   "execution_count": 29,
   "id": "9ccb6073-8633-48dc-b297-e176471beaea",
   "metadata": {},
   "outputs": [
    {
     "name": "stdout",
     "output_type": "stream",
     "text": [
      "<class 'dotdict.DotDict'>\n"
     ]
    }
   ],
   "source": [
    "print(type(dotdict_test.first))"
   ]
  },
  {
   "cell_type": "code",
   "execution_count": null,
   "id": "3719d0e4-12d9-46e5-a989-f3e5c9f32db0",
   "metadata": {},
   "outputs": [],
   "source": []
  },
  {
   "cell_type": "code",
   "execution_count": null,
   "id": "2d31f28f-bcdf-48d3-83df-4712458b58d1",
   "metadata": {},
   "outputs": [],
   "source": []
  },
  {
   "cell_type": "code",
   "execution_count": null,
   "id": "9eca496b-55cd-46bf-8198-e3e2a0b7395d",
   "metadata": {},
   "outputs": [],
   "source": []
  },
  {
   "cell_type": "code",
   "execution_count": null,
   "id": "fff7cc86-78ab-4219-9454-69d465302dc0",
   "metadata": {},
   "outputs": [],
   "source": []
  },
  {
   "cell_type": "code",
   "execution_count": null,
   "id": "2c04f63b-92fd-45bf-8612-7ba9aef18b70",
   "metadata": {},
   "outputs": [],
   "source": []
  },
  {
   "cell_type": "code",
   "execution_count": null,
   "id": "d0c42995-9ed7-4f7d-a335-cf0c1c654505",
   "metadata": {},
   "outputs": [],
   "source": []
  },
  {
   "cell_type": "markdown",
   "id": "423c22b4-2f44-48a4-88a9-01e86676a999",
   "metadata": {},
   "source": [
    "## failure cases"
   ]
  },
  {
   "cell_type": "code",
   "execution_count": 101,
   "id": "adcfef3b-8fd3-44b9-9221-92c011c823ff",
   "metadata": {},
   "outputs": [
    {
     "ename": "AttributeError",
     "evalue": "No key/attribute 'lol'",
     "output_type": "error",
     "traceback": [
      "\u001b[1;31m---------------------------------------------------------------------------\u001b[0m",
      "\u001b[1;31mAttributeError\u001b[0m                            Traceback (most recent call last)",
      "Cell \u001b[1;32mIn[101], line 1\u001b[0m\n\u001b[1;32m----> 1\u001b[0m dotdict_test\u001b[38;5;241m.\u001b[39mlol\n",
      "Cell \u001b[1;32mIn[83], line 101\u001b[0m, in \u001b[0;36mDotDict.__getitem__\u001b[1;34m(self, key)\u001b[0m\n\u001b[0;32m     98\u001b[0m \u001b[38;5;28;01mdef\u001b[39;00m \u001b[38;5;21m__getitem__\u001b[39m(\u001b[38;5;28mself\u001b[39m, key: \u001b[38;5;28mstr\u001b[39m) \u001b[38;5;241m-\u001b[39m\u001b[38;5;241m>\u001b[39m Optional[Any]:\n\u001b[0;32m     99\u001b[0m     \u001b[38;5;66;03m# check if the key exists\u001b[39;00m\n\u001b[0;32m    100\u001b[0m     \u001b[38;5;28;01mif\u001b[39;00m \u001b[38;5;129;01mnot\u001b[39;00m (key \u001b[38;5;129;01min\u001b[39;00m \u001b[38;5;28mself\u001b[39m\u001b[38;5;241m.\u001b[39mkeys()):\n\u001b[1;32m--> 101\u001b[0m         \u001b[38;5;28;01mraise\u001b[39;00m \u001b[38;5;167;01mAttributeError\u001b[39;00m(\u001b[38;5;124mf\u001b[39m\u001b[38;5;124m\"\u001b[39m\u001b[38;5;124mNo key/attribute \u001b[39m\u001b[38;5;124m'\u001b[39m\u001b[38;5;132;01m{\u001b[39;00mkey\u001b[38;5;132;01m}\u001b[39;00m\u001b[38;5;124m'\u001b[39m\u001b[38;5;124m\"\u001b[39m)\n\u001b[0;32m    102\u001b[0m     value \u001b[38;5;241m=\u001b[39m \u001b[38;5;28msuper\u001b[39m()\u001b[38;5;241m.\u001b[39m\u001b[38;5;21m__getitem__\u001b[39m(key)\n\u001b[0;32m    103\u001b[0m     \u001b[38;5;28;01mif\u001b[39;00m \u001b[38;5;28mtype\u001b[39m(value) \u001b[38;5;129;01mis\u001b[39;00m \u001b[38;5;28mdict\u001b[39m:\n\u001b[0;32m    104\u001b[0m         \u001b[38;5;66;03m# if the value is a dict, return it as a DotDict object\u001b[39;00m\n\u001b[0;32m    105\u001b[0m         \u001b[38;5;66;03m# no need to check it, it's already cleared\u001b[39;00m\n",
      "\u001b[1;31mAttributeError\u001b[0m: No key/attribute 'lol'"
     ]
    }
   ],
   "source": [
    "dotdict_test.lol"
   ]
  },
  {
   "cell_type": "code",
   "execution_count": 173,
   "id": "c897ffa0-89f9-4d22-8fd8-5a8e2c2d5922",
   "metadata": {},
   "outputs": [
    {
     "ename": "AttributeError",
     "evalue": "No key/attribute 'haha'",
     "output_type": "error",
     "traceback": [
      "\u001b[1;31m---------------------------------------------------------------------------\u001b[0m",
      "\u001b[1;31mAttributeError\u001b[0m                            Traceback (most recent call last)",
      "Cell \u001b[1;32mIn[173], line 1\u001b[0m\n\u001b[1;32m----> 1\u001b[0m dotdict_test[\u001b[38;5;124m\"\u001b[39m\u001b[38;5;124mhaha\u001b[39m\u001b[38;5;124m\"\u001b[39m]\n",
      "Cell \u001b[1;32mIn[153], line 94\u001b[0m, in \u001b[0;36mDotDict.__getitem__\u001b[1;34m(self, key)\u001b[0m\n\u001b[0;32m     91\u001b[0m \u001b[38;5;28;01mdef\u001b[39;00m \u001b[38;5;21m__getitem__\u001b[39m(\u001b[38;5;28mself\u001b[39m, key: \u001b[38;5;28mstr\u001b[39m) \u001b[38;5;241m-\u001b[39m\u001b[38;5;241m>\u001b[39m Optional[Any]:\n\u001b[0;32m     92\u001b[0m     \u001b[38;5;66;03m# check if the key exists\u001b[39;00m\n\u001b[0;32m     93\u001b[0m     \u001b[38;5;28;01mif\u001b[39;00m \u001b[38;5;129;01mnot\u001b[39;00m (key \u001b[38;5;129;01min\u001b[39;00m \u001b[38;5;28mself\u001b[39m\u001b[38;5;241m.\u001b[39mkeys()):\n\u001b[1;32m---> 94\u001b[0m         \u001b[38;5;28;01mraise\u001b[39;00m \u001b[38;5;167;01mAttributeError\u001b[39;00m(\u001b[38;5;124mf\u001b[39m\u001b[38;5;124m\"\u001b[39m\u001b[38;5;124mNo key/attribute \u001b[39m\u001b[38;5;124m'\u001b[39m\u001b[38;5;132;01m{\u001b[39;00mkey\u001b[38;5;132;01m}\u001b[39;00m\u001b[38;5;124m'\u001b[39m\u001b[38;5;124m\"\u001b[39m)\n\u001b[0;32m     95\u001b[0m     value \u001b[38;5;241m=\u001b[39m \u001b[38;5;28msuper\u001b[39m()\u001b[38;5;241m.\u001b[39m\u001b[38;5;21m__getitem__\u001b[39m(key)\n\u001b[0;32m     96\u001b[0m     \u001b[38;5;28;01mif\u001b[39;00m \u001b[38;5;28mtype\u001b[39m(value) \u001b[38;5;129;01mis\u001b[39;00m \u001b[38;5;28mdict\u001b[39m:\n\u001b[0;32m     97\u001b[0m         \u001b[38;5;66;03m# if the value is a dict, return it as a DotDict object\u001b[39;00m\n\u001b[0;32m     98\u001b[0m         \u001b[38;5;66;03m# no need to check it, it's already cleared\u001b[39;00m\n",
      "\u001b[1;31mAttributeError\u001b[0m: No key/attribute 'haha'"
     ]
    }
   ],
   "source": [
    "dotdict_test[\"haha\"]"
   ]
  },
  {
   "cell_type": "code",
   "execution_count": 174,
   "id": "c93c469b-d95d-42ca-a1a0-a3439d5aa684",
   "metadata": {},
   "outputs": [
    {
     "ename": "KeyTypeError",
     "evalue": "The key '0' is not a string",
     "output_type": "error",
     "traceback": [
      "\u001b[1;31m---------------------------------------------------------------------------\u001b[0m",
      "\u001b[1;31mKeyTypeError\u001b[0m                              Traceback (most recent call last)",
      "Cell \u001b[1;32mIn[174], line 1\u001b[0m\n\u001b[1;32m----> 1\u001b[0m dotdict_test[\u001b[38;5;241m0\u001b[39m] \u001b[38;5;241m=\u001b[39m \u001b[38;5;124m\"\u001b[39m\u001b[38;5;124mlol\u001b[39m\u001b[38;5;124m\"\u001b[39m\n",
      "Cell \u001b[1;32mIn[153], line 107\u001b[0m, in \u001b[0;36mDotDict.__setitem__\u001b[1;34m(self, key, value)\u001b[0m\n\u001b[0;32m    105\u001b[0m \u001b[38;5;28;01mdef\u001b[39;00m \u001b[38;5;21m__setitem__\u001b[39m(\u001b[38;5;28mself\u001b[39m, key: \u001b[38;5;28mstr\u001b[39m, value: Optional[Any]):\n\u001b[0;32m    106\u001b[0m     \u001b[38;5;66;03m# check if the key is valid as an attribute name\u001b[39;00m\n\u001b[1;32m--> 107\u001b[0m     check_key(key)\n\u001b[0;32m    108\u001b[0m     \u001b[38;5;66;03m# if the value is a dict, convert it to DotDict (clears/cleans it)\u001b[39;00m\n\u001b[0;32m    109\u001b[0m     \u001b[38;5;28;01mif\u001b[39;00m \u001b[38;5;28mtype\u001b[39m(value) \u001b[38;5;129;01mis\u001b[39;00m \u001b[38;5;28mdict\u001b[39m:\n",
      "Cell \u001b[1;32mIn[153], line 28\u001b[0m, in \u001b[0;36mcheck_key\u001b[1;34m(key)\u001b[0m\n\u001b[0;32m     25\u001b[0m \u001b[38;5;28;01mdef\u001b[39;00m \u001b[38;5;21mcheck_key\u001b[39m(key):\n\u001b[0;32m     26\u001b[0m     \u001b[38;5;66;03m# check if the key is a string\u001b[39;00m\n\u001b[0;32m     27\u001b[0m     \u001b[38;5;28;01mif\u001b[39;00m \u001b[38;5;129;01mnot\u001b[39;00m (\u001b[38;5;28mtype\u001b[39m(key) \u001b[38;5;129;01mis\u001b[39;00m \u001b[38;5;28mstr\u001b[39m):\n\u001b[1;32m---> 28\u001b[0m         \u001b[38;5;28;01mraise\u001b[39;00m KeyTypeError(\u001b[38;5;124mf\u001b[39m\u001b[38;5;124m\"\u001b[39m\u001b[38;5;124mThe key \u001b[39m\u001b[38;5;124m'\u001b[39m\u001b[38;5;132;01m{\u001b[39;00mkey\u001b[38;5;132;01m}\u001b[39;00m\u001b[38;5;124m'\u001b[39m\u001b[38;5;124m is not a string\u001b[39m\u001b[38;5;124m\"\u001b[39m)\n\u001b[0;32m     29\u001b[0m     \u001b[38;5;66;03m# check if the key is accessible as a not-hidden attribute\u001b[39;00m\n\u001b[0;32m     30\u001b[0m     \u001b[38;5;28;01mif\u001b[39;00m \u001b[38;5;129;01mnot\u001b[39;00m attribute_name_pattern\u001b[38;5;241m.\u001b[39mmatch(key):\n",
      "\u001b[1;31mKeyTypeError\u001b[0m: The key '0' is not a string"
     ]
    }
   ],
   "source": [
    "dotdict_test[0] = \"lol\""
   ]
  },
  {
   "cell_type": "code",
   "execution_count": 176,
   "id": "999fe764-30ac-48e5-b3aa-7e52748264da",
   "metadata": {},
   "outputs": [
    {
     "ename": "AttributeNameError",
     "evalue": "The key '0' cannot be used as an attribute name",
     "output_type": "error",
     "traceback": [
      "\u001b[1;31m---------------------------------------------------------------------------\u001b[0m",
      "\u001b[1;31mAttributeNameError\u001b[0m                        Traceback (most recent call last)",
      "Cell \u001b[1;32mIn[176], line 1\u001b[0m\n\u001b[1;32m----> 1\u001b[0m dotdict_test[\u001b[38;5;124m\"\u001b[39m\u001b[38;5;124m0\u001b[39m\u001b[38;5;124m\"\u001b[39m] \u001b[38;5;241m=\u001b[39m \u001b[38;5;124m\"\u001b[39m\u001b[38;5;124mlol\u001b[39m\u001b[38;5;124m\"\u001b[39m\n",
      "Cell \u001b[1;32mIn[153], line 107\u001b[0m, in \u001b[0;36mDotDict.__setitem__\u001b[1;34m(self, key, value)\u001b[0m\n\u001b[0;32m    105\u001b[0m \u001b[38;5;28;01mdef\u001b[39;00m \u001b[38;5;21m__setitem__\u001b[39m(\u001b[38;5;28mself\u001b[39m, key: \u001b[38;5;28mstr\u001b[39m, value: Optional[Any]):\n\u001b[0;32m    106\u001b[0m     \u001b[38;5;66;03m# check if the key is valid as an attribute name\u001b[39;00m\n\u001b[1;32m--> 107\u001b[0m     check_key(key)\n\u001b[0;32m    108\u001b[0m     \u001b[38;5;66;03m# if the value is a dict, convert it to DotDict (clears/cleans it)\u001b[39;00m\n\u001b[0;32m    109\u001b[0m     \u001b[38;5;28;01mif\u001b[39;00m \u001b[38;5;28mtype\u001b[39m(value) \u001b[38;5;129;01mis\u001b[39;00m \u001b[38;5;28mdict\u001b[39m:\n",
      "Cell \u001b[1;32mIn[153], line 31\u001b[0m, in \u001b[0;36mcheck_key\u001b[1;34m(key)\u001b[0m\n\u001b[0;32m     29\u001b[0m \u001b[38;5;66;03m# check if the key is accessible as a not-hidden attribute\u001b[39;00m\n\u001b[0;32m     30\u001b[0m \u001b[38;5;28;01mif\u001b[39;00m \u001b[38;5;129;01mnot\u001b[39;00m attribute_name_pattern\u001b[38;5;241m.\u001b[39mmatch(key):\n\u001b[1;32m---> 31\u001b[0m     \u001b[38;5;28;01mraise\u001b[39;00m AttributeNameError(\u001b[38;5;124mf\u001b[39m\u001b[38;5;124m\"\u001b[39m\u001b[38;5;124mThe key \u001b[39m\u001b[38;5;124m'\u001b[39m\u001b[38;5;132;01m{\u001b[39;00mkey\u001b[38;5;132;01m}\u001b[39;00m\u001b[38;5;124m'\u001b[39m\u001b[38;5;124m cannot be used as an attribute name\u001b[39m\u001b[38;5;124m\"\u001b[39m)\n",
      "\u001b[1;31mAttributeNameError\u001b[0m: The key '0' cannot be used as an attribute name"
     ]
    }
   ],
   "source": [
    "dotdict_test[\"0\"] = \"lol\""
   ]
  },
  {
   "cell_type": "code",
   "execution_count": 177,
   "id": "3e8b6177-82df-4b66-a8ff-d10c805ee8d5",
   "metadata": {},
   "outputs": [
    {
     "ename": "AttributeError",
     "evalue": "No key/attribute 'lol'",
     "output_type": "error",
     "traceback": [
      "\u001b[1;31m---------------------------------------------------------------------------\u001b[0m",
      "\u001b[1;31mAttributeError\u001b[0m                            Traceback (most recent call last)",
      "Cell \u001b[1;32mIn[177], line 1\u001b[0m\n\u001b[1;32m----> 1\u001b[0m \u001b[38;5;28;01mdel\u001b[39;00m dotdict_test\u001b[38;5;241m.\u001b[39mlol\n",
      "Cell \u001b[1;32mIn[153], line 121\u001b[0m, in \u001b[0;36mDotDict.__delitem__\u001b[1;34m(self, key)\u001b[0m\n\u001b[0;32m    118\u001b[0m \u001b[38;5;28;01mdef\u001b[39;00m \u001b[38;5;21m__delitem__\u001b[39m(\u001b[38;5;28mself\u001b[39m, key: \u001b[38;5;28mstr\u001b[39m):\n\u001b[0;32m    119\u001b[0m     \u001b[38;5;66;03m# check if the key exists\u001b[39;00m\n\u001b[0;32m    120\u001b[0m     \u001b[38;5;28;01mif\u001b[39;00m \u001b[38;5;129;01mnot\u001b[39;00m (key \u001b[38;5;129;01min\u001b[39;00m \u001b[38;5;28mself\u001b[39m\u001b[38;5;241m.\u001b[39mkeys()):\n\u001b[1;32m--> 121\u001b[0m         \u001b[38;5;28;01mraise\u001b[39;00m \u001b[38;5;167;01mAttributeError\u001b[39;00m(\u001b[38;5;124mf\u001b[39m\u001b[38;5;124m\"\u001b[39m\u001b[38;5;124mNo key/attribute \u001b[39m\u001b[38;5;124m'\u001b[39m\u001b[38;5;132;01m{\u001b[39;00mkey\u001b[38;5;132;01m}\u001b[39;00m\u001b[38;5;124m'\u001b[39m\u001b[38;5;124m\"\u001b[39m)\n\u001b[0;32m    122\u001b[0m     \u001b[38;5;28msuper\u001b[39m()\u001b[38;5;241m.\u001b[39m\u001b[38;5;21m__delitem__\u001b[39m(key)\n",
      "\u001b[1;31mAttributeError\u001b[0m: No key/attribute 'lol'"
     ]
    }
   ],
   "source": [
    "del dotdict_test.lol"
   ]
  },
  {
   "cell_type": "code",
   "execution_count": 178,
   "id": "b016018a-91c5-4e7f-acf4-7ce1071eac86",
   "metadata": {},
   "outputs": [
    {
     "ename": "AttributeError",
     "evalue": "No key/attribute 'haha'",
     "output_type": "error",
     "traceback": [
      "\u001b[1;31m---------------------------------------------------------------------------\u001b[0m",
      "\u001b[1;31mAttributeError\u001b[0m                            Traceback (most recent call last)",
      "Cell \u001b[1;32mIn[178], line 1\u001b[0m\n\u001b[1;32m----> 1\u001b[0m \u001b[38;5;28;01mdel\u001b[39;00m dotdict_test[\u001b[38;5;124m\"\u001b[39m\u001b[38;5;124mhaha\u001b[39m\u001b[38;5;124m\"\u001b[39m]\n",
      "Cell \u001b[1;32mIn[153], line 121\u001b[0m, in \u001b[0;36mDotDict.__delitem__\u001b[1;34m(self, key)\u001b[0m\n\u001b[0;32m    118\u001b[0m \u001b[38;5;28;01mdef\u001b[39;00m \u001b[38;5;21m__delitem__\u001b[39m(\u001b[38;5;28mself\u001b[39m, key: \u001b[38;5;28mstr\u001b[39m):\n\u001b[0;32m    119\u001b[0m     \u001b[38;5;66;03m# check if the key exists\u001b[39;00m\n\u001b[0;32m    120\u001b[0m     \u001b[38;5;28;01mif\u001b[39;00m \u001b[38;5;129;01mnot\u001b[39;00m (key \u001b[38;5;129;01min\u001b[39;00m \u001b[38;5;28mself\u001b[39m\u001b[38;5;241m.\u001b[39mkeys()):\n\u001b[1;32m--> 121\u001b[0m         \u001b[38;5;28;01mraise\u001b[39;00m \u001b[38;5;167;01mAttributeError\u001b[39;00m(\u001b[38;5;124mf\u001b[39m\u001b[38;5;124m\"\u001b[39m\u001b[38;5;124mNo key/attribute \u001b[39m\u001b[38;5;124m'\u001b[39m\u001b[38;5;132;01m{\u001b[39;00mkey\u001b[38;5;132;01m}\u001b[39;00m\u001b[38;5;124m'\u001b[39m\u001b[38;5;124m\"\u001b[39m)\n\u001b[0;32m    122\u001b[0m     \u001b[38;5;28msuper\u001b[39m()\u001b[38;5;241m.\u001b[39m\u001b[38;5;21m__delitem__\u001b[39m(key)\n",
      "\u001b[1;31mAttributeError\u001b[0m: No key/attribute 'haha'"
     ]
    }
   ],
   "source": [
    "del dotdict_test[\"haha\"]"
   ]
  },
  {
   "cell_type": "code",
   "execution_count": 192,
   "id": "256389be-129f-413c-a895-80476b3d2845",
   "metadata": {},
   "outputs": [
    {
     "data": {
      "text/plain": [
       "['clear',\n",
       " 'copy',\n",
       " 'fromkeys',\n",
       " 'get',\n",
       " 'items',\n",
       " 'keys',\n",
       " 'pop',\n",
       " 'popitem',\n",
       " 'setdefault',\n",
       " 'update',\n",
       " 'values']"
      ]
     },
     "execution_count": 192,
     "metadata": {},
     "output_type": "execute_result"
    }
   ],
   "source": [
    "# forbidden attribute names\n",
    "dict_attribute_names = [item for item in dir(dict) if not (\"_\" in item)]\n",
    "dict_attribute_names"
   ]
  },
  {
   "cell_type": "code",
   "execution_count": null,
   "id": "3eb9b70c-dd01-400e-8e71-aefbd939cdcd",
   "metadata": {},
   "outputs": [],
   "source": []
  },
  {
   "cell_type": "markdown",
   "id": "51311d1d-58ef-4e41-97be-b1fa7697f7e2",
   "metadata": {},
   "source": [
    "# Class inheritance\n",
    "\n",
    "`super(type[, instance_or_type])`\n",
    "\n",
    "- `super` returns a proxy item used to call methods from parent or sibling classes\n",
    "- `super(type)` returns unbound super object\n",
    "- `super(type, instance)` instance must be instance of type (isinstance(instance, type))\n",
    "- `super(type, type2)` type2 must be subclass of type (issubclass(type2, type))\n",
    "\n",
    "`super` is only used when you don't want to name the parent classes by name => behavior determined at rutime using the MRO"
   ]
  },
  {
   "cell_type": "code",
   "execution_count": 159,
   "id": "a4cc88f1-a437-4597-9293-1c29c24b4224",
   "metadata": {},
   "outputs": [
    {
     "name": "stdout",
     "output_type": "stream",
     "text": [
      "<class '__main__.A'>\n",
      "<class '__main__.B'>\n",
      "<class '__main__.D'>\n",
      "<class '__main__.C'>\n",
      "<class 'object'>\n",
      "\n",
      "init A\n",
      "init B\n",
      "init D\n",
      "init C\n",
      "end init D\n",
      "end init A\n",
      "1\n",
      "2\n",
      "3\n",
      "4\n",
      "this is a method of the class B\n",
      "this is a method of the class C\n",
      "this is a method of the class D\n"
     ]
    }
   ],
   "source": [
    "%reset -f\n",
    "class B:\n",
    "    def __init__(self, b_atr: int):\n",
    "        print(\"init B\")\n",
    "        self.b_atr = b_atr\n",
    "        \n",
    "    def meth_b(self):\n",
    "        print(\"this is a method of the class B\")\n",
    "        \n",
    "    # def meth(self):\n",
    "    #     print(\"this is the method 'meth' of the class A\")\n",
    "\n",
    "# a_test = A(2)\n",
    "# print(a_test.a_atr)\n",
    "\n",
    "\n",
    "class C:\n",
    "    def __init__(self, c_atr: int):\n",
    "        print(\"init C\")\n",
    "        self.c_atr = c_atr\n",
    "        \n",
    "    def meth_c(self):\n",
    "        print(\"this is a method of the class C\")\n",
    "        \n",
    "    # def meth(self):\n",
    "    #     print(\"this is the method 'meth' of the class B\")\n",
    "        \n",
    "\n",
    "class D(C):\n",
    "    def __init__(self, c_atr: int, d_atr: int):\n",
    "        print(\"init D\")\n",
    "        # print(super())\n",
    "        # super().__init__(c_atr)\n",
    "        C.__init__(self, c_atr)\n",
    "        self.d_atr = d_atr\n",
    "        print(\"end init D\")\n",
    "        \n",
    "    def meth_d(self):\n",
    "        print(\"this is a method of the class D\")\n",
    "        \n",
    "# d_test = D(1,2)\n",
    "# print(d_test.d_atr)\n",
    "# print(d_test.c_atr)\n",
    "# d_test.meth_d()\n",
    "# d_test.meth_c()\n",
    "\n",
    "\n",
    "class A(B, D):\n",
    "    def __init__(self, a_atr: int, b_atr: int, c_atr: int, d_atr: int):\n",
    "        print(\"init A\")\n",
    "        B.__init__(self, b_atr)\n",
    "        D.__init__(self, c_atr, d_atr)\n",
    "        self.a_atr = a_atr\n",
    "        print(\"end init A\")\n",
    "        \n",
    "    # def super_tests(self):\n",
    "    #     print(super())\n",
    "    #     print(super(self.__class__, self))\n",
    "    #     # print(super(...))\n",
    "\n",
    "        \n",
    "# print(\"A.__class__:\", A.__class__)\n",
    "# print(\"type(A):\", type(A))\n",
    "# print(\"MRO:\")\n",
    "for item in A.__mro__:\n",
    "    print(item)\n",
    "print()\n",
    "\n",
    "a_test = A(1,2,3,4)\n",
    "print(a_test.a_atr)\n",
    "print(a_test.b_atr)\n",
    "print(a_test.c_atr)\n",
    "print(a_test.d_atr)\n",
    "a_test.meth_b()\n",
    "a_test.meth_c()\n",
    "a_test.meth_d()"
   ]
  },
  {
   "cell_type": "code",
   "execution_count": 12,
   "id": "9c3ccf8c-c2fb-434f-a438-d547092c8cb1",
   "metadata": {},
   "outputs": [
    {
     "data": {
      "text/plain": [
       "<super: __main__.A, __main__.B>"
      ]
     },
     "execution_count": 12,
     "metadata": {},
     "output_type": "execute_result"
    }
   ],
   "source": [
    "super(A, B)"
   ]
  },
  {
   "cell_type": "code",
   "execution_count": 5,
   "id": "83c2f3c7-d47b-4c01-9ebd-9d8a9aecb7b4",
   "metadata": {},
   "outputs": [
    {
     "data": {
      "text/plain": [
       "\u001b[1;31mInit signature:\u001b[0m \u001b[0msuper\u001b[0m\u001b[1;33m(\u001b[0m\u001b[0mself\u001b[0m\u001b[1;33m,\u001b[0m \u001b[1;33m/\u001b[0m\u001b[1;33m,\u001b[0m \u001b[1;33m*\u001b[0m\u001b[0margs\u001b[0m\u001b[1;33m,\u001b[0m \u001b[1;33m**\u001b[0m\u001b[0mkwargs\u001b[0m\u001b[1;33m)\u001b[0m\u001b[1;33m\u001b[0m\u001b[1;33m\u001b[0m\u001b[0m\n",
       "\u001b[1;31mDocstring:\u001b[0m     \n",
       "super() -> same as super(__class__, <first argument>)\n",
       "super(type) -> unbound super object\n",
       "super(type, obj) -> bound super object; requires isinstance(obj, type)\n",
       "super(type, type2) -> bound super object; requires issubclass(type2, type)\n",
       "Typical use to call a cooperative superclass method:\n",
       "class C(B):\n",
       "    def meth(self, arg):\n",
       "        super().meth(arg)\n",
       "This works for class methods too:\n",
       "class C(B):\n",
       "    @classmethod\n",
       "    def cmeth(cls, arg):\n",
       "        super().cmeth(arg)\n",
       "\u001b[1;31mType:\u001b[0m           type\n",
       "\u001b[1;31mSubclasses:\u001b[0m     "
      ]
     },
     "metadata": {},
     "output_type": "display_data"
    }
   ],
   "source": [
    "super?"
   ]
  },
  {
   "cell_type": "code",
   "execution_count": 40,
   "id": "affb7fa5-e084-44f8-9973-8fccdc7e22bd",
   "metadata": {},
   "outputs": [
    {
     "name": "stdout",
     "output_type": "stream",
     "text": [
      "3\n",
      "9\n",
      "4\n",
      "96\n",
      "64\n"
     ]
    }
   ],
   "source": [
    "%reset -f\n",
    "\n",
    "class Square:\n",
    "    \n",
    "    def __init__(self, side_length):\n",
    "        self.side_length = side_length\n",
    "    \n",
    "    @property\n",
    "    def area(self):\n",
    "        return self.side_length ** 2\n",
    "        \n",
    "square_test = Square(3)\n",
    "print(square_test.side_length)\n",
    "print(square_test.area)\n",
    "\n",
    "\n",
    "class Cube(Square):\n",
    "    \n",
    "    @property\n",
    "    def area(self):\n",
    "        return super().area * 6\n",
    "    \n",
    "    @property\n",
    "    def volume(self):\n",
    "        return self.side_length ** 3\n",
    "\n",
    "cube_test = Cube(4)\n",
    "print(cube_test.side_length)\n",
    "print(cube_test.area)\n",
    "print(cube_test.volume)"
   ]
  },
  {
   "cell_type": "code",
   "execution_count": 90,
   "id": "2a98adc9-655b-4b82-89fc-51f5684b896c",
   "metadata": {},
   "outputs": [
    {
     "name": "stdout",
     "output_type": "stream",
     "text": [
      "Start TextDescriber init\n",
      "Start WordCounter init\n",
      "Start Vocabulary init\n",
      "Start Tokenizer init\n",
      "End Tokenizer init\n",
      "End Vocabulary init\n",
      "End WordCounter init\n",
      "End TextDescriber init\n",
      "--------\n",
      "['row', 'row', 'row', 'your', 'boat']\n",
      "{'your', 'boat', 'row'}\n",
      "5\n"
     ]
    }
   ],
   "source": [
    "%reset -f\n",
    "\n",
    "class Tokenizer:\n",
    "    \"\"\"Tokenize text\"\"\"\n",
    "    def __init__(self, text):\n",
    "        print('Start Tokenizer init')\n",
    "        self.tokens = text.split()\n",
    "        print('End Tokenizer init')\n",
    "\n",
    "\n",
    "class WordCounter(Tokenizer):\n",
    "    \"\"\"Count words in text\"\"\"\n",
    "    def __init__(self, text):\n",
    "        print('Start WordCounter init')\n",
    "        super().__init__(text)\n",
    "        self.word_count = len(self.tokens)\n",
    "        print('End WordCounter init')\n",
    "\n",
    "\n",
    "class Vocabulary(Tokenizer):\n",
    "    \"\"\"Find unique words in text\"\"\"\n",
    "    def __init__(self, text):\n",
    "        print('Start Vocabulary init')\n",
    "        super().__init__(text)\n",
    "        self.vocab = set(self.tokens)\n",
    "        print('End Vocabulary init')\n",
    "\n",
    "\n",
    "class TextDescriber(WordCounter, Vocabulary):\n",
    "    \"\"\"Describe text with multiple metrics\"\"\"\n",
    "    def __init__(self, text):\n",
    "        print('Start TextDescriber init')\n",
    "        super().__init__(text)\n",
    "        print('End TextDescriber init')\n",
    "        \n",
    "        \n",
    "# for item in TextDescriber.__mro__:\n",
    "#     print(item)\n",
    "\n",
    "\n",
    "td = TextDescriber('row row row your boat')\n",
    "print('--------')\n",
    "print(td.tokens)\n",
    "print(td.vocab)\n",
    "print(td.word_count)"
   ]
  },
  {
   "cell_type": "code",
   "execution_count": 139,
   "id": "b1839bca-eb63-45ca-a71a-07fc77f531ab",
   "metadata": {},
   "outputs": [
    {
     "name": "stdout",
     "output_type": "stream",
     "text": [
      "<class '__main__.Grandchild'>\n",
      "<class '__main__.Child'>\n",
      "<class '__main__.Parent'>\n",
      "<class 'object'>\n",
      "\n",
      "grandchild method\n",
      "<super: <class 'Grandchild'>, <Grandchild object>>\n",
      "child method\n",
      "<super: <class 'Child'>, <Grandchild object>>\n",
      "parent method\n"
     ]
    }
   ],
   "source": [
    "# parent, child, grandchild:\n",
    "%reset -f\n",
    "\n",
    "class Parent:\n",
    "    def method(self):\n",
    "        print(\"parent method\")\n",
    "\n",
    "class Child(Parent):\n",
    "    def method(self):\n",
    "        print(\"child method\")\n",
    "        print(super())\n",
    "        super().method()\n",
    "\n",
    "class Grandchild(Child):\n",
    "    def method(self):\n",
    "        print(\"grandchild method\")\n",
    "        print(super())\n",
    "        super().method()\n",
    "    \n",
    "for item in Grandchild.__mro__:\n",
    "    print(item)\n",
    "print()\n",
    "\n",
    "Grandchild().method()"
   ]
  },
  {
   "cell_type": "code",
   "execution_count": 141,
   "id": "749e4429-e8e1-4ee1-b073-5f73bd1f8f9e",
   "metadata": {},
   "outputs": [
    {
     "name": "stdout",
     "output_type": "stream",
     "text": [
      "<class '__main__.Child'>\n",
      "<class '__main__.Parent1'>\n",
      "<class '__main__.Parent2'>\n",
      "<class 'object'>\n",
      "\n",
      "child method\n",
      "<super: <class 'Child'>, <Child object>>\n",
      "<super: <class 'Parent1'>, <Child object>>\n",
      "parent 2 method\n"
     ]
    },
    {
     "ename": "AttributeError",
     "evalue": "'super' object has no attribute 'method'",
     "output_type": "error",
     "traceback": [
      "\u001b[1;31m---------------------------------------------------------------------------\u001b[0m",
      "\u001b[1;31mAttributeError\u001b[0m                            Traceback (most recent call last)",
      "Cell \u001b[1;32mIn[141], line 24\u001b[0m\n\u001b[0;32m     21\u001b[0m     \u001b[38;5;28mprint\u001b[39m(item)\n\u001b[0;32m     22\u001b[0m \u001b[38;5;28mprint\u001b[39m()\n\u001b[1;32m---> 24\u001b[0m Child()\u001b[38;5;241m.\u001b[39mmethod()\n",
      "Cell \u001b[1;32mIn[141], line 18\u001b[0m, in \u001b[0;36mChild.method\u001b[1;34m(self)\u001b[0m\n\u001b[0;32m     16\u001b[0m \u001b[38;5;28mprint\u001b[39m(\u001b[38;5;28msuper\u001b[39m(Parent1, \u001b[38;5;28mself\u001b[39m))\n\u001b[0;32m     17\u001b[0m \u001b[38;5;28msuper\u001b[39m(Parent1, \u001b[38;5;28mself\u001b[39m)\u001b[38;5;241m.\u001b[39mmethod()\n\u001b[1;32m---> 18\u001b[0m \u001b[38;5;28msuper\u001b[39m(Parent2, \u001b[38;5;28mself\u001b[39m)\u001b[38;5;241m.\u001b[39mmethod()\n",
      "\u001b[1;31mAttributeError\u001b[0m: 'super' object has no attribute 'method'"
     ]
    }
   ],
   "source": [
    "# child and 2 parents:\n",
    "%reset -f\n",
    "\n",
    "class Parent1:\n",
    "    def method(self):\n",
    "        print(\"parent 1 method\")\n",
    "        \n",
    "class Parent2:\n",
    "    def method(self):\n",
    "        print(\"parent 2 method\")\n",
    "        \n",
    "class Child(Parent1, Parent2):\n",
    "    def method(self):\n",
    "        print(\"child method\")\n",
    "        print(super())\n",
    "        print(super(Parent1, self))\n",
    "        # super(Parent1, self).method()\n",
    "        # super(Parent2, self).method()\n",
    "        \n",
    "for item in Child.__mro__:\n",
    "    print(item)\n",
    "print()\n",
    "\n",
    "Child().method()"
   ]
  },
  {
   "cell_type": "code",
   "execution_count": 135,
   "id": "4b587bde-8505-4907-8e4b-dce47fcd6313",
   "metadata": {},
   "outputs": [
    {
     "name": "stdout",
     "output_type": "stream",
     "text": [
      "<class '__main__.Child'>\n",
      "<class '__main__.Parent1'>\n",
      "<class '__main__.Parent2'>\n",
      "<class '__main__.Grandparent'>\n",
      "<class 'object'>\n",
      "\n",
      "child method\n",
      "<super: <class 'Child'>, <Child object>>\n",
      "parent1 method\n",
      "<super: <class 'Parent1'>, <Child object>>\n",
      "parent2 method\n",
      "<super: <class 'Parent2'>, <Child object>>\n",
      "grandparent method\n"
     ]
    }
   ],
   "source": [
    "# Child, Parent1, Parent2, Grandparent:\n",
    "%reset -f\n",
    "\n",
    "class Grandparent:\n",
    "    def method(self):\n",
    "        print(\"grandparent method\")\n",
    "\n",
    "class Parent1(Grandparent):\n",
    "    def method(self):\n",
    "        print(\"parent1 method\")\n",
    "        print(super())\n",
    "        super().method()\n",
    "\n",
    "class Parent2(Grandparent):\n",
    "    def method(self):\n",
    "        print(\"parent2 method\")\n",
    "        print(super())\n",
    "        super().method()\n",
    "\n",
    "class Child(Parent1, Parent2):\n",
    "    def method(self):\n",
    "        print(\"child method\")\n",
    "        print(super())\n",
    "        # print(super().super())\n",
    "        super().method()\n",
    "        \n",
    "for item in Child.__mro__:\n",
    "    print(item)\n",
    "print()\n",
    "\n",
    "Child().method()"
   ]
  },
  {
   "cell_type": "code",
   "execution_count": 94,
   "id": "316d8cef-45aa-477d-bd93-6cfe951297f8",
   "metadata": {},
   "outputs": [
    {
     "name": "stdout",
     "output_type": "stream",
     "text": [
      "child init\n",
      "parent 1 init\n"
     ]
    },
    {
     "data": {
      "text/plain": [
       "<__main__.Child at 0x144f188a410>"
      ]
     },
     "execution_count": 94,
     "metadata": {},
     "output_type": "execute_result"
    }
   ],
   "source": [
    "%reset -f\n",
    "\n",
    "class Parent1:\n",
    "    def __init__(self):\n",
    "        print(\"parent 1 init\")\n",
    "        \n",
    "class Parent2:\n",
    "    def __init__(self):\n",
    "        print(\"parent 2 init\")\n",
    "        \n",
    "class Child(Parent1, Parent2):\n",
    "    def __init__(self):\n",
    "        print(\"child init\")\n",
    "        super().__init__()\n",
    "\n",
    "Child()"
   ]
  },
  {
   "cell_type": "code",
   "execution_count": null,
   "id": "b947172a-706c-439e-aecc-6137ac7d4ae6",
   "metadata": {},
   "outputs": [],
   "source": []
  },
  {
   "cell_type": "code",
   "execution_count": null,
   "id": "d2df25ec-f8a1-4261-8659-c935dccafe69",
   "metadata": {},
   "outputs": [],
   "source": []
  },
  {
   "cell_type": "code",
   "execution_count": null,
   "id": "a1e56353-a18c-4871-812b-dccc047537dc",
   "metadata": {},
   "outputs": [],
   "source": []
  },
  {
   "cell_type": "markdown",
   "id": "7382bf62-213f-4207-8301-6a92a066de44",
   "metadata": {},
   "source": [
    "# DUMP"
   ]
  },
  {
   "cell_type": "code",
   "execution_count": 53,
   "id": "32a98eb7-7745-4f06-8ed7-b9ea1b870b55",
   "metadata": {},
   "outputs": [
    {
     "name": "stdout",
     "output_type": "stream",
     "text": [
      "(1, 2, 3)\n",
      "{'lol': 0, 'lblb': 1}\n"
     ]
    }
   ],
   "source": [
    "def test(*args, **kwargs):\n",
    "    print(args)\n",
    "    print(kwargs)\n",
    "\n",
    "args_test = (1,2,3)\n",
    "kwargs_test = {\"lol\": 0, \"lblb\": 1}\n",
    "test(*args_test, **kwargs_test)"
   ]
  },
  {
   "cell_type": "code",
   "execution_count": 2,
   "id": "e52558f5-e83c-4684-84df-733004aa311d",
   "metadata": {},
   "outputs": [
    {
     "data": {
      "text/plain": [
       "re.compile(r'^[a-zA-Z]\\w*$', re.UNICODE)"
      ]
     },
     "execution_count": 2,
     "metadata": {},
     "output_type": "execute_result"
    }
   ],
   "source": [
    "pattern = re.compile(\"^[a-zA-Z]\\w*$\")\n",
    "pattern"
   ]
  },
  {
   "cell_type": "code",
   "execution_count": 3,
   "id": "1010e805-c5df-4301-9231-a8f1f55b57a1",
   "metadata": {},
   "outputs": [
    {
     "name": "stdout",
     "output_type": "stream",
     "text": [
      "match\n",
      "no match\n",
      "no match\n",
      "match\n",
      "match\n",
      "match\n",
      "no match\n",
      "no match\n",
      "no match\n",
      "no match\n",
      "no match\n"
     ]
    }
   ],
   "source": [
    "test_list = [\n",
    "    \"MyClass\",\n",
    "    \"_a_hidden_parametter\",\n",
    "    \"__dunder__\",\n",
    "    \"param_6\",\n",
    "    \"YikeS_23\",\n",
    "    \"aLBERT2dse\",\n",
    "    \"0\",\n",
    "    \"25laurence\",\n",
    "    \"Myclass#6\",\n",
    "    \"This doesn't work either\",\n",
    "    \"test's\"\n",
    "]\n",
    "for str_ in test_list:\n",
    "    if pattern.match(str_):\n",
    "        print(\"match\")\n",
    "    else:\n",
    "        print(\"no match\")"
   ]
  },
  {
   "cell_type": "code",
   "execution_count": 90,
   "id": "d5024f43-0382-4541-8d98-80532cc59650",
   "metadata": {},
   "outputs": [
    {
     "data": {
      "text/plain": [
       "['__module__',\n",
       " '__dict__',\n",
       " '__weakref__',\n",
       " '__doc__',\n",
       " '__new__',\n",
       " '__repr__',\n",
       " '__hash__',\n",
       " '__str__',\n",
       " '__getattribute__',\n",
       " '__setattr__',\n",
       " '__delattr__',\n",
       " '__lt__',\n",
       " '__le__',\n",
       " '__eq__',\n",
       " '__ne__',\n",
       " '__gt__',\n",
       " '__ge__',\n",
       " '__init__',\n",
       " '__reduce_ex__',\n",
       " '__reduce__',\n",
       " '__getstate__',\n",
       " '__subclasshook__',\n",
       " '__init_subclass__',\n",
       " '__format__',\n",
       " '__sizeof__',\n",
       " '__dir__',\n",
       " '__class__']"
      ]
     },
     "execution_count": 90,
     "metadata": {},
     "output_type": "execute_result"
    }
   ],
   "source": [
    "class Test:\n",
    "    pass\n",
    "test_dir_return = Test().__dir__()\n",
    "test_dir_return"
   ]
  },
  {
   "cell_type": "code",
   "execution_count": 91,
   "id": "9ea38991-4f2e-48bd-a5a0-a48ea8436a03",
   "metadata": {},
   "outputs": [
    {
     "data": {
      "text/plain": [
       "list"
      ]
     },
     "execution_count": 91,
     "metadata": {},
     "output_type": "execute_result"
    }
   ],
   "source": [
    "type(test_dir_return)"
   ]
  },
  {
   "cell_type": "code",
   "execution_count": 205,
   "id": "01a05a11-631f-47c0-886e-18ed2d5affad",
   "metadata": {},
   "outputs": [
    {
     "name": "stdout",
     "output_type": "stream",
     "text": [
      "kaka\n"
     ]
    },
    {
     "data": {
      "text/plain": [
       "{'lol': 'kaka'}"
      ]
     },
     "execution_count": 205,
     "metadata": {},
     "output_type": "execute_result"
    }
   ],
   "source": [
    "class NullTest:\n",
    "    def __init__(self):\n",
    "        self.lol = \"kaka\"\n",
    "        print(self.lol)\n",
    "        # self = None\n",
    "\n",
    "\n",
    "null_test = NullTest()\n",
    "null_test.__dict__"
   ]
  },
  {
   "cell_type": "code",
   "execution_count": 332,
   "id": "50b8ec67-4cf8-40ac-8752-068a4b7ae0f1",
   "metadata": {},
   "outputs": [
    {
     "data": {
      "text/plain": [
       "{'one': 1, 'three': 3, 'two': 2}"
      ]
     },
     "execution_count": 332,
     "metadata": {},
     "output_type": "execute_result"
    }
   ],
   "source": [
    "DotDict({'one': 1, 'three': 3}, two=2)"
   ]
  },
  {
   "cell_type": "code",
   "execution_count": 363,
   "id": "c9d42534-de43-40c7-900e-31e377a097c1",
   "metadata": {},
   "outputs": [
    {
     "data": {
      "text/plain": [
       "['a', 'l', 'z', 'e']"
      ]
     },
     "execution_count": 363,
     "metadata": {},
     "output_type": "execute_result"
    }
   ],
   "source": [
    "test = [\"a\", \"l\", \"z\"]\n",
    "test.append(\"e\")\n",
    "test"
   ]
  },
  {
   "cell_type": "code",
   "execution_count": null,
   "id": "364793f3-86e7-4037-98ad-17bfbeb85d8d",
   "metadata": {},
   "outputs": [],
   "source": [
    "dir(object)"
   ]
  },
  {
   "cell_type": "code",
   "execution_count": null,
   "id": "47d5e06d-edec-4f44-81f7-4aea230d4eba",
   "metadata": {},
   "outputs": [],
   "source": [
    "list(vars(object).keys())"
   ]
  },
  {
   "cell_type": "code",
   "execution_count": 25,
   "id": "648a0ea3-4896-45ae-8e32-a1a15b2c1f8f",
   "metadata": {},
   "outputs": [
    {
     "data": {
      "text/plain": [
       "24"
      ]
     },
     "execution_count": 25,
     "metadata": {},
     "output_type": "execute_result"
    }
   ],
   "source": [
    "len(vars(object).keys())"
   ]
  },
  {
   "cell_type": "code",
   "execution_count": 26,
   "id": "a0131995-2e9c-4cec-84eb-e3052f1bb0a5",
   "metadata": {},
   "outputs": [
    {
     "data": {
      "text/plain": [
       "24"
      ]
     },
     "execution_count": 26,
     "metadata": {},
     "output_type": "execute_result"
    }
   ],
   "source": [
    "len(dir(object))"
   ]
  },
  {
   "cell_type": "code",
   "execution_count": null,
   "id": "8961c77b-5285-412b-b37e-889e46169e9f",
   "metadata": {
    "tags": []
   },
   "outputs": [],
   "source": [
    "dir(dict)"
   ]
  },
  {
   "cell_type": "code",
   "execution_count": null,
   "id": "2b5ced74-8402-4a1b-8406-e5000e7345e5",
   "metadata": {},
   "outputs": [],
   "source": [
    "dir(dotdict_test)"
   ]
  },
  {
   "cell_type": "code",
   "execution_count": null,
   "id": "2fb0358b-c247-4d5b-aff8-99d8d5f7c125",
   "metadata": {},
   "outputs": [],
   "source": [
    "vars(dict)"
   ]
  },
  {
   "cell_type": "code",
   "execution_count": 52,
   "id": "cefe5087-f7f6-4f35-9070-b6b9d2dd6f7a",
   "metadata": {},
   "outputs": [
    {
     "ename": "TypeError",
     "evalue": "vars() argument must have __dict__ attribute",
     "output_type": "error",
     "traceback": [
      "\u001b[1;31m---------------------------------------------------------------------------\u001b[0m",
      "\u001b[1;31mTypeError\u001b[0m                                 Traceback (most recent call last)",
      "Cell \u001b[1;32mIn[52], line 2\u001b[0m\n\u001b[0;32m      1\u001b[0m dict_test \u001b[38;5;241m=\u001b[39m {\u001b[38;5;124m\"\u001b[39m\u001b[38;5;124mlol\u001b[39m\u001b[38;5;124m\"\u001b[39m: \u001b[38;5;124m\"\u001b[39m\u001b[38;5;124mhaha\u001b[39m\u001b[38;5;124m\"\u001b[39m}\n\u001b[1;32m----> 2\u001b[0m \u001b[38;5;28mvars\u001b[39m(dict_test)\n",
      "\u001b[1;31mTypeError\u001b[0m: vars() argument must have __dict__ attribute"
     ]
    }
   ],
   "source": [
    "dict_test = {\"lol\": \"haha\"}\n",
    "vars(dict_test)"
   ]
  },
  {
   "cell_type": "code",
   "execution_count": 53,
   "id": "f8dcd46c-3c0f-42d2-ac6e-017871fb2c2a",
   "metadata": {},
   "outputs": [
    {
     "data": {
      "text/plain": [
       "{}"
      ]
     },
     "execution_count": 53,
     "metadata": {},
     "output_type": "execute_result"
    }
   ],
   "source": [
    "vars(dotdict_test)"
   ]
  },
  {
   "cell_type": "code",
   "execution_count": 54,
   "id": "690dec13-e551-460b-9891-53017b2b3e4c",
   "metadata": {},
   "outputs": [
    {
     "data": {
      "text/plain": [
       "mappingproxy({'__module__': '__main__',\n",
       "              '__doc__': '\\n    Allows handling dictionaries with the \"dot\" notation.\\n    ',\n",
       "              '__init__': <function __main__.DotDict.__init__(self, *args, _check: bool = True, **kwargs)>,\n",
       "              '__getitem__': <function __main__.DotDict.__getitem__(self, key: str) -> Optional[Any]>,\n",
       "              '__getattr__': <function __main__.DotDict.__getitem__(self, key: str) -> Optional[Any]>,\n",
       "              '__setitem__': <function __main__.DotDict.__setitem__(self, key: str, value: Optional[Any])>,\n",
       "              '__setattr__': <function __main__.DotDict.__setitem__(self, key: str, value: Optional[Any])>,\n",
       "              '__delitem__': <function __main__.DotDict.__delitem__(self, key: str)>,\n",
       "              '__delattr__': <function __main__.DotDict.__delitem__(self, key: str)>,\n",
       "              '__dir__': <function __main__.DotDict.__dir__(self) -> list[str]>,\n",
       "              '__dict__': <attribute '__dict__' of 'DotDict' objects>,\n",
       "              '__weakref__': <attribute '__weakref__' of 'DotDict' objects>})"
      ]
     },
     "execution_count": 54,
     "metadata": {},
     "output_type": "execute_result"
    }
   ],
   "source": [
    "vars(DotDict)"
   ]
  },
  {
   "cell_type": "code",
   "execution_count": 56,
   "id": "2e55c336-84ca-447c-be7e-9ae34fd84da5",
   "metadata": {},
   "outputs": [
    {
     "ename": "TypeError",
     "evalue": "vars() argument must have __dict__ attribute",
     "output_type": "error",
     "traceback": [
      "\u001b[1;31m---------------------------------------------------------------------------\u001b[0m",
      "\u001b[1;31mTypeError\u001b[0m                                 Traceback (most recent call last)",
      "Cell \u001b[1;32mIn[56], line 2\u001b[0m\n\u001b[0;32m      1\u001b[0m list_test \u001b[38;5;241m=\u001b[39m [\u001b[38;5;241m1\u001b[39m,\u001b[38;5;241m2\u001b[39m,\u001b[38;5;241m3\u001b[39m]\n\u001b[1;32m----> 2\u001b[0m \u001b[38;5;28mvars\u001b[39m(list_test)\n",
      "\u001b[1;31mTypeError\u001b[0m: vars() argument must have __dict__ attribute"
     ]
    }
   ],
   "source": [
    "list_test = [1,2,3]\n",
    "vars(list_test)"
   ]
  },
  {
   "cell_type": "code",
   "execution_count": 17,
   "id": "0190fbd6-b589-4fb8-a330-ca846e989fbd",
   "metadata": {},
   "outputs": [],
   "source": [
    "class Test:\n",
    "    pass\n",
    "\n",
    "object_test = Test()\n",
    "# dir(object_test)"
   ]
  },
  {
   "cell_type": "code",
   "execution_count": 18,
   "id": "fc4e8f53-0374-4fb7-81a4-595090f30fd7",
   "metadata": {},
   "outputs": [
    {
     "data": {
      "text/plain": [
       "{}"
      ]
     },
     "execution_count": 18,
     "metadata": {},
     "output_type": "execute_result"
    }
   ],
   "source": [
    "vars(object_test)"
   ]
  },
  {
   "cell_type": "code",
   "execution_count": 20,
   "id": "8470d588-ebcd-4172-8996-775b16b56b22",
   "metadata": {},
   "outputs": [
    {
     "data": {
      "text/plain": [
       "2"
      ]
     },
     "execution_count": 20,
     "metadata": {},
     "output_type": "execute_result"
    }
   ],
   "source": [
    "object_test.b = 2\n",
    "object_test.b"
   ]
  },
  {
   "cell_type": "code",
   "execution_count": 131,
   "id": "d330dce6-becb-45dd-8205-27641bfb0cfc",
   "metadata": {},
   "outputs": [
    {
     "name": "stdout",
     "output_type": "stream",
     "text": [
      "3 18\n"
     ]
    }
   ],
   "source": [
    "object_test.__dict__[\"b\"] = 3\n",
    "object_test.__dict__[\"c\"] = 18\n",
    "print(object_test.b, object_test.c)"
   ]
  },
  {
   "cell_type": "code",
   "execution_count": 132,
   "id": "6f0173a0-27e5-4c61-867b-bc3e1c6d527c",
   "metadata": {},
   "outputs": [
    {
     "data": {
      "text/plain": [
       "-5"
      ]
     },
     "execution_count": 132,
     "metadata": {},
     "output_type": "execute_result"
    }
   ],
   "source": [
    "vars(object_test)[\"d\"] = -5\n",
    "object_test.d"
   ]
  },
  {
   "cell_type": "code",
   "execution_count": 133,
   "id": "68d3cedc-6bbd-4174-a7ff-f5a750379ec9",
   "metadata": {},
   "outputs": [
    {
     "ename": "AttributeError",
     "evalue": "'Test' object has no attribute 'c'",
     "output_type": "error",
     "traceback": [
      "\u001b[1;31m---------------------------------------------------------------------------\u001b[0m",
      "\u001b[1;31mAttributeError\u001b[0m                            Traceback (most recent call last)",
      "Cell \u001b[1;32mIn[133], line 4\u001b[0m\n\u001b[0;32m      2\u001b[0m \u001b[38;5;28;01mdel\u001b[39;00m \u001b[38;5;28mvars\u001b[39m(object_test)[\u001b[38;5;124m\"\u001b[39m\u001b[38;5;124md\u001b[39m\u001b[38;5;124m\"\u001b[39m]\n\u001b[0;32m      3\u001b[0m \u001b[38;5;28;01mdel\u001b[39;00m object_test\u001b[38;5;241m.\u001b[39m\u001b[38;5;18m__dict__\u001b[39m[\u001b[38;5;124m\"\u001b[39m\u001b[38;5;124mc\u001b[39m\u001b[38;5;124m\"\u001b[39m]\n\u001b[1;32m----> 4\u001b[0m object_test\u001b[38;5;241m.\u001b[39mc\n",
      "\u001b[1;31mAttributeError\u001b[0m: 'Test' object has no attribute 'c'"
     ]
    }
   ],
   "source": [
    "# delete an attribute with vars and __dict___ ?\n",
    "del vars(object_test)[\"d\"]\n",
    "del object_test.__dict__[\"c\"]\n",
    "object_test.c"
   ]
  },
  {
   "cell_type": "code",
   "execution_count": 124,
   "id": "d8247e21-0888-471b-9063-902e5cec15eb",
   "metadata": {},
   "outputs": [
    {
     "data": {
      "text/plain": [
       "[1, 2, 3]"
      ]
     },
     "execution_count": 124,
     "metadata": {},
     "output_type": "execute_result"
    }
   ],
   "source": [
    "test = [1,2,3]\n",
    "test"
   ]
  },
  {
   "cell_type": "code",
   "execution_count": 125,
   "id": "3b5c8162-d980-454c-8116-8af88ff8f034",
   "metadata": {},
   "outputs": [
    {
     "data": {
      "text/plain": [
       "[1, 2, 3]"
      ]
     },
     "execution_count": 125,
     "metadata": {},
     "output_type": "execute_result"
    }
   ],
   "source": [
    "copy_test = test.copy()\n",
    "copy_test"
   ]
  },
  {
   "cell_type": "code",
   "execution_count": 126,
   "id": "ea47f9ff-dac4-444f-926e-2da810abfc25",
   "metadata": {},
   "outputs": [
    {
     "data": {
      "text/plain": [
       "[1, 2, 3, 4]"
      ]
     },
     "execution_count": 126,
     "metadata": {},
     "output_type": "execute_result"
    }
   ],
   "source": [
    "copy_test.append(4)\n",
    "copy_test"
   ]
  },
  {
   "cell_type": "code",
   "execution_count": 127,
   "id": "7e2ab85c-902c-453b-ae95-569f028c7d02",
   "metadata": {},
   "outputs": [
    {
     "data": {
      "text/plain": [
       "[1, 2, 3]"
      ]
     },
     "execution_count": 127,
     "metadata": {},
     "output_type": "execute_result"
    }
   ],
   "source": [
    "test"
   ]
  },
  {
   "cell_type": "code",
   "execution_count": 130,
   "id": "d960381a-8323-4098-8e18-6608fb953eb5",
   "metadata": {},
   "outputs": [
    {
     "data": {
      "text/plain": [
       "[1, 2, 3, 4]"
      ]
     },
     "execution_count": 130,
     "metadata": {},
     "output_type": "execute_result"
    }
   ],
   "source": [
    "copy_test = test + [4]\n",
    "copy_test"
   ]
  },
  {
   "cell_type": "code",
   "execution_count": 131,
   "id": "9e6661ad-f733-40f2-b435-b27b0ff4b333",
   "metadata": {},
   "outputs": [
    {
     "data": {
      "text/plain": [
       "[1, 2, 3]"
      ]
     },
     "execution_count": 131,
     "metadata": {},
     "output_type": "execute_result"
    }
   ],
   "source": [
    "test"
   ]
  },
  {
   "cell_type": "code",
   "execution_count": 153,
   "id": "5bf2ad55-d9ac-4152-8107-5d74995012f8",
   "metadata": {},
   "outputs": [
    {
     "name": "stdout",
     "output_type": "stream",
     "text": [
      "__setattr__ call\n"
     ]
    },
    {
     "data": {
      "text/plain": [
       "'b'"
      ]
     },
     "execution_count": 153,
     "metadata": {},
     "output_type": "execute_result"
    }
   ],
   "source": [
    "class Test:\n",
    "    def __setitem__(self, key, value):\n",
    "        print(\"__setitem__ call\")\n",
    "        super().__setitem__(key, value)\n",
    "    def __setattr__(self, key, value):\n",
    "        print(\"__setattr__ call\")\n",
    "        super().__setattr__(key, value)\n",
    "\n",
    "test = Test()\n",
    "test.a = \"b\"\n",
    "test.a"
   ]
  },
  {
   "cell_type": "code",
   "execution_count": 3,
   "id": "fb2703a2-46b5-4cfb-ba5d-b43397c081d4",
   "metadata": {},
   "outputs": [
    {
     "data": {
      "text/plain": [
       "\u001b[1;31mInit signature:\u001b[0m \u001b[0mMappingProxyType\u001b[0m\u001b[1;33m(\u001b[0m\u001b[0mself\u001b[0m\u001b[1;33m,\u001b[0m \u001b[1;33m/\u001b[0m\u001b[1;33m,\u001b[0m \u001b[1;33m*\u001b[0m\u001b[0margs\u001b[0m\u001b[1;33m,\u001b[0m \u001b[1;33m**\u001b[0m\u001b[0mkwargs\u001b[0m\u001b[1;33m)\u001b[0m\u001b[1;33m\u001b[0m\u001b[1;33m\u001b[0m\u001b[0m\n",
       "\u001b[1;31mDocstring:\u001b[0m      <no docstring>\n",
       "\u001b[1;31mType:\u001b[0m           type\n",
       "\u001b[1;31mSubclasses:\u001b[0m     "
      ]
     },
     "metadata": {},
     "output_type": "display_data"
    }
   ],
   "source": [
    "MappingProxyType?"
   ]
  },
  {
   "cell_type": "code",
   "execution_count": 23,
   "id": "8e766999-b5e6-4b54-bc48-5cfe3303bcb2",
   "metadata": {},
   "outputs": [
    {
     "ename": "AttributeError",
     "evalue": "'object' object has no attribute 'lol'",
     "output_type": "error",
     "traceback": [
      "\u001b[1;31m---------------------------------------------------------------------------\u001b[0m",
      "\u001b[1;31mAttributeError\u001b[0m                            Traceback (most recent call last)",
      "Cell \u001b[1;32mIn[23], line 2\u001b[0m\n\u001b[0;32m      1\u001b[0m test \u001b[38;5;241m=\u001b[39m \u001b[38;5;28mobject\u001b[39m()\n\u001b[1;32m----> 2\u001b[0m test\u001b[38;5;241m.\u001b[39mlol \u001b[38;5;241m=\u001b[39m \u001b[38;5;241m2\u001b[39m\n\u001b[0;32m      3\u001b[0m test\n",
      "\u001b[1;31mAttributeError\u001b[0m: 'object' object has no attribute 'lol'"
     ]
    }
   ],
   "source": [
    "test = object()\n",
    "test.lol = 2\n",
    "test"
   ]
  },
  {
   "cell_type": "code",
   "execution_count": 26,
   "id": "0052acc9-bd59-4a0e-8542-0e1aea343167",
   "metadata": {},
   "outputs": [
    {
     "ename": "AttributeError",
     "evalue": "'object' object has no attribute '__dict__'",
     "output_type": "error",
     "traceback": [
      "\u001b[1;31m---------------------------------------------------------------------------\u001b[0m",
      "\u001b[1;31mAttributeError\u001b[0m                            Traceback (most recent call last)",
      "Cell \u001b[1;32mIn[26], line 1\u001b[0m\n\u001b[1;32m----> 1\u001b[0m test\u001b[38;5;241m.\u001b[39m\u001b[38;5;18m__dict__\u001b[39m \u001b[38;5;241m=\u001b[39m {}\n",
      "\u001b[1;31mAttributeError\u001b[0m: 'object' object has no attribute '__dict__'"
     ]
    }
   ],
   "source": [
    "test.__dict__ = {}"
   ]
  },
  {
   "cell_type": "code",
   "execution_count": 27,
   "id": "d112af00-1384-42bd-943b-c93699f88fa4",
   "metadata": {},
   "outputs": [
    {
     "ename": "AttributeError",
     "evalue": "'object' object has no attribute '__dict__'",
     "output_type": "error",
     "traceback": [
      "\u001b[1;31m---------------------------------------------------------------------------\u001b[0m",
      "\u001b[1;31mAttributeError\u001b[0m                            Traceback (most recent call last)",
      "Cell \u001b[1;32mIn[27], line 1\u001b[0m\n\u001b[1;32m----> 1\u001b[0m test\u001b[38;5;241m.\u001b[39m\u001b[38;5;21m__setattr__\u001b[39m(\u001b[38;5;124m\"\u001b[39m\u001b[38;5;124m__dict__\u001b[39m\u001b[38;5;124m\"\u001b[39m, {})\n\u001b[0;32m      2\u001b[0m test\n",
      "\u001b[1;31mAttributeError\u001b[0m: 'object' object has no attribute '__dict__'"
     ]
    }
   ],
   "source": [
    "test.__setattr__(\"__dict__\", {})\n",
    "test"
   ]
  },
  {
   "cell_type": "code",
   "execution_count": 28,
   "id": "d84404a5-5582-4136-bec6-0ecf9cb7cff9",
   "metadata": {},
   "outputs": [
    {
     "data": {
      "text/plain": [
       "<method-wrapper '__setattr__' of object object at 0x000002214C6FA3E0>"
      ]
     },
     "execution_count": 28,
     "metadata": {},
     "output_type": "execute_result"
    }
   ],
   "source": [
    "test.__setattr__"
   ]
  },
  {
   "cell_type": "code",
   "execution_count": 24,
   "id": "c97d1c7f-72cf-4e30-8be4-191f672e730e",
   "metadata": {},
   "outputs": [
    {
     "data": {
      "text/plain": [
       "<slot wrapper '__str__' of 'object' objects>"
      ]
     },
     "execution_count": 24,
     "metadata": {},
     "output_type": "execute_result"
    }
   ],
   "source": [
    "dict.__str__"
   ]
  },
  {
   "cell_type": "code",
   "execution_count": 64,
   "id": "48e728ab-3395-495b-a034-db826dc77c33",
   "metadata": {},
   "outputs": [],
   "source": [
    "test = {\"lol\": 2}\n",
    "test_it = iter(test)"
   ]
  },
  {
   "cell_type": "code",
   "execution_count": 65,
   "id": "7c8af193-86dd-4c03-851f-98d9295c566b",
   "metadata": {},
   "outputs": [],
   "source": [
    "test = \"lol\"\n",
    "test_it = iter(test)"
   ]
  },
  {
   "cell_type": "code",
   "execution_count": 68,
   "id": "eed23cc4-e0c0-4440-b2cd-1ac4f774f0df",
   "metadata": {},
   "outputs": [
    {
     "data": {
      "text/plain": [
       "<tuple_iterator at 0x2263a8979d0>"
      ]
     },
     "execution_count": 68,
     "metadata": {},
     "output_type": "execute_result"
    }
   ],
   "source": [
    "test = (1,2,3)\n",
    "iter(test)"
   ]
  },
  {
   "cell_type": "code",
   "execution_count": 66,
   "id": "77a4049a-be4d-4782-98bb-d60cfb76b585",
   "metadata": {},
   "outputs": [
    {
     "data": {
      "text/plain": [
       "'l'"
      ]
     },
     "execution_count": 66,
     "metadata": {},
     "output_type": "execute_result"
    }
   ],
   "source": [
    "next(test_it)"
   ]
  },
  {
   "cell_type": "code",
   "execution_count": 22,
   "id": "04a96aea-8ae9-4a7f-90e1-c85da9fa8a0d",
   "metadata": {},
   "outputs": [
    {
     "data": {
      "text/plain": [
       "['l', 'o', 'l']"
      ]
     },
     "execution_count": 22,
     "metadata": {},
     "output_type": "execute_result"
    }
   ],
   "source": [
    "[e for e in \"lol\"]"
   ]
  },
  {
   "cell_type": "code",
   "execution_count": 24,
   "id": "6bc826cf-20b0-484a-abcb-655a93506bc0",
   "metadata": {},
   "outputs": [
    {
     "data": {
      "text/plain": [
       "'o'"
      ]
     },
     "execution_count": 24,
     "metadata": {},
     "output_type": "execute_result"
    }
   ],
   "source": [
    "\"lol\"[1]"
   ]
  },
  {
   "cell_type": "code",
   "execution_count": 16,
   "id": "a9f54859-660d-4627-bd7a-0de00cb3fe98",
   "metadata": {},
   "outputs": [
    {
     "data": {
      "text/plain": [
       "1"
      ]
     },
     "execution_count": 16,
     "metadata": {},
     "output_type": "execute_result"
    }
   ],
   "source": [
    "test = [1,2,3]\n",
    "test_it = iter(test)\n",
    "next(test_it)"
   ]
  },
  {
   "cell_type": "code",
   "execution_count": 12,
   "id": "e53888db-12e2-463f-b64b-ccfee3bda2f2",
   "metadata": {},
   "outputs": [
    {
     "data": {
      "text/plain": [
       "<set_iterator at 0x1fe5252b4c0>"
      ]
     },
     "execution_count": 12,
     "metadata": {},
     "output_type": "execute_result"
    }
   ],
   "source": [
    "test = {0,1,2}\n",
    "iter(test)"
   ]
  },
  {
   "cell_type": "code",
   "execution_count": 17,
   "id": "ddcbb28b-1768-452d-ae74-b826797c608a",
   "metadata": {},
   "outputs": [
    {
     "data": {
      "text/plain": [
       "0"
      ]
     },
     "execution_count": 17,
     "metadata": {},
     "output_type": "execute_result"
    }
   ],
   "source": [
    "a = 0\n",
    "try:\n",
    "    a = 1/0\n",
    "except:\n",
    "    pass\n",
    "a"
   ]
  },
  {
   "cell_type": "code",
   "execution_count": 47,
   "id": "00f38402-3852-4e91-8da8-c0b4c6ac1121",
   "metadata": {},
   "outputs": [
    {
     "data": {
      "text/plain": [
       "False"
      ]
     },
     "execution_count": 47,
     "metadata": {},
     "output_type": "execute_result"
    }
   ],
   "source": [
    "from collections.abc import Mapping, Iterable, Sequence, MutableSequence\n",
    "from typing import Any\n",
    "# isinstance(DotDict(), Mapping)\n",
    "isinstance(\"lol\", MutableSequence)"
   ]
  },
  {
   "cell_type": "code",
   "execution_count": 9,
   "id": "3aa552fe-d9a1-4dcd-bddd-d931aab58f5d",
   "metadata": {},
   "outputs": [
    {
     "data": {
      "text/plain": [
       "True"
      ]
     },
     "execution_count": 9,
     "metadata": {},
     "output_type": "execute_result"
    }
   ],
   "source": [
    "isinstance(vars(DotDict()), Mapping)"
   ]
  },
  {
   "cell_type": "code",
   "execution_count": 8,
   "id": "b7cbfb57-fac4-4531-98f0-da3fd1828217",
   "metadata": {},
   "outputs": [
    {
     "data": {
      "text/plain": [
       "False"
      ]
     },
     "execution_count": 8,
     "metadata": {},
     "output_type": "execute_result"
    }
   ],
   "source": [
    "isinstance(\"abc\", Mapping)"
   ]
  },
  {
   "cell_type": "code",
   "execution_count": 48,
   "id": "4f84ae8a-9d78-436a-95dd-aaf8f1058ced",
   "metadata": {},
   "outputs": [
    {
     "data": {
      "text/plain": [
       "False"
      ]
     },
     "execution_count": 48,
     "metadata": {},
     "output_type": "execute_result"
    }
   ],
   "source": [
    "isinstance((1,2,3), MutableSequence)"
   ]
  },
  {
   "cell_type": "code",
   "execution_count": 49,
   "id": "684ae702-e1c6-455f-9044-344576893f3b",
   "metadata": {},
   "outputs": [
    {
     "data": {
      "text/plain": [
       "<range_iterator at 0x2263a4e4370>"
      ]
     },
     "execution_count": 49,
     "metadata": {},
     "output_type": "execute_result"
    }
   ],
   "source": [
    "iter(range(0,10))"
   ]
  },
  {
   "cell_type": "code",
   "execution_count": 13,
   "id": "50f02c84-0fec-462d-9c86-0b456c41e329",
   "metadata": {},
   "outputs": [
    {
     "data": {
      "text/plain": [
       "['__class__',\n",
       " '__delattr__',\n",
       " '__dir__',\n",
       " '__doc__',\n",
       " '__eq__',\n",
       " '__format__',\n",
       " '__ge__',\n",
       " '__getattribute__',\n",
       " '__getstate__',\n",
       " '__gt__',\n",
       " '__hash__',\n",
       " '__init__',\n",
       " '__init_subclass__',\n",
       " '__le__',\n",
       " '__lt__',\n",
       " '__ne__',\n",
       " '__new__',\n",
       " '__reduce__',\n",
       " '__reduce_ex__',\n",
       " '__repr__',\n",
       " '__setattr__',\n",
       " '__sizeof__',\n",
       " '__str__',\n",
       " '__subclasshook__']"
      ]
     },
     "execution_count": 13,
     "metadata": {},
     "output_type": "execute_result"
    }
   ],
   "source": [
    "dir(object())"
   ]
  },
  {
   "cell_type": "code",
   "execution_count": 14,
   "id": "b0f2aa1b-bb11-41e5-9173-d976c04b68c5",
   "metadata": {},
   "outputs": [
    {
     "data": {
      "text/plain": [
       "['__class__',\n",
       " '__class_getitem__',\n",
       " '__contains__',\n",
       " '__delattr__',\n",
       " '__delitem__',\n",
       " '__dir__',\n",
       " '__doc__',\n",
       " '__eq__',\n",
       " '__format__',\n",
       " '__ge__',\n",
       " '__getattribute__',\n",
       " '__getitem__',\n",
       " '__getstate__',\n",
       " '__gt__',\n",
       " '__hash__',\n",
       " '__init__',\n",
       " '__init_subclass__',\n",
       " '__ior__',\n",
       " '__iter__',\n",
       " '__le__',\n",
       " '__len__',\n",
       " '__lt__',\n",
       " '__ne__',\n",
       " '__new__',\n",
       " '__or__',\n",
       " '__reduce__',\n",
       " '__reduce_ex__',\n",
       " '__repr__',\n",
       " '__reversed__',\n",
       " '__ror__',\n",
       " '__setattr__',\n",
       " '__setitem__',\n",
       " '__sizeof__',\n",
       " '__str__',\n",
       " '__subclasshook__',\n",
       " 'clear',\n",
       " 'copy',\n",
       " 'fromkeys',\n",
       " 'get',\n",
       " 'items',\n",
       " 'keys',\n",
       " 'pop',\n",
       " 'popitem',\n",
       " 'setdefault',\n",
       " 'update',\n",
       " 'values']"
      ]
     },
     "execution_count": 14,
     "metadata": {},
     "output_type": "execute_result"
    }
   ],
   "source": [
    "dir(dict())"
   ]
  },
  {
   "cell_type": "code",
   "execution_count": 31,
   "id": "6a45faf2-78f1-47c8-bb2f-e630064a3b65",
   "metadata": {},
   "outputs": [
    {
     "data": {
      "text/plain": [
       "<bytes_iterator at 0x226385bf370>"
      ]
     },
     "execution_count": 31,
     "metadata": {},
     "output_type": "execute_result"
    }
   ],
   "source": [
    "test = b\"still allows embedded 'single' quotes\"\n",
    "iter(test)"
   ]
  },
  {
   "cell_type": "code",
   "execution_count": 32,
   "id": "c8541895-68c0-4fa8-88f0-982996856d1f",
   "metadata": {},
   "outputs": [
    {
     "data": {
      "text/plain": [
       "False"
      ]
     },
     "execution_count": 32,
     "metadata": {},
     "output_type": "execute_result"
    }
   ],
   "source": [
    "type(test) is str"
   ]
  },
  {
   "cell_type": "code",
   "execution_count": 33,
   "id": "67d90107-9e03-4223-86aa-eb8ccb0467e1",
   "metadata": {},
   "outputs": [
    {
     "ename": "TypeError",
     "evalue": "'int' object is not iterable",
     "output_type": "error",
     "traceback": [
      "\u001b[1;31m---------------------------------------------------------------------------\u001b[0m",
      "\u001b[1;31mTypeError\u001b[0m                                 Traceback (most recent call last)",
      "Cell \u001b[1;32mIn[33], line 1\u001b[0m\n\u001b[1;32m----> 1\u001b[0m \u001b[38;5;28miter\u001b[39m(\u001b[38;5;241m1845\u001b[39m)\n",
      "\u001b[1;31mTypeError\u001b[0m: 'int' object is not iterable"
     ]
    }
   ],
   "source": [
    "iter(1845)"
   ]
  },
  {
   "cell_type": "code",
   "execution_count": 35,
   "id": "0749f590-e5e0-42d4-aadc-af6f288e2755",
   "metadata": {},
   "outputs": [
    {
     "data": {
      "text/plain": [
       "<bytearray_iterator at 0x226385bf730>"
      ]
     },
     "execution_count": 35,
     "metadata": {},
     "output_type": "execute_result"
    }
   ],
   "source": [
    "test = bytearray(b'Hi!')\n",
    "iter(test)"
   ]
  },
  {
   "cell_type": "code",
   "execution_count": 69,
   "id": "722f3e40-c424-4f58-9c31-1598b7c8ddfc",
   "metadata": {},
   "outputs": [
    {
     "data": {
      "text/plain": [
       "'(1, 2, 3)'"
      ]
     },
     "execution_count": 69,
     "metadata": {},
     "output_type": "execute_result"
    }
   ],
   "source": [
    "repr((1,2,3))"
   ]
  },
  {
   "cell_type": "code",
   "execution_count": 72,
   "id": "e0394fc7-6c74-433b-acc4-c8b396e11b95",
   "metadata": {},
   "outputs": [
    {
     "data": {
      "text/plain": [
       "'{1, 2, 3}'"
      ]
     },
     "execution_count": 72,
     "metadata": {},
     "output_type": "execute_result"
    }
   ],
   "source": [
    "str({1,2,3})"
   ]
  },
  {
   "cell_type": "code",
   "execution_count": 56,
   "id": "874058ee-8ffb-44f0-8675-b1f9be9017ad",
   "metadata": {},
   "outputs": [
    {
     "data": {
      "text/plain": [
       "\u001b[1;31mInit signature:\u001b[0m \u001b[0mfilter\u001b[0m\u001b[1;33m(\u001b[0m\u001b[0mself\u001b[0m\u001b[1;33m,\u001b[0m \u001b[1;33m/\u001b[0m\u001b[1;33m,\u001b[0m \u001b[1;33m*\u001b[0m\u001b[0margs\u001b[0m\u001b[1;33m,\u001b[0m \u001b[1;33m**\u001b[0m\u001b[0mkwargs\u001b[0m\u001b[1;33m)\u001b[0m\u001b[1;33m\u001b[0m\u001b[1;33m\u001b[0m\u001b[0m\n",
       "\u001b[1;31mDocstring:\u001b[0m     \n",
       "filter(function or None, iterable) --> filter object\n",
       "\n",
       "Return an iterator yielding those items of iterable for which function(item)\n",
       "is true. If function is None, return the items that are true.\n",
       "\u001b[1;31mType:\u001b[0m           type\n",
       "\u001b[1;31mSubclasses:\u001b[0m     "
      ]
     },
     "metadata": {},
     "output_type": "display_data"
    }
   ],
   "source": [
    "filter?"
   ]
  },
  {
   "cell_type": "code",
   "execution_count": 64,
   "id": "55355e89-2cdc-436c-a062-3ad4ab512643",
   "metadata": {},
   "outputs": [
    {
     "data": {
      "text/plain": [
       "[3, 1, 2]"
      ]
     },
     "execution_count": 64,
     "metadata": {},
     "output_type": "execute_result"
    }
   ],
   "source": [
    "test = list(filter(None, [3,0,1,2]))\n",
    "test"
   ]
  },
  {
   "cell_type": "code",
   "execution_count": 78,
   "id": "1ef8c6cb-8ecc-49fb-adba-2a63b45d4de0",
   "metadata": {},
   "outputs": [
    {
     "name": "stdout",
     "output_type": "stream",
     "text": [
      "3\n",
      "6\n",
      "False\n",
      "True\n",
      "True\n",
      "False\n",
      "5\n",
      "-2\n"
     ]
    }
   ],
   "source": [
    "# sum(), any(), all(), max(), min(), and len()\n",
    "from functools import reduce\n",
    "\n",
    "_len = lambda it: reduce(\n",
    "    lambda value, element: value + 1,\n",
    "    it,\n",
    "    0\n",
    ")\n",
    "\n",
    "_sum = lambda it: reduce(\n",
    "    lambda value, element: value + element,\n",
    "    it\n",
    ")\n",
    "\n",
    "_any = lambda it: reduce(\n",
    "    lambda value, element: bool(value) or bool(element),\n",
    "    it,\n",
    "    False\n",
    ")\n",
    "\n",
    "_all = lambda it: reduce(\n",
    "    lambda value, element: bool(value) and bool(element),\n",
    "    it,\n",
    "    True\n",
    ")\n",
    "\n",
    "_max = lambda it: reduce(\n",
    "    lambda value, element: element if element > value else value,\n",
    "    it\n",
    ")\n",
    "\n",
    "_min = lambda it: reduce(\n",
    "    lambda value, element: element if element < value else value,\n",
    "    it\n",
    ")\n",
    "\n",
    "print(_len([\"a\", \"b\", \"c\"]))\n",
    "print(_sum([3,1,2]))\n",
    "print(_any([False, False]))\n",
    "print(_any([False, True]))\n",
    "print(_all([True, True]))\n",
    "print(_all([False, True]))\n",
    "print(_max([1,5,-2]))\n",
    "print(_min([1,5,-2]))"
   ]
  },
  {
   "cell_type": "code",
   "execution_count": 68,
   "id": "5d2c9f47-334c-4a6a-bce4-f63120e8d611",
   "metadata": {},
   "outputs": [
    {
     "data": {
      "text/plain": [
       "5"
      ]
     },
     "execution_count": 68,
     "metadata": {},
     "output_type": "execute_result"
    }
   ],
   "source": [
    "test_lamda = lambda x, y: x + y\n",
    "test_lamda(2,3)"
   ]
  },
  {
   "cell_type": "code",
   "execution_count": 6,
   "id": "5a7fb688-25ee-493d-8cae-abd515797424",
   "metadata": {},
   "outputs": [
    {
     "name": "stdout",
     "output_type": "stream",
     "text": [
      "###########################\n",
      "### super awesome title ###\n",
      "###########################\n"
     ]
    }
   ],
   "source": [
    "def title_printer(title: str, fill_char: str = \"#\", print_: bool = True) -> str:\n",
    "    \"\"\"\n",
    "    ###########################\n",
    "    ### super awesome title ###\n",
    "    ###########################\n",
    "    \"\"\"\n",
    "    # create title string\n",
    "    title_lines = []\n",
    "    title_lines.append(\"####\" + \"#\"*len(title) + \"####\")\n",
    "    title_lines.append(\"### \" + title + \" ###\")\n",
    "    title_lines.append(\"####\" + \"#\"*len(title) + \"####\")\n",
    "    title_string = \"\\n\".join(title_lines)\n",
    "    # print it and return it\n",
    "    if print_:\n",
    "        print(title_string)\n",
    "    return title_string\n",
    "\n",
    "print(title_printer(\"super awesome title\", print_=False))"
   ]
  },
  {
   "cell_type": "code",
   "execution_count": 9,
   "id": "ff38fc62-91d4-4ab6-9749-0db2cb4592cb",
   "metadata": {},
   "outputs": [
    {
     "name": "stdout",
     "output_type": "stream",
     "text": [
      "#####################\n",
      "### title printer ###\n",
      "#####################\n"
     ]
    }
   ],
   "source": [
    "print(title_printer(\"title printer\", print_=False))"
   ]
  },
  {
   "cell_type": "code",
   "execution_count": null,
   "id": "c374ab05-b48e-4c06-9679-25821514b484",
   "metadata": {},
   "outputs": [],
   "source": []
  },
  {
   "cell_type": "code",
   "execution_count": null,
   "id": "862f3fc1-5137-499b-ad7d-9cffc8001539",
   "metadata": {},
   "outputs": [],
   "source": []
  },
  {
   "cell_type": "code",
   "execution_count": null,
   "id": "8dbbd739-412b-424e-9e4e-78ae4c5061f6",
   "metadata": {},
   "outputs": [],
   "source": []
  },
  {
   "cell_type": "code",
   "execution_count": null,
   "id": "f0133a70-4741-4286-a237-ab5b5d487c77",
   "metadata": {},
   "outputs": [],
   "source": []
  },
  {
   "cell_type": "code",
   "execution_count": null,
   "id": "2826e735-bbef-4d0f-94ca-e3a2cb5710ab",
   "metadata": {},
   "outputs": [],
   "source": []
  }
 ],
 "metadata": {
  "kernelspec": {
   "display_name": "Python 3 (ipykernel)",
   "language": "python",
   "name": "python3"
  },
  "language_info": {
   "codemirror_mode": {
    "name": "ipython",
    "version": 3
   },
   "file_extension": ".py",
   "mimetype": "text/x-python",
   "name": "python",
   "nbconvert_exporter": "python",
   "pygments_lexer": "ipython3",
   "version": "3.11.3"
  }
 },
 "nbformat": 4,
 "nbformat_minor": 5
}
