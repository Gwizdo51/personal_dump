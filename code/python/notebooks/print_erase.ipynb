{
 "cells": [
  {
   "cell_type": "code",
   "execution_count": 3,
   "id": "27a7c245-6ade-46c9-aa30-5e608e552e4a",
   "metadata": {},
   "outputs": [],
   "source": [
    "import time"
   ]
  },
  {
   "cell_type": "code",
   "execution_count": 32,
   "id": "351a6527-ce66-4405-a4fc-1bee6a8fe9c8",
   "metadata": {},
   "outputs": [],
   "source": [
    "def print_erase(text_to_print: str, text_to_erase: str):\n",
    "    # erase the previous text with spaces\n",
    "    print(\" \" * len(text_to_erase), end=\"\\r\", flush=True)\n",
    "    # write the new text\n",
    "    print(text_to_print, end=\"\\r\", flush=True)"
   ]
  },
  {
   "cell_type": "code",
   "execution_count": 33,
   "id": "b13959bc-2a91-40b8-b29a-f69a0a638ff4",
   "metadata": {},
   "outputs": [
    {
     "data": {
      "text/plain": [
       "5"
      ]
     },
     "execution_count": 33,
     "metadata": {},
     "output_type": "execute_result"
    }
   ],
   "source": [
    "list_text_to_print = [\n",
    "    \"yo comment ça va ?\",\n",
    "    \"bien tranks et toi ?\",\n",
    "    \"bah ouais tranquille la forme\",\n",
    "    \"tu fais quoi ce soir ?\",\n",
    "    \"rien\"\n",
    "]\n",
    "len(list_text_to_print)"
   ]
  },
  {
   "cell_type": "code",
   "execution_count": 34,
   "id": "7af3be03-6188-46b6-befd-32e0af4fa96e",
   "metadata": {},
   "outputs": [
    {
     "name": "stdout",
     "output_type": "stream",
     "text": [
      "rien                         \n"
     ]
    }
   ],
   "source": [
    "old_item = \"\"\n",
    "for item in list_text_to_print:\n",
    "    print_erase(item, old_item)\n",
    "    old_item = item\n",
    "    time.sleep(2)\n",
    "print()"
   ]
  },
  {
   "cell_type": "code",
   "execution_count": null,
   "id": "b266f71c-97d0-4b62-a7fb-1ad3bdb768eb",
   "metadata": {},
   "outputs": [],
   "source": []
  },
  {
   "cell_type": "code",
   "execution_count": null,
   "id": "a54e0eed-3e4c-4bcb-b2d7-430530d1444e",
   "metadata": {},
   "outputs": [],
   "source": []
  },
  {
   "cell_type": "code",
   "execution_count": null,
   "id": "3e7c808b-ed52-4fba-941f-f110c6c02666",
   "metadata": {},
   "outputs": [],
   "source": []
  },
  {
   "cell_type": "markdown",
   "id": "6080a406-72dc-4a1c-8700-4c7efda7ff50",
   "metadata": {},
   "source": [
    "# DUMP"
   ]
  },
  {
   "cell_type": "code",
   "execution_count": 2,
   "id": "fd59cfea-7e90-4b6d-8f80-8888e31baa48",
   "metadata": {},
   "outputs": [
    {
     "data": {
      "text/plain": [
       "\u001b[1;31mSignature:\u001b[0m \u001b[0mprint\u001b[0m\u001b[1;33m(\u001b[0m\u001b[1;33m*\u001b[0m\u001b[0margs\u001b[0m\u001b[1;33m,\u001b[0m \u001b[0msep\u001b[0m\u001b[1;33m=\u001b[0m\u001b[1;34m' '\u001b[0m\u001b[1;33m,\u001b[0m \u001b[0mend\u001b[0m\u001b[1;33m=\u001b[0m\u001b[1;34m'\\n'\u001b[0m\u001b[1;33m,\u001b[0m \u001b[0mfile\u001b[0m\u001b[1;33m=\u001b[0m\u001b[1;32mNone\u001b[0m\u001b[1;33m,\u001b[0m \u001b[0mflush\u001b[0m\u001b[1;33m=\u001b[0m\u001b[1;32mFalse\u001b[0m\u001b[1;33m)\u001b[0m\u001b[1;33m\u001b[0m\u001b[1;33m\u001b[0m\u001b[0m\n",
       "\u001b[1;31mDocstring:\u001b[0m\n",
       "Prints the values to a stream, or to sys.stdout by default.\n",
       "\n",
       "sep\n",
       "  string inserted between values, default a space.\n",
       "end\n",
       "  string appended after the last value, default a newline.\n",
       "file\n",
       "  a file-like object (stream); defaults to the current sys.stdout.\n",
       "flush\n",
       "  whether to forcibly flush the stream.\n",
       "\u001b[1;31mType:\u001b[0m      builtin_function_or_method"
      ]
     },
     "metadata": {},
     "output_type": "display_data"
    }
   ],
   "source": [
    "print?"
   ]
  },
  {
   "cell_type": "code",
   "execution_count": 16,
   "id": "7bb9e818-f22f-4f5e-988b-bc1d405012a7",
   "metadata": {},
   "outputs": [
    {
     "name": "stdout",
     "output_type": "stream",
     "text": [
      "9\n",
      "9\r"
     ]
    }
   ],
   "source": [
    "IS_BUFFERED = False \n",
    "END = \"\\r\"\n",
    "\n",
    "# import os\n",
    "# os.environ['PYTHONUNBUFFERED'] = \"\"\n",
    "# print(f\"{os.getenv('PYTHONUNBUFFERED') = }\")\n",
    "\n",
    "for i in range(10):\n",
    "    print(i, end=END, flush=IS_BUFFERED)\n",
    "    time.sleep(0.5)\n",
    "    \n",
    "print()\n",
    "    \n",
    "IS_BUFFERED = True\n",
    "END = \"\\r\"\n",
    "\n",
    "# import os\n",
    "# os.environ['PYTHONUNBUFFERED'] = \"\"\n",
    "# print(f\"{os.getenv('PYTHONUNBUFFERED') = }\")\n",
    "\n",
    "for i in range(10):\n",
    "    print(i, end=END, flush=IS_BUFFERED)\n",
    "    time.sleep(0.5)"
   ]
  },
  {
   "cell_type": "code",
   "execution_count": 17,
   "id": "83d4377f-0db1-4960-8471-25d73bd4d808",
   "metadata": {},
   "outputs": [
    {
     "name": "stdout",
     "output_type": "stream",
     "text": [
      "hahalol\n"
     ]
    }
   ],
   "source": [
    "print(\"haha\", end=\"\")\n",
    "time.sleep(2)\n",
    "print(\"lol\")"
   ]
  },
  {
   "cell_type": "code",
   "execution_count": null,
   "id": "ce561eb6-f0fd-4e6f-8266-b519cb8d0bf4",
   "metadata": {},
   "outputs": [],
   "source": []
  },
  {
   "cell_type": "code",
   "execution_count": null,
   "id": "5fd34c8f-c732-435a-a714-e3d66bc1fc91",
   "metadata": {},
   "outputs": [],
   "source": []
  },
  {
   "cell_type": "code",
   "execution_count": null,
   "id": "66611f4b-8869-48ce-bd7c-d81eafde46f4",
   "metadata": {},
   "outputs": [],
   "source": []
  },
  {
   "cell_type": "code",
   "execution_count": null,
   "id": "e14e5980-27a0-444d-98ab-d1023e5093de",
   "metadata": {},
   "outputs": [],
   "source": []
  }
 ],
 "metadata": {
  "kernelspec": {
   "display_name": "Python 3 (ipykernel)",
   "language": "python",
   "name": "python3"
  },
  "language_info": {
   "codemirror_mode": {
    "name": "ipython",
    "version": 3
   },
   "file_extension": ".py",
   "mimetype": "text/x-python",
   "name": "python",
   "nbconvert_exporter": "python",
   "pygments_lexer": "ipython3",
   "version": "3.11.3"
  }
 },
 "nbformat": 4,
 "nbformat_minor": 5
}
