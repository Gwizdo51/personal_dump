{
 "cells": [
  {
   "cell_type": "markdown",
   "id": "fdae7ee4-8ca8-4a4f-b026-8d7871fc9ddb",
   "metadata": {},
   "source": [
    "# Prime factoring\n",
    "\n",
    "**Goal:** create a function that gives the prime factors of any number given.\n",
    "\n",
    "a **prime** is a number that can only be divided by itself and 1."
   ]
  },
  {
   "cell_type": "code",
   "execution_count": 31,
   "id": "c238827d-7aad-47e1-bf20-3f6875f0bfbd",
   "metadata": {},
   "outputs": [],
   "source": [
    "import numpy as np\n",
    "from typing import Any, Union, Optional\n",
    "from collections.abc import Callable, Mapping, Iterable"
   ]
  },
  {
   "cell_type": "code",
   "execution_count": 32,
   "id": "a289cf76-1945-46e5-ad8a-6651e2413e51",
   "metadata": {},
   "outputs": [
    {
     "data": {
      "text/plain": [
       "True"
      ]
     },
     "execution_count": 32,
     "metadata": {},
     "output_type": "execute_result"
    }
   ],
   "source": [
    "def is_divisible(a: int, b: int) -> bool:\n",
    "    \"\"\"\n",
    "    Returns whether the integer a is divisible by the integer b.\n",
    "    PARAMS:\n",
    "        a: int\n",
    "        b: int\n",
    "    RETURNS:\n",
    "        bool\n",
    "    \"\"\"\n",
    "    return (a % b) == 0\n",
    "\n",
    "is_divisible(10,5)"
   ]
  },
  {
   "cell_type": "code",
   "execution_count": 33,
   "id": "ccbd29d2-367c-4af2-9b02-bf71836fa7ae",
   "metadata": {
    "collapsed": true,
    "jupyter": {
     "outputs_hidden": true
    },
    "tags": []
   },
   "outputs": [
    {
     "name": "stdout",
     "output_type": "stream",
     "text": [
      "2 True\n",
      "3 True\n",
      "4 False\n",
      "5 True\n",
      "6 False\n",
      "7 True\n",
      "8 False\n",
      "9 False\n",
      "10 False\n",
      "11 True\n",
      "12 False\n",
      "13 True\n",
      "14 False\n",
      "15 False\n",
      "16 False\n",
      "17 True\n",
      "18 False\n",
      "19 True\n",
      "20 False\n",
      "21 False\n",
      "22 False\n",
      "23 True\n",
      "24 False\n",
      "25 False\n",
      "26 False\n",
      "27 False\n",
      "28 False\n",
      "29 True\n",
      "30 False\n",
      "31 True\n",
      "32 False\n",
      "33 False\n",
      "34 False\n",
      "35 False\n",
      "36 False\n",
      "37 True\n",
      "38 False\n",
      "39 False\n",
      "40 False\n",
      "41 True\n",
      "42 False\n",
      "43 True\n",
      "44 False\n",
      "45 False\n",
      "46 False\n",
      "47 True\n",
      "48 False\n",
      "49 False\n",
      "50 False\n",
      "51 False\n",
      "52 False\n",
      "53 True\n",
      "54 False\n",
      "55 False\n",
      "56 False\n",
      "57 False\n",
      "58 False\n",
      "59 True\n",
      "60 False\n",
      "61 True\n",
      "62 False\n",
      "63 False\n",
      "64 False\n",
      "65 False\n",
      "66 False\n",
      "67 True\n",
      "68 False\n",
      "69 False\n",
      "70 False\n",
      "71 True\n",
      "72 False\n",
      "73 True\n",
      "74 False\n",
      "75 False\n",
      "76 False\n",
      "77 False\n",
      "78 False\n",
      "79 True\n",
      "80 False\n",
      "81 False\n",
      "82 False\n",
      "83 True\n",
      "84 False\n",
      "85 False\n",
      "86 False\n",
      "87 False\n",
      "88 False\n",
      "89 True\n",
      "90 False\n",
      "91 False\n",
      "92 False\n",
      "93 False\n",
      "94 False\n",
      "95 False\n",
      "96 False\n",
      "97 True\n",
      "98 False\n",
      "99 False\n"
     ]
    }
   ],
   "source": [
    "def is_prime(a: int) -> bool:\n",
    "    \"\"\"\n",
    "    Returns whether the integer a is a prime number.\n",
    "    PARAMS:\n",
    "        a: int\n",
    "    RETURNS:\n",
    "        bool\n",
    "    \"\"\"\n",
    "    \n",
    "    if a <= 1:\n",
    "        raise ValueError(\"a must be an integer greater than 1\")\n",
    "\n",
    "    a_is_prime = True\n",
    "    for i in range(2, a):\n",
    "        if a % i == 0:\n",
    "            a_is_prime = False\n",
    "            break\n",
    "        if i > a/2:\n",
    "            break\n",
    "    return a_is_prime\n",
    "\n",
    "for i in range(2, 100):\n",
    "    print(i, is_prime(i))"
   ]
  },
  {
   "cell_type": "code",
   "execution_count": 34,
   "id": "1a53bd34-e8a0-4b00-9290-e6e49dad6a93",
   "metadata": {},
   "outputs": [
    {
     "name": "stdout",
     "output_type": "stream",
     "text": [
      "[3, 99281911]\n",
      "297845733\n"
     ]
    }
   ],
   "source": [
    "def prime_factoring(a: int) -> list[int]:\n",
    "    \"\"\"\n",
    "    Returns the list of the prime factors of the integer a.\n",
    "    PARAMS:\n",
    "        a: int\n",
    "    RETURNS:\n",
    "        list[int]\n",
    "    \"\"\"\n",
    "    \n",
    "    # for i in range(2, a):\n",
    "    #     if is_divisible(a, i):\n",
    "    #         if is_prime(i):\n",
    "    #             prime_factors.append(i)\n",
    "    #             a = a // i\n",
    "    \n",
    "    if a <= 1:\n",
    "        raise ValueError(\"a must be an integer greater than 1\")\n",
    "    \n",
    "    prime_factors = []\n",
    "    \n",
    "    while not is_prime(a):\n",
    "        for i in range(2, a):\n",
    "            if is_divisible(a, i):\n",
    "                if is_prime(i):\n",
    "                    prime_factors.append(i)\n",
    "                    a = a // i\n",
    "                    break\n",
    "    prime_factors.append(a)\n",
    "    \n",
    "    return prime_factors\n",
    "\n",
    "test = prime_factoring(297845733)\n",
    "print(test)\n",
    "x = 1\n",
    "for i in test:\n",
    "    x *= i\n",
    "print(x)"
   ]
  },
  {
   "cell_type": "code",
   "execution_count": 35,
   "id": "4ceaa9ef-31a3-4007-a765-c3ff916fe022",
   "metadata": {},
   "outputs": [
    {
     "data": {
      "text/plain": [
       "6120"
      ]
     },
     "execution_count": 35,
     "metadata": {},
     "output_type": "execute_result"
    }
   ],
   "source": [
    "2*2*2*3*3*5*17"
   ]
  },
  {
   "cell_type": "code",
   "execution_count": 36,
   "id": "c78d1826-2014-4c3f-b02f-40e2b6c1c7fb",
   "metadata": {},
   "outputs": [
    {
     "name": "stdout",
     "output_type": "stream",
     "text": [
      "[2, 2, 2, 3, 3, 5, 17]\n",
      "6120\n"
     ]
    }
   ],
   "source": [
    "test = prime_factoring(6120)\n",
    "print(test)\n",
    "x = 1\n",
    "for i in test:\n",
    "    x *= i\n",
    "print(x)"
   ]
  },
  {
   "cell_type": "code",
   "execution_count": 37,
   "id": "b0a6e53d-72dc-4025-ba8e-5b9a01c8088d",
   "metadata": {},
   "outputs": [
    {
     "name": "stdout",
     "output_type": "stream",
     "text": [
      "[2, 2, 2, 2, 2, 7, 11, 17, 131]\n",
      "5487328\n"
     ]
    }
   ],
   "source": [
    "test = prime_factoring(5487328)\n",
    "print(test)\n",
    "x = 1\n",
    "for i in test:\n",
    "    x *= i\n",
    "print(x)"
   ]
  },
  {
   "cell_type": "code",
   "execution_count": 38,
   "id": "e8840b49-3484-4444-a676-696b79f65618",
   "metadata": {},
   "outputs": [
    {
     "data": {
      "text/plain": [
       "[99281911]"
      ]
     },
     "execution_count": 38,
     "metadata": {},
     "output_type": "execute_result"
    }
   ],
   "source": [
    "prime_factoring(99281911)"
   ]
  },
  {
   "cell_type": "markdown",
   "id": "75bb541e-1b88-4f7e-820a-e97d7959ec12",
   "metadata": {},
   "source": [
    "# DUMP"
   ]
  },
  {
   "cell_type": "code",
   "execution_count": null,
   "id": "a74372de-35b2-49e1-bf6b-03b933450eb1",
   "metadata": {},
   "outputs": [],
   "source": [
    "for i in range(0,10):\n",
    "    print(i)"
   ]
  },
  {
   "cell_type": "code",
   "execution_count": null,
   "id": "545865a8-0f55-4ad9-8d9c-7456dc27263e",
   "metadata": {},
   "outputs": [],
   "source": [
    "for i in range(2, 2):\n",
    "    print(i)"
   ]
  },
  {
   "cell_type": "code",
   "execution_count": null,
   "id": "e94ccaaa-6cc0-4bbc-bd6f-30b64f41175f",
   "metadata": {},
   "outputs": [],
   "source": [
    "10 / 5"
   ]
  },
  {
   "cell_type": "code",
   "execution_count": null,
   "id": "67b9ea1f-6f3b-4f3b-badd-cb254cd83034",
   "metadata": {},
   "outputs": [],
   "source": [
    "10 // 5"
   ]
  },
  {
   "cell_type": "code",
   "execution_count": null,
   "id": "43b545b3-ef6f-443b-90cd-b2d5683f1353",
   "metadata": {
    "tags": []
   },
   "outputs": [],
   "source": [
    "# for i in range(2, 10000000):\n",
    "#     if is_prime(i):\n",
    "#         print(i)"
   ]
  }
 ],
 "metadata": {
  "kernelspec": {
   "display_name": "Python 3 (ipykernel)",
   "language": "python",
   "name": "python3"
  },
  "language_info": {
   "codemirror_mode": {
    "name": "ipython",
    "version": 3
   },
   "file_extension": ".py",
   "mimetype": "text/x-python",
   "name": "python",
   "nbconvert_exporter": "python",
   "pygments_lexer": "ipython3",
   "version": "3.11.3"
  }
 },
 "nbformat": 4,
 "nbformat_minor": 5
}
