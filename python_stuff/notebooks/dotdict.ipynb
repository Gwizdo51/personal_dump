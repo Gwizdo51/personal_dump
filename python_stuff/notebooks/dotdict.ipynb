{
 "cells": [
  {
   "cell_type": "markdown",
   "id": "3d3a0db4-82ff-4d05-807b-7adcb4fe426c",
   "metadata": {},
   "source": [
    "### DotDict class\n",
    "\n",
    "What I want it to do:\n",
    "- works with any dictionary whose keys are strings (and whose nested dictionaries keys are strings as well)\n",
    "- `dotdict_test = DotDict(dict_test)` gives a DotDict object, `dict_test = dict(dotdict_test)` gives back the dictionary\n",
    "- can access the entries through the \"dot\" notation AND the regular dictionary index\n",
    "- setting / accessing / deleting an attribute sets / accesses / deletes the same entry in the dictionary\n",
    "- can create an empty dotdict with `DotDict()`"
   ]
  },
  {
   "cell_type": "code",
   "execution_count": 448,
   "id": "33a71f67-ab73-49c6-be8b-3ca11ae46e4f",
   "metadata": {},
   "outputs": [],
   "source": [
    "%reset -f\n",
    "import re\n",
    "from typing import Optional, Any\n",
    "\n",
    "\n",
    "class KeyTypeError(Exception):\n",
    "    \"\"\"\n",
    "    A custom exception for the DotDict class. Raised when a trying to use\n",
    "    DotDict with a key that is not a string.\n",
    "    \"\"\"\n",
    "\n",
    "\n",
    "class AttributeNameError(Exception):\n",
    "    \"\"\"\n",
    "    A custom exception for the DotDict Class. Raised when trying to use\n",
    "    DotDict with a key that cannot with used as an attribute name.\n",
    "    \"\"\"\n",
    "\n",
    "\n",
    "# best attempt at defining a Regular Expression for an attribute name\n",
    "attribute_name_pattern_string = \"^[a-zA-Z]\\w*$\"\n",
    "attribute_name_pattern = re.compile(attribute_name_pattern_string)\n",
    "\n",
    "\n",
    "def check_key(key):\n",
    "    # check if the key is a string\n",
    "    if not (type(key) is str):\n",
    "        raise KeyTypeError(f\"The key '{key}' is not a string\")\n",
    "    # check if the key is accessible as a not-hidden attribute\n",
    "    if not attribute_name_pattern.match(key):\n",
    "        raise AttributeNameError(f\"The key '{key}' cannot be used as an attribute name\")\n",
    "\n",
    "\n",
    "def check_keys(dict_to_check: dict):\n",
    "    \"\"\"\n",
    "    Recursively checks if the keys of dict_to_check and its\n",
    "    nested dictionaries are accessible as attribute names.\n",
    "    \"\"\"\n",
    "    for key in dict_to_check.keys():\n",
    "        check_key(key)\n",
    "        # if the value is a dict, check for its keys as well\n",
    "        value = dict_to_check[key]\n",
    "        if type(value) is dict:\n",
    "            check_keys(value)\n",
    "\n",
    "\n",
    "def clean_types(dict_to_check: dict) -> dict:\n",
    "    \"\"\"\n",
    "    Recursively converts the types of all the values of dict_to_check and its\n",
    "    nested dictionaries to DotDicts when they are dicts.\n",
    "    \"\"\"\n",
    "    # placeholder for the clean dict\n",
    "    cleaned_dict = {}\n",
    "    for key in dict_to_check.keys():\n",
    "        value = dict_to_check[key]\n",
    "        # convert the value to a dict if it is a DotDict\n",
    "        if type(value) is DotDict:\n",
    "            value = dict(value)\n",
    "        # clean the types of the value if it is a dict\n",
    "        if type(value) is dict:\n",
    "            value = clean_types(value)\n",
    "        # add the clean value to the clean dict\n",
    "        cleaned_dict[key] = value\n",
    "    # return the clean dict\n",
    "    return cleaned_dict\n",
    "\n",
    "\n",
    "class DotDict(dict):\n",
    "    \"\"\"\n",
    "    Allows handling dictionaries with the \"dot\" notation.\n",
    "    \"\"\"\n",
    "\n",
    "    def __init__(self, *args, _check: bool = True, **kwargs):\n",
    "        if _check:\n",
    "            # create a temporary dict from the arguments\n",
    "            dict_self = dict(*args, **kwargs)\n",
    "            # test if all keys are valid as attribute names, recursively\n",
    "            check_keys(dict_self)\n",
    "            # if any values are DotDicts, convert them to dict, recursively\n",
    "            dict_self = clean_types(dict_self)\n",
    "            # init the \"self\" dict with the cleaned dict\n",
    "            dict.__init__(self, dict_self)\n",
    "        else:\n",
    "            # init the \"self\" dict from the arguments directly\n",
    "            dict.__init__(self, *args, **kwargs)\n",
    "\n",
    "    def __getitem__(self, key: str) -> Optional[Any]:\n",
    "        # check if the key exists\n",
    "        if not (key in self.keys()):\n",
    "            raise AttributeError(f\"No key/attribute '{key}'\")\n",
    "        value = dict.__getitem__(self, key)\n",
    "        if type(value) is dict:\n",
    "            # if the value is a dict, return it as a DotDict object\n",
    "            # no need to check it, it's already cleared\n",
    "            return DotDict(value, _check=False)\n",
    "        else:\n",
    "            return value\n",
    "\n",
    "    __getattr__ = __getitem__\n",
    "\n",
    "    def __setitem__(self, key: str, value: Optional[Any]):\n",
    "        # check if the key is valid as an attribute name\n",
    "        check_key(key)\n",
    "        # if the value is a dict, convert it to DotDict (clears/cleans it)\n",
    "        if type(value) is dict:\n",
    "            value = DotDict(value)\n",
    "        # if the value is a DotDict, insert it as a dict (already cleared)\n",
    "        if type(value) is DotDict:\n",
    "            value = dict(value)\n",
    "        dict.__setitem__(self, key, value)\n",
    "\n",
    "    __setattr__ = __setitem__\n",
    "\n",
    "    def __delitem__(self, key: str):\n",
    "        # check if the key exists\n",
    "        if not (key in self.keys()):\n",
    "            raise AttributeError(f\"No key/attribute '{key}'\")\n",
    "        dict.__delitem__(self, key)\n",
    "\n",
    "    __delattr__ = __delitem__\n",
    "\n",
    "    def __dir__(self) -> list[str]:\n",
    "        # overridden to show the keys as attributes with the 'dir' built-in function\n",
    "        dict_dir = dict.__dir__(self)\n",
    "        dotdict_attributes = list(self.keys())\n",
    "        return dict_dir + dotdict_attributes"
   ]
  },
  {
   "cell_type": "code",
   "execution_count": 449,
   "id": "c4f35533-5edf-4179-b064-89231270d43b",
   "metadata": {},
   "outputs": [
    {
     "data": {
      "text/plain": [
       "{'lol': 3}"
      ]
     },
     "execution_count": 449,
     "metadata": {},
     "output_type": "execute_result"
    }
   ],
   "source": [
    "test = DotDict()\n",
    "test.lol = 3\n",
    "test"
   ]
  },
  {
   "cell_type": "code",
   "execution_count": 450,
   "id": "f417b934-c967-452d-ac94-8e3e3bae995c",
   "metadata": {},
   "outputs": [
    {
     "data": {
      "text/plain": [
       "<function __main__.DotDict.__setitem__(self, key: str, value: Optional[Any])>"
      ]
     },
     "execution_count": 450,
     "metadata": {},
     "output_type": "execute_result"
    }
   ],
   "source": [
    "DotDict.__setitem__"
   ]
  },
  {
   "cell_type": "code",
   "execution_count": 451,
   "id": "bb867bf3-7704-439c-991f-0d8a25e85fb2",
   "metadata": {},
   "outputs": [
    {
     "name": "stdout",
     "output_type": "stream",
     "text": [
      "{'blbl': 'lol', 'stuff': 74, 'null_value': None}\n",
      "None\n"
     ]
    }
   ],
   "source": [
    "test = DotDict(blbl=\"lol\", stuff=74, null_value=None)\n",
    "print(test)\n",
    "print(test.null_value)"
   ]
  },
  {
   "cell_type": "code",
   "execution_count": 452,
   "id": "15613e3f-c274-4af2-9056-74c6c50dd1a4",
   "metadata": {},
   "outputs": [
    {
     "data": {
      "text/plain": [
       "{'param1': 'great',\n",
       " 'param2': 2,\n",
       " 'param3': {'subparam': -5.2},\n",
       " 'param4': [6, 1, 2]}"
      ]
     },
     "execution_count": 452,
     "metadata": {},
     "output_type": "execute_result"
    }
   ],
   "source": [
    "dict_test = {\n",
    "    \"param1\": \"great\",\n",
    "    \"param2\": 2,\n",
    "    # \"_lol\": \"lol\",\n",
    "    \"param3\": {\n",
    "        \"subparam\": -5.2,\n",
    "        # \"2\": \"lol\",\n",
    "        # 1: \"haha\"\n",
    "    },\n",
    "    \"param4\": [6,1,2]\n",
    "}\n",
    "dotdict_test = DotDict(dict_test)\n",
    "# print()\n",
    "dotdict_test"
   ]
  },
  {
   "cell_type": "code",
   "execution_count": 453,
   "id": "6219db58-75c7-4b61-af87-4051b9f51b80",
   "metadata": {
    "tags": []
   },
   "outputs": [],
   "source": [
    "# dir(dotdict_test)"
   ]
  },
  {
   "cell_type": "code",
   "execution_count": 454,
   "id": "a871f9b0-23ae-47de-b52b-402913e70606",
   "metadata": {
    "tags": []
   },
   "outputs": [],
   "source": [
    "# dotdict_test.__dir__()"
   ]
  },
  {
   "cell_type": "code",
   "execution_count": 455,
   "id": "c26ba842-29eb-4b71-89c0-5d514dce891d",
   "metadata": {},
   "outputs": [
    {
     "name": "stdout",
     "output_type": "stream",
     "text": [
      "<class 'dict'>\n"
     ]
    },
    {
     "data": {
      "text/plain": [
       "{'param1': 'great',\n",
       " 'param2': 2,\n",
       " 'param3': {'subparam': -5.2},\n",
       " 'param4': [6, 1, 2]}"
      ]
     },
     "execution_count": 455,
     "metadata": {},
     "output_type": "execute_result"
    }
   ],
   "source": [
    "# get the dict back\n",
    "dict_test_returned = dict(dotdict_test)\n",
    "print(type(dict_test_returned[\"param3\"]))\n",
    "dict_test_returned"
   ]
  },
  {
   "cell_type": "code",
   "execution_count": 456,
   "id": "4ab016bb-223d-4565-9984-fcac0984f052",
   "metadata": {},
   "outputs": [
    {
     "name": "stdout",
     "output_type": "stream",
     "text": [
      "{'subparam': -5.2}\n",
      "<class '__main__.DotDict'>\n",
      "<class '__main__.DotDict'>\n",
      "[6, 1, 2]\n",
      "True\n",
      "False\n",
      "True\n",
      "True\n",
      "-5.2\n"
     ]
    }
   ],
   "source": [
    "# accessing values\n",
    "print(dotdict_test.param3)\n",
    "print(type(dotdict_test.param3))\n",
    "print(type(dotdict_test[\"param3\"]))\n",
    "print(dotdict_test[\"param4\"])\n",
    "print(hasattr(dotdict_test, \"param1\"))\n",
    "print(hasattr(dotdict_test, \"fdfd\"))\n",
    "print(\"param2\" in dotdict_test.keys())\n",
    "print(\"subparam\" in dir(dotdict_test.param3))\n",
    "print(dotdict_test.param3.subparam)"
   ]
  },
  {
   "cell_type": "code",
   "execution_count": 457,
   "id": "54a210de-e0f9-4b13-80a4-3b8805d06a61",
   "metadata": {},
   "outputs": [
    {
     "data": {
      "text/plain": [
       "{'param1': 'great',\n",
       " 'param2': 2,\n",
       " 'param3': {'subparam': -5.2},\n",
       " 'param4': [6, 1, 2],\n",
       " 'param5': {1, 2, 3},\n",
       " 'param6': 'blblblb',\n",
       " 'param7': {'lol': {'Lol0': 0}, 'haha': 'prout'}}"
      ]
     },
     "execution_count": 457,
     "metadata": {},
     "output_type": "execute_result"
    }
   ],
   "source": [
    "# setting values\n",
    "dotdict_test.param5 = {1,2,3}\n",
    "dotdict_test[\"param6\"] = \"blblblb\"\n",
    "# dotdict_test[\"param7\"] = DotDict({\n",
    "dotdict_test[\"param7\"] = {\n",
    "    \"lol\": {\n",
    "        \"Lol0\": 0,\n",
    "        # \"1\": 2,\n",
    "        # \"_lol3\": 6,\n",
    "        # \"_ABC\": 4\n",
    "        # 2: \"lol\"\n",
    "    },\n",
    "    \"haha\": \"prout\"\n",
    "}\n",
    "# dotdict_test[\"246\"] = 4\n",
    "dotdict_test"
   ]
  },
  {
   "cell_type": "code",
   "execution_count": 458,
   "id": "b9bc09b1-2416-4241-a5a2-4a760e92c812",
   "metadata": {},
   "outputs": [
    {
     "data": {
      "text/plain": [
       "0"
      ]
     },
     "execution_count": 458,
     "metadata": {},
     "output_type": "execute_result"
    }
   ],
   "source": [
    "dotdict_test.param7.lol.Lol0"
   ]
  },
  {
   "cell_type": "code",
   "execution_count": 459,
   "id": "cd9e6500-4cb1-4e28-a6fe-d0f9337c3ca0",
   "metadata": {},
   "outputs": [
    {
     "data": {
      "text/plain": [
       "{'param1': 'great',\n",
       " 'param2': 2,\n",
       " 'param3': {'subparam': -5.2},\n",
       " 'param4': [6, 1, 2],\n",
       " 'param7': {'lol': {'Lol0': 0}, 'haha': 'prout'}}"
      ]
     },
     "execution_count": 459,
     "metadata": {},
     "output_type": "execute_result"
    }
   ],
   "source": [
    "# delete values\n",
    "delattr(dotdict_test, \"param5\")\n",
    "del dotdict_test[\"param6\"]\n",
    "dotdict_test"
   ]
  },
  {
   "cell_type": "code",
   "execution_count": 460,
   "id": "ea15bd1c-813b-4256-99c5-f478ef1d5a98",
   "metadata": {},
   "outputs": [
    {
     "name": "stdout",
     "output_type": "stream",
     "text": [
      "<class 'dict'>\n"
     ]
    },
    {
     "data": {
      "text/plain": [
       "{'first': {'a': 0}, 'second': {'b': 1}, 'third': {'c': 2}}"
      ]
     },
     "execution_count": 460,
     "metadata": {},
     "output_type": "execute_result"
    }
   ],
   "source": [
    "dotdict_1 = DotDict({\n",
    "    \"a\": 0\n",
    "})\n",
    "dotdict_2 = DotDict({\n",
    "    \"b\": 1\n",
    "})\n",
    "dotdict_3 = DotDict({\n",
    "    \"c\": 2\n",
    "})\n",
    "dict_dotdict = {\n",
    "    \"first\": dotdict_1,\n",
    "    \"second\": dotdict_2,\n",
    "    \"third\": dotdict_3\n",
    "}\n",
    "result_dict = dict(DotDict(dict_dotdict))\n",
    "print(type(result_dict[\"first\"]))\n",
    "result_dict"
   ]
  },
  {
   "cell_type": "code",
   "execution_count": 461,
   "id": "adcfef3b-8fd3-44b9-9221-92c011c823ff",
   "metadata": {},
   "outputs": [
    {
     "ename": "AttributeError",
     "evalue": "No key/attribute 'lol'",
     "output_type": "error",
     "traceback": [
      "\u001b[1;31m---------------------------------------------------------------------------\u001b[0m",
      "\u001b[1;31mAttributeError\u001b[0m                            Traceback (most recent call last)",
      "Cell \u001b[1;32mIn[461], line 1\u001b[0m\n\u001b[1;32m----> 1\u001b[0m dotdict_test\u001b[38;5;241m.\u001b[39mlol\n",
      "Cell \u001b[1;32mIn[448], line 90\u001b[0m, in \u001b[0;36mDotDict.__getitem__\u001b[1;34m(self, key)\u001b[0m\n\u001b[0;32m     87\u001b[0m \u001b[38;5;28;01mdef\u001b[39;00m \u001b[38;5;21m__getitem__\u001b[39m(\u001b[38;5;28mself\u001b[39m, key: \u001b[38;5;28mstr\u001b[39m) \u001b[38;5;241m-\u001b[39m\u001b[38;5;241m>\u001b[39m Optional[Any]:\n\u001b[0;32m     88\u001b[0m     \u001b[38;5;66;03m# check if the key exists\u001b[39;00m\n\u001b[0;32m     89\u001b[0m     \u001b[38;5;28;01mif\u001b[39;00m \u001b[38;5;129;01mnot\u001b[39;00m (key \u001b[38;5;129;01min\u001b[39;00m \u001b[38;5;28mself\u001b[39m\u001b[38;5;241m.\u001b[39mkeys()):\n\u001b[1;32m---> 90\u001b[0m         \u001b[38;5;28;01mraise\u001b[39;00m \u001b[38;5;167;01mAttributeError\u001b[39;00m(\u001b[38;5;124mf\u001b[39m\u001b[38;5;124m\"\u001b[39m\u001b[38;5;124mNo key/attribute \u001b[39m\u001b[38;5;124m'\u001b[39m\u001b[38;5;132;01m{\u001b[39;00mkey\u001b[38;5;132;01m}\u001b[39;00m\u001b[38;5;124m'\u001b[39m\u001b[38;5;124m\"\u001b[39m)\n\u001b[0;32m     91\u001b[0m     value \u001b[38;5;241m=\u001b[39m \u001b[38;5;28mdict\u001b[39m\u001b[38;5;241m.\u001b[39m\u001b[38;5;21m__getitem__\u001b[39m(\u001b[38;5;28mself\u001b[39m, key)\n\u001b[0;32m     92\u001b[0m     \u001b[38;5;28;01mif\u001b[39;00m \u001b[38;5;28mtype\u001b[39m(value) \u001b[38;5;129;01mis\u001b[39;00m \u001b[38;5;28mdict\u001b[39m:\n\u001b[0;32m     93\u001b[0m         \u001b[38;5;66;03m# if the value is a dict, return it as a DotDict object\u001b[39;00m\n\u001b[0;32m     94\u001b[0m         \u001b[38;5;66;03m# no need to check it, it's already cleared\u001b[39;00m\n",
      "\u001b[1;31mAttributeError\u001b[0m: No key/attribute 'lol'"
     ]
    }
   ],
   "source": [
    "dotdict_test.lol"
   ]
  },
  {
   "cell_type": "code",
   "execution_count": 462,
   "id": "c897ffa0-89f9-4d22-8fd8-5a8e2c2d5922",
   "metadata": {},
   "outputs": [
    {
     "ename": "AttributeError",
     "evalue": "No key/attribute 'haha'",
     "output_type": "error",
     "traceback": [
      "\u001b[1;31m---------------------------------------------------------------------------\u001b[0m",
      "\u001b[1;31mAttributeError\u001b[0m                            Traceback (most recent call last)",
      "Cell \u001b[1;32mIn[462], line 1\u001b[0m\n\u001b[1;32m----> 1\u001b[0m dotdict_test[\u001b[38;5;124m\"\u001b[39m\u001b[38;5;124mhaha\u001b[39m\u001b[38;5;124m\"\u001b[39m]\n",
      "Cell \u001b[1;32mIn[448], line 90\u001b[0m, in \u001b[0;36mDotDict.__getitem__\u001b[1;34m(self, key)\u001b[0m\n\u001b[0;32m     87\u001b[0m \u001b[38;5;28;01mdef\u001b[39;00m \u001b[38;5;21m__getitem__\u001b[39m(\u001b[38;5;28mself\u001b[39m, key: \u001b[38;5;28mstr\u001b[39m) \u001b[38;5;241m-\u001b[39m\u001b[38;5;241m>\u001b[39m Optional[Any]:\n\u001b[0;32m     88\u001b[0m     \u001b[38;5;66;03m# check if the key exists\u001b[39;00m\n\u001b[0;32m     89\u001b[0m     \u001b[38;5;28;01mif\u001b[39;00m \u001b[38;5;129;01mnot\u001b[39;00m (key \u001b[38;5;129;01min\u001b[39;00m \u001b[38;5;28mself\u001b[39m\u001b[38;5;241m.\u001b[39mkeys()):\n\u001b[1;32m---> 90\u001b[0m         \u001b[38;5;28;01mraise\u001b[39;00m \u001b[38;5;167;01mAttributeError\u001b[39;00m(\u001b[38;5;124mf\u001b[39m\u001b[38;5;124m\"\u001b[39m\u001b[38;5;124mNo key/attribute \u001b[39m\u001b[38;5;124m'\u001b[39m\u001b[38;5;132;01m{\u001b[39;00mkey\u001b[38;5;132;01m}\u001b[39;00m\u001b[38;5;124m'\u001b[39m\u001b[38;5;124m\"\u001b[39m)\n\u001b[0;32m     91\u001b[0m     value \u001b[38;5;241m=\u001b[39m \u001b[38;5;28mdict\u001b[39m\u001b[38;5;241m.\u001b[39m\u001b[38;5;21m__getitem__\u001b[39m(\u001b[38;5;28mself\u001b[39m, key)\n\u001b[0;32m     92\u001b[0m     \u001b[38;5;28;01mif\u001b[39;00m \u001b[38;5;28mtype\u001b[39m(value) \u001b[38;5;129;01mis\u001b[39;00m \u001b[38;5;28mdict\u001b[39m:\n\u001b[0;32m     93\u001b[0m         \u001b[38;5;66;03m# if the value is a dict, return it as a DotDict object\u001b[39;00m\n\u001b[0;32m     94\u001b[0m         \u001b[38;5;66;03m# no need to check it, it's already cleared\u001b[39;00m\n",
      "\u001b[1;31mAttributeError\u001b[0m: No key/attribute 'haha'"
     ]
    }
   ],
   "source": [
    "dotdict_test[\"haha\"]"
   ]
  },
  {
   "cell_type": "code",
   "execution_count": 463,
   "id": "c93c469b-d95d-42ca-a1a0-a3439d5aa684",
   "metadata": {},
   "outputs": [
    {
     "ename": "KeyTypeError",
     "evalue": "The key '0' is not a string",
     "output_type": "error",
     "traceback": [
      "\u001b[1;31m---------------------------------------------------------------------------\u001b[0m",
      "\u001b[1;31mKeyTypeError\u001b[0m                              Traceback (most recent call last)",
      "Cell \u001b[1;32mIn[463], line 1\u001b[0m\n\u001b[1;32m----> 1\u001b[0m dotdict_test[\u001b[38;5;241m0\u001b[39m] \u001b[38;5;241m=\u001b[39m \u001b[38;5;124m\"\u001b[39m\u001b[38;5;124mlol\u001b[39m\u001b[38;5;124m\"\u001b[39m\n",
      "Cell \u001b[1;32mIn[448], line 103\u001b[0m, in \u001b[0;36mDotDict.__setitem__\u001b[1;34m(self, key, value)\u001b[0m\n\u001b[0;32m    101\u001b[0m \u001b[38;5;28;01mdef\u001b[39;00m \u001b[38;5;21m__setitem__\u001b[39m(\u001b[38;5;28mself\u001b[39m, key: \u001b[38;5;28mstr\u001b[39m, value: Optional[Any]):\n\u001b[0;32m    102\u001b[0m     \u001b[38;5;66;03m# check if the key is valid as an attribute name\u001b[39;00m\n\u001b[1;32m--> 103\u001b[0m     check_key(key)\n\u001b[0;32m    104\u001b[0m     \u001b[38;5;66;03m# if the value is a dict, convert it to DotDict (clears/cleans it)\u001b[39;00m\n\u001b[0;32m    105\u001b[0m     \u001b[38;5;28;01mif\u001b[39;00m \u001b[38;5;28mtype\u001b[39m(value) \u001b[38;5;129;01mis\u001b[39;00m \u001b[38;5;28mdict\u001b[39m:\n",
      "Cell \u001b[1;32mIn[448], line 28\u001b[0m, in \u001b[0;36mcheck_key\u001b[1;34m(key)\u001b[0m\n\u001b[0;32m     25\u001b[0m \u001b[38;5;28;01mdef\u001b[39;00m \u001b[38;5;21mcheck_key\u001b[39m(key):\n\u001b[0;32m     26\u001b[0m     \u001b[38;5;66;03m# check if the key is a string\u001b[39;00m\n\u001b[0;32m     27\u001b[0m     \u001b[38;5;28;01mif\u001b[39;00m \u001b[38;5;129;01mnot\u001b[39;00m (\u001b[38;5;28mtype\u001b[39m(key) \u001b[38;5;129;01mis\u001b[39;00m \u001b[38;5;28mstr\u001b[39m):\n\u001b[1;32m---> 28\u001b[0m         \u001b[38;5;28;01mraise\u001b[39;00m KeyTypeError(\u001b[38;5;124mf\u001b[39m\u001b[38;5;124m\"\u001b[39m\u001b[38;5;124mThe key \u001b[39m\u001b[38;5;124m'\u001b[39m\u001b[38;5;132;01m{\u001b[39;00mkey\u001b[38;5;132;01m}\u001b[39;00m\u001b[38;5;124m'\u001b[39m\u001b[38;5;124m is not a string\u001b[39m\u001b[38;5;124m\"\u001b[39m)\n\u001b[0;32m     29\u001b[0m     \u001b[38;5;66;03m# check if the key is accessible as a not-hidden attribute\u001b[39;00m\n\u001b[0;32m     30\u001b[0m     \u001b[38;5;28;01mif\u001b[39;00m \u001b[38;5;129;01mnot\u001b[39;00m attribute_name_pattern\u001b[38;5;241m.\u001b[39mmatch(key):\n",
      "\u001b[1;31mKeyTypeError\u001b[0m: The key '0' is not a string"
     ]
    }
   ],
   "source": [
    "dotdict_test[0] = \"lol\""
   ]
  },
  {
   "cell_type": "code",
   "execution_count": 464,
   "id": "999fe764-30ac-48e5-b3aa-7e52748264da",
   "metadata": {},
   "outputs": [
    {
     "ename": "AttributeNameError",
     "evalue": "The key '0' cannot be used as an attribute name",
     "output_type": "error",
     "traceback": [
      "\u001b[1;31m---------------------------------------------------------------------------\u001b[0m",
      "\u001b[1;31mAttributeNameError\u001b[0m                        Traceback (most recent call last)",
      "Cell \u001b[1;32mIn[464], line 1\u001b[0m\n\u001b[1;32m----> 1\u001b[0m dotdict_test[\u001b[38;5;124m\"\u001b[39m\u001b[38;5;124m0\u001b[39m\u001b[38;5;124m\"\u001b[39m] \u001b[38;5;241m=\u001b[39m \u001b[38;5;124m\"\u001b[39m\u001b[38;5;124mlol\u001b[39m\u001b[38;5;124m\"\u001b[39m\n",
      "Cell \u001b[1;32mIn[448], line 103\u001b[0m, in \u001b[0;36mDotDict.__setitem__\u001b[1;34m(self, key, value)\u001b[0m\n\u001b[0;32m    101\u001b[0m \u001b[38;5;28;01mdef\u001b[39;00m \u001b[38;5;21m__setitem__\u001b[39m(\u001b[38;5;28mself\u001b[39m, key: \u001b[38;5;28mstr\u001b[39m, value: Optional[Any]):\n\u001b[0;32m    102\u001b[0m     \u001b[38;5;66;03m# check if the key is valid as an attribute name\u001b[39;00m\n\u001b[1;32m--> 103\u001b[0m     check_key(key)\n\u001b[0;32m    104\u001b[0m     \u001b[38;5;66;03m# if the value is a dict, convert it to DotDict (clears/cleans it)\u001b[39;00m\n\u001b[0;32m    105\u001b[0m     \u001b[38;5;28;01mif\u001b[39;00m \u001b[38;5;28mtype\u001b[39m(value) \u001b[38;5;129;01mis\u001b[39;00m \u001b[38;5;28mdict\u001b[39m:\n",
      "Cell \u001b[1;32mIn[448], line 31\u001b[0m, in \u001b[0;36mcheck_key\u001b[1;34m(key)\u001b[0m\n\u001b[0;32m     29\u001b[0m \u001b[38;5;66;03m# check if the key is accessible as a not-hidden attribute\u001b[39;00m\n\u001b[0;32m     30\u001b[0m \u001b[38;5;28;01mif\u001b[39;00m \u001b[38;5;129;01mnot\u001b[39;00m attribute_name_pattern\u001b[38;5;241m.\u001b[39mmatch(key):\n\u001b[1;32m---> 31\u001b[0m     \u001b[38;5;28;01mraise\u001b[39;00m AttributeNameError(\u001b[38;5;124mf\u001b[39m\u001b[38;5;124m\"\u001b[39m\u001b[38;5;124mThe key \u001b[39m\u001b[38;5;124m'\u001b[39m\u001b[38;5;132;01m{\u001b[39;00mkey\u001b[38;5;132;01m}\u001b[39;00m\u001b[38;5;124m'\u001b[39m\u001b[38;5;124m cannot be used as an attribute name\u001b[39m\u001b[38;5;124m\"\u001b[39m)\n",
      "\u001b[1;31mAttributeNameError\u001b[0m: The key '0' cannot be used as an attribute name"
     ]
    }
   ],
   "source": [
    "dotdict_test[\"0\"] = \"lol\""
   ]
  },
  {
   "cell_type": "code",
   "execution_count": 465,
   "id": "3e8b6177-82df-4b66-a8ff-d10c805ee8d5",
   "metadata": {},
   "outputs": [
    {
     "ename": "AttributeError",
     "evalue": "No key/attribute 'lol'",
     "output_type": "error",
     "traceback": [
      "\u001b[1;31m---------------------------------------------------------------------------\u001b[0m",
      "\u001b[1;31mAttributeError\u001b[0m                            Traceback (most recent call last)",
      "Cell \u001b[1;32mIn[465], line 1\u001b[0m\n\u001b[1;32m----> 1\u001b[0m \u001b[38;5;28;01mdel\u001b[39;00m dotdict_test\u001b[38;5;241m.\u001b[39mlol\n",
      "Cell \u001b[1;32mIn[448], line 117\u001b[0m, in \u001b[0;36mDotDict.__delitem__\u001b[1;34m(self, key)\u001b[0m\n\u001b[0;32m    114\u001b[0m \u001b[38;5;28;01mdef\u001b[39;00m \u001b[38;5;21m__delitem__\u001b[39m(\u001b[38;5;28mself\u001b[39m, key: \u001b[38;5;28mstr\u001b[39m):\n\u001b[0;32m    115\u001b[0m     \u001b[38;5;66;03m# check if the key exists\u001b[39;00m\n\u001b[0;32m    116\u001b[0m     \u001b[38;5;28;01mif\u001b[39;00m \u001b[38;5;129;01mnot\u001b[39;00m (key \u001b[38;5;129;01min\u001b[39;00m \u001b[38;5;28mself\u001b[39m\u001b[38;5;241m.\u001b[39mkeys()):\n\u001b[1;32m--> 117\u001b[0m         \u001b[38;5;28;01mraise\u001b[39;00m \u001b[38;5;167;01mAttributeError\u001b[39;00m(\u001b[38;5;124mf\u001b[39m\u001b[38;5;124m\"\u001b[39m\u001b[38;5;124mNo key/attribute \u001b[39m\u001b[38;5;124m'\u001b[39m\u001b[38;5;132;01m{\u001b[39;00mkey\u001b[38;5;132;01m}\u001b[39;00m\u001b[38;5;124m'\u001b[39m\u001b[38;5;124m\"\u001b[39m)\n\u001b[0;32m    118\u001b[0m     \u001b[38;5;28mdict\u001b[39m\u001b[38;5;241m.\u001b[39m\u001b[38;5;21m__delitem__\u001b[39m(\u001b[38;5;28mself\u001b[39m, key)\n",
      "\u001b[1;31mAttributeError\u001b[0m: No key/attribute 'lol'"
     ]
    }
   ],
   "source": [
    "del dotdict_test.lol"
   ]
  },
  {
   "cell_type": "code",
   "execution_count": 466,
   "id": "b016018a-91c5-4e7f-acf4-7ce1071eac86",
   "metadata": {},
   "outputs": [
    {
     "ename": "AttributeError",
     "evalue": "No key/attribute 'haha'",
     "output_type": "error",
     "traceback": [
      "\u001b[1;31m---------------------------------------------------------------------------\u001b[0m",
      "\u001b[1;31mAttributeError\u001b[0m                            Traceback (most recent call last)",
      "Cell \u001b[1;32mIn[466], line 1\u001b[0m\n\u001b[1;32m----> 1\u001b[0m \u001b[38;5;28;01mdel\u001b[39;00m dotdict_test[\u001b[38;5;124m\"\u001b[39m\u001b[38;5;124mhaha\u001b[39m\u001b[38;5;124m\"\u001b[39m]\n",
      "Cell \u001b[1;32mIn[448], line 117\u001b[0m, in \u001b[0;36mDotDict.__delitem__\u001b[1;34m(self, key)\u001b[0m\n\u001b[0;32m    114\u001b[0m \u001b[38;5;28;01mdef\u001b[39;00m \u001b[38;5;21m__delitem__\u001b[39m(\u001b[38;5;28mself\u001b[39m, key: \u001b[38;5;28mstr\u001b[39m):\n\u001b[0;32m    115\u001b[0m     \u001b[38;5;66;03m# check if the key exists\u001b[39;00m\n\u001b[0;32m    116\u001b[0m     \u001b[38;5;28;01mif\u001b[39;00m \u001b[38;5;129;01mnot\u001b[39;00m (key \u001b[38;5;129;01min\u001b[39;00m \u001b[38;5;28mself\u001b[39m\u001b[38;5;241m.\u001b[39mkeys()):\n\u001b[1;32m--> 117\u001b[0m         \u001b[38;5;28;01mraise\u001b[39;00m \u001b[38;5;167;01mAttributeError\u001b[39;00m(\u001b[38;5;124mf\u001b[39m\u001b[38;5;124m\"\u001b[39m\u001b[38;5;124mNo key/attribute \u001b[39m\u001b[38;5;124m'\u001b[39m\u001b[38;5;132;01m{\u001b[39;00mkey\u001b[38;5;132;01m}\u001b[39;00m\u001b[38;5;124m'\u001b[39m\u001b[38;5;124m\"\u001b[39m)\n\u001b[0;32m    118\u001b[0m     \u001b[38;5;28mdict\u001b[39m\u001b[38;5;241m.\u001b[39m\u001b[38;5;21m__delitem__\u001b[39m(\u001b[38;5;28mself\u001b[39m, key)\n",
      "\u001b[1;31mAttributeError\u001b[0m: No key/attribute 'haha'"
     ]
    }
   ],
   "source": [
    "del dotdict_test[\"haha\"]"
   ]
  },
  {
   "cell_type": "code",
   "execution_count": null,
   "id": "256389be-129f-413c-a895-80476b3d2845",
   "metadata": {},
   "outputs": [],
   "source": []
  },
  {
   "cell_type": "code",
   "execution_count": null,
   "id": "3eb9b70c-dd01-400e-8e71-aefbd939cdcd",
   "metadata": {},
   "outputs": [],
   "source": []
  },
  {
   "cell_type": "markdown",
   "id": "51311d1d-58ef-4e41-97be-b1fa7697f7e2",
   "metadata": {},
   "source": [
    "### Class inheritance\n",
    "\n",
    "`super(type[, instance_or_type])`\n",
    "\n",
    "- `super` returns a proxy item used to call methods from parent or sibling classes\n",
    "- `super(type)` returns unbound super object\n",
    "- `super(type, instance)` instance must be instance of type (isinstance(instance, type))\n",
    "- `super(type, type2)` type2 must be subclass of type (issubclass(type2, type))\n",
    "\n",
    "`super` is only used when you don't want to name the parent classes by name => behavior determined at rutime using the MRO"
   ]
  },
  {
   "cell_type": "code",
   "execution_count": 159,
   "id": "a4cc88f1-a437-4597-9293-1c29c24b4224",
   "metadata": {},
   "outputs": [
    {
     "name": "stdout",
     "output_type": "stream",
     "text": [
      "<class '__main__.A'>\n",
      "<class '__main__.B'>\n",
      "<class '__main__.D'>\n",
      "<class '__main__.C'>\n",
      "<class 'object'>\n",
      "\n",
      "init A\n",
      "init B\n",
      "init D\n",
      "init C\n",
      "end init D\n",
      "end init A\n",
      "1\n",
      "2\n",
      "3\n",
      "4\n",
      "this is a method of the class B\n",
      "this is a method of the class C\n",
      "this is a method of the class D\n"
     ]
    }
   ],
   "source": [
    "%reset -f\n",
    "class B:\n",
    "    def __init__(self, b_atr: int):\n",
    "        print(\"init B\")\n",
    "        self.b_atr = b_atr\n",
    "        \n",
    "    def meth_b(self):\n",
    "        print(\"this is a method of the class B\")\n",
    "        \n",
    "    # def meth(self):\n",
    "    #     print(\"this is the method 'meth' of the class A\")\n",
    "\n",
    "# a_test = A(2)\n",
    "# print(a_test.a_atr)\n",
    "\n",
    "\n",
    "class C:\n",
    "    def __init__(self, c_atr: int):\n",
    "        print(\"init C\")\n",
    "        self.c_atr = c_atr\n",
    "        \n",
    "    def meth_c(self):\n",
    "        print(\"this is a method of the class C\")\n",
    "        \n",
    "    # def meth(self):\n",
    "    #     print(\"this is the method 'meth' of the class B\")\n",
    "        \n",
    "\n",
    "class D(C):\n",
    "    def __init__(self, c_atr: int, d_atr: int):\n",
    "        print(\"init D\")\n",
    "        # print(super())\n",
    "        # super().__init__(c_atr)\n",
    "        C.__init__(self, c_atr)\n",
    "        self.d_atr = d_atr\n",
    "        print(\"end init D\")\n",
    "        \n",
    "    def meth_d(self):\n",
    "        print(\"this is a method of the class D\")\n",
    "        \n",
    "# d_test = D(1,2)\n",
    "# print(d_test.d_atr)\n",
    "# print(d_test.c_atr)\n",
    "# d_test.meth_d()\n",
    "# d_test.meth_c()\n",
    "\n",
    "\n",
    "class A(B, D):\n",
    "    def __init__(self, a_atr: int, b_atr: int, c_atr: int, d_atr: int):\n",
    "        print(\"init A\")\n",
    "        B.__init__(self, b_atr)\n",
    "        D.__init__(self, c_atr, d_atr)\n",
    "        self.a_atr = a_atr\n",
    "        print(\"end init A\")\n",
    "        \n",
    "    # def super_tests(self):\n",
    "    #     print(super())\n",
    "    #     print(super(self.__class__, self))\n",
    "    #     # print(super(...))\n",
    "\n",
    "        \n",
    "# print(\"A.__class__:\", A.__class__)\n",
    "# print(\"type(A):\", type(A))\n",
    "# print(\"MRO:\")\n",
    "for item in A.__mro__:\n",
    "    print(item)\n",
    "print()\n",
    "\n",
    "a_test = A(1,2,3,4)\n",
    "print(a_test.a_atr)\n",
    "print(a_test.b_atr)\n",
    "print(a_test.c_atr)\n",
    "print(a_test.d_atr)\n",
    "a_test.meth_b()\n",
    "a_test.meth_c()\n",
    "a_test.meth_d()"
   ]
  },
  {
   "cell_type": "code",
   "execution_count": 12,
   "id": "9c3ccf8c-c2fb-434f-a438-d547092c8cb1",
   "metadata": {},
   "outputs": [
    {
     "data": {
      "text/plain": [
       "<super: __main__.A, __main__.B>"
      ]
     },
     "execution_count": 12,
     "metadata": {},
     "output_type": "execute_result"
    }
   ],
   "source": [
    "super(A, B)"
   ]
  },
  {
   "cell_type": "code",
   "execution_count": 5,
   "id": "83c2f3c7-d47b-4c01-9ebd-9d8a9aecb7b4",
   "metadata": {},
   "outputs": [
    {
     "data": {
      "text/plain": [
       "\u001b[1;31mInit signature:\u001b[0m \u001b[0msuper\u001b[0m\u001b[1;33m(\u001b[0m\u001b[0mself\u001b[0m\u001b[1;33m,\u001b[0m \u001b[1;33m/\u001b[0m\u001b[1;33m,\u001b[0m \u001b[1;33m*\u001b[0m\u001b[0margs\u001b[0m\u001b[1;33m,\u001b[0m \u001b[1;33m**\u001b[0m\u001b[0mkwargs\u001b[0m\u001b[1;33m)\u001b[0m\u001b[1;33m\u001b[0m\u001b[1;33m\u001b[0m\u001b[0m\n",
       "\u001b[1;31mDocstring:\u001b[0m     \n",
       "super() -> same as super(__class__, <first argument>)\n",
       "super(type) -> unbound super object\n",
       "super(type, obj) -> bound super object; requires isinstance(obj, type)\n",
       "super(type, type2) -> bound super object; requires issubclass(type2, type)\n",
       "Typical use to call a cooperative superclass method:\n",
       "class C(B):\n",
       "    def meth(self, arg):\n",
       "        super().meth(arg)\n",
       "This works for class methods too:\n",
       "class C(B):\n",
       "    @classmethod\n",
       "    def cmeth(cls, arg):\n",
       "        super().cmeth(arg)\n",
       "\u001b[1;31mType:\u001b[0m           type\n",
       "\u001b[1;31mSubclasses:\u001b[0m     "
      ]
     },
     "metadata": {},
     "output_type": "display_data"
    }
   ],
   "source": [
    "super?"
   ]
  },
  {
   "cell_type": "code",
   "execution_count": 40,
   "id": "affb7fa5-e084-44f8-9973-8fccdc7e22bd",
   "metadata": {},
   "outputs": [
    {
     "name": "stdout",
     "output_type": "stream",
     "text": [
      "3\n",
      "9\n",
      "4\n",
      "96\n",
      "64\n"
     ]
    }
   ],
   "source": [
    "%reset -f\n",
    "\n",
    "class Square:\n",
    "    \n",
    "    def __init__(self, side_length):\n",
    "        self.side_length = side_length\n",
    "    \n",
    "    @property\n",
    "    def area(self):\n",
    "        return self.side_length ** 2\n",
    "        \n",
    "square_test = Square(3)\n",
    "print(square_test.side_length)\n",
    "print(square_test.area)\n",
    "\n",
    "\n",
    "class Cube(Square):\n",
    "    \n",
    "    @property\n",
    "    def area(self):\n",
    "        return super().area * 6\n",
    "    \n",
    "    @property\n",
    "    def volume(self):\n",
    "        return self.side_length ** 3\n",
    "\n",
    "cube_test = Cube(4)\n",
    "print(cube_test.side_length)\n",
    "print(cube_test.area)\n",
    "print(cube_test.volume)"
   ]
  },
  {
   "cell_type": "code",
   "execution_count": 90,
   "id": "2a98adc9-655b-4b82-89fc-51f5684b896c",
   "metadata": {},
   "outputs": [
    {
     "name": "stdout",
     "output_type": "stream",
     "text": [
      "Start TextDescriber init\n",
      "Start WordCounter init\n",
      "Start Vocabulary init\n",
      "Start Tokenizer init\n",
      "End Tokenizer init\n",
      "End Vocabulary init\n",
      "End WordCounter init\n",
      "End TextDescriber init\n",
      "--------\n",
      "['row', 'row', 'row', 'your', 'boat']\n",
      "{'your', 'boat', 'row'}\n",
      "5\n"
     ]
    }
   ],
   "source": [
    "%reset -f\n",
    "\n",
    "class Tokenizer:\n",
    "    \"\"\"Tokenize text\"\"\"\n",
    "    def __init__(self, text):\n",
    "        print('Start Tokenizer init')\n",
    "        self.tokens = text.split()\n",
    "        print('End Tokenizer init')\n",
    "\n",
    "\n",
    "class WordCounter(Tokenizer):\n",
    "    \"\"\"Count words in text\"\"\"\n",
    "    def __init__(self, text):\n",
    "        print('Start WordCounter init')\n",
    "        super().__init__(text)\n",
    "        self.word_count = len(self.tokens)\n",
    "        print('End WordCounter init')\n",
    "\n",
    "\n",
    "class Vocabulary(Tokenizer):\n",
    "    \"\"\"Find unique words in text\"\"\"\n",
    "    def __init__(self, text):\n",
    "        print('Start Vocabulary init')\n",
    "        super().__init__(text)\n",
    "        self.vocab = set(self.tokens)\n",
    "        print('End Vocabulary init')\n",
    "\n",
    "\n",
    "class TextDescriber(WordCounter, Vocabulary):\n",
    "    \"\"\"Describe text with multiple metrics\"\"\"\n",
    "    def __init__(self, text):\n",
    "        print('Start TextDescriber init')\n",
    "        super().__init__(text)\n",
    "        print('End TextDescriber init')\n",
    "        \n",
    "        \n",
    "# for item in TextDescriber.__mro__:\n",
    "#     print(item)\n",
    "\n",
    "\n",
    "td = TextDescriber('row row row your boat')\n",
    "print('--------')\n",
    "print(td.tokens)\n",
    "print(td.vocab)\n",
    "print(td.word_count)"
   ]
  },
  {
   "cell_type": "code",
   "execution_count": 139,
   "id": "b1839bca-eb63-45ca-a71a-07fc77f531ab",
   "metadata": {},
   "outputs": [
    {
     "name": "stdout",
     "output_type": "stream",
     "text": [
      "<class '__main__.Grandchild'>\n",
      "<class '__main__.Child'>\n",
      "<class '__main__.Parent'>\n",
      "<class 'object'>\n",
      "\n",
      "grandchild method\n",
      "<super: <class 'Grandchild'>, <Grandchild object>>\n",
      "child method\n",
      "<super: <class 'Child'>, <Grandchild object>>\n",
      "parent method\n"
     ]
    }
   ],
   "source": [
    "# parent, child, grandchild:\n",
    "%reset -f\n",
    "\n",
    "class Parent:\n",
    "    def method(self):\n",
    "        print(\"parent method\")\n",
    "\n",
    "class Child(Parent):\n",
    "    def method(self):\n",
    "        print(\"child method\")\n",
    "        print(super())\n",
    "        super().method()\n",
    "\n",
    "class Grandchild(Child):\n",
    "    def method(self):\n",
    "        print(\"grandchild method\")\n",
    "        print(super())\n",
    "        super().method()\n",
    "    \n",
    "for item in Grandchild.__mro__:\n",
    "    print(item)\n",
    "print()\n",
    "\n",
    "Grandchild().method()"
   ]
  },
  {
   "cell_type": "code",
   "execution_count": 141,
   "id": "749e4429-e8e1-4ee1-b073-5f73bd1f8f9e",
   "metadata": {},
   "outputs": [
    {
     "name": "stdout",
     "output_type": "stream",
     "text": [
      "<class '__main__.Child'>\n",
      "<class '__main__.Parent1'>\n",
      "<class '__main__.Parent2'>\n",
      "<class 'object'>\n",
      "\n",
      "child method\n",
      "<super: <class 'Child'>, <Child object>>\n",
      "<super: <class 'Parent1'>, <Child object>>\n",
      "parent 2 method\n"
     ]
    },
    {
     "ename": "AttributeError",
     "evalue": "'super' object has no attribute 'method'",
     "output_type": "error",
     "traceback": [
      "\u001b[1;31m---------------------------------------------------------------------------\u001b[0m",
      "\u001b[1;31mAttributeError\u001b[0m                            Traceback (most recent call last)",
      "Cell \u001b[1;32mIn[141], line 24\u001b[0m\n\u001b[0;32m     21\u001b[0m     \u001b[38;5;28mprint\u001b[39m(item)\n\u001b[0;32m     22\u001b[0m \u001b[38;5;28mprint\u001b[39m()\n\u001b[1;32m---> 24\u001b[0m Child()\u001b[38;5;241m.\u001b[39mmethod()\n",
      "Cell \u001b[1;32mIn[141], line 18\u001b[0m, in \u001b[0;36mChild.method\u001b[1;34m(self)\u001b[0m\n\u001b[0;32m     16\u001b[0m \u001b[38;5;28mprint\u001b[39m(\u001b[38;5;28msuper\u001b[39m(Parent1, \u001b[38;5;28mself\u001b[39m))\n\u001b[0;32m     17\u001b[0m \u001b[38;5;28msuper\u001b[39m(Parent1, \u001b[38;5;28mself\u001b[39m)\u001b[38;5;241m.\u001b[39mmethod()\n\u001b[1;32m---> 18\u001b[0m \u001b[38;5;28msuper\u001b[39m(Parent2, \u001b[38;5;28mself\u001b[39m)\u001b[38;5;241m.\u001b[39mmethod()\n",
      "\u001b[1;31mAttributeError\u001b[0m: 'super' object has no attribute 'method'"
     ]
    }
   ],
   "source": [
    "# child and 2 parents:\n",
    "%reset -f\n",
    "\n",
    "class Parent1:\n",
    "    def method(self):\n",
    "        print(\"parent 1 method\")\n",
    "        \n",
    "class Parent2:\n",
    "    def method(self):\n",
    "        print(\"parent 2 method\")\n",
    "        \n",
    "class Child(Parent1, Parent2):\n",
    "    def method(self):\n",
    "        print(\"child method\")\n",
    "        print(super())\n",
    "        print(super(Parent1, self))\n",
    "        # super(Parent1, self).method()\n",
    "        # super(Parent2, self).method()\n",
    "        \n",
    "for item in Child.__mro__:\n",
    "    print(item)\n",
    "print()\n",
    "\n",
    "Child().method()"
   ]
  },
  {
   "cell_type": "code",
   "execution_count": 135,
   "id": "4b587bde-8505-4907-8e4b-dce47fcd6313",
   "metadata": {},
   "outputs": [
    {
     "name": "stdout",
     "output_type": "stream",
     "text": [
      "<class '__main__.Child'>\n",
      "<class '__main__.Parent1'>\n",
      "<class '__main__.Parent2'>\n",
      "<class '__main__.Grandparent'>\n",
      "<class 'object'>\n",
      "\n",
      "child method\n",
      "<super: <class 'Child'>, <Child object>>\n",
      "parent1 method\n",
      "<super: <class 'Parent1'>, <Child object>>\n",
      "parent2 method\n",
      "<super: <class 'Parent2'>, <Child object>>\n",
      "grandparent method\n"
     ]
    }
   ],
   "source": [
    "# Child, Parent1, Parent2, Grandparent:\n",
    "%reset -f\n",
    "\n",
    "class Grandparent:\n",
    "    def method(self):\n",
    "        print(\"grandparent method\")\n",
    "\n",
    "class Parent1(Grandparent):\n",
    "    def method(self):\n",
    "        print(\"parent1 method\")\n",
    "        print(super())\n",
    "        super().method()\n",
    "\n",
    "class Parent2(Grandparent):\n",
    "    def method(self):\n",
    "        print(\"parent2 method\")\n",
    "        print(super())\n",
    "        super().method()\n",
    "\n",
    "class Child(Parent1, Parent2):\n",
    "    def method(self):\n",
    "        print(\"child method\")\n",
    "        print(super())\n",
    "        # print(super().super())\n",
    "        super().method()\n",
    "        \n",
    "for item in Child.__mro__:\n",
    "    print(item)\n",
    "print()\n",
    "\n",
    "Child().method()"
   ]
  },
  {
   "cell_type": "code",
   "execution_count": 94,
   "id": "316d8cef-45aa-477d-bd93-6cfe951297f8",
   "metadata": {},
   "outputs": [
    {
     "name": "stdout",
     "output_type": "stream",
     "text": [
      "child init\n",
      "parent 1 init\n"
     ]
    },
    {
     "data": {
      "text/plain": [
       "<__main__.Child at 0x144f188a410>"
      ]
     },
     "execution_count": 94,
     "metadata": {},
     "output_type": "execute_result"
    }
   ],
   "source": [
    "%reset -f\n",
    "\n",
    "class Parent1:\n",
    "    def __init__(self):\n",
    "        print(\"parent 1 init\")\n",
    "        \n",
    "class Parent2:\n",
    "    def __init__(self):\n",
    "        print(\"parent 2 init\")\n",
    "        \n",
    "class Child(Parent1, Parent2):\n",
    "    def __init__(self):\n",
    "        print(\"child init\")\n",
    "        super().__init__()\n",
    "\n",
    "Child()"
   ]
  },
  {
   "cell_type": "code",
   "execution_count": null,
   "id": "b947172a-706c-439e-aecc-6137ac7d4ae6",
   "metadata": {},
   "outputs": [],
   "source": []
  },
  {
   "cell_type": "code",
   "execution_count": null,
   "id": "d2df25ec-f8a1-4261-8659-c935dccafe69",
   "metadata": {},
   "outputs": [],
   "source": []
  },
  {
   "cell_type": "code",
   "execution_count": null,
   "id": "a1e56353-a18c-4871-812b-dccc047537dc",
   "metadata": {},
   "outputs": [],
   "source": []
  },
  {
   "cell_type": "markdown",
   "id": "7382bf62-213f-4207-8301-6a92a066de44",
   "metadata": {},
   "source": [
    "# DUMP"
   ]
  },
  {
   "cell_type": "code",
   "execution_count": 53,
   "id": "32a98eb7-7745-4f06-8ed7-b9ea1b870b55",
   "metadata": {},
   "outputs": [
    {
     "name": "stdout",
     "output_type": "stream",
     "text": [
      "(1, 2, 3)\n",
      "{'lol': 0, 'lblb': 1}\n"
     ]
    }
   ],
   "source": [
    "def test(*args, **kwargs):\n",
    "    print(args)\n",
    "    print(kwargs)\n",
    "\n",
    "args_test = (1,2,3)\n",
    "kwargs_test = {\"lol\": 0, \"lblb\": 1}\n",
    "test(*args_test, **kwargs_test)"
   ]
  },
  {
   "cell_type": "code",
   "execution_count": 2,
   "id": "e52558f5-e83c-4684-84df-733004aa311d",
   "metadata": {},
   "outputs": [
    {
     "data": {
      "text/plain": [
       "re.compile(r'^[a-zA-Z]\\w*$', re.UNICODE)"
      ]
     },
     "execution_count": 2,
     "metadata": {},
     "output_type": "execute_result"
    }
   ],
   "source": [
    "pattern = re.compile(\"^[a-zA-Z]\\w*$\")\n",
    "pattern"
   ]
  },
  {
   "cell_type": "code",
   "execution_count": 3,
   "id": "1010e805-c5df-4301-9231-a8f1f55b57a1",
   "metadata": {},
   "outputs": [
    {
     "name": "stdout",
     "output_type": "stream",
     "text": [
      "match\n",
      "no match\n",
      "no match\n",
      "match\n",
      "match\n",
      "match\n",
      "no match\n",
      "no match\n",
      "no match\n",
      "no match\n",
      "no match\n"
     ]
    }
   ],
   "source": [
    "test_list = [\n",
    "    \"MyClass\",\n",
    "    \"_a_hidden_parametter\",\n",
    "    \"__dunder__\",\n",
    "    \"param_6\",\n",
    "    \"YikeS_23\",\n",
    "    \"aLBERT2dse\",\n",
    "    \"0\",\n",
    "    \"25laurence\",\n",
    "    \"Myclass#6\",\n",
    "    \"This doesn't work either\",\n",
    "    \"test's\"\n",
    "]\n",
    "for str_ in test_list:\n",
    "    if pattern.match(str_):\n",
    "        print(\"match\")\n",
    "    else:\n",
    "        print(\"no match\")"
   ]
  },
  {
   "cell_type": "code",
   "execution_count": 90,
   "id": "d5024f43-0382-4541-8d98-80532cc59650",
   "metadata": {},
   "outputs": [
    {
     "data": {
      "text/plain": [
       "['__module__',\n",
       " '__dict__',\n",
       " '__weakref__',\n",
       " '__doc__',\n",
       " '__new__',\n",
       " '__repr__',\n",
       " '__hash__',\n",
       " '__str__',\n",
       " '__getattribute__',\n",
       " '__setattr__',\n",
       " '__delattr__',\n",
       " '__lt__',\n",
       " '__le__',\n",
       " '__eq__',\n",
       " '__ne__',\n",
       " '__gt__',\n",
       " '__ge__',\n",
       " '__init__',\n",
       " '__reduce_ex__',\n",
       " '__reduce__',\n",
       " '__getstate__',\n",
       " '__subclasshook__',\n",
       " '__init_subclass__',\n",
       " '__format__',\n",
       " '__sizeof__',\n",
       " '__dir__',\n",
       " '__class__']"
      ]
     },
     "execution_count": 90,
     "metadata": {},
     "output_type": "execute_result"
    }
   ],
   "source": [
    "class Test:\n",
    "    pass\n",
    "test_dir_return = Test().__dir__()\n",
    "test_dir_return"
   ]
  },
  {
   "cell_type": "code",
   "execution_count": 91,
   "id": "9ea38991-4f2e-48bd-a5a0-a48ea8436a03",
   "metadata": {},
   "outputs": [
    {
     "data": {
      "text/plain": [
       "list"
      ]
     },
     "execution_count": 91,
     "metadata": {},
     "output_type": "execute_result"
    }
   ],
   "source": [
    "type(test_dir_return)"
   ]
  },
  {
   "cell_type": "code",
   "execution_count": 205,
   "id": "01a05a11-631f-47c0-886e-18ed2d5affad",
   "metadata": {},
   "outputs": [
    {
     "name": "stdout",
     "output_type": "stream",
     "text": [
      "kaka\n"
     ]
    },
    {
     "data": {
      "text/plain": [
       "{'lol': 'kaka'}"
      ]
     },
     "execution_count": 205,
     "metadata": {},
     "output_type": "execute_result"
    }
   ],
   "source": [
    "class NullTest:\n",
    "    def __init__(self):\n",
    "        self.lol = \"kaka\"\n",
    "        print(self.lol)\n",
    "        # self = None\n",
    "\n",
    "\n",
    "null_test = NullTest()\n",
    "null_test.__dict__"
   ]
  },
  {
   "cell_type": "code",
   "execution_count": 332,
   "id": "50b8ec67-4cf8-40ac-8752-068a4b7ae0f1",
   "metadata": {},
   "outputs": [
    {
     "data": {
      "text/plain": [
       "{'one': 1, 'three': 3, 'two': 2}"
      ]
     },
     "execution_count": 332,
     "metadata": {},
     "output_type": "execute_result"
    }
   ],
   "source": [
    "DotDict({'one': 1, 'three': 3}, two=2)"
   ]
  },
  {
   "cell_type": "code",
   "execution_count": 363,
   "id": "c9d42534-de43-40c7-900e-31e377a097c1",
   "metadata": {},
   "outputs": [
    {
     "data": {
      "text/plain": [
       "['a', 'l', 'z', 'e']"
      ]
     },
     "execution_count": 363,
     "metadata": {},
     "output_type": "execute_result"
    }
   ],
   "source": [
    "test = [\"a\", \"l\", \"z\"]\n",
    "test.append(\"e\")\n",
    "test"
   ]
  }
 ],
 "metadata": {
  "kernelspec": {
   "display_name": "Python 3 (ipykernel)",
   "language": "python",
   "name": "python3"
  },
  "language_info": {
   "codemirror_mode": {
    "name": "ipython",
    "version": 3
   },
   "file_extension": ".py",
   "mimetype": "text/x-python",
   "name": "python",
   "nbconvert_exporter": "python",
   "pygments_lexer": "ipython3",
   "version": "3.11.3"
  }
 },
 "nbformat": 4,
 "nbformat_minor": 5
}
